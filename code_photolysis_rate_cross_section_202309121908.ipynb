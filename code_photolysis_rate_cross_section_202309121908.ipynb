{
 "cells": [
  {
   "cell_type": "markdown",
   "metadata": {},
   "source": [
    "# Script to plot UVA lamp spectra and cross section with photolysis frequency calculations"
   ]
  },
  {
   "cell_type": "markdown",
   "metadata": {},
   "source": [
    "## load python packages"
   ]
  },
  {
   "cell_type": "code",
   "execution_count": 18,
   "metadata": {},
   "outputs": [],
   "source": [
    "## the script is located at 5505/People/Fengxia_Bao/5505_fengxia/5505_python_scripts/photolysis_rate_cross_section_final.ipynb\n",
    "## the cross section data is located at 5505/People/Fengxia_Bao/5505_fengxia/5505_python_scripts/actinic_flux/ or on the url/references provided in the script"
   ]
  },
  {
   "cell_type": "code",
   "execution_count": 2,
   "metadata": {},
   "outputs": [],
   "source": [
    "import numpy as np\n",
    "import pandas as pd\n",
    "from pandas import Series\n",
    "import os\n",
    "from pandas import DataFrame\n",
    "import pickle \n",
    "from datetime import datetime\n",
    "import statistics\n",
    "import csv\n",
    "import itertools\n",
    "import math\n",
    "from math import cos, exp, pi\n",
    "import urllib3\n",
    "import io\n",
    "import xlsxwriter\n",
    "from openpyxl import load_workbook\n"
   ]
  },
  {
   "cell_type": "markdown",
   "metadata": {},
   "source": [
    "## import data\n",
    "## plot lamps actinic flux spectra"
   ]
  },
  {
   "cell_type": "code",
   "execution_count": 3,
   "metadata": {},
   "outputs": [],
   "source": [
    "filepath=\"ExampleLightFlux_PSI_chamber.xlsx\"  \n",
    "psi_chamber_df=pd.read_excel(filepath,header=None).astype(float)\n",
    "psi_chamber_df.rename(columns={psi_chamber_df.columns[0]: 'wavelength'}, inplace=True)\n",
    "psi_chamber_df.rename(columns={psi_chamber_df.columns[1]: 'flux'}, inplace=True)"
   ]
  },
  {
   "cell_type": "code",
   "execution_count": 5,
   "metadata": {},
   "outputs": [
    {
     "name": "stderr",
     "output_type": "stream",
     "text": [
      "/var/folders/79/t5bzbbwx1pn2dyslxyqgpk940000gn/T/ipykernel_30432/518281335.py:2: ParserWarning: Falling back to the 'python' engine because the 'c' engine does not support regex separators (separators > 1 char and different from '\\s+' are interpreted as regex); you can avoid this warning by specifying engine='python'.\n",
      "  small_lamps_df=pd.read_csv(filepath,sep='/t',encoding='unicode_escape')\n"
     ]
    }
   ],
   "source": [
    "filepath=\"actinic_flux/Yulia/Lamps_small.DAT\"  \n",
    "small_lamps_df=pd.read_csv(filepath,sep='/t',encoding='unicode_escape')\n",
    "small_lamps_df=small_lamps_df.iloc[32:,0].str.split(\",\", expand = True).astype(float)\n",
    "small_lamps_df.rename(columns={small_lamps_df.columns[0]: 'wavelength'}, inplace=True)\n",
    "# pd.read_csv(filepath,sep='/t',encoding='unicode_escape').iloc[10:31,0]"
   ]
  },
  {
   "cell_type": "code",
   "execution_count": 6,
   "metadata": {},
   "outputs": [],
   "source": [
    "actinic=pd.DataFrame()\n",
    "actinic['wavelength']=small_lamps_df.iloc[:,0]\n",
    "actinic['Yulia UVA 7 lamps old box']=small_lamps_df.iloc[:,1]\n",
    "actinic['Yulia UVA 7 lamps new box']=small_lamps_df.iloc[:,9]\n",
    "actinic['Yulia VIS 7 lamps old box']=small_lamps_df.iloc[:,5]\n",
    "actinic['Yulia VIS 7 lamps new box']=small_lamps_df.iloc[:,13]\n",
    "\n",
    "excel_path = 'photolysis_calculation_bao.xlsx'\n",
    "writer = pd.ExcelWriter(excel_path, engine='xlsxwriter')\n",
    "# actinic.to_excel(excel_path,sheet_name='actinic')\n",
    "actinic.to_excel(writer, sheet_name = 'actinic')\n",
    "writer.close()"
   ]
  },
  {
   "cell_type": "markdown",
   "metadata": {},
   "source": [
    "## import data of cross section and plot"
   ]
  },
  {
   "cell_type": "markdown",
   "metadata": {},
   "source": [
    "##  nitrate\n",
    "http://doi.wiley.com/10.1562/0031-8655%282000%290710431DAIOUS2.0.CO2"
   ]
  },
  {
   "cell_type": "code",
   "execution_count": 7,
   "metadata": {},
   "outputs": [],
   "source": [
    "cross_section_nitrate = pd.read_csv('actinic_flux/nitrate_cross_section_Jankowski2007.csv').astype(float) \n",
    "wavelength = cross_section_nitrate.iloc[:350-290+1,0]\n",
    "molar_absorption_coefficients= cross_section_nitrate.iloc[:350-290+1,1]   ## 10^3 cm2 mol^-1\n",
    "Na = 6.022140957e23\n",
    "\n",
    "new_cross_section_nitrate=pd.DataFrame()\n",
    "new_cross_section_nitrate['wavelength']=wavelength\n",
    "new_cross_section_nitrate['molar_absorption_coefficients']=molar_absorption_coefficients.values\n",
    "molecular_cross_section = molar_absorption_coefficients* math.log(10) * 1000 / Na   #cm2 molecule-1   math.log(10, math.e) = math.log(10)  convert Molar_absorption_coefficients to molecular cross section \n",
    "new_cross_section_nitrate['molecular_cross_section']=molecular_cross_section\n",
    "new_cross_section_nitrate['quantumn_yield']=0.01    #assuming to be 0.01  however, should change with wavelength\n",
    "new_cross_section_nitrate=new_cross_section_nitrate.set_index('wavelength')\n"
   ]
  },
  {
   "cell_type": "code",
   "execution_count": 8,
   "metadata": {},
   "outputs": [],
   "source": [
    "cross_section_nitrate = pd.read_csv('actinic_flux/nitrate_epsilon_v1.txt',sep='\\t').astype(float)\n",
    "wavelength = cross_section_nitrate.iloc[:,0]\n",
    "molar_absorption_coefficients= cross_section_nitrate.iloc[:,1]   ## 10^3 cm2 mol^-1\n",
    "Na = 6.022140957e23\n",
    "\n",
    "new_cross_section_nitrate_extended=pd.DataFrame()\n",
    "new_cross_section_nitrate_extended['wavelength']=wavelength\n",
    "new_cross_section_nitrate_extended['molar_absorption_coefficients']=molar_absorption_coefficients.values\n",
    "molecular_cross_section = molar_absorption_coefficients* math.log(10) * 1000 / Na   #cm2 molecule-1   math.log(10, math.e) = math.log(10)  convert Molar_absorption_coefficients to molecular cross section \n",
    "new_cross_section_nitrate_extended['molecular_cross_section']=molecular_cross_section\n",
    "new_cross_section_nitrate_extended['quantumn_yield']=0.01    #assuming to be 0.01  however, should change with wavelength\n",
    "new_cross_section_nitrate_extended=new_cross_section_nitrate_extended.set_index('wavelength')\n"
   ]
  },
  {
   "cell_type": "code",
   "execution_count": 9,
   "metadata": {},
   "outputs": [
    {
     "data": {
      "application/vnd.plotly.v1+json": {
       "config": {
        "displayModeBar": true,
        "plotlyServerURL": "https://plot.ly"
       },
       "data": [
        {
         "line": {
          "width": 4
         },
         "marker": {
          "size": 3
         },
         "mode": "markers+lines",
         "name": "σ(NO3-)",
         "type": "scatter",
         "x": [
          "209.27",
          "209.48",
          "210.18",
          "211.02",
          "211.83",
          "212.52",
          "213.31",
          "214.21",
          "215.23",
          "216.20",
          "217.26",
          "218.27",
          "219.29",
          "220.30",
          "221.32",
          "222.33",
          "223.35",
          "224.36",
          "225.38",
          "226.40",
          "227.41",
          "228.43",
          "229.44",
          "230.46",
          "231.47",
          "232.49",
          "233.50",
          "234.52",
          "235.53",
          "236.55",
          "237.56",
          "238.58",
          "239.59",
          "240.61",
          "241.62",
          "242.64",
          "243.65",
          "244.67",
          "245.68",
          "246.70",
          "247.71",
          "248.73",
          "249.74",
          "250.76",
          "251.78",
          "252.79",
          "253.81",
          "254.82",
          "255.84",
          "256.85",
          "257.87",
          "258.88",
          "259.90",
          "260.91",
          "261.93",
          "262.94",
          "263.96",
          "264.97",
          "265.99",
          "267.00",
          "268.02",
          "269.03",
          "270.05",
          "271.06",
          "272.08",
          "273.09",
          "274.11",
          "275.12",
          "276.14",
          "277.16",
          "278.17",
          "279.19",
          "280.20",
          "281.22",
          "282.23",
          "283.25",
          "284.26",
          "285.28",
          "286.29",
          "287.31",
          "288.32",
          "289.34",
          "290.35",
          "291.37",
          "292.38",
          "293.40",
          "294.41",
          "295.43",
          "296.44",
          "297.46",
          "298.47",
          "299.49",
          "300.50",
          "301.52",
          "302.53",
          "303.55",
          "304.57",
          "305.58",
          "306.60",
          "307.61",
          "308.63",
          "309.64",
          "310.66",
          "311.67",
          "312.69",
          "313.70",
          "314.72",
          "315.73",
          "316.75",
          "317.76",
          "318.78",
          "319.79",
          "320.81",
          "321.82",
          "322.84",
          "323.85",
          "324.87",
          "325.88",
          "326.90",
          "327.91",
          "328.93",
          "329.95",
          "330.96",
          "331.98",
          "332.99",
          "334.01",
          "335.02",
          "336.04",
          "337.05",
          "338.07",
          "339.08",
          "340.10",
          "341.11",
          "342.13",
          "343.14",
          "344.16",
          "345.17",
          "346.19",
          "347.20",
          "348.22",
          "349.23",
          "350.25",
          "351.26",
          "352.28",
          "353.29",
          "354.31",
          "355.33",
          "356.34",
          "357.36",
          "358.37",
          "359.39",
          "360.40",
          "361.42",
          "362.43",
          "363.45",
          "364.46",
          "365.48",
          "366.49",
          "367.51",
          "368.52",
          "369.54",
          "370.55",
          "371.57",
          "372.58",
          "373.60",
          "374.61",
          "375.63",
          "376.64",
          "377.66",
          "378.67",
          "379.69",
          "380.71",
          "381.72",
          "382.74",
          "383.75",
          "384.77",
          "385.78",
          "386.80"
         ],
         "y": [
          4.628761159566722,
          4.67159055925237,
          4.736578857525963,
          4.76941125365679,
          4.75844191216938,
          4.703972478020323,
          4.5968969918732006,
          4.379905820268652,
          4.050090914023817,
          3.6179684231158658,
          3.0793905459289848,
          2.7130935700422647,
          2.508792669941616,
          2.4124858353347927,
          2.4124858353347927,
          2.468679849274676,
          2.6330843517956675,
          2.8475068146631575,
          3.0581921705177746,
          3.307232842791454,
          3.5437638379668934,
          3.8059648418142196,
          4.02221028428086,
          4.280206991847519,
          4.492258841358296,
          4.67159055925237,
          4.813542072639729,
          4.89175583939823,
          4.89175583939823,
          4.813542072639729,
          4.703972478020323,
          4.492258841358296,
          4.250742254167259,
          3.8059648418142196,
          3.224517751240285,
          2.7381975157612506,
          2.2670691758711086,
          1.8770021587562629,
          1.543351228972123,
          1.2573748579924164,
          1.003378456582275,
          0.8231230664045392,
          0.6830693084146311,
          0.578715043846934,
          0.5438320168774001,
          0.5476016803294033,
          0.578715043846934,
          0.6158355734510933,
          0.6768068913530273,
          0.7438147257651485,
          0.8442377585997801,
          0.9715491409582057,
          1.0677381792087182,
          1.1815844641733755,
          1.2985682259092861,
          1.3946485258293257,
          1.4943928194472922,
          1.6310406016441577,
          1.7638626825634085,
          1.8943698458969256,
          2.029853861138546,
          2.1800415554627923,
          2.341341549030978,
          2.4915222626798212,
          2.6330843517956675,
          2.757177794191341,
          2.9138337689165024,
          3.0581921705177746,
          3.1802757091019744,
          3.276911949836292,
          3.3532410345885415,
          3.4392581263110014,
          3.487102972754122,
          3.5437638379668934,
          3.5437638379668934,
          3.519368739298683,
          3.463097924738464,
          3.407726818280985,
          3.330157485673496,
          3.276911949836292,
          3.2023203271749066,
          3.0793905459289848,
          3.0092950593412366,
          2.893775078341833,
          2.8214007152681053,
          2.7381975157612506,
          2.694416765276617,
          2.6330843517956675,
          2.590984244572792,
          2.549557271511748,
          2.5320062427066072,
          2.5320062427066072,
          2.5320062427066072,
          2.549557271511748,
          2.590984244572792,
          2.608944089356413,
          2.651336020581183,
          2.7130935700422647,
          2.757177794191341,
          2.8214007152681053,
          2.893775078341833,
          2.9340314996918337,
          3.0092950593412366,
          3.0581921705177746,
          3.129426617138707,
          3.1802757091019744,
          3.2023203271749066,
          3.224517751240285,
          3.2023203271749066,
          3.1802757091019744,
          3.129426617138707,
          3.0793905459289848,
          3.030154496169961,
          2.961179758903886,
          2.8475068146631575,
          2.7130935700422647,
          2.608944089356413,
          2.508792669941616,
          2.3575709533178317,
          2.251462781438018,
          2.145185101596166,
          2.015880445445887,
          1.8943698458969256,
          1.7760891945789914,
          1.6423464349786026,
          1.5186747493986643,
          1.4173097413880955,
          1.2896289451200122,
          1.1815844641733755,
          1.0850875289489958,
          0.9782835978765828,
          0.8983897165353019,
          0.7988491402152756,
          0.7103375484792844,
          0.625842096542949,
          0.5438320168774001,
          0.45757761687175197,
          0.378847802179132,
          0.3209702437930741,
          0.27256166409672433,
          0.23467388987231722,
          0.2039223240857351,
          0.1784287249816893,
          0.1572044270573742,
          0.13755132306912743,
          0.12231079023590787,
          0.10951277202375918,
          0.0973788793032494,
          0.08739061026294895,
          0.08006906776717979,
          0.07353003490065395,
          0.0678367092370359,
          0.06272848115746521,
          0.05949284970456248,
          0.05720905475194122,
          0.05277943928867343,
          0.048805051131719575,
          0.04481926932730597,
          0.04144429650420524,
          0.03832346529759282,
          0.035112744158133966,
          0.03224517751240283,
          0.029817056764032738,
          0.027130935700422645,
          0.0248579192049097,
          0.02261855061456748,
          0.02043924135921514,
          0.01817459626478252,
          0.016160871315261505,
          0.014238517459138695,
          0.012259274572689771,
          0.010579490967416363,
          0.009046170565501912,
          0.007717289140852239,
          0.0064041983166669494,
          0.005253693979272153,
          0.004221480350314478,
          0.0033609710535058503
         ],
         "yaxis": "y"
        }
       ],
       "layout": {
        "autosize": false,
        "bargap": 0,
        "height": 800,
        "legend": {
         "font": {
          "color": "black",
          "size": 40
         },
         "x": 0.05,
         "xanchor": "left",
         "y": 0.8,
         "yanchor": "top"
        },
        "paper_bgcolor": "white",
        "plot_bgcolor": "white",
        "template": {
         "data": {
          "bar": [
           {
            "error_x": {
             "color": "#2a3f5f"
            },
            "error_y": {
             "color": "#2a3f5f"
            },
            "marker": {
             "line": {
              "color": "#E5ECF6",
              "width": 0.5
             },
             "pattern": {
              "fillmode": "overlay",
              "size": 10,
              "solidity": 0.2
             }
            },
            "type": "bar"
           }
          ],
          "barpolar": [
           {
            "marker": {
             "line": {
              "color": "#E5ECF6",
              "width": 0.5
             },
             "pattern": {
              "fillmode": "overlay",
              "size": 10,
              "solidity": 0.2
             }
            },
            "type": "barpolar"
           }
          ],
          "carpet": [
           {
            "aaxis": {
             "endlinecolor": "#2a3f5f",
             "gridcolor": "white",
             "linecolor": "white",
             "minorgridcolor": "white",
             "startlinecolor": "#2a3f5f"
            },
            "baxis": {
             "endlinecolor": "#2a3f5f",
             "gridcolor": "white",
             "linecolor": "white",
             "minorgridcolor": "white",
             "startlinecolor": "#2a3f5f"
            },
            "type": "carpet"
           }
          ],
          "choropleth": [
           {
            "colorbar": {
             "outlinewidth": 0,
             "ticks": ""
            },
            "type": "choropleth"
           }
          ],
          "contour": [
           {
            "colorbar": {
             "outlinewidth": 0,
             "ticks": ""
            },
            "colorscale": [
             [
              0,
              "#0d0887"
             ],
             [
              0.1111111111111111,
              "#46039f"
             ],
             [
              0.2222222222222222,
              "#7201a8"
             ],
             [
              0.3333333333333333,
              "#9c179e"
             ],
             [
              0.4444444444444444,
              "#bd3786"
             ],
             [
              0.5555555555555556,
              "#d8576b"
             ],
             [
              0.6666666666666666,
              "#ed7953"
             ],
             [
              0.7777777777777778,
              "#fb9f3a"
             ],
             [
              0.8888888888888888,
              "#fdca26"
             ],
             [
              1,
              "#f0f921"
             ]
            ],
            "type": "contour"
           }
          ],
          "contourcarpet": [
           {
            "colorbar": {
             "outlinewidth": 0,
             "ticks": ""
            },
            "type": "contourcarpet"
           }
          ],
          "heatmap": [
           {
            "colorbar": {
             "outlinewidth": 0,
             "ticks": ""
            },
            "colorscale": [
             [
              0,
              "#0d0887"
             ],
             [
              0.1111111111111111,
              "#46039f"
             ],
             [
              0.2222222222222222,
              "#7201a8"
             ],
             [
              0.3333333333333333,
              "#9c179e"
             ],
             [
              0.4444444444444444,
              "#bd3786"
             ],
             [
              0.5555555555555556,
              "#d8576b"
             ],
             [
              0.6666666666666666,
              "#ed7953"
             ],
             [
              0.7777777777777778,
              "#fb9f3a"
             ],
             [
              0.8888888888888888,
              "#fdca26"
             ],
             [
              1,
              "#f0f921"
             ]
            ],
            "type": "heatmap"
           }
          ],
          "heatmapgl": [
           {
            "colorbar": {
             "outlinewidth": 0,
             "ticks": ""
            },
            "colorscale": [
             [
              0,
              "#0d0887"
             ],
             [
              0.1111111111111111,
              "#46039f"
             ],
             [
              0.2222222222222222,
              "#7201a8"
             ],
             [
              0.3333333333333333,
              "#9c179e"
             ],
             [
              0.4444444444444444,
              "#bd3786"
             ],
             [
              0.5555555555555556,
              "#d8576b"
             ],
             [
              0.6666666666666666,
              "#ed7953"
             ],
             [
              0.7777777777777778,
              "#fb9f3a"
             ],
             [
              0.8888888888888888,
              "#fdca26"
             ],
             [
              1,
              "#f0f921"
             ]
            ],
            "type": "heatmapgl"
           }
          ],
          "histogram": [
           {
            "marker": {
             "pattern": {
              "fillmode": "overlay",
              "size": 10,
              "solidity": 0.2
             }
            },
            "type": "histogram"
           }
          ],
          "histogram2d": [
           {
            "colorbar": {
             "outlinewidth": 0,
             "ticks": ""
            },
            "colorscale": [
             [
              0,
              "#0d0887"
             ],
             [
              0.1111111111111111,
              "#46039f"
             ],
             [
              0.2222222222222222,
              "#7201a8"
             ],
             [
              0.3333333333333333,
              "#9c179e"
             ],
             [
              0.4444444444444444,
              "#bd3786"
             ],
             [
              0.5555555555555556,
              "#d8576b"
             ],
             [
              0.6666666666666666,
              "#ed7953"
             ],
             [
              0.7777777777777778,
              "#fb9f3a"
             ],
             [
              0.8888888888888888,
              "#fdca26"
             ],
             [
              1,
              "#f0f921"
             ]
            ],
            "type": "histogram2d"
           }
          ],
          "histogram2dcontour": [
           {
            "colorbar": {
             "outlinewidth": 0,
             "ticks": ""
            },
            "colorscale": [
             [
              0,
              "#0d0887"
             ],
             [
              0.1111111111111111,
              "#46039f"
             ],
             [
              0.2222222222222222,
              "#7201a8"
             ],
             [
              0.3333333333333333,
              "#9c179e"
             ],
             [
              0.4444444444444444,
              "#bd3786"
             ],
             [
              0.5555555555555556,
              "#d8576b"
             ],
             [
              0.6666666666666666,
              "#ed7953"
             ],
             [
              0.7777777777777778,
              "#fb9f3a"
             ],
             [
              0.8888888888888888,
              "#fdca26"
             ],
             [
              1,
              "#f0f921"
             ]
            ],
            "type": "histogram2dcontour"
           }
          ],
          "mesh3d": [
           {
            "colorbar": {
             "outlinewidth": 0,
             "ticks": ""
            },
            "type": "mesh3d"
           }
          ],
          "parcoords": [
           {
            "line": {
             "colorbar": {
              "outlinewidth": 0,
              "ticks": ""
             }
            },
            "type": "parcoords"
           }
          ],
          "pie": [
           {
            "automargin": true,
            "type": "pie"
           }
          ],
          "scatter": [
           {
            "fillpattern": {
             "fillmode": "overlay",
             "size": 10,
             "solidity": 0.2
            },
            "type": "scatter"
           }
          ],
          "scatter3d": [
           {
            "line": {
             "colorbar": {
              "outlinewidth": 0,
              "ticks": ""
             }
            },
            "marker": {
             "colorbar": {
              "outlinewidth": 0,
              "ticks": ""
             }
            },
            "type": "scatter3d"
           }
          ],
          "scattercarpet": [
           {
            "marker": {
             "colorbar": {
              "outlinewidth": 0,
              "ticks": ""
             }
            },
            "type": "scattercarpet"
           }
          ],
          "scattergeo": [
           {
            "marker": {
             "colorbar": {
              "outlinewidth": 0,
              "ticks": ""
             }
            },
            "type": "scattergeo"
           }
          ],
          "scattergl": [
           {
            "marker": {
             "colorbar": {
              "outlinewidth": 0,
              "ticks": ""
             }
            },
            "type": "scattergl"
           }
          ],
          "scattermapbox": [
           {
            "marker": {
             "colorbar": {
              "outlinewidth": 0,
              "ticks": ""
             }
            },
            "type": "scattermapbox"
           }
          ],
          "scatterpolar": [
           {
            "marker": {
             "colorbar": {
              "outlinewidth": 0,
              "ticks": ""
             }
            },
            "type": "scatterpolar"
           }
          ],
          "scatterpolargl": [
           {
            "marker": {
             "colorbar": {
              "outlinewidth": 0,
              "ticks": ""
             }
            },
            "type": "scatterpolargl"
           }
          ],
          "scatterternary": [
           {
            "marker": {
             "colorbar": {
              "outlinewidth": 0,
              "ticks": ""
             }
            },
            "type": "scatterternary"
           }
          ],
          "surface": [
           {
            "colorbar": {
             "outlinewidth": 0,
             "ticks": ""
            },
            "colorscale": [
             [
              0,
              "#0d0887"
             ],
             [
              0.1111111111111111,
              "#46039f"
             ],
             [
              0.2222222222222222,
              "#7201a8"
             ],
             [
              0.3333333333333333,
              "#9c179e"
             ],
             [
              0.4444444444444444,
              "#bd3786"
             ],
             [
              0.5555555555555556,
              "#d8576b"
             ],
             [
              0.6666666666666666,
              "#ed7953"
             ],
             [
              0.7777777777777778,
              "#fb9f3a"
             ],
             [
              0.8888888888888888,
              "#fdca26"
             ],
             [
              1,
              "#f0f921"
             ]
            ],
            "type": "surface"
           }
          ],
          "table": [
           {
            "cells": {
             "fill": {
              "color": "#EBF0F8"
             },
             "line": {
              "color": "white"
             }
            },
            "header": {
             "fill": {
              "color": "#C8D4E3"
             },
             "line": {
              "color": "white"
             }
            },
            "type": "table"
           }
          ]
         },
         "layout": {
          "annotationdefaults": {
           "arrowcolor": "#2a3f5f",
           "arrowhead": 0,
           "arrowwidth": 1
          },
          "autotypenumbers": "strict",
          "coloraxis": {
           "colorbar": {
            "outlinewidth": 0,
            "ticks": ""
           }
          },
          "colorscale": {
           "diverging": [
            [
             0,
             "#8e0152"
            ],
            [
             0.1,
             "#c51b7d"
            ],
            [
             0.2,
             "#de77ae"
            ],
            [
             0.3,
             "#f1b6da"
            ],
            [
             0.4,
             "#fde0ef"
            ],
            [
             0.5,
             "#f7f7f7"
            ],
            [
             0.6,
             "#e6f5d0"
            ],
            [
             0.7,
             "#b8e186"
            ],
            [
             0.8,
             "#7fbc41"
            ],
            [
             0.9,
             "#4d9221"
            ],
            [
             1,
             "#276419"
            ]
           ],
           "sequential": [
            [
             0,
             "#0d0887"
            ],
            [
             0.1111111111111111,
             "#46039f"
            ],
            [
             0.2222222222222222,
             "#7201a8"
            ],
            [
             0.3333333333333333,
             "#9c179e"
            ],
            [
             0.4444444444444444,
             "#bd3786"
            ],
            [
             0.5555555555555556,
             "#d8576b"
            ],
            [
             0.6666666666666666,
             "#ed7953"
            ],
            [
             0.7777777777777778,
             "#fb9f3a"
            ],
            [
             0.8888888888888888,
             "#fdca26"
            ],
            [
             1,
             "#f0f921"
            ]
           ],
           "sequentialminus": [
            [
             0,
             "#0d0887"
            ],
            [
             0.1111111111111111,
             "#46039f"
            ],
            [
             0.2222222222222222,
             "#7201a8"
            ],
            [
             0.3333333333333333,
             "#9c179e"
            ],
            [
             0.4444444444444444,
             "#bd3786"
            ],
            [
             0.5555555555555556,
             "#d8576b"
            ],
            [
             0.6666666666666666,
             "#ed7953"
            ],
            [
             0.7777777777777778,
             "#fb9f3a"
            ],
            [
             0.8888888888888888,
             "#fdca26"
            ],
            [
             1,
             "#f0f921"
            ]
           ]
          },
          "colorway": [
           "#636efa",
           "#EF553B",
           "#00cc96",
           "#ab63fa",
           "#FFA15A",
           "#19d3f3",
           "#FF6692",
           "#B6E880",
           "#FF97FF",
           "#FECB52"
          ],
          "font": {
           "color": "#2a3f5f"
          },
          "geo": {
           "bgcolor": "white",
           "lakecolor": "white",
           "landcolor": "#E5ECF6",
           "showlakes": true,
           "showland": true,
           "subunitcolor": "white"
          },
          "hoverlabel": {
           "align": "left"
          },
          "hovermode": "closest",
          "mapbox": {
           "style": "light"
          },
          "paper_bgcolor": "white",
          "plot_bgcolor": "#E5ECF6",
          "polar": {
           "angularaxis": {
            "gridcolor": "white",
            "linecolor": "white",
            "ticks": ""
           },
           "bgcolor": "#E5ECF6",
           "radialaxis": {
            "gridcolor": "white",
            "linecolor": "white",
            "ticks": ""
           }
          },
          "scene": {
           "xaxis": {
            "backgroundcolor": "#E5ECF6",
            "gridcolor": "white",
            "gridwidth": 2,
            "linecolor": "white",
            "showbackground": true,
            "ticks": "",
            "zerolinecolor": "white"
           },
           "yaxis": {
            "backgroundcolor": "#E5ECF6",
            "gridcolor": "white",
            "gridwidth": 2,
            "linecolor": "white",
            "showbackground": true,
            "ticks": "",
            "zerolinecolor": "white"
           },
           "zaxis": {
            "backgroundcolor": "#E5ECF6",
            "gridcolor": "white",
            "gridwidth": 2,
            "linecolor": "white",
            "showbackground": true,
            "ticks": "",
            "zerolinecolor": "white"
           }
          },
          "shapedefaults": {
           "line": {
            "color": "#2a3f5f"
           }
          },
          "ternary": {
           "aaxis": {
            "gridcolor": "white",
            "linecolor": "white",
            "ticks": ""
           },
           "baxis": {
            "gridcolor": "white",
            "linecolor": "white",
            "ticks": ""
           },
           "bgcolor": "#E5ECF6",
           "caxis": {
            "gridcolor": "white",
            "linecolor": "white",
            "ticks": ""
           }
          },
          "title": {
           "x": 0.05
          },
          "xaxis": {
           "automargin": true,
           "gridcolor": "white",
           "linecolor": "white",
           "ticks": "",
           "title": {
            "standoff": 15
           },
           "zerolinecolor": "white",
           "zerolinewidth": 2
          },
          "yaxis": {
           "automargin": true,
           "gridcolor": "white",
           "linecolor": "white",
           "ticks": "",
           "title": {
            "standoff": 15
           },
           "zerolinecolor": "white",
           "zerolinewidth": 2
          }
         }
        },
        "title": {
         "font": {
          "color": "black",
          "size": 25
         },
         "text": ""
        },
        "width": 1000,
        "xaxis": {
         "dtick": 50,
         "linecolor": "black",
         "linewidth": 6,
         "mirror": true,
         "showgrid": false,
         "showline": true,
         "tickfont": {
          "color": "black",
          "size": 40
         },
         "ticklen": 6,
         "ticks": "inside",
         "tickwidth": 3,
         "title": {
          "font": {
           "color": "black",
           "size": 40
          },
          "text": "Wavelength (nm)"
         }
        },
        "yaxis": {
         "linecolor": "black",
         "linewidth": 6,
         "mirror": true,
         "showgrid": false,
         "tickfont": {
          "color": "black",
          "size": 40
         },
         "ticklen": 6,
         "ticks": "inside",
         "tickwidth": 3,
         "title": {
          "font": {
           "color": "black",
           "size": 40
          },
          "text": "Molecular cross section (10<sup>-17</sup> cm<sup>2</sup>)"
         },
         "zeroline": false
        },
        "yaxis2": {
         "anchor": "free",
         "linecolor": "black",
         "linewidth": 2,
         "overlaying": "y",
         "position": 1,
         "showticklabels": true,
         "side": "right",
         "tickfont": {
          "color": "black",
          "size": 40
         },
         "ticks": "inside",
         "title": {
          "font": {
           "color": "black",
           "size": 40
          },
          "text": ""
         }
        }
       }
      }
     },
     "metadata": {},
     "output_type": "display_data"
    }
   ],
   "source": [
    "Episilon_DHB = pd.read_csv('actinic_flux/DHB_UV_VIS_NIST.txt',sep='\\t')\n",
    "wavelength = Episilon_DHB['wavelength, Logarithm_epsilon '].str.split(',', expand=True).iloc[:,0]\n",
    "lograithm_epsilon= Episilon_DHB['wavelength, Logarithm_epsilon '].str.split(',', expand=True).iloc[:,1]   ## \n",
    "# Na = 6.022140957e23\n",
    "\n",
    "episilon_DHB_extended=pd.DataFrame()\n",
    "episilon_DHB_extended['wavelength']=wavelength\n",
    "episilon_DHB_extended['lograithm_epsilon']=lograithm_epsilon.values\n",
    "episilon_DHB_extended['lograithm_epsilon']=10**(episilon_DHB_extended['lograithm_epsilon'].astype(float))\n",
    "molecular_cross_section = episilon_DHB_extended['lograithm_epsilon']* math.log(10) * 1000 / Na   #cm2 molecule-1   math.log(10, math.e) = math.log(10)  convert Molar_absorption_coefficients to molecular cross section \n",
    "episilon_DHB_extended['molecular_cross_section']=molecular_cross_section\n",
    "# episilon_DHB_extended['quantumn_yield']=0.01    #assuming to be 0.01  however, should change with wavelength\n",
    "episilon_DHB_extended=episilon_DHB_extended.set_index('wavelength')\n",
    "episilon_DHB_extended\n",
    "\n",
    "import plotly.graph_objects as go\n",
    "\n",
    "fig_1= go.Figure()\n",
    "fig_1.add_trace(go.Scatter(x= episilon_DHB_extended.index,y=episilon_DHB_extended['molecular_cross_section']*1e17,yaxis = \"y1\",mode='markers+lines',marker_size=3,line_width=4,\n",
    "                           name=\"σ(NO3-)\"))\n",
    "\n",
    "fig_1.update_layout(title='',titlefont=dict(color=\"black\",size=25))\n",
    "fig_1.update_layout( bargap=0)\n",
    "\n",
    "fig_1.update_layout(\n",
    "  plot_bgcolor = 'white',paper_bgcolor = 'white',autosize=False,width=1000, height=800,\n",
    "    xaxis=dict( title=\"Wavelength (nm)\",titlefont=dict(color=\"black\",size=40),ticklen=6,tickwidth=3,  dtick = 50,\n",
    "               showline=True, mirror= True,tickfont=dict(color='black',size=40 ),linecolor=\"black\", linewidth=6,ticks='inside'),\n",
    "    yaxis=dict( title='Molecular cross section (10<sup>-17</sup> cm<sup>2</sup>)', zeroline=False,\n",
    "              #  range=[0,4.5],\n",
    "               titlefont=dict(color=\"black\",size=40),mirror= True,tickfont=dict(color='black',size=40 ),linecolor=\"black\", linewidth=6,ticks='inside',ticklen=6,tickwidth=3,\n",
    "               ),\n",
    "    yaxis2=dict(title='',titlefont=dict(color=\"black\",size=40),tickfont=dict(color=\"black\" ,size=40),ticks='inside',anchor=\"free\",overlaying=\"y\", side=\"right\", position=1, linecolor=\"black\", linewidth=2,showticklabels = True) )\n",
    "fig_1.update_layout(legend=dict(yanchor=\"top\",y=0.8 ,xanchor=\"left\",x=0.05,  font=dict( size=40,color=\"black\")))\n",
    "fig_1.update_layout(xaxis=dict(showgrid=False),\n",
    "              yaxis=dict(showgrid=False)\n",
    ")\n",
    "config = {'displayModeBar': True}\n",
    "fig_1.show(config=config)\n",
    "# fig_1.write_html('cross_section_actinic_flux_202309051909.html')\n",
    "fig_1.write_image('DHB_absorption.png')\n",
    "\n"
   ]
  },
  {
   "cell_type": "code",
   "execution_count": 10,
   "metadata": {},
   "outputs": [
    {
     "data": {
      "application/vnd.plotly.v1+json": {
       "config": {
        "displayModeBar": true,
        "plotlyServerURL": "https://plot.ly"
       },
       "data": [
        {
         "line": {
          "width": 4
         },
         "marker": {
          "size": 3
         },
         "mode": "markers+lines",
         "name": "σ(NO3-)",
         "type": "scatter",
         "x": [
          282.1238792553396,
          285.40308017122527,
          287.522039553405,
          289.44798514793416,
          291.3737619257394,
          293.2993698868208,
          295.22489343954015,
          297.9244979435486,
          301.7869222730461,
          306.03780411553726,
          310.2875733023481,
          314.5363449357905,
          318.39741787888715,
          321.4847207078372,
          324.1841604145676,
          327.0774228224172,
          329.9707756677974,
          332.47727192717883,
          334.78999070420633,
          337.4891942684955,
          340.3825471138758,
          343.2757040112729,
          346.9434391750267,
          351.1931699944003,
          355.44827225498875,
          359.7006887949697,
          363.9515322700235,
          368.20962719071736,
          372.46799068347184,
          376.7295003060807,
          380.60558344323863,
          383.9048777057399,
          387.59120668877017,
          391.8478820142858,
          396.1051712187973,
          399.7759182263751,
          402.4748755996086,
          405.7599531279661,
          410.01609130936026,
          413.10395637351775,
          416.188184204624,
          419.08855143969265
         ],
         "y": [
          4.353770087562,
          4.157828651297,
          3.9768688466669997,
          3.805182238468,
          3.630316248636,
          3.4522708771710002,
          3.272635814889,
          3.094060546485,
          2.949061475026,
          2.831279837246,
          2.692543184156,
          2.5350192759610004,
          2.364569093953,
          2.198913217582,
          2.0172342671070003,
          1.841516657195,
          1.6675022874429999,
          1.4964212757459998,
          1.320230543566,
          1.134104243783,
          0.960089874031,
          0.7823851505980001,
          0.6151063214810001,
          0.475647081657,
          0.43734998471,
          0.348471816324,
          0.22996759181,
          0.248032260181,
          0.271155035696,
          0.353529923468,
          0.46577172961400004,
          0.648254987942,
          0.8311597552000001,
          0.822488714382,
          0.825379061321,
          0.7148232908900001,
          0.524060392891,
          0.43879515818,
          0.420007903074,
          0.264940789776,
          0.041372454015999996,
          -0.000537576604666681
         ],
         "yaxis": "y"
        }
       ],
       "layout": {
        "autosize": false,
        "bargap": 0,
        "height": 800,
        "legend": {
         "font": {
          "color": "black",
          "size": 40
         },
         "x": 0.05,
         "xanchor": "left",
         "y": 0.8,
         "yanchor": "top"
        },
        "paper_bgcolor": "white",
        "plot_bgcolor": "white",
        "template": {
         "data": {
          "bar": [
           {
            "error_x": {
             "color": "#2a3f5f"
            },
            "error_y": {
             "color": "#2a3f5f"
            },
            "marker": {
             "line": {
              "color": "#E5ECF6",
              "width": 0.5
             },
             "pattern": {
              "fillmode": "overlay",
              "size": 10,
              "solidity": 0.2
             }
            },
            "type": "bar"
           }
          ],
          "barpolar": [
           {
            "marker": {
             "line": {
              "color": "#E5ECF6",
              "width": 0.5
             },
             "pattern": {
              "fillmode": "overlay",
              "size": 10,
              "solidity": 0.2
             }
            },
            "type": "barpolar"
           }
          ],
          "carpet": [
           {
            "aaxis": {
             "endlinecolor": "#2a3f5f",
             "gridcolor": "white",
             "linecolor": "white",
             "minorgridcolor": "white",
             "startlinecolor": "#2a3f5f"
            },
            "baxis": {
             "endlinecolor": "#2a3f5f",
             "gridcolor": "white",
             "linecolor": "white",
             "minorgridcolor": "white",
             "startlinecolor": "#2a3f5f"
            },
            "type": "carpet"
           }
          ],
          "choropleth": [
           {
            "colorbar": {
             "outlinewidth": 0,
             "ticks": ""
            },
            "type": "choropleth"
           }
          ],
          "contour": [
           {
            "colorbar": {
             "outlinewidth": 0,
             "ticks": ""
            },
            "colorscale": [
             [
              0,
              "#0d0887"
             ],
             [
              0.1111111111111111,
              "#46039f"
             ],
             [
              0.2222222222222222,
              "#7201a8"
             ],
             [
              0.3333333333333333,
              "#9c179e"
             ],
             [
              0.4444444444444444,
              "#bd3786"
             ],
             [
              0.5555555555555556,
              "#d8576b"
             ],
             [
              0.6666666666666666,
              "#ed7953"
             ],
             [
              0.7777777777777778,
              "#fb9f3a"
             ],
             [
              0.8888888888888888,
              "#fdca26"
             ],
             [
              1,
              "#f0f921"
             ]
            ],
            "type": "contour"
           }
          ],
          "contourcarpet": [
           {
            "colorbar": {
             "outlinewidth": 0,
             "ticks": ""
            },
            "type": "contourcarpet"
           }
          ],
          "heatmap": [
           {
            "colorbar": {
             "outlinewidth": 0,
             "ticks": ""
            },
            "colorscale": [
             [
              0,
              "#0d0887"
             ],
             [
              0.1111111111111111,
              "#46039f"
             ],
             [
              0.2222222222222222,
              "#7201a8"
             ],
             [
              0.3333333333333333,
              "#9c179e"
             ],
             [
              0.4444444444444444,
              "#bd3786"
             ],
             [
              0.5555555555555556,
              "#d8576b"
             ],
             [
              0.6666666666666666,
              "#ed7953"
             ],
             [
              0.7777777777777778,
              "#fb9f3a"
             ],
             [
              0.8888888888888888,
              "#fdca26"
             ],
             [
              1,
              "#f0f921"
             ]
            ],
            "type": "heatmap"
           }
          ],
          "heatmapgl": [
           {
            "colorbar": {
             "outlinewidth": 0,
             "ticks": ""
            },
            "colorscale": [
             [
              0,
              "#0d0887"
             ],
             [
              0.1111111111111111,
              "#46039f"
             ],
             [
              0.2222222222222222,
              "#7201a8"
             ],
             [
              0.3333333333333333,
              "#9c179e"
             ],
             [
              0.4444444444444444,
              "#bd3786"
             ],
             [
              0.5555555555555556,
              "#d8576b"
             ],
             [
              0.6666666666666666,
              "#ed7953"
             ],
             [
              0.7777777777777778,
              "#fb9f3a"
             ],
             [
              0.8888888888888888,
              "#fdca26"
             ],
             [
              1,
              "#f0f921"
             ]
            ],
            "type": "heatmapgl"
           }
          ],
          "histogram": [
           {
            "marker": {
             "pattern": {
              "fillmode": "overlay",
              "size": 10,
              "solidity": 0.2
             }
            },
            "type": "histogram"
           }
          ],
          "histogram2d": [
           {
            "colorbar": {
             "outlinewidth": 0,
             "ticks": ""
            },
            "colorscale": [
             [
              0,
              "#0d0887"
             ],
             [
              0.1111111111111111,
              "#46039f"
             ],
             [
              0.2222222222222222,
              "#7201a8"
             ],
             [
              0.3333333333333333,
              "#9c179e"
             ],
             [
              0.4444444444444444,
              "#bd3786"
             ],
             [
              0.5555555555555556,
              "#d8576b"
             ],
             [
              0.6666666666666666,
              "#ed7953"
             ],
             [
              0.7777777777777778,
              "#fb9f3a"
             ],
             [
              0.8888888888888888,
              "#fdca26"
             ],
             [
              1,
              "#f0f921"
             ]
            ],
            "type": "histogram2d"
           }
          ],
          "histogram2dcontour": [
           {
            "colorbar": {
             "outlinewidth": 0,
             "ticks": ""
            },
            "colorscale": [
             [
              0,
              "#0d0887"
             ],
             [
              0.1111111111111111,
              "#46039f"
             ],
             [
              0.2222222222222222,
              "#7201a8"
             ],
             [
              0.3333333333333333,
              "#9c179e"
             ],
             [
              0.4444444444444444,
              "#bd3786"
             ],
             [
              0.5555555555555556,
              "#d8576b"
             ],
             [
              0.6666666666666666,
              "#ed7953"
             ],
             [
              0.7777777777777778,
              "#fb9f3a"
             ],
             [
              0.8888888888888888,
              "#fdca26"
             ],
             [
              1,
              "#f0f921"
             ]
            ],
            "type": "histogram2dcontour"
           }
          ],
          "mesh3d": [
           {
            "colorbar": {
             "outlinewidth": 0,
             "ticks": ""
            },
            "type": "mesh3d"
           }
          ],
          "parcoords": [
           {
            "line": {
             "colorbar": {
              "outlinewidth": 0,
              "ticks": ""
             }
            },
            "type": "parcoords"
           }
          ],
          "pie": [
           {
            "automargin": true,
            "type": "pie"
           }
          ],
          "scatter": [
           {
            "fillpattern": {
             "fillmode": "overlay",
             "size": 10,
             "solidity": 0.2
            },
            "type": "scatter"
           }
          ],
          "scatter3d": [
           {
            "line": {
             "colorbar": {
              "outlinewidth": 0,
              "ticks": ""
             }
            },
            "marker": {
             "colorbar": {
              "outlinewidth": 0,
              "ticks": ""
             }
            },
            "type": "scatter3d"
           }
          ],
          "scattercarpet": [
           {
            "marker": {
             "colorbar": {
              "outlinewidth": 0,
              "ticks": ""
             }
            },
            "type": "scattercarpet"
           }
          ],
          "scattergeo": [
           {
            "marker": {
             "colorbar": {
              "outlinewidth": 0,
              "ticks": ""
             }
            },
            "type": "scattergeo"
           }
          ],
          "scattergl": [
           {
            "marker": {
             "colorbar": {
              "outlinewidth": 0,
              "ticks": ""
             }
            },
            "type": "scattergl"
           }
          ],
          "scattermapbox": [
           {
            "marker": {
             "colorbar": {
              "outlinewidth": 0,
              "ticks": ""
             }
            },
            "type": "scattermapbox"
           }
          ],
          "scatterpolar": [
           {
            "marker": {
             "colorbar": {
              "outlinewidth": 0,
              "ticks": ""
             }
            },
            "type": "scatterpolar"
           }
          ],
          "scatterpolargl": [
           {
            "marker": {
             "colorbar": {
              "outlinewidth": 0,
              "ticks": ""
             }
            },
            "type": "scatterpolargl"
           }
          ],
          "scatterternary": [
           {
            "marker": {
             "colorbar": {
              "outlinewidth": 0,
              "ticks": ""
             }
            },
            "type": "scatterternary"
           }
          ],
          "surface": [
           {
            "colorbar": {
             "outlinewidth": 0,
             "ticks": ""
            },
            "colorscale": [
             [
              0,
              "#0d0887"
             ],
             [
              0.1111111111111111,
              "#46039f"
             ],
             [
              0.2222222222222222,
              "#7201a8"
             ],
             [
              0.3333333333333333,
              "#9c179e"
             ],
             [
              0.4444444444444444,
              "#bd3786"
             ],
             [
              0.5555555555555556,
              "#d8576b"
             ],
             [
              0.6666666666666666,
              "#ed7953"
             ],
             [
              0.7777777777777778,
              "#fb9f3a"
             ],
             [
              0.8888888888888888,
              "#fdca26"
             ],
             [
              1,
              "#f0f921"
             ]
            ],
            "type": "surface"
           }
          ],
          "table": [
           {
            "cells": {
             "fill": {
              "color": "#EBF0F8"
             },
             "line": {
              "color": "white"
             }
            },
            "header": {
             "fill": {
              "color": "#C8D4E3"
             },
             "line": {
              "color": "white"
             }
            },
            "type": "table"
           }
          ]
         },
         "layout": {
          "annotationdefaults": {
           "arrowcolor": "#2a3f5f",
           "arrowhead": 0,
           "arrowwidth": 1
          },
          "autotypenumbers": "strict",
          "coloraxis": {
           "colorbar": {
            "outlinewidth": 0,
            "ticks": ""
           }
          },
          "colorscale": {
           "diverging": [
            [
             0,
             "#8e0152"
            ],
            [
             0.1,
             "#c51b7d"
            ],
            [
             0.2,
             "#de77ae"
            ],
            [
             0.3,
             "#f1b6da"
            ],
            [
             0.4,
             "#fde0ef"
            ],
            [
             0.5,
             "#f7f7f7"
            ],
            [
             0.6,
             "#e6f5d0"
            ],
            [
             0.7,
             "#b8e186"
            ],
            [
             0.8,
             "#7fbc41"
            ],
            [
             0.9,
             "#4d9221"
            ],
            [
             1,
             "#276419"
            ]
           ],
           "sequential": [
            [
             0,
             "#0d0887"
            ],
            [
             0.1111111111111111,
             "#46039f"
            ],
            [
             0.2222222222222222,
             "#7201a8"
            ],
            [
             0.3333333333333333,
             "#9c179e"
            ],
            [
             0.4444444444444444,
             "#bd3786"
            ],
            [
             0.5555555555555556,
             "#d8576b"
            ],
            [
             0.6666666666666666,
             "#ed7953"
            ],
            [
             0.7777777777777778,
             "#fb9f3a"
            ],
            [
             0.8888888888888888,
             "#fdca26"
            ],
            [
             1,
             "#f0f921"
            ]
           ],
           "sequentialminus": [
            [
             0,
             "#0d0887"
            ],
            [
             0.1111111111111111,
             "#46039f"
            ],
            [
             0.2222222222222222,
             "#7201a8"
            ],
            [
             0.3333333333333333,
             "#9c179e"
            ],
            [
             0.4444444444444444,
             "#bd3786"
            ],
            [
             0.5555555555555556,
             "#d8576b"
            ],
            [
             0.6666666666666666,
             "#ed7953"
            ],
            [
             0.7777777777777778,
             "#fb9f3a"
            ],
            [
             0.8888888888888888,
             "#fdca26"
            ],
            [
             1,
             "#f0f921"
            ]
           ]
          },
          "colorway": [
           "#636efa",
           "#EF553B",
           "#00cc96",
           "#ab63fa",
           "#FFA15A",
           "#19d3f3",
           "#FF6692",
           "#B6E880",
           "#FF97FF",
           "#FECB52"
          ],
          "font": {
           "color": "#2a3f5f"
          },
          "geo": {
           "bgcolor": "white",
           "lakecolor": "white",
           "landcolor": "#E5ECF6",
           "showlakes": true,
           "showland": true,
           "subunitcolor": "white"
          },
          "hoverlabel": {
           "align": "left"
          },
          "hovermode": "closest",
          "mapbox": {
           "style": "light"
          },
          "paper_bgcolor": "white",
          "plot_bgcolor": "#E5ECF6",
          "polar": {
           "angularaxis": {
            "gridcolor": "white",
            "linecolor": "white",
            "ticks": ""
           },
           "bgcolor": "#E5ECF6",
           "radialaxis": {
            "gridcolor": "white",
            "linecolor": "white",
            "ticks": ""
           }
          },
          "scene": {
           "xaxis": {
            "backgroundcolor": "#E5ECF6",
            "gridcolor": "white",
            "gridwidth": 2,
            "linecolor": "white",
            "showbackground": true,
            "ticks": "",
            "zerolinecolor": "white"
           },
           "yaxis": {
            "backgroundcolor": "#E5ECF6",
            "gridcolor": "white",
            "gridwidth": 2,
            "linecolor": "white",
            "showbackground": true,
            "ticks": "",
            "zerolinecolor": "white"
           },
           "zaxis": {
            "backgroundcolor": "#E5ECF6",
            "gridcolor": "white",
            "gridwidth": 2,
            "linecolor": "white",
            "showbackground": true,
            "ticks": "",
            "zerolinecolor": "white"
           }
          },
          "shapedefaults": {
           "line": {
            "color": "#2a3f5f"
           }
          },
          "ternary": {
           "aaxis": {
            "gridcolor": "white",
            "linecolor": "white",
            "ticks": ""
           },
           "baxis": {
            "gridcolor": "white",
            "linecolor": "white",
            "ticks": ""
           },
           "bgcolor": "#E5ECF6",
           "caxis": {
            "gridcolor": "white",
            "linecolor": "white",
            "ticks": ""
           }
          },
          "title": {
           "x": 0.05
          },
          "xaxis": {
           "automargin": true,
           "gridcolor": "white",
           "linecolor": "white",
           "ticks": "",
           "title": {
            "standoff": 15
           },
           "zerolinecolor": "white",
           "zerolinewidth": 2
          },
          "yaxis": {
           "automargin": true,
           "gridcolor": "white",
           "linecolor": "white",
           "ticks": "",
           "title": {
            "standoff": 15
           },
           "zerolinecolor": "white",
           "zerolinewidth": 2
          }
         }
        },
        "title": {
         "font": {
          "color": "black",
          "size": 25
         },
         "text": ""
        },
        "width": 1000,
        "xaxis": {
         "dtick": 50,
         "linecolor": "black",
         "linewidth": 6,
         "mirror": true,
         "showgrid": false,
         "showline": true,
         "tickfont": {
          "color": "black",
          "size": 40
         },
         "ticklen": 6,
         "ticks": "inside",
         "tickwidth": 3,
         "title": {
          "font": {
           "color": "black",
           "size": 40
          },
          "text": "Wavelength (nm)"
         }
        },
        "yaxis": {
         "linecolor": "black",
         "linewidth": 6,
         "mirror": true,
         "showgrid": false,
         "tickfont": {
          "color": "black",
          "size": 40
         },
         "ticklen": 6,
         "ticks": "inside",
         "tickwidth": 3,
         "title": {
          "font": {
           "color": "black",
           "size": 40
          },
          "text": "Absorption (a.u.)"
         },
         "zeroline": false
        },
        "yaxis2": {
         "anchor": "free",
         "linecolor": "black",
         "linewidth": 2,
         "overlaying": "y",
         "position": 1,
         "showticklabels": true,
         "side": "right",
         "tickfont": {
          "color": "black",
          "size": 40
         },
         "ticks": "inside",
         "title": {
          "font": {
           "color": "black",
           "size": 40
          },
          "text": ""
         }
        }
       }
      }
     },
     "metadata": {},
     "output_type": "display_data"
    }
   ],
   "source": [
    "Absorption_DHB = pd.read_csv('actinic_flux/DHB_absorption_jiang_2021.csv',header=None)\n",
    "# DOI: 10.1021/acs.est.0c07581 \n",
    "wavelength = Absorption_DHB.iloc[:,0]\n",
    "absorption= Absorption_DHB.iloc[:,1]  #unknown units  DOI: 10.1021/acs.est.0c07581  \n",
    "import plotly.graph_objects as go\n",
    "\n",
    "fig_1= go.Figure()\n",
    "fig_1.add_trace(go.Scatter(x= wavelength,y=absorption*1e4,yaxis = \"y1\",mode='markers+lines',marker_size=3,line_width=4,\n",
    "                           name=\"σ(NO3-)\"))\n",
    "\n",
    "fig_1.update_layout(title='',titlefont=dict(color=\"black\",size=25))\n",
    "fig_1.update_layout( bargap=0)\n",
    "\n",
    "fig_1.update_layout(\n",
    "  plot_bgcolor = 'white',paper_bgcolor = 'white',autosize=False,width=1000, height=800,\n",
    "    xaxis=dict( title=\"Wavelength (nm)\",titlefont=dict(color=\"black\",size=40),ticklen=6,tickwidth=3,  dtick = 50,\n",
    "               showline=True, mirror= True,tickfont=dict(color='black',size=40 ),linecolor=\"black\", linewidth=6,ticks='inside'),\n",
    "    yaxis=dict( title='Absorption (a.u.)', zeroline=False,\n",
    "              #  range=[0,4.5],\n",
    "               titlefont=dict(color=\"black\",size=40),mirror= True,tickfont=dict(color='black',size=40 ),linecolor=\"black\", linewidth=6,ticks='inside',ticklen=6,tickwidth=3,\n",
    "               ),\n",
    "    yaxis2=dict(title='',titlefont=dict(color=\"black\",size=40),tickfont=dict(color=\"black\" ,size=40),ticks='inside',anchor=\"free\",overlaying=\"y\", side=\"right\", position=1, linecolor=\"black\", linewidth=2,showticklabels = True) )\n",
    "fig_1.update_layout(legend=dict(yanchor=\"top\",y=0.8 ,xanchor=\"left\",x=0.05,  font=dict( size=40,color=\"black\")))\n",
    "fig_1.update_layout(xaxis=dict(showgrid=False),\n",
    "              yaxis=dict(showgrid=False)\n",
    ")\n",
    "config = {'displayModeBar': True}\n",
    "fig_1.show(config=config)\n",
    "# fig_1.write_html('cross_section_actinic_flux_202309051909.html')\n",
    "fig_1.write_image('DHB_absorption.png')"
   ]
  },
  {
   "cell_type": "code",
   "execution_count": 11,
   "metadata": {},
   "outputs": [
    {
     "data": {
      "application/vnd.plotly.v1+json": {
       "config": {
        "displayModeBar": true,
        "plotlyServerURL": "https://plot.ly"
       },
       "data": [
        {
         "line": {
          "width": 4
         },
         "marker": {
          "size": 3
         },
         "mode": "markers+lines",
         "name": "NO<sub>3</sub>-<sup></sup>",
         "type": "scatter",
         "x": [
          290,
          291,
          292,
          293,
          294,
          295,
          296,
          297,
          298,
          299,
          300,
          301,
          302,
          303,
          304,
          305,
          306,
          307,
          308,
          309,
          310,
          311,
          312,
          313,
          314,
          315,
          316,
          317,
          318,
          319,
          320,
          321,
          322,
          323,
          324,
          325,
          326,
          327,
          328,
          329,
          330,
          331,
          332,
          333,
          334,
          335,
          336,
          337,
          338,
          339,
          340,
          341,
          342,
          343,
          344,
          345,
          346,
          347,
          348,
          349,
          350
         ],
         "y": [
          2.1335310665506855,
          2.213825246474636,
          2.2902958940212557,
          2.362943009190544,
          2.431766591982502,
          2.4967666423971284,
          2.554119628057093,
          2.6038255489623956,
          2.6458844051130366,
          2.680296196509015,
          2.7070609231503324,
          2.722355052659656,
          2.730002117414317,
          2.722355052659656,
          2.7070609231503324,
          2.680296196509015,
          2.6420608727357053,
          2.592354951830403,
          2.5311784337931074,
          2.4585313186238187,
          2.382060671077199,
          2.2902958940212557,
          2.1947075845879813,
          2.087648678022714,
          1.980589771457446,
          1.865883800137517,
          1.747354296440257,
          1.6288247927429964,
          1.5064717566684054,
          1.387942252971145,
          1.2655892168965537,
          1.150883245576624,
          1.0400008066340258,
          0.9329419000687585,
          0.8258829935034911,
          0.7302946840702167,
          0.6385299070142733,
          0.5582357270903227,
          0.4817650795437031,
          0.4129414967517456,
          0.340294381582457,
          0.2867649282998233,
          0.24470607214918255,
          0.2064707483758728,
          0.17588248935722497,
          0.14911776271590813,
          0.12235303607459128,
          0.1032353741879364,
          0.08794124467861249,
          0.07264711516928858,
          0.06117651803729564,
          0.0497059209053027,
          0.04205885615064075,
          0.034411791395978795,
          0.03058825901864782,
          0.02294119426398587,
          0.01911766188665489,
          0.01529412950932391,
          0.01529412950932391,
          0.011470597131992935,
          0.011470597131992935
         ],
         "yaxis": "y2"
        },
        {
         "line": {
          "width": 4
         },
         "marker": {
          "size": 3
         },
         "mode": "markers+lines",
         "name": "DHB",
         "type": "scatter",
         "x": [
          282.1238792553396,
          285.40308017122527,
          287.522039553405,
          289.44798514793416,
          291.3737619257394,
          293.2993698868208,
          295.22489343954015,
          297.9244979435486,
          301.7869222730461,
          306.03780411553726,
          310.2875733023481,
          314.5363449357905,
          318.39741787888715,
          321.4847207078372,
          324.1841604145676,
          327.0774228224172,
          329.9707756677974,
          332.47727192717883,
          334.78999070420633,
          337.4891942684955,
          340.3825471138758,
          343.2757040112729,
          346.9434391750267,
          351.1931699944003,
          355.44827225498875,
          359.7006887949697,
          363.9515322700235,
          368.20962719071736,
          372.46799068347184,
          376.7295003060807,
          380.60558344323863,
          383.9048777057399,
          387.59120668877017,
          391.8478820142858,
          396.1051712187973,
          399.7759182263751,
          402.4748755996086,
          405.7599531279661,
          410.01609130936026,
          413.10395637351775,
          416.188184204624,
          419.08855143969265
         ],
         "y": [
          4.353770087562,
          4.157828651297,
          3.9768688466669997,
          3.805182238468,
          3.630316248636,
          3.4522708771710002,
          3.272635814889,
          3.094060546485,
          2.949061475026,
          2.831279837246,
          2.692543184156,
          2.5350192759610004,
          2.364569093953,
          2.198913217582,
          2.0172342671070003,
          1.841516657195,
          1.6675022874429999,
          1.4964212757459998,
          1.320230543566,
          1.134104243783,
          0.960089874031,
          0.7823851505980001,
          0.6151063214810001,
          0.475647081657,
          0.43734998471,
          0.348471816324,
          0.22996759181,
          0.248032260181,
          0.271155035696,
          0.353529923468,
          0.46577172961400004,
          0.648254987942,
          0.8311597552000001,
          0.822488714382,
          0.825379061321,
          0.7148232908900001,
          0.524060392891,
          0.43879515818,
          0.420007903074,
          0.264940789776,
          0.041372454015999996,
          -0.000537576604666681
         ],
         "yaxis": "y"
        }
       ],
       "layout": {
        "autosize": false,
        "bargap": 0,
        "height": 800,
        "legend": {
         "font": {
          "color": "black",
          "size": 40
         },
         "x": 0.65,
         "xanchor": "left",
         "y": 0.8,
         "yanchor": "top"
        },
        "paper_bgcolor": "white",
        "plot_bgcolor": "white",
        "template": {
         "data": {
          "bar": [
           {
            "error_x": {
             "color": "#2a3f5f"
            },
            "error_y": {
             "color": "#2a3f5f"
            },
            "marker": {
             "line": {
              "color": "#E5ECF6",
              "width": 0.5
             },
             "pattern": {
              "fillmode": "overlay",
              "size": 10,
              "solidity": 0.2
             }
            },
            "type": "bar"
           }
          ],
          "barpolar": [
           {
            "marker": {
             "line": {
              "color": "#E5ECF6",
              "width": 0.5
             },
             "pattern": {
              "fillmode": "overlay",
              "size": 10,
              "solidity": 0.2
             }
            },
            "type": "barpolar"
           }
          ],
          "carpet": [
           {
            "aaxis": {
             "endlinecolor": "#2a3f5f",
             "gridcolor": "white",
             "linecolor": "white",
             "minorgridcolor": "white",
             "startlinecolor": "#2a3f5f"
            },
            "baxis": {
             "endlinecolor": "#2a3f5f",
             "gridcolor": "white",
             "linecolor": "white",
             "minorgridcolor": "white",
             "startlinecolor": "#2a3f5f"
            },
            "type": "carpet"
           }
          ],
          "choropleth": [
           {
            "colorbar": {
             "outlinewidth": 0,
             "ticks": ""
            },
            "type": "choropleth"
           }
          ],
          "contour": [
           {
            "colorbar": {
             "outlinewidth": 0,
             "ticks": ""
            },
            "colorscale": [
             [
              0,
              "#0d0887"
             ],
             [
              0.1111111111111111,
              "#46039f"
             ],
             [
              0.2222222222222222,
              "#7201a8"
             ],
             [
              0.3333333333333333,
              "#9c179e"
             ],
             [
              0.4444444444444444,
              "#bd3786"
             ],
             [
              0.5555555555555556,
              "#d8576b"
             ],
             [
              0.6666666666666666,
              "#ed7953"
             ],
             [
              0.7777777777777778,
              "#fb9f3a"
             ],
             [
              0.8888888888888888,
              "#fdca26"
             ],
             [
              1,
              "#f0f921"
             ]
            ],
            "type": "contour"
           }
          ],
          "contourcarpet": [
           {
            "colorbar": {
             "outlinewidth": 0,
             "ticks": ""
            },
            "type": "contourcarpet"
           }
          ],
          "heatmap": [
           {
            "colorbar": {
             "outlinewidth": 0,
             "ticks": ""
            },
            "colorscale": [
             [
              0,
              "#0d0887"
             ],
             [
              0.1111111111111111,
              "#46039f"
             ],
             [
              0.2222222222222222,
              "#7201a8"
             ],
             [
              0.3333333333333333,
              "#9c179e"
             ],
             [
              0.4444444444444444,
              "#bd3786"
             ],
             [
              0.5555555555555556,
              "#d8576b"
             ],
             [
              0.6666666666666666,
              "#ed7953"
             ],
             [
              0.7777777777777778,
              "#fb9f3a"
             ],
             [
              0.8888888888888888,
              "#fdca26"
             ],
             [
              1,
              "#f0f921"
             ]
            ],
            "type": "heatmap"
           }
          ],
          "heatmapgl": [
           {
            "colorbar": {
             "outlinewidth": 0,
             "ticks": ""
            },
            "colorscale": [
             [
              0,
              "#0d0887"
             ],
             [
              0.1111111111111111,
              "#46039f"
             ],
             [
              0.2222222222222222,
              "#7201a8"
             ],
             [
              0.3333333333333333,
              "#9c179e"
             ],
             [
              0.4444444444444444,
              "#bd3786"
             ],
             [
              0.5555555555555556,
              "#d8576b"
             ],
             [
              0.6666666666666666,
              "#ed7953"
             ],
             [
              0.7777777777777778,
              "#fb9f3a"
             ],
             [
              0.8888888888888888,
              "#fdca26"
             ],
             [
              1,
              "#f0f921"
             ]
            ],
            "type": "heatmapgl"
           }
          ],
          "histogram": [
           {
            "marker": {
             "pattern": {
              "fillmode": "overlay",
              "size": 10,
              "solidity": 0.2
             }
            },
            "type": "histogram"
           }
          ],
          "histogram2d": [
           {
            "colorbar": {
             "outlinewidth": 0,
             "ticks": ""
            },
            "colorscale": [
             [
              0,
              "#0d0887"
             ],
             [
              0.1111111111111111,
              "#46039f"
             ],
             [
              0.2222222222222222,
              "#7201a8"
             ],
             [
              0.3333333333333333,
              "#9c179e"
             ],
             [
              0.4444444444444444,
              "#bd3786"
             ],
             [
              0.5555555555555556,
              "#d8576b"
             ],
             [
              0.6666666666666666,
              "#ed7953"
             ],
             [
              0.7777777777777778,
              "#fb9f3a"
             ],
             [
              0.8888888888888888,
              "#fdca26"
             ],
             [
              1,
              "#f0f921"
             ]
            ],
            "type": "histogram2d"
           }
          ],
          "histogram2dcontour": [
           {
            "colorbar": {
             "outlinewidth": 0,
             "ticks": ""
            },
            "colorscale": [
             [
              0,
              "#0d0887"
             ],
             [
              0.1111111111111111,
              "#46039f"
             ],
             [
              0.2222222222222222,
              "#7201a8"
             ],
             [
              0.3333333333333333,
              "#9c179e"
             ],
             [
              0.4444444444444444,
              "#bd3786"
             ],
             [
              0.5555555555555556,
              "#d8576b"
             ],
             [
              0.6666666666666666,
              "#ed7953"
             ],
             [
              0.7777777777777778,
              "#fb9f3a"
             ],
             [
              0.8888888888888888,
              "#fdca26"
             ],
             [
              1,
              "#f0f921"
             ]
            ],
            "type": "histogram2dcontour"
           }
          ],
          "mesh3d": [
           {
            "colorbar": {
             "outlinewidth": 0,
             "ticks": ""
            },
            "type": "mesh3d"
           }
          ],
          "parcoords": [
           {
            "line": {
             "colorbar": {
              "outlinewidth": 0,
              "ticks": ""
             }
            },
            "type": "parcoords"
           }
          ],
          "pie": [
           {
            "automargin": true,
            "type": "pie"
           }
          ],
          "scatter": [
           {
            "fillpattern": {
             "fillmode": "overlay",
             "size": 10,
             "solidity": 0.2
            },
            "type": "scatter"
           }
          ],
          "scatter3d": [
           {
            "line": {
             "colorbar": {
              "outlinewidth": 0,
              "ticks": ""
             }
            },
            "marker": {
             "colorbar": {
              "outlinewidth": 0,
              "ticks": ""
             }
            },
            "type": "scatter3d"
           }
          ],
          "scattercarpet": [
           {
            "marker": {
             "colorbar": {
              "outlinewidth": 0,
              "ticks": ""
             }
            },
            "type": "scattercarpet"
           }
          ],
          "scattergeo": [
           {
            "marker": {
             "colorbar": {
              "outlinewidth": 0,
              "ticks": ""
             }
            },
            "type": "scattergeo"
           }
          ],
          "scattergl": [
           {
            "marker": {
             "colorbar": {
              "outlinewidth": 0,
              "ticks": ""
             }
            },
            "type": "scattergl"
           }
          ],
          "scattermapbox": [
           {
            "marker": {
             "colorbar": {
              "outlinewidth": 0,
              "ticks": ""
             }
            },
            "type": "scattermapbox"
           }
          ],
          "scatterpolar": [
           {
            "marker": {
             "colorbar": {
              "outlinewidth": 0,
              "ticks": ""
             }
            },
            "type": "scatterpolar"
           }
          ],
          "scatterpolargl": [
           {
            "marker": {
             "colorbar": {
              "outlinewidth": 0,
              "ticks": ""
             }
            },
            "type": "scatterpolargl"
           }
          ],
          "scatterternary": [
           {
            "marker": {
             "colorbar": {
              "outlinewidth": 0,
              "ticks": ""
             }
            },
            "type": "scatterternary"
           }
          ],
          "surface": [
           {
            "colorbar": {
             "outlinewidth": 0,
             "ticks": ""
            },
            "colorscale": [
             [
              0,
              "#0d0887"
             ],
             [
              0.1111111111111111,
              "#46039f"
             ],
             [
              0.2222222222222222,
              "#7201a8"
             ],
             [
              0.3333333333333333,
              "#9c179e"
             ],
             [
              0.4444444444444444,
              "#bd3786"
             ],
             [
              0.5555555555555556,
              "#d8576b"
             ],
             [
              0.6666666666666666,
              "#ed7953"
             ],
             [
              0.7777777777777778,
              "#fb9f3a"
             ],
             [
              0.8888888888888888,
              "#fdca26"
             ],
             [
              1,
              "#f0f921"
             ]
            ],
            "type": "surface"
           }
          ],
          "table": [
           {
            "cells": {
             "fill": {
              "color": "#EBF0F8"
             },
             "line": {
              "color": "white"
             }
            },
            "header": {
             "fill": {
              "color": "#C8D4E3"
             },
             "line": {
              "color": "white"
             }
            },
            "type": "table"
           }
          ]
         },
         "layout": {
          "annotationdefaults": {
           "arrowcolor": "#2a3f5f",
           "arrowhead": 0,
           "arrowwidth": 1
          },
          "autotypenumbers": "strict",
          "coloraxis": {
           "colorbar": {
            "outlinewidth": 0,
            "ticks": ""
           }
          },
          "colorscale": {
           "diverging": [
            [
             0,
             "#8e0152"
            ],
            [
             0.1,
             "#c51b7d"
            ],
            [
             0.2,
             "#de77ae"
            ],
            [
             0.3,
             "#f1b6da"
            ],
            [
             0.4,
             "#fde0ef"
            ],
            [
             0.5,
             "#f7f7f7"
            ],
            [
             0.6,
             "#e6f5d0"
            ],
            [
             0.7,
             "#b8e186"
            ],
            [
             0.8,
             "#7fbc41"
            ],
            [
             0.9,
             "#4d9221"
            ],
            [
             1,
             "#276419"
            ]
           ],
           "sequential": [
            [
             0,
             "#0d0887"
            ],
            [
             0.1111111111111111,
             "#46039f"
            ],
            [
             0.2222222222222222,
             "#7201a8"
            ],
            [
             0.3333333333333333,
             "#9c179e"
            ],
            [
             0.4444444444444444,
             "#bd3786"
            ],
            [
             0.5555555555555556,
             "#d8576b"
            ],
            [
             0.6666666666666666,
             "#ed7953"
            ],
            [
             0.7777777777777778,
             "#fb9f3a"
            ],
            [
             0.8888888888888888,
             "#fdca26"
            ],
            [
             1,
             "#f0f921"
            ]
           ],
           "sequentialminus": [
            [
             0,
             "#0d0887"
            ],
            [
             0.1111111111111111,
             "#46039f"
            ],
            [
             0.2222222222222222,
             "#7201a8"
            ],
            [
             0.3333333333333333,
             "#9c179e"
            ],
            [
             0.4444444444444444,
             "#bd3786"
            ],
            [
             0.5555555555555556,
             "#d8576b"
            ],
            [
             0.6666666666666666,
             "#ed7953"
            ],
            [
             0.7777777777777778,
             "#fb9f3a"
            ],
            [
             0.8888888888888888,
             "#fdca26"
            ],
            [
             1,
             "#f0f921"
            ]
           ]
          },
          "colorway": [
           "#636efa",
           "#EF553B",
           "#00cc96",
           "#ab63fa",
           "#FFA15A",
           "#19d3f3",
           "#FF6692",
           "#B6E880",
           "#FF97FF",
           "#FECB52"
          ],
          "font": {
           "color": "#2a3f5f"
          },
          "geo": {
           "bgcolor": "white",
           "lakecolor": "white",
           "landcolor": "#E5ECF6",
           "showlakes": true,
           "showland": true,
           "subunitcolor": "white"
          },
          "hoverlabel": {
           "align": "left"
          },
          "hovermode": "closest",
          "mapbox": {
           "style": "light"
          },
          "paper_bgcolor": "white",
          "plot_bgcolor": "#E5ECF6",
          "polar": {
           "angularaxis": {
            "gridcolor": "white",
            "linecolor": "white",
            "ticks": ""
           },
           "bgcolor": "#E5ECF6",
           "radialaxis": {
            "gridcolor": "white",
            "linecolor": "white",
            "ticks": ""
           }
          },
          "scene": {
           "xaxis": {
            "backgroundcolor": "#E5ECF6",
            "gridcolor": "white",
            "gridwidth": 2,
            "linecolor": "white",
            "showbackground": true,
            "ticks": "",
            "zerolinecolor": "white"
           },
           "yaxis": {
            "backgroundcolor": "#E5ECF6",
            "gridcolor": "white",
            "gridwidth": 2,
            "linecolor": "white",
            "showbackground": true,
            "ticks": "",
            "zerolinecolor": "white"
           },
           "zaxis": {
            "backgroundcolor": "#E5ECF6",
            "gridcolor": "white",
            "gridwidth": 2,
            "linecolor": "white",
            "showbackground": true,
            "ticks": "",
            "zerolinecolor": "white"
           }
          },
          "shapedefaults": {
           "line": {
            "color": "#2a3f5f"
           }
          },
          "ternary": {
           "aaxis": {
            "gridcolor": "white",
            "linecolor": "white",
            "ticks": ""
           },
           "baxis": {
            "gridcolor": "white",
            "linecolor": "white",
            "ticks": ""
           },
           "bgcolor": "#E5ECF6",
           "caxis": {
            "gridcolor": "white",
            "linecolor": "white",
            "ticks": ""
           }
          },
          "title": {
           "x": 0.05
          },
          "xaxis": {
           "automargin": true,
           "gridcolor": "white",
           "linecolor": "white",
           "ticks": "",
           "title": {
            "standoff": 15
           },
           "zerolinecolor": "white",
           "zerolinewidth": 2
          },
          "yaxis": {
           "automargin": true,
           "gridcolor": "white",
           "linecolor": "white",
           "ticks": "",
           "title": {
            "standoff": 15
           },
           "zerolinecolor": "white",
           "zerolinewidth": 2
          }
         }
        },
        "title": {
         "font": {
          "color": "black",
          "size": 25
         },
         "text": ""
        },
        "width": 1000,
        "xaxis": {
         "dtick": 50,
         "linecolor": "black",
         "linewidth": 4.5,
         "mirror": true,
         "showgrid": false,
         "showline": true,
         "tickfont": {
          "color": "black",
          "size": 40
         },
         "ticklen": 6,
         "ticks": "inside",
         "tickwidth": 3,
         "title": {
          "font": {
           "color": "black",
           "size": 40
          },
          "text": "Wavelength (nm)"
         }
        },
        "yaxis": {
         "linecolor": "black",
         "linewidth": 4.5,
         "mirror": true,
         "showgrid": false,
         "tickfont": {
          "color": "black",
          "size": 40
         },
         "ticklen": 6,
         "ticks": "inside",
         "tickwidth": 3,
         "title": {
          "font": {
           "color": "black",
           "size": 40
          },
          "text": "Absorption (a.u.)"
         },
         "zeroline": false
        },
        "yaxis2": {
         "anchor": "free",
         "linecolor": "black",
         "linewidth": 2,
         "overlaying": "y",
         "position": 1,
         "showticklabels": false,
         "side": "right",
         "tickfont": {
          "color": "black",
          "size": 40
         },
         "ticklen": 0,
         "ticks": "inside",
         "tickwidth": 3,
         "title": {
          "font": {
           "color": "black",
           "size": 40
          },
          "text": ""
         }
        }
       }
      }
     },
     "metadata": {},
     "output_type": "display_data"
    }
   ],
   "source": [
    "# new_cross_section_nitrate['wavelength']=wavelength\n",
    "# new_cross_section_nitrate['molar_absorption_coefficients']=molar_absorption_coefficients.values\n",
    "fig_1= go.Figure()\n",
    "fig_1.add_trace(go.Scatter(x= new_cross_section_nitrate.index,y= new_cross_section_nitrate['molecular_cross_section']*1e20,yaxis = \"y2\",mode='markers+lines',marker_size=3,line_width=4,\n",
    "                           name=\"NO<sub>3</sub>-<sup></sup>\"))\n",
    "fig_1.add_trace(go.Scatter(x= wavelength,y=absorption*1e4,yaxis = \"y1\",mode='markers+lines',marker_size=3,line_width=4,name=\"DHB\"))\n",
    "\n",
    "fig_1.update_layout(title='',titlefont=dict(color=\"black\",size=25))\n",
    "fig_1.update_layout( bargap=0)\n",
    "\n",
    "fig_1.update_layout(\n",
    "  plot_bgcolor = 'white',paper_bgcolor = 'white',autosize=False,width=1000, height=800,\n",
    "    xaxis=dict( title=\"Wavelength (nm)\",titlefont=dict(color=\"black\",size=40),ticklen=6,tickwidth=3,  dtick = 50,\n",
    "               showline=True, mirror= True,tickfont=dict(color='black',size=40 ),linecolor=\"black\", linewidth=4.5,ticks='inside'),\n",
    "    yaxis=dict( title='Absorption (a.u.)', zeroline=False,\n",
    "              #  range=[0,4.5],\n",
    "               titlefont=dict(color=\"black\",size=40),mirror= True,tickfont=dict(color='black',size=40 ),linecolor=\"black\", linewidth=4.5,ticks='inside',ticklen=6,tickwidth=3,\n",
    "               ),\n",
    "    yaxis2=dict(title='',titlefont=dict(color=\"black\",size=40),tickfont=dict(color=\"black\" ,size=40),ticks='inside',\n",
    "                anchor=\"free\",overlaying=\"y\", side=\"right\", position=1, ticklen=0,tickwidth=3,linecolor=\"black\", linewidth=2,showticklabels = False) )\n",
    "fig_1.update_layout(legend=dict(yanchor=\"top\",y=0.8 ,xanchor=\"left\",x=0.65,  font=dict( size=40,color=\"black\")))\n",
    "fig_1.update_layout(xaxis=dict(showgrid=False),\n",
    "              yaxis=dict(showgrid=False)\n",
    ")\n",
    "config = {'displayModeBar': True}\n",
    "fig_1.show(config=config)\n",
    "# fig_1.write_html('cross_section_actinic_flux_202309051909.html')\n",
    "fig_1.write_image('DHB_nitrate_absorption.png')"
   ]
  },
  {
   "cell_type": "markdown",
   "metadata": {},
   "source": [
    "### nitrite\n",
    " http://doi.wiley.com/10.1562/0031-8655%282000%290710431DAIOUS2.0.CO2"
   ]
  },
  {
   "cell_type": "code",
   "execution_count": 12,
   "metadata": {},
   "outputs": [],
   "source": [
    "cross_section_nitrite = pd.read_csv('actinic_flux/nitrate_cross_section_Jankowski2007.csv').astype(float) \n",
    "wavelength = cross_section_nitrite.iloc[:,0]\n",
    "molar_absorption_coefficients= cross_section_nitrite.iloc[:,2]   ## 10^3 cm2 mol^-1\n",
    "\n",
    "new_cross_section_nitrite=pd.DataFrame()\n",
    "new_cross_section_nitrite['wavelength']=wavelength\n",
    "new_cross_section_nitrite['molar_absorption_coefficients']=molar_absorption_coefficients.values\n",
    "molecular_cross_section = molar_absorption_coefficients* math.log(10) * 1000 / Na   #cm2 molecule-1   math.log(10, math.e) = math.log(10)  convert Molar_absorption_coefficients to molecular cross section \n",
    "new_cross_section_nitrite['molecular_cross_section']=molecular_cross_section\n",
    "new_cross_section_nitrite['quantumn_yield']=1    #assuming to be constnat however, should change with wavelength\n",
    "new_cross_section_nitrite=new_cross_section_nitrite.set_index('wavelength')\n"
   ]
  },
  {
   "cell_type": "markdown",
   "metadata": {},
   "source": [
    "I2"
   ]
  },
  {
   "cell_type": "code",
   "execution_count": 14,
   "metadata": {},
   "outputs": [],
   "source": [
    "# Creating a PoolManager instance for sending requests.\n",
    "http = urllib3.PoolManager()\n",
    "# Sending a GET request and getting back response as HTTPResponse object.\n",
    "resp = http.request(\"GET\", \"https://uv-vis-spectral-atlas-mainz.org/uvvis_data/cross_sections/Halogens+mixed%20halogens/I2_JPL-2010(2011)_295K_185-700nm(rec).txt\")\n",
    "df = pd.read_csv(io.BytesIO(bytearray(bytes(resp.data))), sep='\\t',header=None)\n",
    "new_cross_section_I2=pd.DataFrame()\n",
    "new_cross_section_I2['wavelength']=df.iloc[19:-10,0].astype(float)\n",
    "new_cross_section_I2['molecular_cross_section']=df.iloc[19:-10,1].astype(float)\n",
    "new_cross_section_I2=new_cross_section_I2.set_index('wavelength')\n",
    "new_cross_section_I2['quantumn_yield']=1    #assuming to be constnat however, should change with wavelength\n"
   ]
  },
  {
   "cell_type": "markdown",
   "metadata": {},
   "source": [
    "ClNO"
   ]
  },
  {
   "cell_type": "code",
   "execution_count": 15,
   "metadata": {},
   "outputs": [],
   "source": [
    "\n",
    "# Creating a PoolManager instance for sending requests.\n",
    "http = urllib3.PoolManager()\n",
    "# Sending a GET request and getting back response as HTTPResponse object.\n",
    "resp = http.request(\"GET\", \"https://uv-vis-spectral-atlas-mainz.org/uvvis_data/cross_sections/Halogenated%20N-compounds(inorg)/ClNO_JPL-2010(2011)_298K_190-500nm(rec).txt\")\n",
    "df = pd.read_csv(io.BytesIO(bytearray(bytes(resp.data))), sep='\\t',header=None)\n",
    "new_cross_section_clno=pd.DataFrame()\n",
    "new_cross_section_clno['wavelength']=df.iloc[45:,0].astype(float)\n",
    "new_cross_section_clno['molecular_cross_section']=df.iloc[45:,1].astype(float)\n",
    "new_cross_section_clno=new_cross_section_clno.set_index('wavelength')\n",
    "new_cross_section_clno['quantumn_yield']=1    #assuming to be constnat however, should change with wavelength\n"
   ]
  },
  {
   "cell_type": "markdown",
   "metadata": {},
   "source": [
    "## NO2"
   ]
  },
  {
   "cell_type": "code",
   "execution_count": 16,
   "metadata": {},
   "outputs": [],
   "source": [
    "\n",
    "# Creating a PoolManager instance for sending requests.\n",
    "http = urllib3.PoolManager()\n",
    "# Sending a GET request and getting back response as HTTPResponse object.\n",
    "resp = http.request(\"GET\", \"https://uv-vis-spectral-atlas-mainz.org/uvvis_data/cross_sections/Nitrogen%20oxides/NO2_Davidson(1988)_298K_263-649nm.txt\")\n",
    "df = pd.read_csv(io.BytesIO(bytearray(bytes(resp.data))), sep='\\t',header=None)\n",
    "new_cross_section_NO2=pd.DataFrame()\n",
    "new_cross_section_NO2['wavelength']=df.iloc[31:,0]\n",
    "new_cross_section_NO2['molecular_cross_section']=df.iloc[31:,1]\n",
    "new_cross_section_NO2['quantumn_yield']=1    #assuming to be constnat however, should change with wavelength\n",
    "new_cross_section_NO2=new_cross_section_NO2.set_index('wavelength')\n"
   ]
  },
  {
   "cell_type": "markdown",
   "metadata": {},
   "source": [
    "## HONO"
   ]
  },
  {
   "cell_type": "code",
   "execution_count": 17,
   "metadata": {},
   "outputs": [],
   "source": [
    "\n",
    "# Creating a PoolManager instance for sending requests.\n",
    "http = urllib3.PoolManager()\n",
    "# Sending a GET request and getting back response as HTTPResponse object.\n",
    "resp = http.request(\"GET\", \"https://uv-vis-spectral-atlas-mainz.org/uvvis_data/cross_sections/Nitrogen+compounds(N,H,O)/HONO_JPL-2010(2011)_298K_184-396nm(rec).txt\")\n",
    "df = pd.read_csv(io.BytesIO(bytearray(bytes(resp.data))), sep='\\t',header=None)\n",
    "new_cross_section_HONO=pd.DataFrame()\n",
    "new_cross_section_HONO['wavelength']=df.iloc[46:,0]\n",
    "new_cross_section_HONO['molecular_cross_section']=df.iloc[46:,1]\n",
    "new_cross_section_HONO['quantumn_yield']=1    #assuming to be constnat however, should change with wavelength\n",
    "new_cross_section_HONO=new_cross_section_HONO.set_index('wavelength')\n"
   ]
  },
  {
   "cell_type": "code",
   "execution_count": 19,
   "metadata": {},
   "outputs": [
    {
     "data": {
      "application/vnd.plotly.v1+json": {
       "config": {
        "displayModeBar": true,
        "plotlyServerURL": "https://plot.ly"
       },
       "data": [
        {
         "line": {
          "width": 2
         },
         "marker": {
          "size": 3
         },
         "mode": "markers+lines",
         "name": "σ(NO3-)*10",
         "type": "scatter",
         "x": [
          290,
          291,
          292,
          293,
          294,
          295,
          296,
          297,
          298,
          299,
          300,
          301,
          302,
          303,
          304,
          305,
          306,
          307,
          308,
          309,
          310,
          311,
          312,
          313,
          314,
          315,
          316,
          317,
          318,
          319,
          320,
          321,
          322,
          323,
          324,
          325,
          326,
          327,
          328,
          329,
          330,
          331,
          332,
          333,
          334,
          335,
          336,
          337,
          338,
          339,
          340,
          341,
          342,
          343,
          344,
          345,
          346,
          347,
          348,
          349,
          350
         ],
         "y": [
          2.1335310665506856e-19,
          2.2138252464746364e-19,
          2.2902958940212556e-19,
          2.362943009190544e-19,
          2.4317665919825017e-19,
          2.4967666423971286e-19,
          2.5541196280570927e-19,
          2.6038255489623957e-19,
          2.6458844051130364e-19,
          2.680296196509015e-19,
          2.7070609231503326e-19,
          2.722355052659656e-19,
          2.7300021174143173e-19,
          2.722355052659656e-19,
          2.7070609231503326e-19,
          2.680296196509015e-19,
          2.6420608727357053e-19,
          2.592354951830403e-19,
          2.531178433793107e-19,
          2.4585313186238185e-19,
          2.3820606710771992e-19,
          2.2902958940212556e-19,
          2.1947075845879813e-19,
          2.087648678022714e-19,
          1.9805897714574462e-19,
          1.865883800137517e-19,
          1.7473542964402572e-19,
          1.6288247927429963e-19,
          1.5064717566684055e-19,
          1.3879422529711448e-19,
          1.2655892168965535e-19,
          1.1508832455766242e-19,
          1.0400008066340258e-19,
          9.329419000687586e-20,
          8.258829935034911e-20,
          7.302946840702166e-20,
          6.385299070142732e-20,
          5.582357270903227e-20,
          4.8176507954370316e-20,
          4.1294149675174555e-20,
          3.40294381582457e-20,
          2.8676492829982334e-20,
          2.4470607214918256e-20,
          2.0647074837587277e-20,
          1.7588248935722498e-20,
          1.4911776271590815e-20,
          1.2235303607459128e-20,
          1.0323537418793639e-20,
          8.794124467861249e-21,
          7.264711516928858e-21,
          6.117651803729564e-21,
          4.97059209053027e-21,
          4.205885615064075e-21,
          3.44117913959788e-21,
          3.058825901864782e-21,
          2.294119426398587e-21,
          1.911766188665489e-21,
          1.529412950932391e-21,
          1.529412950932391e-21,
          1.1470597131992935e-21,
          1.1470597131992935e-21
         ],
         "yaxis": "y"
        },
        {
         "line": {
          "width": 2
         },
         "marker": {
          "size": 3
         },
         "mode": "markers+lines",
         "name": "σ(NO2-)*10",
         "type": "scatter",
         "x": [
          290,
          291,
          292,
          293,
          294,
          295,
          296,
          297,
          298,
          299,
          300,
          301,
          302,
          303,
          304,
          305,
          306,
          307,
          308,
          309,
          310,
          311,
          312,
          313,
          314,
          315,
          316,
          317,
          318,
          319,
          320,
          321,
          322,
          323,
          324,
          325,
          326,
          327,
          328,
          329,
          330,
          331,
          332,
          333,
          334,
          335,
          336,
          337,
          338,
          339,
          340,
          341,
          342,
          343,
          344,
          345,
          346,
          347,
          348,
          349,
          350,
          351,
          352,
          353,
          354,
          355,
          356,
          357,
          358,
          359,
          360,
          361,
          362,
          363,
          364,
          365,
          366,
          367,
          368,
          369,
          370,
          371,
          372,
          373,
          374,
          375,
          376,
          377,
          378,
          379,
          380,
          381,
          382,
          383,
          384,
          385,
          386,
          387,
          388,
          389,
          390,
          391,
          392,
          393,
          394,
          395,
          396,
          397,
          398,
          399,
          400,
          401,
          402,
          403,
          404,
          405,
          406,
          407,
          408,
          409,
          410,
          411,
          412,
          413,
          414,
          415,
          416,
          417,
          418,
          419,
          420
         ],
         "y": [
          3.3608849596739295e-19,
          3.380002621560584e-19,
          3.395296751069909e-19,
          3.406767348201902e-19,
          3.414414412956563e-19,
          3.4220614777112243e-19,
          3.429708542465887e-19,
          3.4335320748432186e-19,
          3.44117913959788e-19,
          3.445002671975211e-19,
          3.452649736729872e-19,
          3.4564732691072033e-19,
          3.4679438662391966e-19,
          3.4794144633711894e-19,
          3.4947085928805143e-19,
          3.513826254767168e-19,
          3.5329439166538235e-19,
          3.5597086432951402e-19,
          3.582649837559125e-19,
          3.613238096577774e-19,
          3.6438263555964207e-19,
          3.6744146146150696e-19,
          3.7126499383883796e-19,
          3.7585323269163505e-19,
          3.8044147154443223e-19,
          3.857944168726957e-19,
          3.915297154386921e-19,
          3.9802972048015474e-19,
          4.0529443199708365e-19,
          4.1332384998947863e-19,
          4.217356212196068e-19,
          4.309120989252012e-19,
          4.408532831062617e-19,
          4.515591737627885e-19,
          4.626474176570483e-19,
          4.741180147890413e-19,
          4.867356716342334e-19,
          4.993533284794257e-19,
          5.131180450378172e-19,
          5.272651148339418e-19,
          5.417945378677995e-19,
          5.570886673771233e-19,
          5.727651501241804e-19,
          5.892063393467037e-19,
          6.060298818069599e-19,
          6.232357775049494e-19,
          6.404416732029387e-19,
          6.584122753763943e-19,
          6.756181710743838e-19,
          6.935887732478393e-19,
          7.107946689458288e-19,
          7.280005646438181e-19,
          7.448241071040745e-19,
          7.616476495643309e-19,
          7.769417790736547e-19,
          7.918535553452455e-19,
          8.0600062514137e-19,
          8.190006352242954e-19,
          8.304712323562882e-19,
          8.40794769775082e-19,
          8.49588894242943e-19,
          8.568536057598722e-19,
          8.625889043258685e-19,
          8.667947899409327e-19,
          8.690889093673311e-19,
          8.690889093673311e-19,
          8.671771431786656e-19,
          8.633536108013345e-19,
          8.583830187108045e-19,
          8.518830136693419e-19,
          8.430888892014806e-19,
          8.320006453072206e-19,
          8.178535755110962e-19,
          8.010300330508399e-19,
          7.830594308773842e-19,
          7.643241222284624e-19,
          7.436770473908751e-19,
          7.211182063646223e-19,
          6.966475991497042e-19,
          6.721769919347859e-19,
          6.477063847198677e-19,
          6.224710710294832e-19,
          5.968534041013657e-19,
          5.700886774600488e-19,
          5.417945378677995e-19,
          5.12353338562351e-19,
          4.836768457323687e-19,
          4.546179996646532e-19,
          4.2594150683467094e-19,
          3.976473672424217e-19,
          3.7050028736337165e-19,
          3.425885010088556e-19,
          3.1582377436753877e-19,
          2.898237542016881e-19,
          2.6497079374903675e-19,
          2.4126489300958466e-19,
          2.1450016636826784e-19,
          1.9347073829294746e-19,
          1.732060166930933e-19,
          1.5523541451963766e-19,
          1.414706979612462e-19,
          1.2541186197645605e-19,
          1.1011773246713215e-19,
          9.673536914647373e-20,
          8.488241877674772e-20,
          7.379417488248786e-20,
          6.385299070142732e-20,
          5.505886623356608e-20,
          4.664709500343793e-20,
          4.014708996197526e-20,
          3.40294381582457e-20,
          2.8676492829982334e-20,
          2.4470607214918256e-20,
          2.0264721599854185e-20,
          1.68235424602563e-20,
          1.4147069796124615e-20,
          1.185295036972603e-20,
          9.94118418106054e-21,
          8.029417992395052e-21,
          6.500005041462661e-21,
          5.3529453282633686e-21,
          4.588238852797174e-21,
          3.823532377330978e-21,
          3.058825901864782e-21,
          2.294119426398587e-21,
          1.911766188665489e-21,
          1.529412950932391e-21,
          1.1470597131992935e-21,
          1.1470597131992935e-21,
          7.647064754661955e-22,
          7.647064754661955e-22
         ],
         "yaxis": "y"
        },
        {
         "line": {
          "width": 2
         },
         "marker": {
          "size": 3
         },
         "mode": "markers+lines",
         "name": "σ(I2)",
         "type": "scatter",
         "x": [
          280,
          285,
          290,
          295,
          300,
          305,
          310,
          315,
          320,
          325,
          330,
          335,
          340,
          345,
          350,
          355,
          360,
          365,
          370,
          375,
          380,
          385,
          390,
          395,
          400,
          405,
          410,
          415,
          420,
          425,
          430,
          435,
          440,
          445,
          450,
          455,
          460,
          465,
          470,
          475,
          480,
          485,
          490,
          495,
          500,
          505,
          510,
          515,
          520,
          525,
          530,
          535,
          540,
          545,
          550,
          555,
          560,
          565,
          570,
          575,
          580,
          585,
          590,
          595,
          600,
          605,
          610,
          615,
          620,
          625,
          630,
          635,
          640,
          645,
          650,
          655
         ],
         "y": [
          5.44e-19,
          4.59e-19,
          3.89e-19,
          3.24e-19,
          2.74e-19,
          2.31e-19,
          1.81e-19,
          1.51e-19,
          1.22e-19,
          1.05e-19,
          7.79e-20,
          6.18e-20,
          4.71e-20,
          4.08e-20,
          2.58e-20,
          1.94e-20,
          1.24e-20,
          1.02e-20,
          6.59e-21,
          8.23e-21,
          1.14e-20,
          1.01e-20,
          9.25e-21,
          1.11e-20,
          2.93e-20,
          3.89e-20,
          4.43e-20,
          5.44e-20,
          5.96e-20,
          8.32e-20,
          1.35e-19,
          1.57e-19,
          2.03e-19,
          2.58e-19,
          3.33e-19,
          4.4e-19,
          5.71e-19,
          7.22e-19,
          8.97e-19,
          1.09e-18,
          1.31e-18,
          1.55e-18,
          1.79e-18,
          2.04e-18,
          2.28e-18,
          2.54e-18,
          2.77e-18,
          2.97e-18,
          3.09e-18,
          3.19e-18,
          3.26e-18,
          3.2e-18,
          3.06e-18,
          2.81e-18,
          2.65e-18,
          2.37e-18,
          1.91e-18,
          1.55e-18,
          1.3e-18,
          9.66e-19,
          9.27e-19,
          7.41e-19,
          6.58e-19,
          5.94e-19,
          4.74e-19,
          4.33e-19,
          4.08e-19,
          3.44e-19,
          3.05e-19,
          2.82e-19,
          2.8e-19,
          2.26e-19,
          2.36e-19,
          2.28e-19,
          2.16e-19,
          2.07e-19
         ],
         "yaxis": "y"
        },
        {
         "line": {
          "width": 2
         },
         "marker": {
          "size": 3
         },
         "mode": "markers+lines",
         "name": "σ(ClNO)",
         "type": "scatter",
         "x": [
          280,
          282,
          284,
          286,
          288,
          290,
          292,
          294,
          296,
          298,
          300,
          302,
          304,
          306,
          308,
          310,
          312,
          314,
          316,
          318,
          320,
          322,
          324,
          326,
          328,
          330,
          332,
          334,
          336,
          338,
          340,
          342,
          344,
          346,
          348,
          350,
          355,
          360,
          365,
          370,
          375,
          380,
          385,
          390,
          395,
          400,
          405,
          410,
          415,
          420,
          425,
          430,
          435,
          440,
          445,
          450,
          455,
          460,
          465,
          470,
          475,
          480,
          485,
          490,
          495,
          500
         ],
         "y": [
          1.06e-19,
          1.02e-19,
          9.99e-20,
          9.84e-20,
          9.71e-20,
          9.64e-20,
          9.63e-20,
          9.69e-20,
          9.71e-20,
          9.69e-20,
          1e-19,
          1.03e-19,
          1.05e-19,
          1.08e-19,
          1.11e-19,
          1.15e-19,
          1.19e-19,
          1.22e-19,
          1.25e-19,
          1.3e-19,
          1.34e-19,
          1.36e-19,
          1.4e-19,
          1.43e-19,
          1.46e-19,
          1.47e-19,
          1.49e-19,
          1.51e-19,
          1.53e-19,
          1.53e-19,
          1.52e-19,
          1.53e-19,
          1.51e-19,
          1.51e-19,
          1.49e-19,
          1.42e-19,
          1.36e-19,
          1.29e-19,
          1.2e-19,
          1.1e-19,
          9.95e-20,
          8.86e-20,
          7.82e-20,
          6.88e-20,
          5.97e-20,
          5.13e-20,
          4.4e-20,
          3.83e-20,
          3.38e-20,
          2.89e-20,
          2.45e-20,
          2.21e-20,
          2.2e-20,
          2.2e-20,
          2.07e-20,
          1.87e-20,
          1.79e-20,
          1.95e-20,
          2.25e-20,
          2.5e-20,
          2.61e-20,
          2.53e-20,
          2.33e-20,
          2.07e-20,
          1.78e-20,
          1.5e-20
         ],
         "yaxis": "y"
        },
        {
         "line": {
          "width": 2
         },
         "marker": {
          "size": 3
         },
         "mode": "markers+lines",
         "name": "σ(NO2)",
         "type": "scatter",
         "x": [
          279.7,
          280.2,
          280.8,
          281.3,
          281.8,
          282.3,
          282.8,
          283.3,
          283.8,
          284.4,
          284.9,
          285.4,
          285.9,
          286.4,
          286.9,
          287.4,
          287.9,
          288.5,
          289,
          289.5,
          290,
          290.5,
          291,
          291.5,
          292.1,
          292.6,
          293.1,
          293.6,
          294.1,
          294.6,
          295.1,
          295.7,
          296.2,
          296.7,
          297.2,
          297.7,
          298.2,
          298.7,
          299.3,
          299.8,
          300.3,
          300.8,
          301.3,
          301.8,
          302.3,
          302.9,
          303.4,
          303.9,
          304.4,
          304.9,
          305.4,
          305.9,
          306.5,
          307,
          307.5,
          308,
          308.5,
          309,
          309.5,
          310.1,
          310.6,
          311.1,
          311.6,
          312.1,
          312.6,
          313.1,
          313.6,
          314.2,
          314.7,
          315.2,
          315.7,
          316.2,
          316.7,
          317.2,
          317.8,
          318.3,
          318.8,
          319.3,
          319.8,
          320.3,
          320.8,
          321.4,
          321.9,
          322.4,
          322.9,
          323.4,
          323.9,
          324.4,
          325,
          325.5,
          326,
          326.5,
          327,
          327.5,
          328,
          328.6,
          329.1,
          329.6,
          330.1,
          330.6,
          331.1,
          331.6,
          332.2,
          332.7,
          333.2,
          333.7,
          334.2,
          334.7,
          335.2,
          335.7,
          336.3,
          336.8,
          337.3,
          337.8,
          338.3,
          338.8,
          339.3,
          339.9,
          340.4,
          340.9,
          341.4,
          341.9,
          342.4,
          342.9,
          343.5,
          344,
          344.5,
          345,
          345.5,
          346,
          346.5,
          347.1,
          347.6,
          348.1,
          348.6,
          349.1,
          349.6,
          350.1,
          350.7,
          351.2,
          351.7,
          352.2,
          352.7,
          353.2,
          353.7,
          354.3,
          354.8,
          355.3,
          355.8,
          356.3,
          356.8,
          357.3,
          357.8,
          358.4,
          358.9,
          359.4,
          359.9,
          360.4,
          360.9,
          361.4,
          362,
          362.5,
          363,
          363.5,
          364,
          364.5,
          365,
          365.6,
          366.1,
          366.6,
          367.1,
          367.6,
          368.1,
          368.6,
          369.2,
          369.7,
          370.2,
          370.7,
          371.2,
          371.7,
          372.2,
          372.8,
          373.3,
          373.8,
          374.3,
          374.8,
          375.3,
          375.8,
          376.4,
          376.9,
          377.4,
          377.9,
          378.4,
          378.9,
          379.4,
          380,
          380.5,
          381,
          381.5,
          382,
          382.5,
          383,
          383.5,
          384.1,
          384.6,
          385.1,
          385.6,
          386.1,
          386.6,
          387.1,
          387.7,
          388.2,
          388.7,
          389.2,
          389.7,
          390.2,
          390.7,
          391.3,
          391.8,
          392.3,
          392.8,
          393.3,
          393.8,
          394.3,
          394.9,
          395.4,
          395.9,
          396.4,
          396.9,
          397.4,
          397.9,
          398.5,
          399,
          399.5,
          400,
          400.5,
          401,
          401.5,
          402.1,
          402.6,
          403.1,
          403.6,
          404.1,
          404.6,
          405.1,
          405.6,
          406.2,
          406.7,
          407.2,
          407.7,
          408.2,
          408.7,
          409.2,
          409.8,
          410.3,
          410.8,
          411.3,
          411.8,
          412.3,
          412.8,
          413.4,
          413.9,
          414.4,
          414.9,
          415.4,
          415.9,
          416.4,
          417,
          417.5,
          418,
          418.5,
          419,
          419.5,
          420,
          420.6,
          421.1,
          421.6,
          422.1,
          422.6,
          423.1,
          423.6,
          424.2,
          424.7,
          425.2,
          425.7,
          426.2,
          426.7,
          427.2,
          427.7,
          428.3,
          428.8,
          429.3,
          429.8,
          430.3,
          430.8,
          431.3,
          431.9,
          432.4,
          432.9,
          433.4,
          433.9,
          434.4,
          434.9,
          435.5,
          436,
          436.5,
          437,
          437.5,
          438,
          438.5,
          439.1,
          439.6,
          440.1,
          440.6,
          441.1,
          441.6,
          442.1,
          442.7,
          443.2,
          443.7,
          444.2,
          444.7,
          445.2,
          445.7,
          446.3,
          446.8,
          447.3,
          447.8,
          448.3,
          448.8,
          449.3,
          449.9,
          450.4,
          450.9,
          451.4,
          451.9,
          452.4,
          452.9,
          453.4,
          454,
          454.5,
          455,
          455.5,
          456,
          456.5,
          457,
          457.6,
          458.1,
          458.6,
          459.1,
          459.6,
          460.1,
          460.6,
          461.2,
          461.7,
          462.2,
          462.7,
          463.2,
          463.7,
          464.2,
          464.8,
          465.3,
          465.8,
          466.3,
          466.8,
          467.3,
          467.8,
          468.4,
          468.9,
          469.4,
          469.9,
          470.4,
          470.9,
          471.4,
          472,
          472.5,
          473,
          473.5,
          474,
          474.5,
          475,
          475.5,
          476.1,
          476.6,
          477.1,
          477.6,
          478.1,
          478.6,
          479.1,
          479.7,
          480.2,
          480.7,
          481.2,
          481.7,
          482.2,
          482.7,
          483.3,
          483.8,
          484.3,
          484.8,
          485.3,
          485.8,
          486.3,
          486.9,
          487.4,
          487.9,
          488.4,
          488.9,
          489.4,
          489.9,
          490.5,
          491,
          491.5,
          492,
          492.5,
          493,
          493.5,
          494.1,
          494.6,
          495.1,
          495.6,
          496.1,
          496.6,
          497.1,
          497.6,
          498.2,
          498.7,
          499.2,
          499.7,
          500.2,
          500.7,
          501.2,
          501.8,
          502.3,
          502.8,
          503.3,
          503.8,
          504.3,
          504.8,
          505.4,
          505.9,
          506.4,
          506.9,
          507.4,
          507.9,
          508.4,
          509,
          509.5,
          510,
          510.5,
          511,
          511.5,
          512,
          512.6,
          513.1,
          513.6,
          514.1,
          514.6,
          515.1,
          515.6,
          516.2,
          516.7,
          517.2,
          517.7,
          518.2,
          518.7,
          519.2,
          519.8,
          520.3,
          520.8,
          521.3,
          521.8,
          522.3,
          522.8,
          523.3,
          523.9,
          524.4,
          524.9,
          525.4,
          525.9,
          526.4,
          526.9,
          527.5,
          528,
          528.5,
          529,
          529.5,
          530,
          530.5,
          531.1,
          531.6,
          532.1,
          532.6,
          533.1,
          533.6,
          534.1,
          534.7,
          535.2,
          535.7,
          536.2,
          536.7,
          537.2,
          537.7,
          538.3,
          538.8,
          539.3,
          539.8,
          540.3,
          540.8,
          541.3,
          541.9,
          542.4,
          542.9,
          543.4,
          543.9,
          544.4,
          544.9,
          545.4,
          546,
          546.5,
          547,
          547.5,
          548,
          548.5,
          549,
          549.6,
          550.1,
          550.6,
          551.1,
          551.6,
          552.1,
          552.6,
          553.2,
          553.7,
          554.2,
          554.7,
          555.2,
          555.7,
          556.2,
          556.8,
          557.3,
          557.8,
          558.3,
          558.8,
          559.3,
          559.8,
          560.4,
          560.9,
          561.4,
          561.9,
          562.4,
          562.9,
          563.4,
          564,
          564.5,
          565,
          565.5,
          566,
          566.5,
          567,
          567.5,
          568.1,
          568.6,
          569.1,
          569.6,
          570.1,
          570.6,
          571.1,
          571.7,
          572.2,
          572.7,
          573.2,
          573.7,
          574.2,
          574.7,
          575.3,
          575.8,
          576.3,
          576.8,
          577.3,
          577.8,
          578.3,
          578.9,
          579.4,
          579.9,
          580.4,
          580.9,
          581.4,
          581.9,
          582.5,
          583,
          583.5,
          584,
          584.5,
          585,
          585.5,
          586.1,
          586.6,
          587.1,
          587.6,
          588.1,
          588.6,
          589.1,
          589.7,
          590.2,
          590.7,
          591.2,
          591.7,
          592.2,
          592.7,
          593.2,
          593.8,
          594.3,
          594.8,
          595.3,
          595.8,
          596.3,
          596.8,
          597.4,
          597.9,
          598.4,
          598.9,
          599.4,
          599.9,
          600.4,
          601,
          601.5,
          602,
          602.5,
          603,
          603.5,
          604,
          604.6,
          605.1,
          605.6,
          606.1,
          606.6,
          607.1,
          607.6,
          608.2,
          608.7,
          609.2,
          609.7,
          610.2,
          610.7,
          611.2,
          611.8,
          612.3,
          612.8,
          613.3,
          613.8,
          614.3,
          614.8,
          615.3,
          615.9,
          616.4,
          616.9,
          617.4,
          617.9,
          618.4,
          618.9,
          619.5,
          620,
          620.5,
          621,
          621.5,
          622,
          622.5,
          623.1,
          623.6,
          624.1,
          624.6,
          625.1,
          625.6,
          626.1,
          626.7,
          627.2,
          627.7,
          628.2,
          628.7,
          629.2,
          629.7,
          630.3,
          630.8,
          631.3,
          631.8,
          632.3,
          632.8,
          633.3,
          633.9,
          634.4,
          634.9,
          635.4,
          635.9,
          636.4,
          636.9,
          637.4,
          638,
          638.5,
          639,
          639.5,
          640,
          640.5,
          641,
          641.6,
          642.1,
          642.6,
          643.1,
          643.6,
          644.1,
          644.6,
          645.2,
          645.7,
          646.2,
          646.7,
          647.2,
          647.7,
          648.2,
          648.8
         ],
         "y": [
          6.190000000000001e-20,
          6.148000000000001e-20,
          6.457000000000001e-20,
          6.308e-20,
          6.521e-20,
          6.482000000000001e-20,
          6.850000000000001e-20,
          6.884e-20,
          7.175000000000001e-20,
          7.258e-20,
          7.652000000000001e-20,
          7.615000000000001e-20,
          7.834000000000001e-20,
          7.734000000000001e-20,
          8.023e-20,
          8.009e-20,
          8.244000000000001e-20,
          8.283000000000001e-20,
          8.685000000000001e-20,
          8.797e-20,
          9.137000000000001e-20,
          9.263000000000001e-20,
          9.682000000000001e-20,
          9.755000000000001e-20,
          9.973e-20,
          9.936e-20,
          1.016e-19,
          1.016e-19,
          1.044e-19,
          1.051e-19,
          1.09e-19,
          1.106e-19,
          1.164e-19,
          1.2e-19,
          1.243e-19,
          1.238e-19,
          1.248e-19,
          1.249e-19,
          1.277e-19,
          1.271e-19,
          1.296e-19,
          1.311e-19,
          1.369e-19,
          1.402e-19,
          1.456e-19,
          1.481e-19,
          1.516e-19,
          1.522e-19,
          1.551e-19,
          1.558e-19,
          1.587e-19,
          1.593e-19,
          1.636e-19,
          1.65e-19,
          1.688e-19,
          1.706e-19,
          1.763e-19,
          1.794e-19,
          1.833e-19,
          1.843e-19,
          1.887e-19,
          1.919e-19,
          1.972e-19,
          1.98e-19,
          2e-19,
          2.002e-19,
          2.049e-19,
          2.072e-19,
          2.122e-19,
          2.13e-19,
          2.162e-19,
          2.194e-19,
          2.261e-19,
          2.301e-19,
          2.346e-19,
          2.342e-19,
          2.382e-19,
          2.405e-19,
          2.464e-19,
          2.47e-19,
          2.489e-19,
          2.512e-19,
          2.577e-19,
          2.594e-19,
          2.636e-19,
          2.637e-19,
          2.69e-19,
          2.725e-19,
          2.787e-19,
          2.814e-19,
          2.858e-19,
          2.863e-19,
          2.914e-19,
          2.91e-19,
          2.966e-19,
          2.987e-19,
          3.045e-19,
          3.05e-19,
          3.082e-19,
          3.081e-19,
          3.147e-19,
          3.207e-19,
          3.32e-19,
          3.335e-19,
          3.339e-19,
          3.301e-19,
          3.343e-19,
          3.355e-19,
          3.41e-19,
          3.416e-19,
          3.458e-19,
          3.44e-19,
          3.512e-19,
          3.589e-19,
          3.703e-19,
          3.712e-19,
          3.759e-19,
          3.775e-19,
          3.861e-19,
          3.853e-19,
          3.831e-19,
          3.751e-19,
          3.763e-19,
          3.759e-19,
          3.832e-19,
          3.874e-19,
          3.957e-19,
          3.993e-19,
          4.092e-19,
          4.127e-19,
          4.206e-19,
          4.24e-19,
          4.367e-19,
          4.357e-19,
          4.31e-19,
          4.203e-19,
          4.217e-19,
          4.231e-19,
          4.313e-19,
          4.292e-19,
          4.298e-19,
          4.253e-19,
          4.34e-19,
          4.459e-19,
          4.64e-19,
          4.684e-19,
          4.678e-19,
          4.62e-19,
          4.698e-19,
          4.771e-19,
          4.87e-19,
          4.834e-19,
          4.788e-19,
          4.676e-19,
          4.676e-19,
          4.667e-19,
          4.768e-19,
          4.823e-19,
          4.915e-19,
          4.892e-19,
          4.932e-19,
          4.906e-19,
          4.961e-19,
          4.973e-19,
          5.102e-19,
          5.196e-19,
          5.271e-19,
          5.18e-19,
          5.16e-19,
          5.128e-19,
          5.199e-19,
          5.178e-19,
          5.199e-19,
          5.174e-19,
          5.2e-19,
          5.159e-19,
          5.217e-19,
          5.267e-19,
          5.402e-19,
          5.449e-19,
          5.478e-19,
          5.387e-19,
          5.367e-19,
          5.313e-19,
          5.385e-19,
          5.465e-19,
          5.639e-19,
          5.655e-19,
          5.616e-19,
          5.465e-19,
          5.417e-19,
          5.373e-19,
          5.49e-19,
          5.6e-19,
          5.746e-19,
          5.729e-19,
          5.737e-19,
          5.65e-19,
          5.62e-19,
          5.548e-19,
          5.577e-19,
          5.61e-19,
          5.721e-19,
          5.743e-19,
          5.783e-19,
          5.722e-19,
          5.716e-19,
          5.673e-19,
          5.743e-19,
          5.763e-19,
          5.818e-19,
          5.822e-19,
          5.89e-19,
          5.867e-19,
          5.901e-19,
          5.875e-19,
          5.953e-19,
          5.959e-19,
          5.944e-19,
          5.816e-19,
          5.747e-19,
          5.665e-19,
          5.709e-19,
          5.764e-19,
          5.884e-19,
          5.892e-19,
          5.865e-19,
          5.784e-19,
          5.863e-19,
          5.972e-19,
          6.042e-19,
          5.984e-19,
          6.048e-19,
          6.11e-19,
          6.175e-19,
          6.117e-19,
          6.026e-19,
          5.843e-19,
          5.738e-19,
          5.673e-19,
          5.755e-19,
          5.823e-19,
          5.934e-19,
          5.919e-19,
          5.84e-19,
          5.667e-19,
          5.569e-19,
          5.556e-19,
          5.763e-19,
          5.956e-19,
          6.088e-19,
          6.065e-19,
          6.078e-19,
          6.047e-19,
          5.976e-19,
          5.806e-19,
          5.741e-19,
          5.79e-19,
          6e-19,
          6.092e-19,
          6.034e-19,
          5.849e-19,
          5.693e-19,
          5.498e-19,
          5.391e-19,
          5.338e-19,
          5.41e-19,
          5.473e-19,
          5.571e-19,
          5.6e-19,
          5.699e-19,
          5.758e-19,
          5.82e-19,
          5.814e-19,
          5.829e-19,
          5.823e-19,
          5.846e-19,
          5.809e-19,
          5.84e-19,
          5.848e-19,
          5.858e-19,
          5.727e-19,
          5.527e-19,
          5.265e-19,
          5.145e-19,
          5.176e-19,
          5.367e-19,
          5.465e-19,
          5.445e-19,
          5.254e-19,
          5.103e-19,
          5.092e-19,
          5.262e-19,
          5.382e-19,
          5.378e-19,
          5.21e-19,
          5.102e-19,
          5.113e-19,
          5.268e-19,
          5.398e-19,
          5.573e-19,
          5.662e-19,
          5.635e-19,
          5.435e-19,
          5.19e-19,
          4.896e-19,
          4.736e-19,
          4.768e-19,
          5.065e-19,
          5.314e-19,
          5.354e-19,
          5.105e-19,
          4.798e-19,
          4.505e-19,
          4.349e-19,
          4.301e-19,
          4.373e-19,
          4.477e-19,
          4.684e-19,
          4.915e-19,
          5.094e-19,
          5.059e-19,
          4.91e-19,
          4.699e-19,
          4.686e-19,
          4.876e-19,
          5.142e-19,
          5.146e-19,
          4.942e-19,
          4.657e-19,
          4.511e-19,
          4.445e-19,
          4.436e-19,
          4.408e-19,
          4.446e-19,
          4.434e-19,
          4.396e-19,
          4.276e-19,
          4.214e-19,
          4.205e-19,
          4.219e-19,
          4.172e-19,
          4.107e-19,
          4.041e-19,
          4.129e-19,
          4.27e-19,
          4.362e-19,
          4.299e-19,
          4.239e-19,
          4.224e-19,
          4.284e-19,
          4.258e-19,
          4.178e-19,
          4.072e-19,
          4.122e-19,
          4.278e-19,
          4.413e-19,
          4.343e-19,
          4.182e-19,
          3.916e-19,
          3.677e-19,
          3.532e-19,
          3.61e-19,
          3.738e-19,
          3.82e-19,
          3.759e-19,
          3.641e-19,
          3.489e-19,
          3.402e-19,
          3.343e-19,
          3.345e-19,
          3.317e-19,
          3.347e-19,
          3.363e-19,
          3.431e-19,
          3.556e-19,
          3.791e-19,
          3.949e-19,
          4.016e-19,
          3.92e-19,
          3.763e-19,
          3.567e-19,
          3.432e-19,
          3.324e-19,
          3.274e-19,
          3.236e-19,
          3.279e-19,
          3.365e-19,
          3.441e-19,
          3.4e-19,
          3.34e-19,
          3.257e-19,
          3.143e-19,
          2.971e-19,
          2.815e-19,
          2.684e-19,
          2.65e-19,
          2.66e-19,
          2.71e-19,
          2.729e-19,
          2.742e-19,
          2.714e-19,
          2.714e-19,
          2.768e-19,
          2.947e-19,
          3.167e-19,
          3.3e-19,
          3.247e-19,
          3.091e-19,
          2.873e-19,
          2.699e-19,
          2.593e-19,
          2.571e-19,
          2.576e-19,
          2.646e-19,
          2.732e-19,
          2.835e-19,
          2.882e-19,
          2.892e-19,
          2.861e-19,
          2.819e-19,
          2.705e-19,
          2.549e-19,
          2.36e-19,
          2.201e-19,
          2.059e-19,
          1.961e-19,
          1.894e-19,
          1.885e-19,
          1.91e-19,
          1.975e-19,
          2.07e-19,
          2.201e-19,
          2.274e-19,
          2.293e-19,
          2.324e-19,
          2.422e-19,
          2.471e-19,
          2.428e-19,
          2.323e-19,
          2.226e-19,
          2.129e-19,
          2.078e-19,
          2.068e-19,
          2.125e-19,
          2.198e-19,
          2.271e-19,
          2.286e-19,
          2.273e-19,
          2.226e-19,
          2.187e-19,
          2.148e-19,
          2.097e-19,
          1.989e-19,
          1.891e-19,
          1.797e-19,
          1.723e-19,
          1.653e-19,
          1.61e-19,
          1.562e-19,
          1.524e-19,
          1.499e-19,
          1.535e-19,
          1.608e-19,
          1.672e-19,
          1.697e-19,
          1.704e-19,
          1.669e-19,
          1.615e-19,
          1.549e-19,
          1.515e-19,
          1.498e-19,
          1.505e-19,
          1.505e-19,
          1.541e-19,
          1.625e-19,
          1.742e-19,
          1.817e-19,
          1.847e-19,
          1.812e-19,
          1.749e-19,
          1.682e-19,
          1.635e-19,
          1.574e-19,
          1.521e-19,
          1.473e-19,
          1.464e-19,
          1.455e-19,
          1.451e-19,
          1.441e-19,
          1.444e-19,
          1.423e-19,
          1.38e-19,
          1.311e-19,
          1.246e-19,
          1.164e-19,
          1.089e-19,
          1.029e-19,
          1.002e-19,
          9.839000000000001e-20,
          9.887e-20,
          1.017e-19,
          1.074e-19,
          1.111e-19,
          1.115e-19,
          1.069e-19,
          1.026e-19,
          1.012e-19,
          1.059e-19,
          1.13e-19,
          1.203e-19,
          1.243e-19,
          1.253e-19,
          1.23e-19,
          1.223e-19,
          1.227e-19,
          1.221e-19,
          1.173e-19,
          1.135e-19,
          1.126e-19,
          1.149e-19,
          1.159e-19,
          1.169e-19,
          1.157e-19,
          1.124e-19,
          1.066e-19,
          1.019e-19,
          9.705000000000001e-20,
          9.464000000000001e-20,
          9.392000000000001e-20,
          9.571e-20,
          9.626000000000001e-20,
          9.474000000000001e-20,
          9.04e-20,
          8.558e-20,
          7.976e-20,
          7.516000000000001e-20,
          7.16e-20,
          7.047e-20,
          6.918e-20,
          6.863e-20,
          6.726000000000001e-20,
          6.546000000000001e-20,
          6.324e-20,
          6.273e-20,
          6.322e-20,
          6.537e-20,
          6.752e-20,
          7.022e-20,
          7.3e-20,
          7.828e-20,
          8.408e-20,
          8.939e-20,
          9.153000000000001e-20,
          9.064000000000001e-20,
          8.516e-20,
          7.799000000000001e-20,
          7.132e-20,
          6.886e-20,
          6.936000000000001e-20,
          7.204e-20,
          7.254000000000001e-20,
          7.270000000000001e-20,
          7.286e-20,
          7.549000000000001e-20,
          7.830000000000001e-20,
          8.102e-20,
          8.103000000000001e-20,
          7.947000000000001e-20,
          7.478e-20,
          7.003e-20,
          6.436000000000001e-20,
          5.968000000000001e-20,
          5.494e-20,
          5.1740000000000004e-20,
          4.804e-20,
          4.54e-20,
          4.3090000000000005e-20,
          4.2740000000000006e-20,
          4.3320000000000003e-20,
          4.581e-20,
          4.81e-20,
          5.023e-20,
          5.0500000000000003e-20,
          4.9800000000000004e-20,
          4.719e-20,
          4.4890000000000005e-20,
          4.2420000000000004e-20,
          4.126e-20,
          4.043e-20,
          4.119e-20,
          4.243e-20,
          4.5150000000000006e-20,
          4.7670000000000003e-20,
          5.011e-20,
          5.0600000000000007e-20,
          5.0360000000000003e-20,
          4.851e-20,
          4.7100000000000005e-20,
          4.512e-20,
          4.4530000000000006e-20,
          4.479e-20,
          4.7120000000000003e-20,
          4.9240000000000005e-20,
          5.175e-20,
          5.2810000000000007e-20,
          5.540000000000001e-20,
          5.709e-20,
          5.829e-20,
          5.638000000000001e-20,
          5.308000000000001e-20,
          4.7800000000000004e-20,
          4.3580000000000005e-20,
          3.9290000000000006e-20,
          3.726e-20,
          3.569e-20,
          3.546e-20,
          3.5e-20,
          3.554e-20,
          3.582e-20,
          3.6960000000000004e-20,
          3.7630000000000006e-20,
          3.927e-20,
          3.9780000000000005e-20,
          4.0270000000000004e-20,
          3.9290000000000006e-20,
          3.8130000000000004e-20,
          3.547e-20,
          3.27e-20,
          2.906e-20,
          2.6960000000000003e-20,
          2.502e-20,
          2.4490000000000002e-20,
          2.3930000000000002e-20,
          2.4140000000000002e-20,
          2.3800000000000002e-20,
          2.4140000000000002e-20,
          2.3930000000000002e-20,
          2.4540000000000003e-20,
          2.45e-20,
          2.4820000000000003e-20,
          2.4470000000000003e-20,
          2.5400000000000004e-20,
          2.6540000000000004e-20,
          2.9650000000000003e-20,
          3.2540000000000004e-20,
          3.6270000000000004e-20,
          3.7510000000000004e-20,
          3.6940000000000006e-20,
          3.463e-20,
          3.362e-20,
          3.2110000000000006e-20,
          3.2180000000000005e-20,
          3.237e-20,
          3.429e-20,
          3.4470000000000004e-20,
          3.389e-20,
          3.098e-20,
          2.962e-20,
          2.79e-20,
          2.849e-20,
          2.7490000000000005e-20,
          2.7350000000000005e-20,
          2.4660000000000002e-20,
          2.4730000000000002e-20,
          2.2160000000000003e-20,
          2.364e-20,
          2.1580000000000003e-20,
          2.257e-20,
          1.933e-20,
          2.1380000000000002e-20,
          1.9340000000000002e-20,
          2.0550000000000002e-20,
          1.7890000000000002e-20,
          2.0280000000000002e-20,
          1.7930000000000002e-20,
          1.936e-20,
          1.629e-20,
          1.805e-20,
          1.652e-20,
          1.8720000000000002e-20,
          1.5240000000000002e-20,
          1.78e-20,
          1.5370000000000002e-20,
          1.743e-20,
          1.394e-20,
          1.6920000000000003e-20,
          1.4230000000000002e-20,
          1.687e-20,
          1.349e-20,
          1.642e-20,
          1.3220000000000002e-20,
          1.6370000000000002e-20,
          1.2260000000000001e-20,
          1.5790000000000002e-20,
          1.3050000000000001e-20,
          1.5960000000000002e-20,
          1.2150000000000002e-20,
          1.566e-20,
          1.2640000000000001e-20,
          1.576e-20,
          1.192e-20,
          1.539e-20,
          1.2240000000000001e-20,
          1.543e-20,
          1.1600000000000001e-20,
          1.5340000000000002e-20,
          1.2470000000000001e-20,
          1.531e-20,
          1.201e-20,
          1.501e-20,
          1.1930000000000001e-20,
          1.4960000000000002e-20,
          1.1670000000000001e-20,
          1.5410000000000002e-20,
          1.237e-20,
          1.48e-20,
          1.1650000000000002e-20,
          1.5e-20
         ],
         "yaxis": "y"
        },
        {
         "line": {
          "width": 2
         },
         "marker": {
          "size": 3
         },
         "mode": "markers+lines",
         "name": "σ(HONO)",
         "type": "scatter",
         "x": [
          274,
          296,
          297,
          298,
          299,
          300,
          301,
          302,
          303,
          304,
          305,
          306,
          307,
          308,
          309,
          310,
          311,
          312,
          313,
          314,
          315,
          316,
          317,
          318,
          319,
          320,
          321,
          322,
          323,
          324,
          325,
          326,
          326.5,
          327,
          327.5,
          328,
          328.5,
          329,
          329.5,
          330,
          330.5,
          331,
          331.5,
          332,
          332.5,
          333,
          333.5,
          334,
          334.5,
          335,
          335.5,
          336,
          336.5,
          337,
          337.5,
          338,
          338.5,
          339,
          339.5,
          340,
          340.5,
          341,
          341.5,
          342,
          342.5,
          343,
          343.5,
          344,
          344.5,
          345,
          345.5,
          346,
          346.5,
          347,
          347.5,
          348,
          348.5,
          349,
          349.5,
          350,
          350.5,
          351,
          351.5,
          352,
          352.5,
          353,
          353.5,
          354,
          354.5,
          355,
          355.5,
          356,
          356.5,
          357,
          357.5,
          358,
          358.5,
          359,
          359.5,
          360,
          360.5,
          361,
          361.5,
          362,
          362.5,
          363,
          363.5,
          364,
          364.5,
          365,
          365.5,
          366,
          366.5,
          367,
          367.5,
          368,
          368.5,
          369,
          369.5,
          370,
          371,
          372,
          373,
          374,
          375,
          376,
          377,
          378,
          379,
          380,
          381,
          382,
          383,
          384,
          385,
          386,
          387,
          388,
          389,
          390,
          391,
          392,
          393,
          394,
          395,
          396
         ],
         "y": [
          2.5e-20,
          3.2600000000000002e-21,
          5.65e-21,
          5.170000000000001e-21,
          4.290000000000001e-21,
          6.170000000000001e-21,
          6.9e-21,
          5.790000000000001e-21,
          9.25e-21,
          1.04e-20,
          1.57e-20,
          1.29e-20,
          9.16e-21,
          1.45e-20,
          2.01e-20,
          1.51e-20,
          2.07e-20,
          2.42e-20,
          2.25e-20,
          3.35e-20,
          2.54e-20,
          1.61e-20,
          3.21e-20,
          4.49e-20,
          3.19e-20,
          4.66e-20,
          5.96e-20,
          4.05e-20,
          4.56e-20,
          5.89e-20,
          4.05e-20,
          2.65e-20,
          3.55e-20,
          6.44e-20,
          1.026e-19,
          9.22e-20,
          6.38e-20,
          5.2e-20,
          6.12e-20,
          9.92e-20,
          1.506e-19,
          1.432e-19,
          9.88e-20,
          6.94e-20,
          6e-20,
          6.31e-20,
          7.11e-20,
          8.35e-20,
          8.37e-20,
          7.71e-20,
          6.55e-20,
          5.33e-20,
          4.36e-20,
          4.23e-20,
          5.13e-20,
          9.38e-20,
          1.652e-19,
          1.432e-19,
          9.96e-20,
          7.79e-20,
          8.51e-20,
          1.613e-19,
          3.152e-19,
          2.94e-19,
          1.847e-19,
          1.143e-19,
          8.29e-20,
          7.59e-20,
          8.18e-20,
          8.77e-20,
          9.1e-20,
          9.64e-20,
          8.87e-20,
          7.8e-20,
          7.06e-20,
          6.63e-20,
          6.26e-20,
          6e-20,
          6.47e-20,
          9.06e-20,
          1.495e-19,
          1.694e-19,
          1.407e-19,
          1.242e-19,
          1.281e-19,
          1.634e-19,
          2.849e-19,
          4.873e-19,
          4.434e-19,
          2.764e-19,
          1.64e-19,
          1.113e-19,
          9.35e-20,
          9.45e-20,
          1.008e-19,
          9.84e-20,
          9.02e-20,
          8.37e-20,
          7.67e-20,
          6.87e-20,
          6.32e-20,
          6.05e-20,
          5.95e-20,
          5.98e-20,
          6.35e-20,
          7.39e-20,
          9.22e-20,
          1.149e-19,
          1.271e-19,
          1.282e-19,
          1.319e-19,
          1.484e-19,
          1.843e-19,
          2.508e-19,
          3.518e-19,
          4.356e-19,
          4.137e-19,
          3.145e-19,
          2.172e-19,
          1.505e-19,
          9.49e-20,
          7.96e-20,
          6.3e-20,
          4.59e-20,
          3.55e-20,
          3.36e-20,
          3.66e-20,
          4.33e-20,
          5.66e-20,
          7.21e-20,
          9.13e-20,
          1.244e-19,
          1.703e-19,
          1.947e-19,
          1.609e-19,
          1.052e-19,
          6.59e-20,
          4.3e-20,
          2.81e-20,
          1.71e-20,
          9.92e-21,
          7.31e-21,
          5.97e-21,
          5.28e-21,
          4.03e-21,
          2.3700000000000003e-21
         ],
         "yaxis": "y"
        },
        {
         "line": {
          "dash": "dot",
          "width": 5
         },
         "marker": {
          "size": 3
         },
         "mode": "markers+lines",
         "name": "Flux Yulia UVA 7 lamps old box",
         "type": "scatter",
         "x": [
          280,
          281,
          282,
          283,
          284,
          285,
          286,
          287,
          288,
          289,
          290,
          291,
          292,
          293,
          294,
          295,
          296,
          297,
          298,
          299,
          300,
          301,
          302,
          303,
          304,
          305,
          306,
          307,
          308,
          309,
          310,
          311,
          312,
          313,
          314,
          315,
          316,
          317,
          318,
          319,
          320,
          321,
          322,
          323,
          324,
          325,
          326,
          327,
          328,
          329,
          330,
          331,
          332,
          333,
          334,
          335,
          336,
          337,
          338,
          339,
          340,
          341,
          342,
          343,
          344,
          345,
          346,
          347,
          348,
          349,
          350,
          351,
          352,
          353,
          354,
          355,
          356,
          357,
          358,
          359,
          360,
          361,
          362,
          363,
          364,
          365,
          366,
          367,
          368,
          369,
          370,
          371,
          372,
          373,
          374,
          375,
          376,
          377,
          378,
          379,
          380,
          381,
          382,
          383,
          384,
          385,
          386,
          387,
          388,
          389,
          390,
          391,
          392,
          393,
          394,
          395,
          396,
          397,
          398,
          399,
          400,
          401,
          402,
          403,
          404,
          405,
          406,
          407,
          408,
          409,
          410,
          411,
          412,
          413,
          414,
          415,
          416,
          417,
          418,
          419,
          420,
          421,
          422,
          423,
          424,
          425,
          426,
          427,
          428,
          429,
          430,
          431,
          432,
          433,
          434,
          435,
          436,
          437,
          438,
          439,
          440,
          441,
          442,
          443,
          444,
          445,
          446,
          447,
          448,
          449,
          450,
          451,
          452,
          453,
          454,
          455,
          456,
          457,
          458,
          459,
          460,
          461,
          462,
          463,
          464,
          465,
          466,
          467,
          468,
          469,
          470,
          471,
          472,
          473,
          474,
          475,
          476,
          477,
          478,
          479,
          480,
          481,
          482,
          483,
          484,
          485,
          486,
          487,
          488,
          489,
          490,
          491,
          492,
          493,
          494,
          495,
          496,
          497,
          498,
          499,
          500,
          501,
          502,
          503,
          504,
          505,
          506,
          507,
          508,
          509,
          510,
          511,
          512,
          513,
          514,
          515,
          516,
          517,
          518,
          519,
          520,
          521,
          522,
          523,
          524,
          525,
          526,
          527,
          528,
          529,
          530,
          531,
          532,
          533,
          534,
          535,
          536,
          537,
          538,
          539,
          540,
          541,
          542,
          543,
          544,
          545,
          546,
          547,
          548,
          549,
          550,
          552,
          554,
          556,
          558,
          560,
          562,
          564,
          566,
          568,
          570,
          572,
          574,
          576,
          578,
          580,
          582,
          584,
          586,
          588,
          590,
          592,
          594,
          596,
          598,
          600,
          602,
          604,
          606,
          608,
          610,
          612,
          614,
          616,
          618,
          620
         ],
         "y": [
          -365400000,
          -375200000,
          108500000,
          -153800000,
          -356100000,
          -206300000,
          -73530000,
          -374300000,
          -171600000,
          11030000000,
          3235000000,
          1708000000,
          6220000000,
          6620000000,
          6618000000,
          12250000000,
          181400000000,
          326600000000,
          50110000000,
          79950000000,
          116500000000,
          179300000000,
          1246000000000,
          458700000000,
          513900000000,
          711200000000,
          969800000000,
          1284000000000,
          1831000000000,
          2388000000000,
          3150000000000,
          4046000000000,
          12210000000000,
          32060000000000,
          8706000000000,
          10600000000000,
          12980000000000,
          15230000000000,
          19610000000000,
          23290000000000,
          27900000000000,
          33710000000000,
          39950000000000,
          47170000000000,
          55700000000000,
          64150000000000,
          73330000000000,
          85920000000000,
          96620000000000,
          108500000000000,
          119400000000000,
          136800000000000,
          153000000000000,
          171700000000000,
          198000000000000,
          203800000000000,
          224600000000000,
          240600000000000,
          256400000000000,
          279000000000000,
          299000000000000,
          321400000000000,
          337900000000000,
          351300000000000,
          372400000000000,
          392100000000000,
          399200000000000,
          419100000000000,
          430600000000000,
          444400000000000,
          449200000000000,
          465300000000000,
          468200000000000,
          471800000000000,
          474400000000000,
          475800000000000,
          474400000000000,
          473500000000000,
          470700000000000,
          466200000000000,
          456600000000000,
          452900000000000,
          440600000000000,
          429100000000000,
          421100000000000,
          621400000000000,
          450700000000000,
          376900000000000,
          359600000000000,
          343700000000000,
          327800000000000,
          311500000000000,
          294400000000000,
          278500000000000,
          262400000000000,
          245200000000000,
          230300000000000,
          216800000000000,
          202400000000000,
          187700000000000,
          174700000000000,
          162000000000000,
          152000000000000,
          139800000000000,
          131500000000000,
          121800000000000,
          112500000000000,
          104200000000000,
          96730000000000,
          90210000000000,
          82980000000000,
          75900000000000,
          69310000000000,
          63030000000000,
          58370000000000,
          53440000000000,
          48720000000000,
          44950000000000,
          41110000000000,
          37310000000000,
          33930000000000,
          31370000000000,
          28380000000000,
          26140000000000,
          302500000000000,
          390900000000000,
          20070000000000,
          28470000000000,
          52210000000000,
          15080000000000,
          13880000000000,
          13020000000000,
          11590000000000,
          10720000000000,
          9843000000000,
          9019000000000,
          8301000000000,
          7672000000000,
          7140000000000,
          6640000000000,
          6147000000000,
          5651000000000,
          5347000000000,
          4912000000000,
          4612000000000,
          4336000000000,
          4029000000000,
          3765000000000,
          3555000000000,
          3312000000000,
          3138000000000,
          2912000000000,
          2847000000000,
          3101000000000,
          12370000000000,
          291400000000000,
          1115000000000000,
          2846000000000,
          2089000000000,
          1959000000000,
          1918000000000,
          1851000000000,
          1774000000000,
          1703000000000,
          1649000000000,
          1566000000000,
          1522000000000,
          1478000000000,
          1450000000000,
          1402000000000,
          1371000000000,
          1288000000000,
          1291000000000,
          1218000000000,
          1230000000000,
          1200000000000,
          1152000000000,
          1153000000000,
          1116000000000,
          1094000000000,
          1065000000000,
          1040000000000,
          1010000000000,
          989600000000,
          973000000000,
          943700000000,
          930600000000,
          921800000000,
          914200000000,
          849600000000,
          863200000000,
          861800000000,
          842700000000,
          800700000000,
          803000000000,
          759200000000,
          764900000000,
          756500000000,
          729300000000,
          737400000000,
          705000000000,
          721700000000,
          753700000000,
          765100000000,
          792700000000,
          877800000000,
          1078000000000,
          899400000000,
          887900000000,
          795700000000,
          899800000000,
          4522000000000,
          4453000000000,
          749200000000,
          704600000000,
          647500000000,
          653200000000,
          660200000000,
          617800000000,
          569400000000,
          575000000000,
          537100000000,
          566300000000,
          518800000000,
          477600000000,
          466300000000,
          466200000000,
          444200000000,
          433100000000,
          443100000000,
          424500000000,
          432400000000,
          456800000000,
          407800000000,
          400500000000,
          411500000000,
          402300000000,
          397600000000,
          370600000000,
          377100000000,
          363400000000,
          371700000000,
          348600000000,
          374100000000,
          374300000000,
          354400000000,
          338300000000,
          353300000000,
          356300000000,
          334400000000,
          322100000000,
          363500000000,
          371600000000,
          394600000000,
          413100000000,
          468800000000,
          468000000000,
          526500000000,
          703200000000,
          858100000000,
          808200000000,
          2190000000000,
          1960000000000,
          1705000000000,
          1731000000000,
          3417000000000,
          1730000000000000,
          3050000000000,
          1534000000000,
          1299000000000,
          895800000000,
          653800000000,
          540600000000,
          373200000000,
          337200000000,
          296900000000,
          298100000000,
          297600000000,
          306400000000,
          391500000000,
          266200000000,
          258900000000,
          334700000000,
          78820000000000,
          124100000000000,
          63240000000000,
          674500000000,
          665600000000,
          869200000000,
          853100000000,
          602200000000,
          761700000000,
          655900000000,
          466400000000,
          482800000000,
          565300000000,
          362300000000,
          419000000000,
          479500000000,
          752700000000,
          3257000000000,
          5103000000000,
          2143000000000,
          1253000000000,
          885400000000,
          906200000000
         ],
         "yaxis": "y2"
        },
        {
         "line": {
          "dash": "dot",
          "width": 5
         },
         "marker": {
          "size": 3
         },
         "mode": "markers+lines",
         "name": "Flux Yulia UVA 7 lamps new box",
         "type": "scatter",
         "x": [
          280,
          281,
          282,
          283,
          284,
          285,
          286,
          287,
          288,
          289,
          290,
          291,
          292,
          293,
          294,
          295,
          296,
          297,
          298,
          299,
          300,
          301,
          302,
          303,
          304,
          305,
          306,
          307,
          308,
          309,
          310,
          311,
          312,
          313,
          314,
          315,
          316,
          317,
          318,
          319,
          320,
          321,
          322,
          323,
          324,
          325,
          326,
          327,
          328,
          329,
          330,
          331,
          332,
          333,
          334,
          335,
          336,
          337,
          338,
          339,
          340,
          341,
          342,
          343,
          344,
          345,
          346,
          347,
          348,
          349,
          350,
          351,
          352,
          353,
          354,
          355,
          356,
          357,
          358,
          359,
          360,
          361,
          362,
          363,
          364,
          365,
          366,
          367,
          368,
          369,
          370,
          371,
          372,
          373,
          374,
          375,
          376,
          377,
          378,
          379,
          380,
          381,
          382,
          383,
          384,
          385,
          386,
          387,
          388,
          389,
          390,
          391,
          392,
          393,
          394,
          395,
          396,
          397,
          398,
          399,
          400,
          401,
          402,
          403,
          404,
          405,
          406,
          407,
          408,
          409,
          410,
          411,
          412,
          413,
          414,
          415,
          416,
          417,
          418,
          419,
          420,
          421,
          422,
          423,
          424,
          425,
          426,
          427,
          428,
          429,
          430,
          431,
          432,
          433,
          434,
          435,
          436,
          437,
          438,
          439,
          440,
          441,
          442,
          443,
          444,
          445,
          446,
          447,
          448,
          449,
          450,
          451,
          452,
          453,
          454,
          455,
          456,
          457,
          458,
          459,
          460,
          461,
          462,
          463,
          464,
          465,
          466,
          467,
          468,
          469,
          470,
          471,
          472,
          473,
          474,
          475,
          476,
          477,
          478,
          479,
          480,
          481,
          482,
          483,
          484,
          485,
          486,
          487,
          488,
          489,
          490,
          491,
          492,
          493,
          494,
          495,
          496,
          497,
          498,
          499,
          500,
          501,
          502,
          503,
          504,
          505,
          506,
          507,
          508,
          509,
          510,
          511,
          512,
          513,
          514,
          515,
          516,
          517,
          518,
          519,
          520,
          521,
          522,
          523,
          524,
          525,
          526,
          527,
          528,
          529,
          530,
          531,
          532,
          533,
          534,
          535,
          536,
          537,
          538,
          539,
          540,
          541,
          542,
          543,
          544,
          545,
          546,
          547,
          548,
          549,
          550,
          552,
          554,
          556,
          558,
          560,
          562,
          564,
          566,
          568,
          570,
          572,
          574,
          576,
          578,
          580,
          582,
          584,
          586,
          588,
          590,
          592,
          594,
          596,
          598,
          600,
          602,
          604,
          606,
          608,
          610,
          612,
          614,
          616,
          618,
          620
         ],
         "y": [
          -170300000,
          -222600000,
          -231500000,
          -141300000,
          5487000,
          -58530000,
          -253700000,
          -80750000,
          -1435000,
          20190000000,
          3843000000,
          679900000,
          7523000000,
          6589000000,
          5042000000,
          9353000000,
          245100000000,
          430900000000,
          34070000000,
          54750000000,
          84440000000,
          133500000000,
          1407000000000,
          376900000000,
          388800000000,
          550900000000,
          753100000000,
          1010000000000,
          1433000000000,
          1911000000000,
          2560000000000,
          3349000000000,
          16020000000000,
          45730000000000,
          7658000000000,
          8996000000000,
          11170000000000,
          13160000000000,
          17060000000000,
          20470000000000,
          24640000000000,
          29970000000000,
          35810000000000,
          42700000000000,
          50490000000000,
          58580000000000,
          67360000000000,
          79420000000000,
          89510000000000,
          101200000000000,
          111700000000000,
          128400000000000,
          143900000000000,
          161800000000000,
          188200000000000,
          192800000000000,
          213000000000000,
          228300000000000,
          243200000000000,
          265300000000000,
          284500000000000,
          306000000000000,
          323500000000000,
          334300000000000,
          353800000000000,
          372500000000000,
          378500000000000,
          397000000000000,
          406700000000000,
          419400000000000,
          422900000000000,
          437100000000000,
          439100000000000,
          441200000000000,
          442200000000000,
          441900000000000,
          438900000000000,
          436900000000000,
          432600000000000,
          426700000000000,
          416300000000000,
          411300000000000,
          398700000000000,
          386400000000000,
          379000000000000,
          608500000000000,
          393100000000000,
          333200000000000,
          316500000000000,
          301300000000000,
          286000000000000,
          270500000000000,
          254300000000000,
          239300000000000,
          224100000000000,
          208500000000000,
          195100000000000,
          182700000000000,
          169700000000000,
          156800000000000,
          145100000000000,
          134700000000000,
          125600000000000,
          114400000000000,
          107100000000000,
          98560000000000,
          90610000000000,
          83490000000000,
          76990000000000,
          71510000000000,
          65620000000000,
          59570000000000,
          54070000000000,
          49010000000000,
          45170000000000,
          41170000000000,
          37310000000000,
          34150000000000,
          31270000000000,
          28290000000000,
          25560000000000,
          23490000000000,
          21120000000000,
          19310000000000,
          208600000000000,
          270200000000000,
          14730000000000,
          20910000000000,
          37960000000000,
          11040000000000,
          10220000000000,
          9668000000000,
          8515000000000,
          7902000000000,
          7268000000000,
          6653000000000,
          6363000000000,
          5722000000000,
          5365000000000,
          5094000000000,
          4889000000000,
          4279000000000,
          4089000000000,
          3755000000000,
          3541000000000,
          3348000000000,
          3250000000000,
          3024000000000,
          2844000000000,
          2655000000000,
          2597000000000,
          2352000000000,
          2282000000000,
          2571000000000,
          8949000000000,
          287800000000000,
          1100000000000000,
          2472000000000,
          1807000000000,
          1720000000000,
          1653000000000,
          1579000000000,
          1534000000000,
          1503000000000,
          1441000000000,
          1412000000000,
          1378000000000,
          1354000000000,
          1333000000000,
          1305000000000,
          1281000000000,
          1279000000000,
          1232000000000,
          1183000000000,
          1158000000000,
          1149000000000,
          1148000000000,
          1113000000000,
          1097000000000,
          1067000000000,
          1058000000000,
          1047000000000,
          1008000000000,
          997300000000,
          971800000000,
          971100000000,
          962900000000,
          957800000000,
          893800000000,
          876100000000,
          890200000000,
          854500000000,
          869000000000,
          822100000000,
          822400000000,
          800500000000,
          792800000000,
          781400000000,
          785000000000,
          779000000000,
          732800000000,
          744100000000,
          792700000000,
          819700000000,
          810100000000,
          864800000000,
          1057000000000,
          924600000000,
          916800000000,
          845200000000,
          903100000000,
          3972000000000,
          3953000000000,
          762700000000,
          771600000000,
          666400000000,
          696000000000,
          671500000000,
          638900000000,
          640800000000,
          588600000000,
          575200000000,
          605600000000,
          590100000000,
          524200000000,
          507000000000,
          490200000000,
          497100000000,
          487300000000,
          450400000000,
          476700000000,
          473100000000,
          499000000000,
          463700000000,
          442400000000,
          430000000000,
          428700000000,
          439200000000,
          439800000000,
          434000000000,
          406500000000,
          401000000000,
          418400000000,
          383900000000,
          399100000000,
          431400000000,
          431700000000,
          393800000000,
          377700000000,
          382400000000,
          381200000000,
          377900000000,
          380600000000,
          453300000000,
          396900000000,
          491500000000,
          488600000000,
          529800000000,
          667400000000,
          811300000000,
          729700000000,
          2041000000000,
          1818000000000,
          1551000000000,
          1455000000000,
          2647000000000,
          1069000000000000,
          2273000000000,
          1438000000000,
          1172000000000,
          970200000000,
          620700000000,
          521400000000,
          399500000000,
          322800000000,
          335600000000,
          310800000000,
          318500000000,
          325300000000,
          385900000000,
          282500000000,
          271300000000,
          309500000000,
          53830000000000,
          81620000000000,
          40590000000000,
          609100000000,
          620700000000,
          796400000000,
          814200000000,
          555500000000,
          705600000000,
          603200000000,
          413600000000,
          441800000000,
          515600000000,
          347400000000,
          404800000000,
          448000000000,
          644400000000,
          2736000000000,
          4355000000000,
          1686000000000,
          984000000000,
          767800000000,
          872100000000
         ],
         "yaxis": "y2"
        },
        {
         "line": {
          "dash": "dot",
          "width": 5
         },
         "marker": {
          "size": 3
         },
         "mode": "markers+lines",
         "name": "Flux Yulia VIS 7 lamps old box",
         "type": "scatter",
         "x": [
          280,
          281,
          282,
          283,
          284,
          285,
          286,
          287,
          288,
          289,
          290,
          291,
          292,
          293,
          294,
          295,
          296,
          297,
          298,
          299,
          300,
          301,
          302,
          303,
          304,
          305,
          306,
          307,
          308,
          309,
          310,
          311,
          312,
          313,
          314,
          315,
          316,
          317,
          318,
          319,
          320,
          321,
          322,
          323,
          324,
          325,
          326,
          327,
          328,
          329,
          330,
          331,
          332,
          333,
          334,
          335,
          336,
          337,
          338,
          339,
          340,
          341,
          342,
          343,
          344,
          345,
          346,
          347,
          348,
          349,
          350,
          351,
          352,
          353,
          354,
          355,
          356,
          357,
          358,
          359,
          360,
          361,
          362,
          363,
          364,
          365,
          366,
          367,
          368,
          369,
          370,
          371,
          372,
          373,
          374,
          375,
          376,
          377,
          378,
          379,
          380,
          381,
          382,
          383,
          384,
          385,
          386,
          387,
          388,
          389,
          390,
          391,
          392,
          393,
          394,
          395,
          396,
          397,
          398,
          399,
          400,
          401,
          402,
          403,
          404,
          405,
          406,
          407,
          408,
          409,
          410,
          411,
          412,
          413,
          414,
          415,
          416,
          417,
          418,
          419,
          420,
          421,
          422,
          423,
          424,
          425,
          426,
          427,
          428,
          429,
          430,
          431,
          432,
          433,
          434,
          435,
          436,
          437,
          438,
          439,
          440,
          441,
          442,
          443,
          444,
          445,
          446,
          447,
          448,
          449,
          450,
          451,
          452,
          453,
          454,
          455,
          456,
          457,
          458,
          459,
          460,
          461,
          462,
          463,
          464,
          465,
          466,
          467,
          468,
          469,
          470,
          471,
          472,
          473,
          474,
          475,
          476,
          477,
          478,
          479,
          480,
          481,
          482,
          483,
          484,
          485,
          486,
          487,
          488,
          489,
          490,
          491,
          492,
          493,
          494,
          495,
          496,
          497,
          498,
          499,
          500,
          501,
          502,
          503,
          504,
          505,
          506,
          507,
          508,
          509,
          510,
          511,
          512,
          513,
          514,
          515,
          516,
          517,
          518,
          519,
          520,
          521,
          522,
          523,
          524,
          525,
          526,
          527,
          528,
          529,
          530,
          531,
          532,
          533,
          534,
          535,
          536,
          537,
          538,
          539,
          540,
          541,
          542,
          543,
          544,
          545,
          546,
          547,
          548,
          549,
          550,
          552,
          554,
          556,
          558,
          560,
          562,
          564,
          566,
          568,
          570,
          572,
          574,
          576,
          578,
          580,
          582,
          584,
          586,
          588,
          590,
          592,
          594,
          596,
          598,
          600,
          602,
          604,
          606,
          608,
          610,
          612,
          614,
          616,
          618,
          620
         ],
         "y": [
          -206900000,
          889000000,
          -146600000,
          -275100000,
          -9534000,
          -59880000,
          108400000,
          119800000,
          76130000,
          9727000000,
          3311000000,
          2513000000,
          6480000000,
          7461000000,
          7259000000,
          12010000000,
          148700000000,
          251700000000,
          25670000000,
          32410000000,
          40900000000,
          53100000000,
          759700000000,
          138900000000,
          83850000000,
          108200000000,
          152500000000,
          148200000000,
          154500000000,
          177600000000,
          329300000000,
          918100000000,
          4855000000000,
          14290000000000,
          569300000000,
          384200000000,
          414000000000,
          418100000000,
          472700000000,
          491600000000,
          527500000000,
          573400000000,
          623400000000,
          655600000000,
          712300000000,
          740000000000,
          761900000000,
          846400000000,
          850700000000,
          856300000000,
          866700000000,
          920300000000,
          939600000000,
          1041000000000,
          5671000000000,
          1071000000000,
          1073000000000,
          1067000000000,
          1069000000000,
          1125000000000,
          1140000000000,
          1180000000000,
          1189000000000,
          1187000000000,
          1231000000000,
          1255000000000,
          1250000000000,
          1295000000000,
          1300000000000,
          1321000000000,
          1338000000000,
          1384000000000,
          1404000000000,
          1435000000000,
          1440000000000,
          1488000000000,
          1502000000000,
          1553000000000,
          1608000000000,
          1657000000000,
          1685000000000,
          1731000000000,
          1776000000000,
          1866000000000,
          4693000000000,
          128400000000000,
          38290000000000,
          4825000000000,
          2256000000000,
          2318000000000,
          2543000000000,
          2561000000000,
          2604000000000,
          2719000000000,
          2846000000000,
          3033000000000,
          3244000000000,
          3515000000000,
          3822000000000,
          4397000000000,
          4809000000000,
          4826000000000,
          4881000000000,
          4898000000000,
          5081000000000,
          5260000000000,
          5473000000000,
          5704000000000,
          5976000000000,
          6322000000000,
          7071000000000,
          7266000000000,
          7178000000000,
          7441000000000,
          7834000000000,
          8217000000000,
          8522000000000,
          8940000000000,
          9400000000000,
          9677000000000,
          10060000000000,
          10600000000000,
          10980000000000,
          11680000000000,
          271200000000000,
          357700000000000,
          13520000000000,
          23580000000000,
          48120000000000,
          15390000000000,
          16360000000000,
          17710000000000,
          18260000000000,
          19530000000000,
          20430000000000,
          21190000000000,
          22270000000000,
          23510000000000,
          24680000000000,
          25970000000000,
          27100000000000,
          28390000000000,
          30160000000000,
          31310000000000,
          32780000000000,
          34400000000000,
          36340000000000,
          37860000000000,
          39720000000000,
          41210000000000,
          43580000000000,
          44910000000000,
          47730000000000,
          49910000000000,
          62840000000000,
          356400000000000,
          1214000000000000,
          59460000000000,
          61120000000000,
          62850000000000,
          65190000000000,
          67650000000000,
          70030000000000,
          72230000000000,
          75540000000000,
          77840000000000,
          81420000000000,
          83920000000000,
          87350000000000,
          90490000000000,
          93770000000000,
          96510000000000,
          100100000000000,
          102700000000000,
          105900000000000,
          109800000000000,
          112900000000000,
          116800000000000,
          119400000000000,
          122900000000000,
          126500000000000,
          129200000000000,
          131500000000000,
          134300000000000,
          136900000000000,
          139900000000000,
          142700000000000,
          146000000000000,
          147800000000000,
          149900000000000,
          153900000000000,
          154200000000000,
          158700000000000,
          158300000000000,
          162100000000000,
          164100000000000,
          165600000000000,
          167600000000000,
          170600000000000,
          171800000000000,
          173900000000000,
          179100000000000,
          188400000000000,
          200900000000000,
          216200000000000,
          237600000000000,
          259100000000000,
          266300000000000,
          255400000000000,
          243000000000000,
          233200000000000,
          231100000000000,
          226500000000000,
          215500000000000,
          208800000000000,
          202300000000000,
          197900000000000,
          191400000000000,
          187200000000000,
          180100000000000,
          175600000000000,
          171300000000000,
          167300000000000,
          164100000000000,
          159700000000000,
          156500000000000,
          153000000000000,
          149300000000000,
          147800000000000,
          143900000000000,
          143000000000000,
          140500000000000,
          137400000000000,
          134500000000000,
          131700000000000,
          130300000000000,
          127700000000000,
          123500000000000,
          121900000000000,
          120300000000000,
          117200000000000,
          114600000000000,
          112300000000000,
          110500000000000,
          108900000000000,
          107100000000000,
          104400000000000,
          104300000000000,
          102500000000000,
          100600000000000,
          99440000000000,
          97910000000000,
          98090000000000,
          99020000000000,
          100900000000000,
          102400000000000,
          108800000000000,
          126900000000000,
          150500000000000,
          174300000000000,
          274400000000000,
          491400000000000,
          632900000000000,
          446200000000000,
          450200000000000,
          451800000000000,
          2503000000000000,
          407000000000000,
          354700000000000,
          287700000000000,
          238300000000000,
          171100000000000,
          134700000000000,
          117000000000000,
          111300000000000,
          110100000000000,
          109500000000000,
          111100000000000,
          113400000000000,
          116100000000000,
          120000000000000,
          122800000000000,
          127600000000000,
          224400000000000,
          291900000000000,
          237700000000000,
          201300000000000,
          239500000000000,
          222400000000000,
          212100000000000,
          203100000000000,
          203600000000000,
          199100000000000,
          195900000000000,
          197700000000000,
          200900000000000,
          202400000000000,
          206600000000000,
          210400000000000,
          218200000000000,
          251500000000000,
          276200000000000,
          250600000000000,
          245700000000000,
          253700000000000,
          272300000000000
         ],
         "yaxis": "y2"
        },
        {
         "line": {
          "dash": "dot",
          "width": 5
         },
         "marker": {
          "size": 3
         },
         "mode": "markers+lines",
         "name": "Flux Yulia VIS 7 lamps new box",
         "type": "scatter",
         "x": [
          280,
          281,
          282,
          283,
          284,
          285,
          286,
          287,
          288,
          289,
          290,
          291,
          292,
          293,
          294,
          295,
          296,
          297,
          298,
          299,
          300,
          301,
          302,
          303,
          304,
          305,
          306,
          307,
          308,
          309,
          310,
          311,
          312,
          313,
          314,
          315,
          316,
          317,
          318,
          319,
          320,
          321,
          322,
          323,
          324,
          325,
          326,
          327,
          328,
          329,
          330,
          331,
          332,
          333,
          334,
          335,
          336,
          337,
          338,
          339,
          340,
          341,
          342,
          343,
          344,
          345,
          346,
          347,
          348,
          349,
          350,
          351,
          352,
          353,
          354,
          355,
          356,
          357,
          358,
          359,
          360,
          361,
          362,
          363,
          364,
          365,
          366,
          367,
          368,
          369,
          370,
          371,
          372,
          373,
          374,
          375,
          376,
          377,
          378,
          379,
          380,
          381,
          382,
          383,
          384,
          385,
          386,
          387,
          388,
          389,
          390,
          391,
          392,
          393,
          394,
          395,
          396,
          397,
          398,
          399,
          400,
          401,
          402,
          403,
          404,
          405,
          406,
          407,
          408,
          409,
          410,
          411,
          412,
          413,
          414,
          415,
          416,
          417,
          418,
          419,
          420,
          421,
          422,
          423,
          424,
          425,
          426,
          427,
          428,
          429,
          430,
          431,
          432,
          433,
          434,
          435,
          436,
          437,
          438,
          439,
          440,
          441,
          442,
          443,
          444,
          445,
          446,
          447,
          448,
          449,
          450,
          451,
          452,
          453,
          454,
          455,
          456,
          457,
          458,
          459,
          460,
          461,
          462,
          463,
          464,
          465,
          466,
          467,
          468,
          469,
          470,
          471,
          472,
          473,
          474,
          475,
          476,
          477,
          478,
          479,
          480,
          481,
          482,
          483,
          484,
          485,
          486,
          487,
          488,
          489,
          490,
          491,
          492,
          493,
          494,
          495,
          496,
          497,
          498,
          499,
          500,
          501,
          502,
          503,
          504,
          505,
          506,
          507,
          508,
          509,
          510,
          511,
          512,
          513,
          514,
          515,
          516,
          517,
          518,
          519,
          520,
          521,
          522,
          523,
          524,
          525,
          526,
          527,
          528,
          529,
          530,
          531,
          532,
          533,
          534,
          535,
          536,
          537,
          538,
          539,
          540,
          541,
          542,
          543,
          544,
          545,
          546,
          547,
          548,
          549,
          550,
          552,
          554,
          556,
          558,
          560,
          562,
          564,
          566,
          568,
          570,
          572,
          574,
          576,
          578,
          580,
          582,
          584,
          586,
          588,
          590,
          592,
          594,
          596,
          598,
          600,
          602,
          604,
          606,
          608,
          610,
          612,
          614,
          616,
          618,
          620
         ],
         "y": [
          -109200000,
          -217600000,
          -3739000,
          47680000,
          -133900000,
          -153600000,
          -137400000,
          190900000,
          412400000,
          11740000000,
          4379000000,
          3111000000,
          8408000000,
          9896000000,
          10960000000,
          15520000000,
          187400000000,
          336500000000,
          32010000000,
          43680000000,
          51770000000,
          68120000000,
          842500000000,
          143100000000,
          97940000000,
          128100000000,
          171200000000,
          172800000000,
          180100000000,
          205100000000,
          420000000000,
          1198000000000,
          7391000000000,
          20610000000000,
          715800000000,
          458100000000,
          477700000000,
          484600000000,
          553800000000,
          576700000000,
          605700000000,
          670600000000,
          732000000000,
          779600000000,
          834400000000,
          870100000000,
          909100000000,
          975500000000,
          984400000000,
          984600000000,
          1006000000000,
          1065000000000,
          1084000000000,
          1175000000000,
          5894000000000,
          1222000000000,
          1221000000000,
          1218000000000,
          1243000000000,
          1292000000000,
          1294000000000,
          1334000000000,
          1361000000000,
          1373000000000,
          1411000000000,
          1448000000000,
          1438000000000,
          1464000000000,
          1478000000000,
          1499000000000,
          1503000000000,
          1539000000000,
          1558000000000,
          1570000000000,
          1578000000000,
          1621000000000,
          1641000000000,
          1680000000000,
          1711000000000,
          1774000000000,
          1790000000000,
          1840000000000,
          1870000000000,
          1952000000000,
          5392000000000,
          146000000000000,
          27850000000000,
          4035000000000,
          2259000000000,
          2343000000000,
          2526000000000,
          2554000000000,
          2572000000000,
          2680000000000,
          2816000000000,
          2952000000000,
          3166000000000,
          3386000000000,
          3681000000000,
          4231000000000,
          4636000000000,
          4660000000000,
          4731000000000,
          4749000000000,
          4944000000000,
          5151000000000,
          5334000000000,
          5600000000000,
          5876000000000,
          6172000000000,
          6897000000000,
          7062000000000,
          6947000000000,
          7157000000000,
          7550000000000,
          7852000000000,
          8160000000000,
          8538000000000,
          8967000000000,
          9147000000000,
          9413000000000,
          9821000000000,
          10110000000000,
          10570000000000,
          179500000000000,
          235400000000000,
          11990000000000,
          18790000000000,
          35120000000000,
          13450000000000,
          14210000000000,
          15270000000000,
          15840000000000,
          16830000000000,
          17550000000000,
          18280000000000,
          19390000000000,
          20060000000000,
          21200000000000,
          22280000000000,
          23490000000000,
          24390000000000,
          25890000000000,
          26910000000000,
          28430000000000,
          29770000000000,
          31650000000000,
          33080000000000,
          34530000000000,
          36170000000000,
          38330000000000,
          39470000000000,
          41960000000000,
          43960000000000,
          52800000000000,
          352800000000000,
          1238000000000000,
          53390000000000,
          54850000000000,
          56660000000000,
          58860000000000,
          61090000000000,
          63400000000000,
          65500000000000,
          68620000000000,
          70820000000000,
          74280000000000,
          76680000000000,
          79810000000000,
          83290000000000,
          86180000000000,
          89030000000000,
          92360000000000,
          95080000000000,
          98400000000000,
          102100000000000,
          105500000000000,
          109400000000000,
          112100000000000,
          115600000000000,
          119500000000000,
          122200000000000,
          124700000000000,
          127600000000000,
          130700000000000,
          134300000000000,
          137100000000000,
          140700000000000,
          143100000000000,
          146000000000000,
          149800000000000,
          150400000000000,
          156000000000000,
          156000000000000,
          159700000000000,
          161700000000000,
          164100000000000,
          166400000000000,
          169600000000000,
          171000000000000,
          173400000000000,
          178100000000000,
          187100000000000,
          197900000000000,
          213100000000000,
          232400000000000,
          253200000000000,
          259300000000000,
          249400000000000,
          237600000000000,
          229000000000000,
          227400000000000,
          223000000000000,
          213200000000000,
          207600000000000,
          201600000000000,
          197900000000000,
          191500000000000,
          188200000000000,
          181500000000000,
          177200000000000,
          173000000000000,
          169600000000000,
          166300000000000,
          161700000000000,
          158500000000000,
          155500000000000,
          151000000000000,
          149800000000000,
          145700000000000,
          144200000000000,
          141600000000000,
          138100000000000,
          135400000000000,
          132100000000000,
          130500000000000,
          127500000000000,
          123400000000000,
          121200000000000,
          119100000000000,
          115100000000000,
          112300000000000,
          109400000000000,
          107900000000000,
          105600000000000,
          103700000000000,
          100400000000000,
          99590000000000,
          97150000000000,
          95370000000000,
          93350000000000,
          91600000000000,
          91130000000000,
          91510000000000,
          91840000000000,
          92390000000000,
          96850000000000,
          112100000000000,
          131900000000000,
          151200000000000,
          240100000000000,
          447200000000000,
          562500000000000,
          386100000000000,
          392600000000000,
          393400000000000,
          1610000000000000,
          355400000000000,
          309100000000000,
          248400000000000,
          205200000000000,
          147500000000000,
          114600000000000,
          99000000000000,
          94530000000000,
          93440000000000,
          92990000000000,
          94530000000000,
          95960000000000,
          98800000000000,
          102100000000000,
          104800000000000,
          108900000000000,
          175200000000000,
          218200000000000,
          186500000000000,
          174300000000000,
          208700000000000,
          193000000000000,
          184900000000000,
          177300000000000,
          179100000000000,
          174700000000000,
          172900000000000,
          176300000000000,
          180400000000000,
          182600000000000,
          187000000000000,
          192300000000000,
          200100000000000,
          230600000000000,
          253800000000000,
          232200000000000,
          227000000000000,
          236300000000000,
          254400000000000
         ],
         "yaxis": "y2"
        }
       ],
       "layout": {
        "autosize": false,
        "bargap": 0,
        "height": 900,
        "legend": {
         "font": {
          "color": "black",
          "size": 20
         },
         "x": 0.1,
         "xanchor": "left",
         "y": 0.9,
         "yanchor": "top"
        },
        "paper_bgcolor": "white",
        "plot_bgcolor": "white",
        "template": {
         "data": {
          "bar": [
           {
            "error_x": {
             "color": "#2a3f5f"
            },
            "error_y": {
             "color": "#2a3f5f"
            },
            "marker": {
             "line": {
              "color": "#E5ECF6",
              "width": 0.5
             },
             "pattern": {
              "fillmode": "overlay",
              "size": 10,
              "solidity": 0.2
             }
            },
            "type": "bar"
           }
          ],
          "barpolar": [
           {
            "marker": {
             "line": {
              "color": "#E5ECF6",
              "width": 0.5
             },
             "pattern": {
              "fillmode": "overlay",
              "size": 10,
              "solidity": 0.2
             }
            },
            "type": "barpolar"
           }
          ],
          "carpet": [
           {
            "aaxis": {
             "endlinecolor": "#2a3f5f",
             "gridcolor": "white",
             "linecolor": "white",
             "minorgridcolor": "white",
             "startlinecolor": "#2a3f5f"
            },
            "baxis": {
             "endlinecolor": "#2a3f5f",
             "gridcolor": "white",
             "linecolor": "white",
             "minorgridcolor": "white",
             "startlinecolor": "#2a3f5f"
            },
            "type": "carpet"
           }
          ],
          "choropleth": [
           {
            "colorbar": {
             "outlinewidth": 0,
             "ticks": ""
            },
            "type": "choropleth"
           }
          ],
          "contour": [
           {
            "colorbar": {
             "outlinewidth": 0,
             "ticks": ""
            },
            "colorscale": [
             [
              0,
              "#0d0887"
             ],
             [
              0.1111111111111111,
              "#46039f"
             ],
             [
              0.2222222222222222,
              "#7201a8"
             ],
             [
              0.3333333333333333,
              "#9c179e"
             ],
             [
              0.4444444444444444,
              "#bd3786"
             ],
             [
              0.5555555555555556,
              "#d8576b"
             ],
             [
              0.6666666666666666,
              "#ed7953"
             ],
             [
              0.7777777777777778,
              "#fb9f3a"
             ],
             [
              0.8888888888888888,
              "#fdca26"
             ],
             [
              1,
              "#f0f921"
             ]
            ],
            "type": "contour"
           }
          ],
          "contourcarpet": [
           {
            "colorbar": {
             "outlinewidth": 0,
             "ticks": ""
            },
            "type": "contourcarpet"
           }
          ],
          "heatmap": [
           {
            "colorbar": {
             "outlinewidth": 0,
             "ticks": ""
            },
            "colorscale": [
             [
              0,
              "#0d0887"
             ],
             [
              0.1111111111111111,
              "#46039f"
             ],
             [
              0.2222222222222222,
              "#7201a8"
             ],
             [
              0.3333333333333333,
              "#9c179e"
             ],
             [
              0.4444444444444444,
              "#bd3786"
             ],
             [
              0.5555555555555556,
              "#d8576b"
             ],
             [
              0.6666666666666666,
              "#ed7953"
             ],
             [
              0.7777777777777778,
              "#fb9f3a"
             ],
             [
              0.8888888888888888,
              "#fdca26"
             ],
             [
              1,
              "#f0f921"
             ]
            ],
            "type": "heatmap"
           }
          ],
          "heatmapgl": [
           {
            "colorbar": {
             "outlinewidth": 0,
             "ticks": ""
            },
            "colorscale": [
             [
              0,
              "#0d0887"
             ],
             [
              0.1111111111111111,
              "#46039f"
             ],
             [
              0.2222222222222222,
              "#7201a8"
             ],
             [
              0.3333333333333333,
              "#9c179e"
             ],
             [
              0.4444444444444444,
              "#bd3786"
             ],
             [
              0.5555555555555556,
              "#d8576b"
             ],
             [
              0.6666666666666666,
              "#ed7953"
             ],
             [
              0.7777777777777778,
              "#fb9f3a"
             ],
             [
              0.8888888888888888,
              "#fdca26"
             ],
             [
              1,
              "#f0f921"
             ]
            ],
            "type": "heatmapgl"
           }
          ],
          "histogram": [
           {
            "marker": {
             "pattern": {
              "fillmode": "overlay",
              "size": 10,
              "solidity": 0.2
             }
            },
            "type": "histogram"
           }
          ],
          "histogram2d": [
           {
            "colorbar": {
             "outlinewidth": 0,
             "ticks": ""
            },
            "colorscale": [
             [
              0,
              "#0d0887"
             ],
             [
              0.1111111111111111,
              "#46039f"
             ],
             [
              0.2222222222222222,
              "#7201a8"
             ],
             [
              0.3333333333333333,
              "#9c179e"
             ],
             [
              0.4444444444444444,
              "#bd3786"
             ],
             [
              0.5555555555555556,
              "#d8576b"
             ],
             [
              0.6666666666666666,
              "#ed7953"
             ],
             [
              0.7777777777777778,
              "#fb9f3a"
             ],
             [
              0.8888888888888888,
              "#fdca26"
             ],
             [
              1,
              "#f0f921"
             ]
            ],
            "type": "histogram2d"
           }
          ],
          "histogram2dcontour": [
           {
            "colorbar": {
             "outlinewidth": 0,
             "ticks": ""
            },
            "colorscale": [
             [
              0,
              "#0d0887"
             ],
             [
              0.1111111111111111,
              "#46039f"
             ],
             [
              0.2222222222222222,
              "#7201a8"
             ],
             [
              0.3333333333333333,
              "#9c179e"
             ],
             [
              0.4444444444444444,
              "#bd3786"
             ],
             [
              0.5555555555555556,
              "#d8576b"
             ],
             [
              0.6666666666666666,
              "#ed7953"
             ],
             [
              0.7777777777777778,
              "#fb9f3a"
             ],
             [
              0.8888888888888888,
              "#fdca26"
             ],
             [
              1,
              "#f0f921"
             ]
            ],
            "type": "histogram2dcontour"
           }
          ],
          "mesh3d": [
           {
            "colorbar": {
             "outlinewidth": 0,
             "ticks": ""
            },
            "type": "mesh3d"
           }
          ],
          "parcoords": [
           {
            "line": {
             "colorbar": {
              "outlinewidth": 0,
              "ticks": ""
             }
            },
            "type": "parcoords"
           }
          ],
          "pie": [
           {
            "automargin": true,
            "type": "pie"
           }
          ],
          "scatter": [
           {
            "fillpattern": {
             "fillmode": "overlay",
             "size": 10,
             "solidity": 0.2
            },
            "type": "scatter"
           }
          ],
          "scatter3d": [
           {
            "line": {
             "colorbar": {
              "outlinewidth": 0,
              "ticks": ""
             }
            },
            "marker": {
             "colorbar": {
              "outlinewidth": 0,
              "ticks": ""
             }
            },
            "type": "scatter3d"
           }
          ],
          "scattercarpet": [
           {
            "marker": {
             "colorbar": {
              "outlinewidth": 0,
              "ticks": ""
             }
            },
            "type": "scattercarpet"
           }
          ],
          "scattergeo": [
           {
            "marker": {
             "colorbar": {
              "outlinewidth": 0,
              "ticks": ""
             }
            },
            "type": "scattergeo"
           }
          ],
          "scattergl": [
           {
            "marker": {
             "colorbar": {
              "outlinewidth": 0,
              "ticks": ""
             }
            },
            "type": "scattergl"
           }
          ],
          "scattermapbox": [
           {
            "marker": {
             "colorbar": {
              "outlinewidth": 0,
              "ticks": ""
             }
            },
            "type": "scattermapbox"
           }
          ],
          "scatterpolar": [
           {
            "marker": {
             "colorbar": {
              "outlinewidth": 0,
              "ticks": ""
             }
            },
            "type": "scatterpolar"
           }
          ],
          "scatterpolargl": [
           {
            "marker": {
             "colorbar": {
              "outlinewidth": 0,
              "ticks": ""
             }
            },
            "type": "scatterpolargl"
           }
          ],
          "scatterternary": [
           {
            "marker": {
             "colorbar": {
              "outlinewidth": 0,
              "ticks": ""
             }
            },
            "type": "scatterternary"
           }
          ],
          "surface": [
           {
            "colorbar": {
             "outlinewidth": 0,
             "ticks": ""
            },
            "colorscale": [
             [
              0,
              "#0d0887"
             ],
             [
              0.1111111111111111,
              "#46039f"
             ],
             [
              0.2222222222222222,
              "#7201a8"
             ],
             [
              0.3333333333333333,
              "#9c179e"
             ],
             [
              0.4444444444444444,
              "#bd3786"
             ],
             [
              0.5555555555555556,
              "#d8576b"
             ],
             [
              0.6666666666666666,
              "#ed7953"
             ],
             [
              0.7777777777777778,
              "#fb9f3a"
             ],
             [
              0.8888888888888888,
              "#fdca26"
             ],
             [
              1,
              "#f0f921"
             ]
            ],
            "type": "surface"
           }
          ],
          "table": [
           {
            "cells": {
             "fill": {
              "color": "#EBF0F8"
             },
             "line": {
              "color": "white"
             }
            },
            "header": {
             "fill": {
              "color": "#C8D4E3"
             },
             "line": {
              "color": "white"
             }
            },
            "type": "table"
           }
          ]
         },
         "layout": {
          "annotationdefaults": {
           "arrowcolor": "#2a3f5f",
           "arrowhead": 0,
           "arrowwidth": 1
          },
          "autotypenumbers": "strict",
          "coloraxis": {
           "colorbar": {
            "outlinewidth": 0,
            "ticks": ""
           }
          },
          "colorscale": {
           "diverging": [
            [
             0,
             "#8e0152"
            ],
            [
             0.1,
             "#c51b7d"
            ],
            [
             0.2,
             "#de77ae"
            ],
            [
             0.3,
             "#f1b6da"
            ],
            [
             0.4,
             "#fde0ef"
            ],
            [
             0.5,
             "#f7f7f7"
            ],
            [
             0.6,
             "#e6f5d0"
            ],
            [
             0.7,
             "#b8e186"
            ],
            [
             0.8,
             "#7fbc41"
            ],
            [
             0.9,
             "#4d9221"
            ],
            [
             1,
             "#276419"
            ]
           ],
           "sequential": [
            [
             0,
             "#0d0887"
            ],
            [
             0.1111111111111111,
             "#46039f"
            ],
            [
             0.2222222222222222,
             "#7201a8"
            ],
            [
             0.3333333333333333,
             "#9c179e"
            ],
            [
             0.4444444444444444,
             "#bd3786"
            ],
            [
             0.5555555555555556,
             "#d8576b"
            ],
            [
             0.6666666666666666,
             "#ed7953"
            ],
            [
             0.7777777777777778,
             "#fb9f3a"
            ],
            [
             0.8888888888888888,
             "#fdca26"
            ],
            [
             1,
             "#f0f921"
            ]
           ],
           "sequentialminus": [
            [
             0,
             "#0d0887"
            ],
            [
             0.1111111111111111,
             "#46039f"
            ],
            [
             0.2222222222222222,
             "#7201a8"
            ],
            [
             0.3333333333333333,
             "#9c179e"
            ],
            [
             0.4444444444444444,
             "#bd3786"
            ],
            [
             0.5555555555555556,
             "#d8576b"
            ],
            [
             0.6666666666666666,
             "#ed7953"
            ],
            [
             0.7777777777777778,
             "#fb9f3a"
            ],
            [
             0.8888888888888888,
             "#fdca26"
            ],
            [
             1,
             "#f0f921"
            ]
           ]
          },
          "colorway": [
           "#636efa",
           "#EF553B",
           "#00cc96",
           "#ab63fa",
           "#FFA15A",
           "#19d3f3",
           "#FF6692",
           "#B6E880",
           "#FF97FF",
           "#FECB52"
          ],
          "font": {
           "color": "#2a3f5f"
          },
          "geo": {
           "bgcolor": "white",
           "lakecolor": "white",
           "landcolor": "#E5ECF6",
           "showlakes": true,
           "showland": true,
           "subunitcolor": "white"
          },
          "hoverlabel": {
           "align": "left"
          },
          "hovermode": "closest",
          "mapbox": {
           "style": "light"
          },
          "paper_bgcolor": "white",
          "plot_bgcolor": "#E5ECF6",
          "polar": {
           "angularaxis": {
            "gridcolor": "white",
            "linecolor": "white",
            "ticks": ""
           },
           "bgcolor": "#E5ECF6",
           "radialaxis": {
            "gridcolor": "white",
            "linecolor": "white",
            "ticks": ""
           }
          },
          "scene": {
           "xaxis": {
            "backgroundcolor": "#E5ECF6",
            "gridcolor": "white",
            "gridwidth": 2,
            "linecolor": "white",
            "showbackground": true,
            "ticks": "",
            "zerolinecolor": "white"
           },
           "yaxis": {
            "backgroundcolor": "#E5ECF6",
            "gridcolor": "white",
            "gridwidth": 2,
            "linecolor": "white",
            "showbackground": true,
            "ticks": "",
            "zerolinecolor": "white"
           },
           "zaxis": {
            "backgroundcolor": "#E5ECF6",
            "gridcolor": "white",
            "gridwidth": 2,
            "linecolor": "white",
            "showbackground": true,
            "ticks": "",
            "zerolinecolor": "white"
           }
          },
          "shapedefaults": {
           "line": {
            "color": "#2a3f5f"
           }
          },
          "ternary": {
           "aaxis": {
            "gridcolor": "white",
            "linecolor": "white",
            "ticks": ""
           },
           "baxis": {
            "gridcolor": "white",
            "linecolor": "white",
            "ticks": ""
           },
           "bgcolor": "#E5ECF6",
           "caxis": {
            "gridcolor": "white",
            "linecolor": "white",
            "ticks": ""
           }
          },
          "title": {
           "x": 0.05
          },
          "xaxis": {
           "automargin": true,
           "gridcolor": "white",
           "linecolor": "white",
           "ticks": "",
           "title": {
            "standoff": 15
           },
           "zerolinecolor": "white",
           "zerolinewidth": 2
          },
          "yaxis": {
           "automargin": true,
           "gridcolor": "white",
           "linecolor": "white",
           "ticks": "",
           "title": {
            "standoff": 15
           },
           "zerolinecolor": "white",
           "zerolinewidth": 2
          }
         }
        },
        "title": {
         "font": {
          "color": "black",
          "size": 25
         },
         "text": ""
        },
        "width": 1600,
        "xaxis": {
         "linecolor": "black",
         "linewidth": 1,
         "mirror": true,
         "showline": true,
         "tickfont": {
          "color": "black",
          "size": 25
         },
         "ticks": "inside",
         "title": {
          "font": {
           "color": "black",
           "size": 25
          },
          "text": "Wavelength (nm)"
         }
        },
        "yaxis": {
         "linecolor": "black",
         "linewidth": 1,
         "tickfont": {
          "color": "black",
          "size": 25
         },
         "ticks": "inside",
         "title": {
          "font": {
           "color": "black",
           "size": 25
          },
          "text": "Molecular cross section (cm<sup>2</sup>)"
         }
        },
        "yaxis2": {
         "anchor": "free",
         "linecolor": "black",
         "linewidth": 1,
         "overlaying": "y",
         "position": 1,
         "showticklabels": true,
         "side": "right",
         "tickfont": {
          "color": "black",
          "size": 25
         },
         "ticks": "inside",
         "title": {
          "font": {
           "color": "black",
           "size": 25
          },
          "text": "Photon flux (cm<sup>-2</sup>  s<sup>-1</sup> nm<sup>-1</sup>)"
         }
        }
       }
      }
     },
     "metadata": {},
     "output_type": "display_data"
    }
   ],
   "source": [
    "import plotly.graph_objects as go\n",
    "\n",
    "fig_1= go.Figure()\n",
    "fig_1.add_trace(go.Scatter(x= new_cross_section_nitrate.index,y=new_cross_section_nitrate['molecular_cross_section']*10,yaxis = \"y1\",mode='markers+lines',marker_size=3,line_width=2,name=\"σ(NO3-)*10\"))\n",
    "fig_1.add_trace(go.Scatter(x= new_cross_section_nitrite.index,y=new_cross_section_nitrite['molecular_cross_section']*10,yaxis = \"y1\",mode='markers+lines',marker_size=3,line_width=2,name=\"σ(NO2-)*10\"))\n",
    "fig_1.add_trace(go.Scatter(x= new_cross_section_I2.index,y=new_cross_section_I2['molecular_cross_section'],yaxis = \"y1\",mode='markers+lines',marker_size=3,line_width=2,name=\"σ(I2)\"))\n",
    "fig_1.add_trace(go.Scatter(x= new_cross_section_clno.index,y=new_cross_section_clno['molecular_cross_section'],yaxis = \"y1\",mode='markers+lines',marker_size=3,line_width=2,name=\"σ(ClNO)\"))\n",
    "fig_1.add_trace(go.Scatter(x= new_cross_section_NO2.index,y=new_cross_section_NO2['molecular_cross_section'],yaxis = \"y1\",mode='markers+lines',marker_size=3,line_width=2,name=\"σ(NO2)\"))\n",
    "fig_1.add_trace(go.Scatter(x= new_cross_section_HONO.index,y=new_cross_section_HONO['molecular_cross_section'],yaxis = \"y1\",mode='markers+lines',marker_size=3,line_width=2,name=\"σ(HONO)\"))\n",
    "\n",
    "\n",
    "fig_1.add_trace(go.Scatter(x= actinic.iloc[:,0], y=actinic.iloc[:,1], yaxis = \"y2\",mode='markers+lines', line=dict(dash='dot'),marker_size=3,line_width=5,name='Flux '+actinic.columns[1]))\n",
    "fig_1.add_trace(go.Scatter(x= actinic.iloc[:,0], y=actinic.iloc[:,2], yaxis = \"y2\",mode='markers+lines', line=dict(dash='dot'),marker_size=3,line_width=5,name='Flux '+actinic.columns[2]))\n",
    "fig_1.add_trace(go.Scatter(x= actinic.iloc[:,0], y=actinic.iloc[:,3], yaxis = \"y2\",mode='markers+lines', line=dict(dash='dot'),marker_size=3,line_width=5,name='Flux '+actinic.columns[3]))\n",
    "fig_1.add_trace(go.Scatter(x= actinic.iloc[:,0], y=actinic.iloc[:,4], yaxis = \"y2\",mode='markers+lines', line=dict(dash='dot'),marker_size=3,line_width=5,name='Flux '+actinic.columns[4]))\n",
    "\n",
    "fig_1.update_layout(title='',titlefont=dict(color=\"black\",size=25))\n",
    "fig_1.update_layout( bargap=0)\n",
    "fig_1.update_layout(\n",
    "  plot_bgcolor = 'white',paper_bgcolor = 'white',autosize=False,width=1600, height=900,\n",
    "    xaxis=dict( title=\"Wavelength (nm)\",titlefont=dict(color=\"black\",size=25),showline=True, mirror= True,tickfont=dict(color='black',size=25 ),linecolor=\"black\", linewidth=1,ticks='inside'),\n",
    "    yaxis=dict( title='Molecular cross section (cm<sup>2</sup>)', titlefont=dict(color=\"black\",size=25),tickfont=dict(color='black',size=25 ),linecolor=\"black\", linewidth=1,ticks='inside'),\n",
    "    yaxis2=dict(title='Photon flux (cm<sup>-2</sup>  s<sup>-1</sup> nm<sup>-1</sup>)',titlefont=dict(color=\"black\",size=25),tickfont=dict(color=\"black\" ,size=25),ticks='inside',anchor=\"free\",overlaying=\"y\", side=\"right\", position=1, linecolor=\"black\", linewidth=1,showticklabels = True) )\n",
    "fig_1.update_layout(legend=dict(yanchor=\"top\",y=0.9 ,xanchor=\"left\",x=0.1,  font=dict( size=20,color=\"black\")))\n",
    "config = {'displayModeBar': True}\n",
    "\n",
    "fig_1.show(config=config)\n",
    "fig_1.write_html('cross_section_actinic_flux_202309051909.html')\n"
   ]
  },
  {
   "cell_type": "code",
   "execution_count": 20,
   "metadata": {},
   "outputs": [
    {
     "data": {
      "application/vnd.plotly.v1+json": {
       "config": {
        "displayModeBar": true,
        "plotlyServerURL": "https://plot.ly"
       },
       "data": [
        {
         "line": {
          "width": 4
         },
         "marker": {
          "size": 3
         },
         "mode": "markers+lines",
         "name": "σ(NO3-)",
         "type": "scatter",
         "x": [
          290,
          291,
          292,
          293,
          294,
          295,
          296,
          297,
          298,
          299,
          300,
          301,
          302,
          303,
          304,
          305,
          306,
          307,
          308,
          309,
          310,
          311,
          312,
          313,
          314,
          315,
          316,
          317,
          318,
          319,
          320,
          321,
          322,
          323,
          324,
          325,
          326,
          327,
          328,
          329,
          330,
          331,
          332,
          333,
          334,
          335,
          336,
          337,
          338,
          339,
          340,
          341,
          342,
          343,
          344,
          345,
          346,
          347,
          348,
          349,
          350
         ],
         "y": [
          2.1335310665506855,
          2.213825246474636,
          2.2902958940212557,
          2.362943009190544,
          2.431766591982502,
          2.4967666423971284,
          2.554119628057093,
          2.6038255489623956,
          2.6458844051130366,
          2.680296196509015,
          2.7070609231503324,
          2.722355052659656,
          2.730002117414317,
          2.722355052659656,
          2.7070609231503324,
          2.680296196509015,
          2.6420608727357053,
          2.592354951830403,
          2.5311784337931074,
          2.4585313186238187,
          2.382060671077199,
          2.2902958940212557,
          2.1947075845879813,
          2.087648678022714,
          1.980589771457446,
          1.865883800137517,
          1.747354296440257,
          1.6288247927429964,
          1.5064717566684054,
          1.387942252971145,
          1.2655892168965537,
          1.150883245576624,
          1.0400008066340258,
          0.9329419000687585,
          0.8258829935034911,
          0.7302946840702167,
          0.6385299070142733,
          0.5582357270903227,
          0.4817650795437031,
          0.4129414967517456,
          0.340294381582457,
          0.2867649282998233,
          0.24470607214918255,
          0.2064707483758728,
          0.17588248935722497,
          0.14911776271590813,
          0.12235303607459128,
          0.1032353741879364,
          0.08794124467861249,
          0.07264711516928858,
          0.06117651803729564,
          0.0497059209053027,
          0.04205885615064075,
          0.034411791395978795,
          0.03058825901864782,
          0.02294119426398587,
          0.01911766188665489,
          0.01529412950932391,
          0.01529412950932391,
          0.011470597131992935,
          0.011470597131992935
         ],
         "yaxis": "y"
        }
       ],
       "layout": {
        "autosize": false,
        "bargap": 0,
        "height": 800,
        "legend": {
         "font": {
          "color": "black",
          "size": 40
         },
         "x": 0.05,
         "xanchor": "left",
         "y": 0.8,
         "yanchor": "top"
        },
        "paper_bgcolor": "white",
        "plot_bgcolor": "white",
        "template": {
         "data": {
          "bar": [
           {
            "error_x": {
             "color": "#2a3f5f"
            },
            "error_y": {
             "color": "#2a3f5f"
            },
            "marker": {
             "line": {
              "color": "#E5ECF6",
              "width": 0.5
             },
             "pattern": {
              "fillmode": "overlay",
              "size": 10,
              "solidity": 0.2
             }
            },
            "type": "bar"
           }
          ],
          "barpolar": [
           {
            "marker": {
             "line": {
              "color": "#E5ECF6",
              "width": 0.5
             },
             "pattern": {
              "fillmode": "overlay",
              "size": 10,
              "solidity": 0.2
             }
            },
            "type": "barpolar"
           }
          ],
          "carpet": [
           {
            "aaxis": {
             "endlinecolor": "#2a3f5f",
             "gridcolor": "white",
             "linecolor": "white",
             "minorgridcolor": "white",
             "startlinecolor": "#2a3f5f"
            },
            "baxis": {
             "endlinecolor": "#2a3f5f",
             "gridcolor": "white",
             "linecolor": "white",
             "minorgridcolor": "white",
             "startlinecolor": "#2a3f5f"
            },
            "type": "carpet"
           }
          ],
          "choropleth": [
           {
            "colorbar": {
             "outlinewidth": 0,
             "ticks": ""
            },
            "type": "choropleth"
           }
          ],
          "contour": [
           {
            "colorbar": {
             "outlinewidth": 0,
             "ticks": ""
            },
            "colorscale": [
             [
              0,
              "#0d0887"
             ],
             [
              0.1111111111111111,
              "#46039f"
             ],
             [
              0.2222222222222222,
              "#7201a8"
             ],
             [
              0.3333333333333333,
              "#9c179e"
             ],
             [
              0.4444444444444444,
              "#bd3786"
             ],
             [
              0.5555555555555556,
              "#d8576b"
             ],
             [
              0.6666666666666666,
              "#ed7953"
             ],
             [
              0.7777777777777778,
              "#fb9f3a"
             ],
             [
              0.8888888888888888,
              "#fdca26"
             ],
             [
              1,
              "#f0f921"
             ]
            ],
            "type": "contour"
           }
          ],
          "contourcarpet": [
           {
            "colorbar": {
             "outlinewidth": 0,
             "ticks": ""
            },
            "type": "contourcarpet"
           }
          ],
          "heatmap": [
           {
            "colorbar": {
             "outlinewidth": 0,
             "ticks": ""
            },
            "colorscale": [
             [
              0,
              "#0d0887"
             ],
             [
              0.1111111111111111,
              "#46039f"
             ],
             [
              0.2222222222222222,
              "#7201a8"
             ],
             [
              0.3333333333333333,
              "#9c179e"
             ],
             [
              0.4444444444444444,
              "#bd3786"
             ],
             [
              0.5555555555555556,
              "#d8576b"
             ],
             [
              0.6666666666666666,
              "#ed7953"
             ],
             [
              0.7777777777777778,
              "#fb9f3a"
             ],
             [
              0.8888888888888888,
              "#fdca26"
             ],
             [
              1,
              "#f0f921"
             ]
            ],
            "type": "heatmap"
           }
          ],
          "heatmapgl": [
           {
            "colorbar": {
             "outlinewidth": 0,
             "ticks": ""
            },
            "colorscale": [
             [
              0,
              "#0d0887"
             ],
             [
              0.1111111111111111,
              "#46039f"
             ],
             [
              0.2222222222222222,
              "#7201a8"
             ],
             [
              0.3333333333333333,
              "#9c179e"
             ],
             [
              0.4444444444444444,
              "#bd3786"
             ],
             [
              0.5555555555555556,
              "#d8576b"
             ],
             [
              0.6666666666666666,
              "#ed7953"
             ],
             [
              0.7777777777777778,
              "#fb9f3a"
             ],
             [
              0.8888888888888888,
              "#fdca26"
             ],
             [
              1,
              "#f0f921"
             ]
            ],
            "type": "heatmapgl"
           }
          ],
          "histogram": [
           {
            "marker": {
             "pattern": {
              "fillmode": "overlay",
              "size": 10,
              "solidity": 0.2
             }
            },
            "type": "histogram"
           }
          ],
          "histogram2d": [
           {
            "colorbar": {
             "outlinewidth": 0,
             "ticks": ""
            },
            "colorscale": [
             [
              0,
              "#0d0887"
             ],
             [
              0.1111111111111111,
              "#46039f"
             ],
             [
              0.2222222222222222,
              "#7201a8"
             ],
             [
              0.3333333333333333,
              "#9c179e"
             ],
             [
              0.4444444444444444,
              "#bd3786"
             ],
             [
              0.5555555555555556,
              "#d8576b"
             ],
             [
              0.6666666666666666,
              "#ed7953"
             ],
             [
              0.7777777777777778,
              "#fb9f3a"
             ],
             [
              0.8888888888888888,
              "#fdca26"
             ],
             [
              1,
              "#f0f921"
             ]
            ],
            "type": "histogram2d"
           }
          ],
          "histogram2dcontour": [
           {
            "colorbar": {
             "outlinewidth": 0,
             "ticks": ""
            },
            "colorscale": [
             [
              0,
              "#0d0887"
             ],
             [
              0.1111111111111111,
              "#46039f"
             ],
             [
              0.2222222222222222,
              "#7201a8"
             ],
             [
              0.3333333333333333,
              "#9c179e"
             ],
             [
              0.4444444444444444,
              "#bd3786"
             ],
             [
              0.5555555555555556,
              "#d8576b"
             ],
             [
              0.6666666666666666,
              "#ed7953"
             ],
             [
              0.7777777777777778,
              "#fb9f3a"
             ],
             [
              0.8888888888888888,
              "#fdca26"
             ],
             [
              1,
              "#f0f921"
             ]
            ],
            "type": "histogram2dcontour"
           }
          ],
          "mesh3d": [
           {
            "colorbar": {
             "outlinewidth": 0,
             "ticks": ""
            },
            "type": "mesh3d"
           }
          ],
          "parcoords": [
           {
            "line": {
             "colorbar": {
              "outlinewidth": 0,
              "ticks": ""
             }
            },
            "type": "parcoords"
           }
          ],
          "pie": [
           {
            "automargin": true,
            "type": "pie"
           }
          ],
          "scatter": [
           {
            "fillpattern": {
             "fillmode": "overlay",
             "size": 10,
             "solidity": 0.2
            },
            "type": "scatter"
           }
          ],
          "scatter3d": [
           {
            "line": {
             "colorbar": {
              "outlinewidth": 0,
              "ticks": ""
             }
            },
            "marker": {
             "colorbar": {
              "outlinewidth": 0,
              "ticks": ""
             }
            },
            "type": "scatter3d"
           }
          ],
          "scattercarpet": [
           {
            "marker": {
             "colorbar": {
              "outlinewidth": 0,
              "ticks": ""
             }
            },
            "type": "scattercarpet"
           }
          ],
          "scattergeo": [
           {
            "marker": {
             "colorbar": {
              "outlinewidth": 0,
              "ticks": ""
             }
            },
            "type": "scattergeo"
           }
          ],
          "scattergl": [
           {
            "marker": {
             "colorbar": {
              "outlinewidth": 0,
              "ticks": ""
             }
            },
            "type": "scattergl"
           }
          ],
          "scattermapbox": [
           {
            "marker": {
             "colorbar": {
              "outlinewidth": 0,
              "ticks": ""
             }
            },
            "type": "scattermapbox"
           }
          ],
          "scatterpolar": [
           {
            "marker": {
             "colorbar": {
              "outlinewidth": 0,
              "ticks": ""
             }
            },
            "type": "scatterpolar"
           }
          ],
          "scatterpolargl": [
           {
            "marker": {
             "colorbar": {
              "outlinewidth": 0,
              "ticks": ""
             }
            },
            "type": "scatterpolargl"
           }
          ],
          "scatterternary": [
           {
            "marker": {
             "colorbar": {
              "outlinewidth": 0,
              "ticks": ""
             }
            },
            "type": "scatterternary"
           }
          ],
          "surface": [
           {
            "colorbar": {
             "outlinewidth": 0,
             "ticks": ""
            },
            "colorscale": [
             [
              0,
              "#0d0887"
             ],
             [
              0.1111111111111111,
              "#46039f"
             ],
             [
              0.2222222222222222,
              "#7201a8"
             ],
             [
              0.3333333333333333,
              "#9c179e"
             ],
             [
              0.4444444444444444,
              "#bd3786"
             ],
             [
              0.5555555555555556,
              "#d8576b"
             ],
             [
              0.6666666666666666,
              "#ed7953"
             ],
             [
              0.7777777777777778,
              "#fb9f3a"
             ],
             [
              0.8888888888888888,
              "#fdca26"
             ],
             [
              1,
              "#f0f921"
             ]
            ],
            "type": "surface"
           }
          ],
          "table": [
           {
            "cells": {
             "fill": {
              "color": "#EBF0F8"
             },
             "line": {
              "color": "white"
             }
            },
            "header": {
             "fill": {
              "color": "#C8D4E3"
             },
             "line": {
              "color": "white"
             }
            },
            "type": "table"
           }
          ]
         },
         "layout": {
          "annotationdefaults": {
           "arrowcolor": "#2a3f5f",
           "arrowhead": 0,
           "arrowwidth": 1
          },
          "autotypenumbers": "strict",
          "coloraxis": {
           "colorbar": {
            "outlinewidth": 0,
            "ticks": ""
           }
          },
          "colorscale": {
           "diverging": [
            [
             0,
             "#8e0152"
            ],
            [
             0.1,
             "#c51b7d"
            ],
            [
             0.2,
             "#de77ae"
            ],
            [
             0.3,
             "#f1b6da"
            ],
            [
             0.4,
             "#fde0ef"
            ],
            [
             0.5,
             "#f7f7f7"
            ],
            [
             0.6,
             "#e6f5d0"
            ],
            [
             0.7,
             "#b8e186"
            ],
            [
             0.8,
             "#7fbc41"
            ],
            [
             0.9,
             "#4d9221"
            ],
            [
             1,
             "#276419"
            ]
           ],
           "sequential": [
            [
             0,
             "#0d0887"
            ],
            [
             0.1111111111111111,
             "#46039f"
            ],
            [
             0.2222222222222222,
             "#7201a8"
            ],
            [
             0.3333333333333333,
             "#9c179e"
            ],
            [
             0.4444444444444444,
             "#bd3786"
            ],
            [
             0.5555555555555556,
             "#d8576b"
            ],
            [
             0.6666666666666666,
             "#ed7953"
            ],
            [
             0.7777777777777778,
             "#fb9f3a"
            ],
            [
             0.8888888888888888,
             "#fdca26"
            ],
            [
             1,
             "#f0f921"
            ]
           ],
           "sequentialminus": [
            [
             0,
             "#0d0887"
            ],
            [
             0.1111111111111111,
             "#46039f"
            ],
            [
             0.2222222222222222,
             "#7201a8"
            ],
            [
             0.3333333333333333,
             "#9c179e"
            ],
            [
             0.4444444444444444,
             "#bd3786"
            ],
            [
             0.5555555555555556,
             "#d8576b"
            ],
            [
             0.6666666666666666,
             "#ed7953"
            ],
            [
             0.7777777777777778,
             "#fb9f3a"
            ],
            [
             0.8888888888888888,
             "#fdca26"
            ],
            [
             1,
             "#f0f921"
            ]
           ]
          },
          "colorway": [
           "#636efa",
           "#EF553B",
           "#00cc96",
           "#ab63fa",
           "#FFA15A",
           "#19d3f3",
           "#FF6692",
           "#B6E880",
           "#FF97FF",
           "#FECB52"
          ],
          "font": {
           "color": "#2a3f5f"
          },
          "geo": {
           "bgcolor": "white",
           "lakecolor": "white",
           "landcolor": "#E5ECF6",
           "showlakes": true,
           "showland": true,
           "subunitcolor": "white"
          },
          "hoverlabel": {
           "align": "left"
          },
          "hovermode": "closest",
          "mapbox": {
           "style": "light"
          },
          "paper_bgcolor": "white",
          "plot_bgcolor": "#E5ECF6",
          "polar": {
           "angularaxis": {
            "gridcolor": "white",
            "linecolor": "white",
            "ticks": ""
           },
           "bgcolor": "#E5ECF6",
           "radialaxis": {
            "gridcolor": "white",
            "linecolor": "white",
            "ticks": ""
           }
          },
          "scene": {
           "xaxis": {
            "backgroundcolor": "#E5ECF6",
            "gridcolor": "white",
            "gridwidth": 2,
            "linecolor": "white",
            "showbackground": true,
            "ticks": "",
            "zerolinecolor": "white"
           },
           "yaxis": {
            "backgroundcolor": "#E5ECF6",
            "gridcolor": "white",
            "gridwidth": 2,
            "linecolor": "white",
            "showbackground": true,
            "ticks": "",
            "zerolinecolor": "white"
           },
           "zaxis": {
            "backgroundcolor": "#E5ECF6",
            "gridcolor": "white",
            "gridwidth": 2,
            "linecolor": "white",
            "showbackground": true,
            "ticks": "",
            "zerolinecolor": "white"
           }
          },
          "shapedefaults": {
           "line": {
            "color": "#2a3f5f"
           }
          },
          "ternary": {
           "aaxis": {
            "gridcolor": "white",
            "linecolor": "white",
            "ticks": ""
           },
           "baxis": {
            "gridcolor": "white",
            "linecolor": "white",
            "ticks": ""
           },
           "bgcolor": "#E5ECF6",
           "caxis": {
            "gridcolor": "white",
            "linecolor": "white",
            "ticks": ""
           }
          },
          "title": {
           "x": 0.05
          },
          "xaxis": {
           "automargin": true,
           "gridcolor": "white",
           "linecolor": "white",
           "ticks": "",
           "title": {
            "standoff": 15
           },
           "zerolinecolor": "white",
           "zerolinewidth": 2
          },
          "yaxis": {
           "automargin": true,
           "gridcolor": "white",
           "linecolor": "white",
           "ticks": "",
           "title": {
            "standoff": 15
           },
           "zerolinecolor": "white",
           "zerolinewidth": 2
          }
         }
        },
        "title": {
         "font": {
          "color": "black",
          "size": 25
         },
         "text": ""
        },
        "width": 1000,
        "xaxis": {
         "linecolor": "black",
         "linewidth": 6,
         "mirror": true,
         "showgrid": false,
         "showline": true,
         "tickfont": {
          "color": "black",
          "size": 40
         },
         "ticklen": 6,
         "ticks": "inside",
         "tickwidth": 3,
         "title": {
          "font": {
           "color": "black",
           "size": 40
          },
          "text": "Wavelength (nm)"
         }
        },
        "yaxis": {
         "linecolor": "black",
         "linewidth": 6,
         "mirror": true,
         "showgrid": false,
         "tickfont": {
          "color": "black",
          "size": 40
         },
         "ticklen": 6,
         "ticks": "inside",
         "tickwidth": 3,
         "title": {
          "font": {
           "color": "black",
           "size": 40
          },
          "text": "Molecular cross section (10<sup>-20</sup> cm<sup>2</sup>)"
         },
         "zeroline": false
        },
        "yaxis2": {
         "anchor": "free",
         "linecolor": "black",
         "linewidth": 2,
         "overlaying": "y",
         "position": 1,
         "showticklabels": true,
         "side": "right",
         "tickfont": {
          "color": "black",
          "size": 40
         },
         "ticks": "inside",
         "title": {
          "font": {
           "color": "black",
           "size": 40
          },
          "text": ""
         }
        }
       }
      }
     },
     "metadata": {},
     "output_type": "display_data"
    }
   ],
   "source": [
    "import plotly.graph_objects as go\n",
    "\n",
    "fig_1= go.Figure()\n",
    "fig_1.add_trace(go.Scatter(x= new_cross_section_nitrate.index,y=new_cross_section_nitrate['molecular_cross_section']*1e20,yaxis = \"y1\",mode='markers+lines',marker_size=3,line_width=4,\n",
    "                           name=\"σ(NO3-)\"))\n",
    "# fig_1.add_trace(go.Scatter(x= new_cross_section_nitrite.index,y=new_cross_section_nitrite['molecular_cross_section']*10,yaxis = \"y1\",mode='markers+lines',marker_size=3,line_width=2,name=\"σ(NO2-)*10\"))\n",
    "# fig_1.add_trace(go.Scatter(x= new_cross_section_I2.index,y=new_cross_section_I2['molecular_cross_section'],yaxis = \"y1\",mode='markers+lines',marker_size=3,line_width=2,name=\"σ(I2)\"))\n",
    "# fig_1.add_trace(go.Scatter(x= new_cross_section_clno.index,y=new_cross_section_clno['molecular_cross_section'],yaxis = \"y1\",mode='markers+lines',marker_size=3,line_width=2,name=\"σ(ClNO)\"))\n",
    "# fig_1.add_trace(go.Scatter(x= new_cross_section_NO2.index,y=new_cross_section_NO2['molecular_cross_section'],yaxis = \"y1\",mode='markers+lines',marker_size=3,line_width=2,name=\"σ(NO2)\"))\n",
    "# fig_1.add_trace(go.Scatter(x= new_cross_section_HONO.index,y=new_cross_section_HONO['molecular_cross_section'],yaxis = \"y1\",mode='markers+lines',marker_size=3,line_width=2,name=\"σ(HONO)\"))\n",
    "\n",
    "\n",
    "# fig_1.add_trace(go.Scatter(x= actinic.iloc[:,0], y=actinic.iloc[:,1], yaxis = \"y2\",mode='markers+lines', line=dict(dash='dot'),marker_size=3,line_width=5,name='Flux '+actinic.columns[1]))\n",
    "# fig_1.add_trace(go.Scatter(x= actinic.iloc[:,0], y=actinic.iloc[:,2], yaxis = \"y2\",mode='markers+lines', line=dict(dash='dot'),marker_size=3,line_width=5,name='Flux '+actinic.columns[2]))\n",
    "# fig_1.add_trace(go.Scatter(x= actinic.iloc[:,0], y=actinic.iloc[:,3], yaxis = \"y2\",mode='markers+lines', line=dict(dash='dot'),marker_size=3,line_width=5,name='Flux '+actinic.columns[3]))\n",
    "# fig_1.add_trace(go.Scatter(x= actinic.iloc[:,0], y=actinic.iloc[:,4], yaxis = \"y2\",mode='markers+lines', line=dict(dash='dot'),marker_size=3,line_width=5,name='Flux '+actinic.columns[4]))\n",
    "\n",
    "fig_1.update_layout(title='',titlefont=dict(color=\"black\",size=25))\n",
    "fig_1.update_layout( bargap=0)\n",
    "# fig_1.update_layout(\n",
    "#   plot_bgcolor = 'white',paper_bgcolor = 'white',autosize=False,width=1000, height=500,\n",
    "#     xaxis=dict( title=\"Wavelength (nm)\",titlefont=dict(color=\"black\",size=25),showline=True, mirror= True,tickfont=dict(color='black',size=25 ),linecolor=\"black\", linewidth=1,ticks='inside'),\n",
    "#     yaxis=dict( title='Molecular cross section (cm<sup>2</sup>)', titlefont=dict(color=\"black\",size=25),tickfont=dict(color='black',size=25 ),linecolor=\"black\", linewidth=1,ticks='inside'),\n",
    "#     yaxis2=dict(title='Photon flux (cm<sup>-2</sup>  s<sup>-1</sup> nm<sup>-1</sup>)',titlefont=dict(color=\"black\",size=25),tickfont=dict(color=\"black\" ,size=25),ticks='inside',anchor=\"free\",overlaying=\"y\", side=\"right\", position=1, linecolor=\"black\", linewidth=1,showticklabels = True) )\n",
    "# fig_1.update_layout(legend=dict(yanchor=\"top\",y=0.9 ,xanchor=\"left\",x=0.1,  font=dict( size=20,color=\"black\")))\n",
    "# config = {'displayModeBar': True}\n",
    "\n",
    "\n",
    "\n",
    "fig_1.update_layout(\n",
    "  plot_bgcolor = 'white',paper_bgcolor = 'white',autosize=False,width=1000, height=800,\n",
    "    xaxis=dict( title=\"Wavelength (nm)\",titlefont=dict(color=\"black\",size=40),ticklen=6,tickwidth=3,showline=True, mirror= True,tickfont=dict(color='black',size=40 ),linecolor=\"black\", linewidth=6,ticks='inside'),\n",
    "    yaxis=dict( title='Molecular cross section (10<sup>-20</sup> cm<sup>2</sup>)', zeroline=False,\n",
    "              #  range=[-2,68],\n",
    "               titlefont=dict(color=\"black\",size=40),mirror= True,tickfont=dict(color='black',size=40 ),linecolor=\"black\", linewidth=6,ticks='inside',ticklen=6,tickwidth=3,\n",
    "               ),\n",
    "    yaxis2=dict(title='',titlefont=dict(color=\"black\",size=40),tickfont=dict(color=\"black\" ,size=40),ticks='inside',anchor=\"free\",overlaying=\"y\", side=\"right\", position=1, linecolor=\"black\", linewidth=2,showticklabels = True) )\n",
    "fig_1.update_layout(legend=dict(yanchor=\"top\",y=0.8 ,xanchor=\"left\",x=0.05,  font=dict( size=40,color=\"black\")))\n",
    "fig_1.update_layout(xaxis=dict(showgrid=False),\n",
    "              yaxis=dict(showgrid=False)\n",
    ")\n",
    "\n",
    "fig_1.show(config=config)\n",
    "# fig_1.write_html('cross_section_actinic_flux_202309051909.html')\n",
    "fig_1.write_image('nitrate_absorption.png')\n",
    "\n"
   ]
  },
  {
   "cell_type": "code",
   "execution_count": 25,
   "metadata": {},
   "outputs": [
    {
     "data": {
      "application/vnd.plotly.v1+json": {
       "config": {
        "displayModeBar": true,
        "plotlyServerURL": "https://plot.ly"
       },
       "data": [
        {
         "line": {
          "width": 5
         },
         "marker": {
          "size": 5
         },
         "mode": "markers+lines",
         "name": "Cross section (NO<sub>3</sub><sup>-</sup>)",
         "showlegend": true,
         "type": "scatter",
         "x": [
          290,
          291,
          292,
          293,
          294,
          295,
          296,
          297,
          298,
          299,
          300,
          301,
          302,
          303,
          304,
          305,
          306,
          307,
          308,
          309,
          310,
          311,
          312,
          313,
          314,
          315,
          316,
          317,
          318,
          319,
          320,
          321,
          322,
          323,
          324,
          325,
          326,
          327,
          328,
          329,
          330,
          331,
          332,
          333,
          334,
          335,
          336,
          337,
          338,
          339,
          340,
          341,
          342,
          343,
          344,
          345,
          346,
          347,
          348,
          349,
          350
         ],
         "y": [
          2.1335310665506855,
          2.213825246474636,
          2.2902958940212557,
          2.362943009190544,
          2.431766591982502,
          2.4967666423971284,
          2.554119628057093,
          2.6038255489623956,
          2.6458844051130366,
          2.680296196509015,
          2.7070609231503324,
          2.722355052659656,
          2.730002117414317,
          2.722355052659656,
          2.7070609231503324,
          2.680296196509015,
          2.6420608727357053,
          2.592354951830403,
          2.5311784337931074,
          2.4585313186238187,
          2.382060671077199,
          2.2902958940212557,
          2.1947075845879813,
          2.087648678022714,
          1.980589771457446,
          1.865883800137517,
          1.747354296440257,
          1.6288247927429964,
          1.5064717566684054,
          1.387942252971145,
          1.2655892168965537,
          1.150883245576624,
          1.0400008066340258,
          0.9329419000687585,
          0.8258829935034911,
          0.7302946840702167,
          0.6385299070142733,
          0.5582357270903227,
          0.4817650795437031,
          0.4129414967517456,
          0.340294381582457,
          0.2867649282998233,
          0.24470607214918255,
          0.2064707483758728,
          0.17588248935722497,
          0.14911776271590813,
          0.12235303607459128,
          0.1032353741879364,
          0.08794124467861249,
          0.07264711516928858,
          0.06117651803729564,
          0.0497059209053027,
          0.04205885615064075,
          0.034411791395978795,
          0.03058825901864782,
          0.02294119426398587,
          0.01911766188665489,
          0.01529412950932391,
          0.01529412950932391,
          0.011470597131992935,
          0.011470597131992935
         ],
         "yaxis": "y"
        },
        {
         "line": {
          "dash": "dot",
          "width": 5
         },
         "marker": {
          "size": 3
         },
         "mode": "markers+lines",
         "name": "Solar actinic flux",
         "showlegend": true,
         "type": "scatter",
         "x": [
          280.77,
          281.55,
          282.32,
          283.1,
          283.88,
          284.65,
          285.42,
          286.2,
          286.98,
          287.75,
          288.52,
          289.3,
          290.07,
          290.85,
          291.63,
          292.4,
          293.17,
          293.95,
          294.73,
          295.5,
          296.27,
          297.05,
          297.82,
          298.6,
          299.38,
          300.15,
          300.92,
          301.7,
          302.48,
          303.25,
          304.02,
          304.8,
          305.57,
          306.35,
          307.13,
          307.9,
          308.67,
          309.45,
          310.23,
          311,
          311.77,
          312.55,
          313.32,
          314.1,
          314.88,
          315.65,
          316.42,
          317.2,
          317.98,
          318.75,
          319.52,
          320.3,
          321.07,
          321.85,
          322.63,
          323.4,
          324.17,
          324.95,
          325.73,
          326.5,
          327.27,
          328.05,
          328.82,
          329.6,
          330.38,
          331.15,
          331.92,
          332.7,
          333.48,
          334.25,
          335.02,
          335.8,
          336.57,
          337.35,
          338.13,
          338.9,
          339.67,
          340.45,
          341.23,
          342,
          342.77,
          343.55,
          344.32,
          345.1,
          345.88,
          346.65,
          347.42,
          348.2,
          348.98,
          349.75,
          350.52,
          351.3,
          352.07,
          352.85,
          353.63,
          354.4,
          355.17,
          355.95,
          356.73,
          357.5,
          358.27,
          359.05,
          359.82,
          360.6,
          361.38,
          362.15,
          362.92,
          363.7,
          364.48,
          365.25,
          366.02,
          366.8,
          367.57,
          368.35,
          369.13,
          369.9,
          370.67,
          371.45,
          372.23,
          373,
          373.77,
          374.55,
          375.32,
          376.1,
          376.88,
          377.65,
          378.42,
          379.2,
          379.98,
          380.75,
          381.52,
          382.3,
          383.07,
          383.85,
          384.63,
          385.4,
          386.17,
          386.95,
          387.72,
          388.5,
          389.27,
          390.05,
          390.82,
          391.6,
          392.38,
          393.15,
          393.92,
          394.7,
          395.47,
          396.25,
          397.02,
          397.8,
          398.57,
          399.35,
          400.13,
          400.9,
          401.67,
          402.45,
          403.22,
          404,
          404.77,
          405.55,
          406.32,
          407.1,
          407.88,
          408.65,
          409.42,
          410.2,
          410.97,
          411.75,
          412.52,
          413.3,
          414.07,
          414.85,
          415.63,
          416.4,
          417.17,
          417.95,
          418.72,
          419.5,
          420.27,
          421.05,
          421.82,
          422.6,
          423.38,
          424.15,
          424.92,
          425.7,
          426.47,
          427.25,
          428.02,
          428.8,
          429.57,
          430.35,
          431.13,
          431.9,
          432.67,
          433.45,
          434.22,
          435,
          435.77,
          436.55,
          437.32,
          438.1,
          438.88,
          439.65,
          440.42,
          441.2,
          441.97,
          442.75,
          443.52,
          444.3,
          445.07,
          445.85,
          446.63,
          447.4,
          448.17,
          448.95,
          449.72,
          450.5,
          451.27,
          452.05,
          452.82,
          453.6,
          454.38,
          455.15,
          455.92,
          456.7,
          457.47,
          458.25,
          459.02,
          459.8,
          460.57,
          461.35,
          462.13,
          462.9,
          463.67,
          464.45,
          465.22,
          466,
          466.77,
          467.55,
          468.32,
          469.1,
          469.88,
          470.65,
          471.42,
          472.2,
          472.97,
          473.75,
          474.52,
          475.3,
          476.07,
          476.85,
          477.63,
          478.4,
          479.17,
          479.95,
          480.72,
          481.5,
          482.27,
          483.05,
          483.82,
          484.6,
          485.38,
          486.15,
          486.92,
          487.7,
          488.47,
          489.25,
          490.02,
          490.8,
          491.57,
          492.35,
          493.13,
          493.9,
          494.67,
          495.45,
          496.22,
          497,
          497.77,
          498.55,
          499.32,
          500.1,
          500.88,
          501.65,
          502.42,
          503.2,
          503.97,
          504.75,
          505.52,
          506.3,
          507.07,
          507.85,
          508.63,
          509.4,
          510.17,
          510.95,
          511.72,
          512.5,
          513.28,
          514.05,
          514.83,
          515.6,
          516.38,
          517.15,
          517.92,
          518.7,
          519.48,
          520.25,
          521.03,
          521.8,
          522.58,
          523.35,
          524.13,
          524.9,
          525.67,
          526.45,
          527.23,
          528,
          528.78,
          529.55,
          530.33,
          531.1,
          531.88,
          532.65,
          533.42,
          534.2,
          534.98,
          535.75,
          536.53,
          537.3,
          538.08,
          538.85,
          539.63,
          540.4,
          541.17,
          541.95,
          542.73,
          543.5,
          544.28,
          545.05,
          545.83,
          546.6,
          547.38,
          548.15,
          548.92,
          549.7,
          550.48,
          551.25,
          552.03,
          552.8,
          553.58,
          554.35,
          555.13,
          555.9,
          556.67,
          557.45,
          558.23,
          559,
          559.78,
          560.55,
          561.33,
          562.1,
          562.88,
          563.65,
          564.42,
          565.2,
          565.98,
          566.75,
          567.53,
          568.3,
          569.08,
          569.85,
          570.63,
          571.4,
          572.17,
          572.95,
          573.73,
          574.5,
          575.28,
          576.05,
          576.83,
          577.6,
          578.38,
          579.15,
          579.92,
          580.7,
          581.48,
          582.25,
          583.03,
          583.8,
          584.58,
          585.35,
          586.13,
          586.9,
          587.67,
          588.45,
          589.23,
          590,
          null,
          null,
          null,
          null,
          null,
          null,
          null,
          null,
          null,
          null,
          null,
          null,
          null,
          null,
          null,
          null,
          null,
          null,
          null,
          null
         ],
         "y": [
          0,
          0,
          0,
          0,
          0,
          0,
          0,
          0,
          0,
          0,
          0,
          0.00006357,
          0.0001676,
          0.0005271,
          0.001072,
          0.002893,
          0.005363,
          0.01085,
          0.01355,
          0.03159,
          0.03068,
          0.06331,
          0.08107,
          0.1428,
          0.1594,
          0.2169,
          0.2298,
          0.34,
          0.3852,
          0.3455,
          0.4769,
          0.6197,
          0.6136,
          0.6998,
          0.7081,
          0.7345,
          0.7386,
          1.047,
          0.8307,
          1.017,
          1.242,
          1.062,
          1.068,
          1.108,
          1.303,
          1.463,
          1.779,
          1.659,
          1.534,
          1.996,
          1.817,
          1.799,
          1.776,
          1.671,
          1.871,
          1.9,
          1.488,
          1.636,
          1.73,
          1.884,
          2.017,
          1.795,
          1.992,
          2.072,
          1.455,
          1.996,
          1.871,
          1.831,
          2.015,
          1.691,
          2.372,
          2.047,
          1.849,
          2.23,
          2.417,
          2.262,
          2.102,
          1.791,
          1.384,
          2.332,
          2.165,
          1.955,
          2.299,
          2.048,
          2.238,
          2.731,
          2.894,
          2.752,
          2.421,
          2.909,
          2.643,
          3.029,
          2.241,
          2.028,
          2.229,
          2.519,
          2.519,
          3.004,
          3.279,
          2.43,
          2.926,
          2.754,
          1.838,
          1.616,
          2.429,
          2.407,
          2.457,
          2.287,
          2.296,
          2.899,
          2.852,
          3.388,
          2.545,
          1.108,
          2.611,
          3.365,
          1.979,
          2.287,
          3.935,
          4.099,
          4.316,
          4.448,
          4.624,
          4.239,
          4.164,
          4.332,
          4.087,
          4.126,
          4.603,
          4.519,
          3.925,
          4.724,
          4.69,
          4.555,
          4.689,
          4.492,
          4.896,
          4.483,
          4.525,
          4.681,
          4.712,
          4.924,
          4.374,
          4.776,
          4.801,
          4.659,
          4.716,
          4.324,
          4.588,
          4.203,
          3.106,
          4.357,
          4.662,
          5.131,
          4.442,
          5.062,
          5.451,
          5.148,
          4.598,
          5.228,
          4.942,
          5.537,
          5.771,
          5.555,
          5.739,
          5.439,
          5.42,
          5.922,
          5.747,
          5.73,
          6.159,
          6.078,
          5.833,
          5.634,
          6,
          5.786,
          6.191,
          6.259,
          5.871,
          6.016,
          6.104,
          6.284,
          6.278,
          6.175,
          5.989,
          6.111,
          5.953,
          6.175,
          6.068,
          6.17,
          5.811,
          6.084,
          6.38,
          6.053,
          6.363,
          6.267,
          6.106,
          6.526,
          6.367,
          6.445,
          6.339,
          6.494,
          6.468,
          6.335,
          6.229,
          5.958,
          4.954,
          5.772,
          6.236,
          6.216,
          6.484,
          6.267,
          5.852,
          6.314,
          6.414,
          6.206,
          6.549,
          6.489,
          6.01,
          6.365,
          5.924,
          5.875,
          6.072,
          6.332,
          6.035,
          6.267,
          6.394,
          6.279,
          5.983,
          6.354,
          6.094,
          6.361,
          6.143,
          6.123,
          5.85,
          6.212,
          5.618,
          5.431,
          5.495,
          5.935,
          6.077,
          6.19,
          6.093,
          6.215,
          6.475,
          6.355,
          5.85,
          5.788,
          6.312,
          6.428,
          6.468,
          6.586,
          6.069,
          6.377,
          6.261,
          6.568,
          6.399,
          6.267,
          6.468,
          6.179,
          6.131,
          6.317,
          6.443,
          6.236,
          6.469,
          6.558,
          6.52,
          6.382,
          6.509,
          6.598,
          6.555,
          6.525,
          6.549,
          6.52,
          6.616,
          6.643,
          6.489,
          6.383,
          6.333,
          6.239,
          6.372,
          6.405,
          6.398,
          6.496,
          6.504,
          6.397,
          6.284,
          6.602,
          6.331,
          6.534,
          6.353,
          6.255,
          6.663,
          6.631,
          6.6,
          6.48,
          6.536,
          6.601,
          6.333,
          6.506,
          6.573,
          6.549,
          6.671,
          6.635,
          6.642,
          6.436,
          6.506,
          6.653,
          6.584,
          5.638,
          6.558,
          6.525,
          6.625,
          6.501,
          6.607,
          6.447,
          6.593,
          6.542,
          6.43,
          6.509,
          6.445,
          6.397,
          6.318,
          6.587,
          6.559,
          6.534,
          6.545,
          6.654,
          6.49,
          6.556,
          6.434,
          6.622,
          6.467,
          6.381,
          6.524,
          6.503,
          6.272,
          6.372,
          6.593,
          6.539,
          6.644,
          6.559,
          6.563,
          6.441,
          6.392,
          6.398,
          6.546,
          6.635,
          6.594,
          6.594,
          6.506,
          6.443,
          6.529,
          6.508,
          6.5,
          6.624,
          6.443,
          6.642,
          6.617,
          6.567,
          6.406,
          6.471,
          6.527,
          6.548,
          6.555,
          6.43,
          6.52,
          6.538,
          6.591,
          6.256,
          6.535,
          6.589,
          6.516,
          6.557,
          6.476,
          6.291,
          5.081,
          6.224,
          6.433,
          6.352,
          6.479,
          6.465,
          6.495,
          6.369,
          6.396,
          6.494,
          6.411,
          6.46,
          6.547,
          6.556,
          6.532,
          6.455,
          6.543,
          6.601,
          6.584,
          6.528,
          6.549,
          6.532,
          6.486,
          6.471,
          6.448,
          6.483,
          6.523,
          6.511,
          6.387,
          6.48,
          6.503,
          6.544,
          6.451,
          6.524,
          6.482,
          6.43,
          6.464,
          6.506,
          6.493,
          6.501,
          6.536,
          6.489,
          6.455,
          6.56
         ],
         "yaxis": "y2"
        }
       ],
       "layout": {
        "autosize": false,
        "bargap": 0,
        "height": 800,
        "legend": {
         "font": {
          "color": "black",
          "size": 25
         },
         "x": 0.5,
         "xanchor": "left",
         "y": 0.3,
         "yanchor": "top"
        },
        "paper_bgcolor": "white",
        "plot_bgcolor": "white",
        "template": {
         "data": {
          "bar": [
           {
            "error_x": {
             "color": "#2a3f5f"
            },
            "error_y": {
             "color": "#2a3f5f"
            },
            "marker": {
             "line": {
              "color": "#E5ECF6",
              "width": 0.5
             },
             "pattern": {
              "fillmode": "overlay",
              "size": 10,
              "solidity": 0.2
             }
            },
            "type": "bar"
           }
          ],
          "barpolar": [
           {
            "marker": {
             "line": {
              "color": "#E5ECF6",
              "width": 0.5
             },
             "pattern": {
              "fillmode": "overlay",
              "size": 10,
              "solidity": 0.2
             }
            },
            "type": "barpolar"
           }
          ],
          "carpet": [
           {
            "aaxis": {
             "endlinecolor": "#2a3f5f",
             "gridcolor": "white",
             "linecolor": "white",
             "minorgridcolor": "white",
             "startlinecolor": "#2a3f5f"
            },
            "baxis": {
             "endlinecolor": "#2a3f5f",
             "gridcolor": "white",
             "linecolor": "white",
             "minorgridcolor": "white",
             "startlinecolor": "#2a3f5f"
            },
            "type": "carpet"
           }
          ],
          "choropleth": [
           {
            "colorbar": {
             "outlinewidth": 0,
             "ticks": ""
            },
            "type": "choropleth"
           }
          ],
          "contour": [
           {
            "colorbar": {
             "outlinewidth": 0,
             "ticks": ""
            },
            "colorscale": [
             [
              0,
              "#0d0887"
             ],
             [
              0.1111111111111111,
              "#46039f"
             ],
             [
              0.2222222222222222,
              "#7201a8"
             ],
             [
              0.3333333333333333,
              "#9c179e"
             ],
             [
              0.4444444444444444,
              "#bd3786"
             ],
             [
              0.5555555555555556,
              "#d8576b"
             ],
             [
              0.6666666666666666,
              "#ed7953"
             ],
             [
              0.7777777777777778,
              "#fb9f3a"
             ],
             [
              0.8888888888888888,
              "#fdca26"
             ],
             [
              1,
              "#f0f921"
             ]
            ],
            "type": "contour"
           }
          ],
          "contourcarpet": [
           {
            "colorbar": {
             "outlinewidth": 0,
             "ticks": ""
            },
            "type": "contourcarpet"
           }
          ],
          "heatmap": [
           {
            "colorbar": {
             "outlinewidth": 0,
             "ticks": ""
            },
            "colorscale": [
             [
              0,
              "#0d0887"
             ],
             [
              0.1111111111111111,
              "#46039f"
             ],
             [
              0.2222222222222222,
              "#7201a8"
             ],
             [
              0.3333333333333333,
              "#9c179e"
             ],
             [
              0.4444444444444444,
              "#bd3786"
             ],
             [
              0.5555555555555556,
              "#d8576b"
             ],
             [
              0.6666666666666666,
              "#ed7953"
             ],
             [
              0.7777777777777778,
              "#fb9f3a"
             ],
             [
              0.8888888888888888,
              "#fdca26"
             ],
             [
              1,
              "#f0f921"
             ]
            ],
            "type": "heatmap"
           }
          ],
          "heatmapgl": [
           {
            "colorbar": {
             "outlinewidth": 0,
             "ticks": ""
            },
            "colorscale": [
             [
              0,
              "#0d0887"
             ],
             [
              0.1111111111111111,
              "#46039f"
             ],
             [
              0.2222222222222222,
              "#7201a8"
             ],
             [
              0.3333333333333333,
              "#9c179e"
             ],
             [
              0.4444444444444444,
              "#bd3786"
             ],
             [
              0.5555555555555556,
              "#d8576b"
             ],
             [
              0.6666666666666666,
              "#ed7953"
             ],
             [
              0.7777777777777778,
              "#fb9f3a"
             ],
             [
              0.8888888888888888,
              "#fdca26"
             ],
             [
              1,
              "#f0f921"
             ]
            ],
            "type": "heatmapgl"
           }
          ],
          "histogram": [
           {
            "marker": {
             "pattern": {
              "fillmode": "overlay",
              "size": 10,
              "solidity": 0.2
             }
            },
            "type": "histogram"
           }
          ],
          "histogram2d": [
           {
            "colorbar": {
             "outlinewidth": 0,
             "ticks": ""
            },
            "colorscale": [
             [
              0,
              "#0d0887"
             ],
             [
              0.1111111111111111,
              "#46039f"
             ],
             [
              0.2222222222222222,
              "#7201a8"
             ],
             [
              0.3333333333333333,
              "#9c179e"
             ],
             [
              0.4444444444444444,
              "#bd3786"
             ],
             [
              0.5555555555555556,
              "#d8576b"
             ],
             [
              0.6666666666666666,
              "#ed7953"
             ],
             [
              0.7777777777777778,
              "#fb9f3a"
             ],
             [
              0.8888888888888888,
              "#fdca26"
             ],
             [
              1,
              "#f0f921"
             ]
            ],
            "type": "histogram2d"
           }
          ],
          "histogram2dcontour": [
           {
            "colorbar": {
             "outlinewidth": 0,
             "ticks": ""
            },
            "colorscale": [
             [
              0,
              "#0d0887"
             ],
             [
              0.1111111111111111,
              "#46039f"
             ],
             [
              0.2222222222222222,
              "#7201a8"
             ],
             [
              0.3333333333333333,
              "#9c179e"
             ],
             [
              0.4444444444444444,
              "#bd3786"
             ],
             [
              0.5555555555555556,
              "#d8576b"
             ],
             [
              0.6666666666666666,
              "#ed7953"
             ],
             [
              0.7777777777777778,
              "#fb9f3a"
             ],
             [
              0.8888888888888888,
              "#fdca26"
             ],
             [
              1,
              "#f0f921"
             ]
            ],
            "type": "histogram2dcontour"
           }
          ],
          "mesh3d": [
           {
            "colorbar": {
             "outlinewidth": 0,
             "ticks": ""
            },
            "type": "mesh3d"
           }
          ],
          "parcoords": [
           {
            "line": {
             "colorbar": {
              "outlinewidth": 0,
              "ticks": ""
             }
            },
            "type": "parcoords"
           }
          ],
          "pie": [
           {
            "automargin": true,
            "type": "pie"
           }
          ],
          "scatter": [
           {
            "fillpattern": {
             "fillmode": "overlay",
             "size": 10,
             "solidity": 0.2
            },
            "type": "scatter"
           }
          ],
          "scatter3d": [
           {
            "line": {
             "colorbar": {
              "outlinewidth": 0,
              "ticks": ""
             }
            },
            "marker": {
             "colorbar": {
              "outlinewidth": 0,
              "ticks": ""
             }
            },
            "type": "scatter3d"
           }
          ],
          "scattercarpet": [
           {
            "marker": {
             "colorbar": {
              "outlinewidth": 0,
              "ticks": ""
             }
            },
            "type": "scattercarpet"
           }
          ],
          "scattergeo": [
           {
            "marker": {
             "colorbar": {
              "outlinewidth": 0,
              "ticks": ""
             }
            },
            "type": "scattergeo"
           }
          ],
          "scattergl": [
           {
            "marker": {
             "colorbar": {
              "outlinewidth": 0,
              "ticks": ""
             }
            },
            "type": "scattergl"
           }
          ],
          "scattermapbox": [
           {
            "marker": {
             "colorbar": {
              "outlinewidth": 0,
              "ticks": ""
             }
            },
            "type": "scattermapbox"
           }
          ],
          "scatterpolar": [
           {
            "marker": {
             "colorbar": {
              "outlinewidth": 0,
              "ticks": ""
             }
            },
            "type": "scatterpolar"
           }
          ],
          "scatterpolargl": [
           {
            "marker": {
             "colorbar": {
              "outlinewidth": 0,
              "ticks": ""
             }
            },
            "type": "scatterpolargl"
           }
          ],
          "scatterternary": [
           {
            "marker": {
             "colorbar": {
              "outlinewidth": 0,
              "ticks": ""
             }
            },
            "type": "scatterternary"
           }
          ],
          "surface": [
           {
            "colorbar": {
             "outlinewidth": 0,
             "ticks": ""
            },
            "colorscale": [
             [
              0,
              "#0d0887"
             ],
             [
              0.1111111111111111,
              "#46039f"
             ],
             [
              0.2222222222222222,
              "#7201a8"
             ],
             [
              0.3333333333333333,
              "#9c179e"
             ],
             [
              0.4444444444444444,
              "#bd3786"
             ],
             [
              0.5555555555555556,
              "#d8576b"
             ],
             [
              0.6666666666666666,
              "#ed7953"
             ],
             [
              0.7777777777777778,
              "#fb9f3a"
             ],
             [
              0.8888888888888888,
              "#fdca26"
             ],
             [
              1,
              "#f0f921"
             ]
            ],
            "type": "surface"
           }
          ],
          "table": [
           {
            "cells": {
             "fill": {
              "color": "#EBF0F8"
             },
             "line": {
              "color": "white"
             }
            },
            "header": {
             "fill": {
              "color": "#C8D4E3"
             },
             "line": {
              "color": "white"
             }
            },
            "type": "table"
           }
          ]
         },
         "layout": {
          "annotationdefaults": {
           "arrowcolor": "#2a3f5f",
           "arrowhead": 0,
           "arrowwidth": 1
          },
          "autotypenumbers": "strict",
          "coloraxis": {
           "colorbar": {
            "outlinewidth": 0,
            "ticks": ""
           }
          },
          "colorscale": {
           "diverging": [
            [
             0,
             "#8e0152"
            ],
            [
             0.1,
             "#c51b7d"
            ],
            [
             0.2,
             "#de77ae"
            ],
            [
             0.3,
             "#f1b6da"
            ],
            [
             0.4,
             "#fde0ef"
            ],
            [
             0.5,
             "#f7f7f7"
            ],
            [
             0.6,
             "#e6f5d0"
            ],
            [
             0.7,
             "#b8e186"
            ],
            [
             0.8,
             "#7fbc41"
            ],
            [
             0.9,
             "#4d9221"
            ],
            [
             1,
             "#276419"
            ]
           ],
           "sequential": [
            [
             0,
             "#0d0887"
            ],
            [
             0.1111111111111111,
             "#46039f"
            ],
            [
             0.2222222222222222,
             "#7201a8"
            ],
            [
             0.3333333333333333,
             "#9c179e"
            ],
            [
             0.4444444444444444,
             "#bd3786"
            ],
            [
             0.5555555555555556,
             "#d8576b"
            ],
            [
             0.6666666666666666,
             "#ed7953"
            ],
            [
             0.7777777777777778,
             "#fb9f3a"
            ],
            [
             0.8888888888888888,
             "#fdca26"
            ],
            [
             1,
             "#f0f921"
            ]
           ],
           "sequentialminus": [
            [
             0,
             "#0d0887"
            ],
            [
             0.1111111111111111,
             "#46039f"
            ],
            [
             0.2222222222222222,
             "#7201a8"
            ],
            [
             0.3333333333333333,
             "#9c179e"
            ],
            [
             0.4444444444444444,
             "#bd3786"
            ],
            [
             0.5555555555555556,
             "#d8576b"
            ],
            [
             0.6666666666666666,
             "#ed7953"
            ],
            [
             0.7777777777777778,
             "#fb9f3a"
            ],
            [
             0.8888888888888888,
             "#fdca26"
            ],
            [
             1,
             "#f0f921"
            ]
           ]
          },
          "colorway": [
           "#636efa",
           "#EF553B",
           "#00cc96",
           "#ab63fa",
           "#FFA15A",
           "#19d3f3",
           "#FF6692",
           "#B6E880",
           "#FF97FF",
           "#FECB52"
          ],
          "font": {
           "color": "#2a3f5f"
          },
          "geo": {
           "bgcolor": "white",
           "lakecolor": "white",
           "landcolor": "#E5ECF6",
           "showlakes": true,
           "showland": true,
           "subunitcolor": "white"
          },
          "hoverlabel": {
           "align": "left"
          },
          "hovermode": "closest",
          "mapbox": {
           "style": "light"
          },
          "paper_bgcolor": "white",
          "plot_bgcolor": "#E5ECF6",
          "polar": {
           "angularaxis": {
            "gridcolor": "white",
            "linecolor": "white",
            "ticks": ""
           },
           "bgcolor": "#E5ECF6",
           "radialaxis": {
            "gridcolor": "white",
            "linecolor": "white",
            "ticks": ""
           }
          },
          "scene": {
           "xaxis": {
            "backgroundcolor": "#E5ECF6",
            "gridcolor": "white",
            "gridwidth": 2,
            "linecolor": "white",
            "showbackground": true,
            "ticks": "",
            "zerolinecolor": "white"
           },
           "yaxis": {
            "backgroundcolor": "#E5ECF6",
            "gridcolor": "white",
            "gridwidth": 2,
            "linecolor": "white",
            "showbackground": true,
            "ticks": "",
            "zerolinecolor": "white"
           },
           "zaxis": {
            "backgroundcolor": "#E5ECF6",
            "gridcolor": "white",
            "gridwidth": 2,
            "linecolor": "white",
            "showbackground": true,
            "ticks": "",
            "zerolinecolor": "white"
           }
          },
          "shapedefaults": {
           "line": {
            "color": "#2a3f5f"
           }
          },
          "ternary": {
           "aaxis": {
            "gridcolor": "white",
            "linecolor": "white",
            "ticks": ""
           },
           "baxis": {
            "gridcolor": "white",
            "linecolor": "white",
            "ticks": ""
           },
           "bgcolor": "#E5ECF6",
           "caxis": {
            "gridcolor": "white",
            "linecolor": "white",
            "ticks": ""
           }
          },
          "title": {
           "x": 0.05
          },
          "xaxis": {
           "automargin": true,
           "gridcolor": "white",
           "linecolor": "white",
           "ticks": "",
           "title": {
            "standoff": 15
           },
           "zerolinecolor": "white",
           "zerolinewidth": 2
          },
          "yaxis": {
           "automargin": true,
           "gridcolor": "white",
           "linecolor": "white",
           "ticks": "",
           "title": {
            "standoff": 15
           },
           "zerolinecolor": "white",
           "zerolinewidth": 2
          }
         }
        },
        "title": {
         "font": {
          "color": "black",
          "size": 25
         },
         "text": ""
        },
        "width": 1000,
        "xaxis": {
         "linecolor": "black",
         "linewidth": 3,
         "mirror": true,
         "showline": true,
         "tickfont": {
          "color": "black",
          "size": 30
         },
         "ticks": "inside",
         "title": {
          "font": {
           "color": "black",
           "size": 30
          },
          "text": "Wavelength (nm)"
         }
        },
        "yaxis": {
         "linecolor": "blue",
         "linewidth": 3,
         "tickfont": {
          "color": "blue",
          "size": 30
         },
         "ticks": "inside",
         "title": {
          "font": {
           "color": "blue",
           "size": 30
          },
          "text": "Molecular cross section (10<sup>20</sup> cm<sup>2</sup>)"
         }
        },
        "yaxis2": {
         "anchor": "free",
         "linecolor": "red",
         "linewidth": 3,
         "overlaying": "y",
         "position": 1,
         "range": [
          0,
          7
         ],
         "showticklabels": true,
         "side": "right",
         "tickfont": {
          "color": "red",
          "size": 30
         },
         "ticks": "inside",
         "title": {
          "font": {
           "color": "red",
           "size": 30
          },
          "text": "Solar actinic flux (10<sup>14</sup> photons cm<sup>-2</sup>  s<sup>-1</sup> nm<sup>-1</sup>)"
         }
        }
       }
      }
     },
     "metadata": {},
     "output_type": "display_data"
    }
   ],
   "source": [
    "solar_actinic_flux=pd.read_excel('actinic_flux/solar_actinic_flux.xlsx',header=None)\n",
    "new_solar_actinic_flux=pd.DataFrame()\n",
    "\n",
    "new_solar_actinic_flux['wavelength']=solar_actinic_flux.iloc[:,1].values\n",
    "new_solar_actinic_flux['flux_1']=solar_actinic_flux.iloc[:,2].values\n",
    "new_solar_actinic_flux['flux_2']=solar_actinic_flux.iloc[:,3].values\n",
    "new_solar_actinic_flux['flux_3']=solar_actinic_flux.iloc[:,4].values\n",
    "\n",
    "new_solar_actinic_flux['flux_4']=solar_actinic_flux.iloc[:,5].values\n",
    "new_solar_actinic_flux['flux_5']=solar_actinic_flux.iloc[:,6].values\n",
    "\n",
    "new_solar_actinic_flux=new_solar_actinic_flux\n",
    "\n",
    "import plotly.graph_objects as go\n",
    "\n",
    "fig_1= go.Figure()\n",
    "fig_1.add_trace(go.Scatter(x= new_cross_section_nitrate.index,y=new_cross_section_nitrate['molecular_cross_section']*1e20,yaxis = \"y1\",\n",
    "                           mode='markers+lines',showlegend=True,marker_size=5,line_width=5,name=\"Cross section (NO<sub>3</sub><sup>-</sup>)\"))\n",
    "\n",
    "# \n",
    "# fig_1.add_trace(go.Scatter(x= new_solar_actinic_flux.iloc[:,0], y=new_solar_actinic_flux.iloc[:,1], yaxis = \"y2\",mode='markers+lines', line=dict(dash='dot'),marker_size=3,line_width=5,name='Solar actinic flux'))\n",
    "# fig_1.add_trace(go.Scatter(x= new_solar_actinic_flux.iloc[:,0], y=new_solar_actinic_flux.iloc[:,2], yaxis = \"y2\",mode='markers+lines', line=dict(dash='dot'),showlegend=False,marker_size=3,line_width=5,name='Flux '+actinic.columns[1]))\n",
    "# fig_1.add_trace(go.Scatter(x= new_solar_actinic_flux.iloc[:,0], y=new_solar_actinic_flux.iloc[:,3], yaxis = \"y2\",mode='markers+lines', line=dict(dash='dot'),showlegend=False,marker_size=3,line_width=5,name='Flux '+actinic.columns[1]))\n",
    "\n",
    "# fig_1.add_trace(go.Scatter(x= new_solar_actinic_flux.iloc[:,0], y=new_solar_actinic_flux.iloc[:,4], yaxis = \"y2\",mode='markers+lines', line=dict(dash='dot'),showlegend=False,marker_size=3,line_width=5,name='Flux '+actinic.columns[1]))\n",
    "\n",
    "\n",
    "fig_1.add_trace(go.Scatter(x= new_solar_actinic_flux.iloc[:,0], y=new_solar_actinic_flux.iloc[:,5]/1e14, yaxis = \"y2\",mode='markers+lines', line=dict(dash='dot'),showlegend=True,marker_size=3,line_width=5,name='Solar actinic flux'))\n",
    "# fig_1.add_trace(go.Scatter(x= new_solar_actinic_flux.iloc[:,0], y=new_solar_actinic_flux.iloc[:,1], yaxis = \"y2\",mode='markers+lines', line=dict(dash='dot'),marker_size=3,line_width=5,name='Flux '+actinic.columns[1]))\n",
    "\n",
    "fig_1.update_layout(title='',titlefont=dict(color=\"black\",size=25))\n",
    "fig_1.update_layout( bargap=0)\n",
    "fig_1.update_layout(\n",
    "  plot_bgcolor = 'white',paper_bgcolor = 'white',autosize=False,width=1000, height=800,\n",
    "    xaxis=dict( title=\"Wavelength (nm)\",titlefont=dict(color=\"black\",size=30),showline=True, mirror= True,tickfont=dict(color='black',size=30 ),linecolor=\"black\", linewidth=3,ticks='inside'),\n",
    "    yaxis=dict( title='Molecular cross section (10<sup>20</sup> cm<sup>2</sup>)', \n",
    "              #  range=[0,0.7],\n",
    "               titlefont=dict(color=\"blue\",size=30),tickfont=dict(color='blue',size=30 ),linecolor=\"blue\", linewidth=3,ticks='inside'),\n",
    "    yaxis2=dict(title='Solar actinic flux (10<sup>14</sup> photons cm<sup>-2</sup>  s<sup>-1</sup> nm<sup>-1</sup>)',range=[0,7],titlefont=dict(color=\"red\",size=30),tickfont=dict(color=\"red\" ,size=30),ticks='inside',anchor=\"free\",overlaying=\"y\", side=\"right\", position=1, linecolor=\"red\", linewidth=3,showticklabels = True) )\n",
    "fig_1.update_layout(legend=dict(yanchor=\"top\",y=0.3 ,xanchor=\"left\",x=0.5,  font=dict( size=25,color=\"black\")))\n",
    "config = {'displayModeBar': True}\n",
    "\n",
    "fig_1.show(config=config)\n",
    "# fig_1.write_html('cross_section_actinic_flux_202309051909.html')\n",
    "\n",
    "fig_1.write_image(\"fig2.svg\")\n",
    "\n"
   ]
  },
  {
   "cell_type": "code",
   "execution_count": 26,
   "metadata": {},
   "outputs": [
    {
     "data": {
      "application/vnd.plotly.v1+json": {
       "config": {
        "displayModeBar": true,
        "plotlyServerURL": "https://plot.ly"
       },
       "data": [
        {
         "line": {
          "width": 3
         },
         "marker": {
          "size": 3
         },
         "mode": "markers+lines",
         "name": "σ(NO3-)",
         "type": "scatter",
         "x": [
          290,
          291,
          292,
          293,
          294,
          295,
          296,
          297,
          298,
          299,
          300,
          301,
          302,
          303,
          304,
          305,
          306,
          307,
          308,
          309,
          310,
          311,
          312,
          313,
          314,
          315,
          316,
          317,
          318,
          319,
          320,
          321,
          322,
          323,
          324,
          325,
          326,
          327,
          328,
          329,
          330,
          331,
          332,
          333,
          334,
          335,
          336,
          337,
          338,
          339,
          340,
          341,
          342,
          343,
          344,
          345,
          346,
          347,
          348,
          349,
          350
         ],
         "y": [
          2.1335310665506855,
          2.213825246474636,
          2.2902958940212557,
          2.362943009190544,
          2.431766591982502,
          2.4967666423971284,
          2.554119628057093,
          2.6038255489623956,
          2.6458844051130366,
          2.680296196509015,
          2.7070609231503324,
          2.722355052659656,
          2.730002117414317,
          2.722355052659656,
          2.7070609231503324,
          2.680296196509015,
          2.6420608727357053,
          2.592354951830403,
          2.5311784337931074,
          2.4585313186238187,
          2.382060671077199,
          2.2902958940212557,
          2.1947075845879813,
          2.087648678022714,
          1.980589771457446,
          1.865883800137517,
          1.747354296440257,
          1.6288247927429964,
          1.5064717566684054,
          1.387942252971145,
          1.2655892168965537,
          1.150883245576624,
          1.0400008066340258,
          0.9329419000687585,
          0.8258829935034911,
          0.7302946840702167,
          0.6385299070142733,
          0.5582357270903227,
          0.4817650795437031,
          0.4129414967517456,
          0.340294381582457,
          0.2867649282998233,
          0.24470607214918255,
          0.2064707483758728,
          0.17588248935722497,
          0.14911776271590813,
          0.12235303607459128,
          0.1032353741879364,
          0.08794124467861249,
          0.07264711516928858,
          0.06117651803729564,
          0.0497059209053027,
          0.04205885615064075,
          0.034411791395978795,
          0.03058825901864782,
          0.02294119426398587,
          0.01911766188665489,
          0.01529412950932391,
          0.01529412950932391,
          0.011470597131992935,
          0.011470597131992935
         ],
         "yaxis": "y"
        },
        {
         "line": {
          "dash": "dot",
          "width": 5
         },
         "marker": {
          "size": 3
         },
         "mode": "markers+lines",
         "name": "Actinic flux",
         "type": "scatter",
         "x": [
          300,
          301,
          302,
          303,
          304,
          305,
          306,
          307,
          308,
          309,
          310,
          311,
          312,
          313,
          314,
          315,
          316,
          317,
          318,
          319,
          320,
          321,
          322,
          323,
          324,
          325,
          326,
          327,
          328,
          329,
          330,
          331,
          332,
          333,
          334,
          335,
          336,
          337,
          338,
          339,
          340,
          341,
          342,
          343,
          344,
          345,
          346,
          347,
          348,
          349,
          350,
          351,
          352,
          353,
          354,
          355,
          356,
          357,
          358,
          359,
          360,
          361,
          362,
          363,
          364,
          365,
          366,
          367,
          368,
          369,
          370,
          371,
          372,
          373,
          374,
          375,
          376,
          377,
          378,
          379,
          380,
          381,
          382,
          383,
          384,
          385,
          386,
          387,
          388,
          389,
          390,
          391,
          392,
          393,
          394,
          395,
          396,
          397,
          398,
          399,
          400,
          401,
          402,
          403,
          404,
          405,
          406,
          407,
          408,
          409,
          410,
          411,
          412,
          413,
          414,
          415,
          416,
          417,
          418,
          419,
          420,
          421,
          422,
          423,
          424,
          425,
          426,
          427,
          428,
          429,
          430,
          431,
          432,
          433,
          434,
          435,
          436,
          437,
          438,
          439,
          440,
          441,
          442,
          443,
          444,
          445,
          446,
          447,
          448,
          449,
          450,
          451,
          452,
          453,
          454,
          455,
          456,
          457,
          458,
          459,
          460,
          461,
          462,
          463,
          464,
          465,
          466,
          467,
          468,
          469,
          470,
          471,
          472,
          473,
          474,
          475,
          476,
          477,
          478,
          479,
          480,
          481,
          482,
          483,
          484,
          485,
          486,
          487,
          488,
          489,
          490,
          491,
          492,
          493,
          494,
          495,
          496,
          497,
          498,
          499,
          500,
          501,
          502,
          503,
          504,
          505,
          506,
          507,
          508,
          509,
          510,
          511,
          512,
          513,
          514,
          515,
          516,
          517,
          518,
          519,
          520,
          521,
          522,
          523,
          524,
          525,
          526,
          527,
          528,
          529,
          530,
          531,
          532,
          533,
          534,
          535,
          536,
          537,
          538,
          539,
          540,
          541,
          542,
          543,
          544,
          545,
          546,
          547,
          548,
          549,
          550,
          551,
          552,
          553,
          554,
          555,
          556,
          557,
          558,
          559,
          560,
          561,
          562,
          563,
          564,
          565,
          566,
          567,
          568,
          569,
          570,
          571,
          572,
          573,
          574,
          575,
          576,
          577,
          578,
          579,
          580,
          581,
          582,
          583,
          584,
          585,
          586,
          587,
          588,
          589,
          590,
          591,
          592,
          593,
          594,
          595,
          596,
          597,
          598,
          599,
          600,
          601,
          602,
          603,
          604,
          605,
          606,
          607,
          608,
          609,
          610,
          611,
          612,
          613,
          614,
          615,
          616,
          617,
          618,
          619,
          620,
          621,
          622,
          623,
          624,
          625,
          626,
          627,
          628,
          629,
          630,
          631,
          632,
          633,
          634,
          635,
          636,
          637,
          638,
          639,
          640,
          641,
          642,
          643,
          644,
          645,
          646,
          647,
          648,
          649,
          650,
          651,
          652,
          653,
          654,
          655,
          656,
          657,
          658,
          659,
          660,
          661,
          662,
          663,
          664,
          665,
          666,
          667,
          668,
          669,
          670,
          671,
          672,
          673,
          674,
          675,
          676,
          677,
          678,
          679,
          680,
          681,
          682,
          683,
          684,
          685,
          686,
          687,
          688,
          689,
          690,
          691,
          692,
          693,
          694,
          695,
          696,
          697,
          698,
          699,
          700,
          701,
          702,
          703,
          704,
          705,
          706,
          707,
          708,
          709,
          710,
          711,
          712,
          713,
          714,
          715,
          716,
          717,
          718,
          719,
          720,
          721,
          722,
          723,
          724,
          725,
          726,
          727,
          728,
          729,
          730,
          731,
          732,
          733,
          734,
          735,
          736,
          737,
          738,
          739,
          740,
          741,
          742,
          743,
          744,
          745,
          746,
          747,
          748,
          749,
          750,
          751,
          752,
          753,
          754,
          755,
          756,
          757,
          758,
          759,
          760,
          761,
          762,
          763,
          764,
          765,
          766,
          767,
          768,
          769,
          770,
          771,
          772,
          773,
          774,
          775,
          776,
          777,
          778,
          779,
          780,
          781,
          782,
          783,
          784,
          785,
          786,
          787,
          788,
          789,
          790,
          791,
          792,
          793,
          794,
          795,
          796,
          797,
          798,
          799,
          800,
          801,
          802,
          803,
          804,
          805,
          806,
          807,
          808,
          809,
          810,
          811,
          812,
          813,
          814,
          815,
          816,
          817,
          818,
          819,
          820,
          821,
          822,
          823,
          824,
          825,
          826,
          827,
          828,
          829,
          830,
          831,
          832,
          833,
          834,
          835,
          836,
          837,
          838,
          839,
          840,
          841,
          842,
          843,
          844,
          845,
          846,
          847,
          848,
          849,
          850
         ],
         "y": [
          0,
          0,
          0,
          0,
          0,
          0,
          0,
          0,
          0,
          0,
          0.014732664000000001,
          0,
          0,
          0.10292182,
          0.22619036,
          0.096502911,
          0.039206874,
          0.047904603000000004,
          0.22421165,
          0.13546605,
          0.20506034,
          0.32318556,
          0.39027468,
          0.51778758,
          0.46634844000000003,
          0.65023074,
          0.72659289,
          0.88548741,
          0.97735167,
          1.2337278,
          1.2411635,
          1.4958802,
          1.5463558,
          1.6982673000000001,
          1.7802686,
          2.0562869,
          2.2797885,
          2.3031086000000003,
          2.481112,
          2.7425018,
          2.8018021,
          2.8880111,
          3.1068558,
          3.2697504,
          3.3105693,
          3.6021825,
          3.5711925,
          3.4980861,
          3.6227613,
          3.6331131,
          3.6581703,
          3.7521636000000003,
          3.6888084,
          3.7348047,
          3.7721511000000003,
          3.7322802,
          3.6870468,
          3.6644439,
          3.5351613,
          3.456798,
          3.4291839,
          3.3718962,
          3.3856464,
          3.3846684000000002,
          3.4079067000000003,
          3.407604,
          3.1801716,
          2.9206144000000003,
          2.7428899,
          2.5490208,
          2.4058407,
          2.3341715,
          2.2219309000000003,
          2.1111962,
          1.9402509000000001,
          1.8396785,
          1.7078409,
          1.6257178,
          1.5444821,
          1.4434019,
          1.3978464,
          1.3719831,
          1.2615640000000001,
          1.1161647000000001,
          1.0601872,
          0.9933794100000001,
          0.97240149,
          0.87096399,
          0.8083159200000001,
          0.7911013800000001,
          0.79416642,
          0.7476642,
          0.7150086600000001,
          0.68668479,
          0.70495524,
          0.60150072,
          0.61821837,
          0.57747762,
          0.53518806,
          0.53374485,
          0.58151388,
          0.88066437,
          1.0383664666666665,
          1.5140017333333335,
          1.8249909333333332,
          1.7814109333333332,
          1.4023886,
          0.9225040666666666,
          0.52007954,
          0.34519274,
          0.24226094,
          0.18953436,
          0.19207691333333332,
          0.15782744,
          0.1525723466666667,
          0.10583800666666666,
          0.20573745000000002,
          0.17305352000000002,
          0.17169255,
          0.14600467,
          0.1344017,
          0.10998628,
          0.12618056,
          0.11470511,
          0.084663048,
          0.10474267000000001,
          0.06701427,
          0.05991618,
          0.091677261,
          0.061817961000000005,
          0.0341540275,
          0.1368426975,
          0.50797885,
          1.386809175,
          2.3754546,
          3.0371627500000002,
          2.98642025,
          2.237854125,
          1.26997725,
          0.4654726,
          0.1343354475,
          0.0334618125,
          0.016994910000000002,
          0,
          0,
          0,
          0,
          0,
          0,
          0,
          0,
          0,
          0,
          0,
          0,
          0,
          0,
          0,
          0,
          0,
          0,
          0,
          0,
          0,
          0,
          0,
          0,
          0,
          0,
          0,
          0,
          0,
          0,
          0,
          0,
          0,
          0,
          0,
          0,
          0,
          0,
          0,
          0,
          0,
          0,
          0,
          0,
          0,
          0,
          0,
          0,
          0,
          0,
          0,
          0,
          0,
          0,
          0,
          0,
          0,
          0,
          0,
          0,
          0,
          0,
          0,
          0,
          0,
          0,
          0,
          0,
          0,
          0,
          0,
          0,
          0,
          0,
          0,
          0,
          0,
          0,
          0,
          0,
          0,
          0,
          0,
          0,
          0,
          0,
          0,
          0,
          0,
          0,
          0,
          0,
          0,
          0,
          0.020302723,
          0.025708532,
          0.023789441,
          0.026245689,
          0.06998432333333333,
          0.2684105,
          0.8969355666666666,
          1.7833969,
          2.5157654000000003,
          2.7128437,
          2.268409,
          1.4186234,
          0.5624956,
          0.16572768000000002,
          0.05138787,
          0,
          0,
          0,
          0,
          0,
          0,
          0,
          0,
          0,
          0,
          0,
          0,
          0,
          0,
          0,
          0,
          0,
          0,
          0,
          0,
          0,
          0,
          0.17651498000000002,
          0.3482238,
          0.5543536666666667,
          0.7138579666666667,
          0.7487956666666667,
          0.6320894,
          0.44010160000000004,
          0.25701009,
          0.11730777,
          0.05601997333333334,
          0.042907893333333336,
          0.037243493333333336,
          0.03786541666666667,
          0.03346288666666667,
          0.03368236666666667,
          0.03357097,
          0.031165569,
          0.029610373000000002,
          0.037596823333333335,
          0.032072989,
          0.031677744,
          0.03395129,
          0.029663265,
          0.087333507,
          0.086223873,
          0.086401833,
          0.070571445,
          0.069393363,
          0.059711238,
          0.079748988,
          0.069536034,
          0.074318637,
          0.075554754,
          0.075496908,
          0.07903029,
          0.070567026,
          0.07809777600000001,
          0.093100788,
          0.09542166,
          0.089284872,
          0.063499707,
          0.084441258,
          0.089742504,
          0.073413111,
          0.051055050000000005,
          0.061139424000000005,
          0.052436259,
          0.075101157,
          0.046229082000000005,
          0.034382259,
          0.074960736,
          0.06365274900000001,
          0.066336357,
          0.052449828000000004,
          0.037657716,
          0.053608641,
          0.043466799,
          0.04614432,
          0.021337363,
          0.048174252,
          0.038735610000000004,
          0.042289545,
          0.020794086,
          0.042606804,
          0.012924816,
          0.0028841413,
          0.030660465,
          0.01655295,
          0.028850345,
          0.01814622,
          0.017915303,
          0.032714184,
          0.057726975,
          0.016058006,
          0.027458282,
          0.020972348000000002,
          -0.0030081765,
          0.021750307,
          0.0021220493,
          0.014330790000000001,
          0.041605881000000004,
          0.025508779000000002,
          0.037656276,
          0.0071333277,
          0.011530908000000001,
          0.0021877375,
          -0.0050231295,
          -0.0028394689000000002,
          -0.0028566504,
          0.013391001,
          0.0016008848,
          0.019313644,
          0.022326566,
          -0.0016206532,
          0.0192768,
          0.00033565491,
          0.0046200738,
          -0.0036388377,
          -0.0043382016,
          0.025148916,
          0.013145853,
          -0.019311848,
          -0.0061349523000000005,
          0.0061717464,
          0.0010343912,
          4.5574872000000006e-7,
          -0.0041420109000000005,
          0.011828833,
          -0.014764208000000001,
          0.0019334435000000001,
          -0.00032022555,
          -0.0019503696,
          0.0094771536,
          -0.011150764,
          -0.017785594000000002,
          0.024835993,
          0.078817188,
          0.070544463,
          0.050057334,
          0.01046973,
          0.04275453,
          0.011609254000000001,
          0.015422327000000001,
          0.024115722,
          0.036351510000000004,
          0.0027894671,
          0.0024481223,
          -0.026732088,
          -0.019091297,
          -0.016000693,
          -0.0064278099,
          -0.01329148,
          0.039406425,
          0.038522646,
          0.028142867000000002,
          0.038223075,
          0.0037040322,
          0.006317535,
          -0.0067228371,
          -0.035659905,
          -0.012466494,
          -0.026220959000000002,
          -0.014526592,
          -0.032304933,
          -0.018568117000000002,
          -0.016739599,
          -0.059122542,
          -0.0098513115,
          -0.025766259,
          -0.042671310000000004,
          -0.016453639,
          -0.015744969,
          -0.018681443,
          -0.018802329,
          -0.02139183,
          -0.028577603,
          -0.044588199,
          -0.027686969000000002,
          -0.016889215,
          -0.02421569,
          -0.021826292,
          -0.027149033,
          0.0056378598000000005,
          0.043239366,
          0.013198597000000001,
          0.047808246,
          0.049035198,
          -0.028268896,
          -0.025754120000000002,
          -0.042307215,
          -0.051346203,
          -0.030936987000000003,
          -0.014890146,
          -0.051569037,
          -0.029272971000000002,
          0.025221366000000002,
          0.031156197,
          0.091265898,
          0.096376341,
          0.008841276,
          0.0084165156,
          -0.009959868,
          -0.023105135000000002,
          -0.048061440000000004,
          -0.059673843000000004,
          -0.050911404,
          -0.030584538,
          0.011509321000000001,
          0.091725786,
          0.19238624000000001,
          0.19605621,
          0.15011879,
          0.087167907,
          0.024708795000000002,
          -0.05202852,
          -0.026797851,
          -0.034907625,
          0.044291241,
          0.08360168400000001,
          0.027174872,
          0.067005261,
          0.0053040609,
          0.0062211,
          -0.020778674,
          -0.040795941,
          -0.012522197,
          -0.051840195,
          -0.039818859,
          -0.017221933000000002,
          -0.026090083,
          -0.026990886000000002,
          -0.027868084,
          -0.021969503,
          -0.022397859,
          -0.047705049,
          -0.041267625,
          -0.027269298,
          -0.030816408,
          -0.046141911,
          0.0085420737,
          0.072081645,
          0.051943059,
          0.079233426,
          0.051023892,
          0.018184106000000002,
          0.035493774,
          0.076979247,
          0.14620253,
          0.11823914,
          0.087050373,
          0.066559281,
          -0.012482487,
          -0.12928028,
          -0.09406249800000001,
          -0.079308792,
          0.017979997,
          0.22388333000000002,
          0.47092080000000003,
          0.42294027,
          0.53970132,
          0.30237012,
          0.076022229,
          -0.0011794804,
          -0.017442990000000002,
          -0.17455473000000002,
          -0.1453728,
          -0.14625204,
          -0.1231236,
          -0.097162887,
          -0.13882423,
          -0.07155223200000001,
          -0.01645674,
          0.045376173,
          0.01732427,
          0.0042237636,
          0.0065875698,
          -0.035452224000000004,
          -0.059141121000000005,
          -0.027824991,
          -0.064506426,
          -0.098414787,
          -0.069014652,
          -0.028208467,
          -0.054915312,
          -0.027440120000000002,
          -0.0062556588,
          0.046750515,
          0.15034468,
          0.32646759000000003,
          0.34214169,
          0.23740784,
          0.22503361,
          0.070309959,
          -0.017451591,
          -0.041091561,
          0.0063755232,
          -0.010161904000000001
         ],
         "yaxis": "y2"
        }
       ],
       "layout": {
        "autosize": false,
        "bargap": 0,
        "height": 540,
        "legend": {
         "font": {
          "color": "black",
          "size": 20
         },
         "x": 0.5,
         "xanchor": "left",
         "y": 0.9,
         "yanchor": "top"
        },
        "paper_bgcolor": "white",
        "plot_bgcolor": "white",
        "template": {
         "data": {
          "bar": [
           {
            "error_x": {
             "color": "#2a3f5f"
            },
            "error_y": {
             "color": "#2a3f5f"
            },
            "marker": {
             "line": {
              "color": "#E5ECF6",
              "width": 0.5
             },
             "pattern": {
              "fillmode": "overlay",
              "size": 10,
              "solidity": 0.2
             }
            },
            "type": "bar"
           }
          ],
          "barpolar": [
           {
            "marker": {
             "line": {
              "color": "#E5ECF6",
              "width": 0.5
             },
             "pattern": {
              "fillmode": "overlay",
              "size": 10,
              "solidity": 0.2
             }
            },
            "type": "barpolar"
           }
          ],
          "carpet": [
           {
            "aaxis": {
             "endlinecolor": "#2a3f5f",
             "gridcolor": "white",
             "linecolor": "white",
             "minorgridcolor": "white",
             "startlinecolor": "#2a3f5f"
            },
            "baxis": {
             "endlinecolor": "#2a3f5f",
             "gridcolor": "white",
             "linecolor": "white",
             "minorgridcolor": "white",
             "startlinecolor": "#2a3f5f"
            },
            "type": "carpet"
           }
          ],
          "choropleth": [
           {
            "colorbar": {
             "outlinewidth": 0,
             "ticks": ""
            },
            "type": "choropleth"
           }
          ],
          "contour": [
           {
            "colorbar": {
             "outlinewidth": 0,
             "ticks": ""
            },
            "colorscale": [
             [
              0,
              "#0d0887"
             ],
             [
              0.1111111111111111,
              "#46039f"
             ],
             [
              0.2222222222222222,
              "#7201a8"
             ],
             [
              0.3333333333333333,
              "#9c179e"
             ],
             [
              0.4444444444444444,
              "#bd3786"
             ],
             [
              0.5555555555555556,
              "#d8576b"
             ],
             [
              0.6666666666666666,
              "#ed7953"
             ],
             [
              0.7777777777777778,
              "#fb9f3a"
             ],
             [
              0.8888888888888888,
              "#fdca26"
             ],
             [
              1,
              "#f0f921"
             ]
            ],
            "type": "contour"
           }
          ],
          "contourcarpet": [
           {
            "colorbar": {
             "outlinewidth": 0,
             "ticks": ""
            },
            "type": "contourcarpet"
           }
          ],
          "heatmap": [
           {
            "colorbar": {
             "outlinewidth": 0,
             "ticks": ""
            },
            "colorscale": [
             [
              0,
              "#0d0887"
             ],
             [
              0.1111111111111111,
              "#46039f"
             ],
             [
              0.2222222222222222,
              "#7201a8"
             ],
             [
              0.3333333333333333,
              "#9c179e"
             ],
             [
              0.4444444444444444,
              "#bd3786"
             ],
             [
              0.5555555555555556,
              "#d8576b"
             ],
             [
              0.6666666666666666,
              "#ed7953"
             ],
             [
              0.7777777777777778,
              "#fb9f3a"
             ],
             [
              0.8888888888888888,
              "#fdca26"
             ],
             [
              1,
              "#f0f921"
             ]
            ],
            "type": "heatmap"
           }
          ],
          "heatmapgl": [
           {
            "colorbar": {
             "outlinewidth": 0,
             "ticks": ""
            },
            "colorscale": [
             [
              0,
              "#0d0887"
             ],
             [
              0.1111111111111111,
              "#46039f"
             ],
             [
              0.2222222222222222,
              "#7201a8"
             ],
             [
              0.3333333333333333,
              "#9c179e"
             ],
             [
              0.4444444444444444,
              "#bd3786"
             ],
             [
              0.5555555555555556,
              "#d8576b"
             ],
             [
              0.6666666666666666,
              "#ed7953"
             ],
             [
              0.7777777777777778,
              "#fb9f3a"
             ],
             [
              0.8888888888888888,
              "#fdca26"
             ],
             [
              1,
              "#f0f921"
             ]
            ],
            "type": "heatmapgl"
           }
          ],
          "histogram": [
           {
            "marker": {
             "pattern": {
              "fillmode": "overlay",
              "size": 10,
              "solidity": 0.2
             }
            },
            "type": "histogram"
           }
          ],
          "histogram2d": [
           {
            "colorbar": {
             "outlinewidth": 0,
             "ticks": ""
            },
            "colorscale": [
             [
              0,
              "#0d0887"
             ],
             [
              0.1111111111111111,
              "#46039f"
             ],
             [
              0.2222222222222222,
              "#7201a8"
             ],
             [
              0.3333333333333333,
              "#9c179e"
             ],
             [
              0.4444444444444444,
              "#bd3786"
             ],
             [
              0.5555555555555556,
              "#d8576b"
             ],
             [
              0.6666666666666666,
              "#ed7953"
             ],
             [
              0.7777777777777778,
              "#fb9f3a"
             ],
             [
              0.8888888888888888,
              "#fdca26"
             ],
             [
              1,
              "#f0f921"
             ]
            ],
            "type": "histogram2d"
           }
          ],
          "histogram2dcontour": [
           {
            "colorbar": {
             "outlinewidth": 0,
             "ticks": ""
            },
            "colorscale": [
             [
              0,
              "#0d0887"
             ],
             [
              0.1111111111111111,
              "#46039f"
             ],
             [
              0.2222222222222222,
              "#7201a8"
             ],
             [
              0.3333333333333333,
              "#9c179e"
             ],
             [
              0.4444444444444444,
              "#bd3786"
             ],
             [
              0.5555555555555556,
              "#d8576b"
             ],
             [
              0.6666666666666666,
              "#ed7953"
             ],
             [
              0.7777777777777778,
              "#fb9f3a"
             ],
             [
              0.8888888888888888,
              "#fdca26"
             ],
             [
              1,
              "#f0f921"
             ]
            ],
            "type": "histogram2dcontour"
           }
          ],
          "mesh3d": [
           {
            "colorbar": {
             "outlinewidth": 0,
             "ticks": ""
            },
            "type": "mesh3d"
           }
          ],
          "parcoords": [
           {
            "line": {
             "colorbar": {
              "outlinewidth": 0,
              "ticks": ""
             }
            },
            "type": "parcoords"
           }
          ],
          "pie": [
           {
            "automargin": true,
            "type": "pie"
           }
          ],
          "scatter": [
           {
            "fillpattern": {
             "fillmode": "overlay",
             "size": 10,
             "solidity": 0.2
            },
            "type": "scatter"
           }
          ],
          "scatter3d": [
           {
            "line": {
             "colorbar": {
              "outlinewidth": 0,
              "ticks": ""
             }
            },
            "marker": {
             "colorbar": {
              "outlinewidth": 0,
              "ticks": ""
             }
            },
            "type": "scatter3d"
           }
          ],
          "scattercarpet": [
           {
            "marker": {
             "colorbar": {
              "outlinewidth": 0,
              "ticks": ""
             }
            },
            "type": "scattercarpet"
           }
          ],
          "scattergeo": [
           {
            "marker": {
             "colorbar": {
              "outlinewidth": 0,
              "ticks": ""
             }
            },
            "type": "scattergeo"
           }
          ],
          "scattergl": [
           {
            "marker": {
             "colorbar": {
              "outlinewidth": 0,
              "ticks": ""
             }
            },
            "type": "scattergl"
           }
          ],
          "scattermapbox": [
           {
            "marker": {
             "colorbar": {
              "outlinewidth": 0,
              "ticks": ""
             }
            },
            "type": "scattermapbox"
           }
          ],
          "scatterpolar": [
           {
            "marker": {
             "colorbar": {
              "outlinewidth": 0,
              "ticks": ""
             }
            },
            "type": "scatterpolar"
           }
          ],
          "scatterpolargl": [
           {
            "marker": {
             "colorbar": {
              "outlinewidth": 0,
              "ticks": ""
             }
            },
            "type": "scatterpolargl"
           }
          ],
          "scatterternary": [
           {
            "marker": {
             "colorbar": {
              "outlinewidth": 0,
              "ticks": ""
             }
            },
            "type": "scatterternary"
           }
          ],
          "surface": [
           {
            "colorbar": {
             "outlinewidth": 0,
             "ticks": ""
            },
            "colorscale": [
             [
              0,
              "#0d0887"
             ],
             [
              0.1111111111111111,
              "#46039f"
             ],
             [
              0.2222222222222222,
              "#7201a8"
             ],
             [
              0.3333333333333333,
              "#9c179e"
             ],
             [
              0.4444444444444444,
              "#bd3786"
             ],
             [
              0.5555555555555556,
              "#d8576b"
             ],
             [
              0.6666666666666666,
              "#ed7953"
             ],
             [
              0.7777777777777778,
              "#fb9f3a"
             ],
             [
              0.8888888888888888,
              "#fdca26"
             ],
             [
              1,
              "#f0f921"
             ]
            ],
            "type": "surface"
           }
          ],
          "table": [
           {
            "cells": {
             "fill": {
              "color": "#EBF0F8"
             },
             "line": {
              "color": "white"
             }
            },
            "header": {
             "fill": {
              "color": "#C8D4E3"
             },
             "line": {
              "color": "white"
             }
            },
            "type": "table"
           }
          ]
         },
         "layout": {
          "annotationdefaults": {
           "arrowcolor": "#2a3f5f",
           "arrowhead": 0,
           "arrowwidth": 1
          },
          "autotypenumbers": "strict",
          "coloraxis": {
           "colorbar": {
            "outlinewidth": 0,
            "ticks": ""
           }
          },
          "colorscale": {
           "diverging": [
            [
             0,
             "#8e0152"
            ],
            [
             0.1,
             "#c51b7d"
            ],
            [
             0.2,
             "#de77ae"
            ],
            [
             0.3,
             "#f1b6da"
            ],
            [
             0.4,
             "#fde0ef"
            ],
            [
             0.5,
             "#f7f7f7"
            ],
            [
             0.6,
             "#e6f5d0"
            ],
            [
             0.7,
             "#b8e186"
            ],
            [
             0.8,
             "#7fbc41"
            ],
            [
             0.9,
             "#4d9221"
            ],
            [
             1,
             "#276419"
            ]
           ],
           "sequential": [
            [
             0,
             "#0d0887"
            ],
            [
             0.1111111111111111,
             "#46039f"
            ],
            [
             0.2222222222222222,
             "#7201a8"
            ],
            [
             0.3333333333333333,
             "#9c179e"
            ],
            [
             0.4444444444444444,
             "#bd3786"
            ],
            [
             0.5555555555555556,
             "#d8576b"
            ],
            [
             0.6666666666666666,
             "#ed7953"
            ],
            [
             0.7777777777777778,
             "#fb9f3a"
            ],
            [
             0.8888888888888888,
             "#fdca26"
            ],
            [
             1,
             "#f0f921"
            ]
           ],
           "sequentialminus": [
            [
             0,
             "#0d0887"
            ],
            [
             0.1111111111111111,
             "#46039f"
            ],
            [
             0.2222222222222222,
             "#7201a8"
            ],
            [
             0.3333333333333333,
             "#9c179e"
            ],
            [
             0.4444444444444444,
             "#bd3786"
            ],
            [
             0.5555555555555556,
             "#d8576b"
            ],
            [
             0.6666666666666666,
             "#ed7953"
            ],
            [
             0.7777777777777778,
             "#fb9f3a"
            ],
            [
             0.8888888888888888,
             "#fdca26"
            ],
            [
             1,
             "#f0f921"
            ]
           ]
          },
          "colorway": [
           "#636efa",
           "#EF553B",
           "#00cc96",
           "#ab63fa",
           "#FFA15A",
           "#19d3f3",
           "#FF6692",
           "#B6E880",
           "#FF97FF",
           "#FECB52"
          ],
          "font": {
           "color": "#2a3f5f"
          },
          "geo": {
           "bgcolor": "white",
           "lakecolor": "white",
           "landcolor": "#E5ECF6",
           "showlakes": true,
           "showland": true,
           "subunitcolor": "white"
          },
          "hoverlabel": {
           "align": "left"
          },
          "hovermode": "closest",
          "mapbox": {
           "style": "light"
          },
          "paper_bgcolor": "white",
          "plot_bgcolor": "#E5ECF6",
          "polar": {
           "angularaxis": {
            "gridcolor": "white",
            "linecolor": "white",
            "ticks": ""
           },
           "bgcolor": "#E5ECF6",
           "radialaxis": {
            "gridcolor": "white",
            "linecolor": "white",
            "ticks": ""
           }
          },
          "scene": {
           "xaxis": {
            "backgroundcolor": "#E5ECF6",
            "gridcolor": "white",
            "gridwidth": 2,
            "linecolor": "white",
            "showbackground": true,
            "ticks": "",
            "zerolinecolor": "white"
           },
           "yaxis": {
            "backgroundcolor": "#E5ECF6",
            "gridcolor": "white",
            "gridwidth": 2,
            "linecolor": "white",
            "showbackground": true,
            "ticks": "",
            "zerolinecolor": "white"
           },
           "zaxis": {
            "backgroundcolor": "#E5ECF6",
            "gridcolor": "white",
            "gridwidth": 2,
            "linecolor": "white",
            "showbackground": true,
            "ticks": "",
            "zerolinecolor": "white"
           }
          },
          "shapedefaults": {
           "line": {
            "color": "#2a3f5f"
           }
          },
          "ternary": {
           "aaxis": {
            "gridcolor": "white",
            "linecolor": "white",
            "ticks": ""
           },
           "baxis": {
            "gridcolor": "white",
            "linecolor": "white",
            "ticks": ""
           },
           "bgcolor": "#E5ECF6",
           "caxis": {
            "gridcolor": "white",
            "linecolor": "white",
            "ticks": ""
           }
          },
          "title": {
           "x": 0.05
          },
          "xaxis": {
           "automargin": true,
           "gridcolor": "white",
           "linecolor": "white",
           "ticks": "",
           "title": {
            "standoff": 15
           },
           "zerolinecolor": "white",
           "zerolinewidth": 2
          },
          "yaxis": {
           "automargin": true,
           "gridcolor": "white",
           "linecolor": "white",
           "ticks": "",
           "title": {
            "standoff": 15
           },
           "zerolinecolor": "white",
           "zerolinewidth": 2
          }
         }
        },
        "title": {
         "font": {
          "color": "black",
          "size": 25
         },
         "text": ""
        },
        "width": 960,
        "xaxis": {
         "linecolor": "black",
         "linewidth": 1,
         "mirror": true,
         "showline": true,
         "tickfont": {
          "color": "black",
          "size": 25
         },
         "ticks": "inside",
         "title": {
          "font": {
           "color": "black",
           "size": 25
          },
          "text": "Wavelength (nm)"
         }
        },
        "yaxis": {
         "linecolor": "black",
         "linewidth": 1,
         "tickfont": {
          "color": "black",
          "size": 25
         },
         "ticks": "inside",
         "title": {
          "font": {
           "color": "black",
           "size": 25
          },
          "text": "Molecular cross section (10<sup>20</sup> cm<sup>2</sup>)"
         }
        },
        "yaxis2": {
         "anchor": "free",
         "linecolor": "black",
         "linewidth": 1,
         "overlaying": "y",
         "position": 1,
         "showticklabels": true,
         "side": "right",
         "tickfont": {
          "color": "black",
          "size": 25
         },
         "ticks": "inside",
         "title": {
          "font": {
           "color": "black",
           "size": 25
          },
          "text": "Photon flux (10<sup>13</sup> photons cm<sup>-2</sup>  s<sup>-1</sup> nm<sup>-1</sup>)"
         }
        }
       }
      }
     },
     "metadata": {},
     "output_type": "display_data"
    }
   ],
   "source": [
    "import plotly.graph_objects as go\n",
    "\n",
    "fig_1= go.Figure()\n",
    "fig_1.add_trace(go.Scatter(x= new_cross_section_nitrate.index,y=new_cross_section_nitrate['molecular_cross_section']*1e20,yaxis = \"y1\",mode='markers+lines',marker_size=3,line_width=3,name=\"σ(NO3-)\"))\n",
    "# fig_1.add_trace(go.Scatter(x= new_cross_section_nitrite.index,y=new_cross_section_nitrite['molecular_cross_section']*10,yaxis = \"y1\",mode='markers+lines',marker_size=3,line_width=2,name=\"σ(NO2-)*10\"))\n",
    "# fig_1.add_trace(go.Scatter(x= new_cross_section_I2.index,y=new_cross_section_I2['molecular_cross_section'],yaxis = \"y1\",mode='markers+lines',marker_size=3,line_width=2,name=\"σ(I2)\"))\n",
    "# fig_1.add_trace(go.Scatter(x= new_cross_section_clno.index,y=new_cross_section_clno['molecular_cross_section'],yaxis = \"y1\",mode='markers+lines',marker_size=3,line_width=2,name=\"σ(ClNO)\"))\n",
    "# fig_1.add_trace(go.Scatter(x= new_cross_section_NO2.index,y=new_cross_section_NO2['molecular_cross_section'],yaxis = \"y1\",mode='markers+lines',marker_size=3,line_width=2,name=\"σ(NO2)\"))\n",
    "# fig_1.add_trace(go.Scatter(x= new_cross_section_HONO.index,y=new_cross_section_HONO['molecular_cross_section'],yaxis = \"y1\",mode='markers+lines',marker_size=3,line_width=2,name=\"σ(HONO)\"))\n",
    "\n",
    "\n",
    "fig_1.add_trace(go.Scatter(x= psi_chamber_df.iloc[:,0], y=psi_chamber_df.iloc[:,1]*1e-13, yaxis = \"y2\",mode='markers+lines', line=dict(dash='dot'),marker_size=3,line_width=5,name='Actinic flux'))\n",
    "# fig_1.add_trace(go.Scatter(x= actinic.iloc[:,0], y=actinic.iloc[:,2], yaxis = \"y2\",mode='markers+lines', line=dict(dash='dot'),marker_size=3,line_width=5,name='Flux '+actinic.columns[2]))\n",
    "# fig_1.add_trace(go.Scatter(x= actinic.iloc[:,0], y=actinic.iloc[:,3], yaxis = \"y2\",mode='markers+lines', line=dict(dash='dot'),marker_size=3,line_width=5,name='Flux '+actinic.columns[3]))\n",
    "# fig_1.add_trace(go.Scatter(x= actinic.iloc[:,0], y=actinic.iloc[:,4], yaxis = \"y2\",mode='markers+lines', line=dict(dash='dot'),marker_size=3,line_width=5,name='Flux '+actinic.columns[4]))\n",
    "\n",
    "fig_1.update_layout(title='',titlefont=dict(color=\"black\",size=25))\n",
    "fig_1.update_layout( bargap=0)\n",
    "fig_1.update_layout(\n",
    "  plot_bgcolor = 'white',paper_bgcolor = 'white',autosize=False,width=1600*0.6, height=900*0.6,\n",
    "    xaxis=dict( title=\"Wavelength (nm)\",titlefont=dict(color=\"black\",size=25),showline=True, mirror= True,tickfont=dict(color='black',size=25 ),linecolor=\"black\", linewidth=1,ticks='inside'),\n",
    "    yaxis=dict( title='Molecular cross section (10<sup>20</sup> cm<sup>2</sup>)', titlefont=dict(color=\"black\",size=25),tickfont=dict(color='black',size=25 ),linecolor=\"black\", linewidth=1,ticks='inside'),\n",
    "    yaxis2=dict(title='Photon flux (10<sup>13</sup> photons cm<sup>-2</sup>  s<sup>-1</sup> nm<sup>-1</sup>)',titlefont=dict(color=\"black\",size=25),tickfont=dict(color=\"black\" ,size=25),ticks='inside',anchor=\"free\",overlaying=\"y\", side=\"right\", position=1, linecolor=\"black\", linewidth=1,showticklabels = True) )\n",
    "fig_1.update_layout(legend=dict(yanchor=\"top\",y=0.9 ,xanchor=\"left\",x=0.5,  font=dict( size=20,color=\"black\")))\n",
    "config = {'displayModeBar': True}\n",
    "\n",
    "fig_1.show(config=config)\n"
   ]
  },
  {
   "cell_type": "code",
   "execution_count": 27,
   "metadata": {},
   "outputs": [],
   "source": [
    "nitrate_df_chamber=(pd.merge(psi_chamber_df, new_cross_section_nitrate, on='wavelength'))\n",
    "delta_lamda= nitrate_df_chamber.wavelength[1]-nitrate_df_chamber.wavelength[0]\n",
    "nitrate_1=((nitrate_df_chamber.iloc[:,1]*nitrate_df_chamber['molecular_cross_section']*nitrate_df_chamber['quantumn_yield']).sum(axis=0)*delta_lamda)\n",
    "# summary_df['nitrate']=[nitrate_1, nitrate_2, nitrate_3,nitrate_4]\n",
    "nitrate_1\n",
    "\n",
    "nitrate_df_chamber.to_excel('chamber_JNO3-.xlsx')"
   ]
  },
  {
   "cell_type": "markdown",
   "metadata": {},
   "source": [
    "### calculate photolysis rate constant"
   ]
  },
  {
   "cell_type": "code",
   "execution_count": null,
   "metadata": {},
   "outputs": [
    {
     "data": {
      "text/html": [
       "<div>\n",
       "<style scoped>\n",
       "    .dataframe tbody tr th:only-of-type {\n",
       "        vertical-align: middle;\n",
       "    }\n",
       "\n",
       "    .dataframe tbody tr th {\n",
       "        vertical-align: top;\n",
       "    }\n",
       "\n",
       "    .dataframe thead th {\n",
       "        text-align: right;\n",
       "    }\n",
       "</style>\n",
       "<table border=\"1\" class=\"dataframe\">\n",
       "  <thead>\n",
       "    <tr style=\"text-align: right;\">\n",
       "      <th></th>\n",
       "    </tr>\n",
       "    <tr>\n",
       "      <th>Photolysis rate constant</th>\n",
       "    </tr>\n",
       "  </thead>\n",
       "  <tbody>\n",
       "    <tr>\n",
       "      <th>Yulia UVA 7 lamps old box</th>\n",
       "    </tr>\n",
       "    <tr>\n",
       "      <th>Yulia UVA 7 lamps new box</th>\n",
       "    </tr>\n",
       "    <tr>\n",
       "      <th>Yulia VIS 7 lamps old box</th>\n",
       "    </tr>\n",
       "    <tr>\n",
       "      <th>Yulia VIS 7 lamps new box</th>\n",
       "    </tr>\n",
       "  </tbody>\n",
       "</table>\n",
       "</div>"
      ],
      "text/plain": [
       "Empty DataFrame\n",
       "Columns: []\n",
       "Index: [Yulia UVA 7 lamps old box, Yulia UVA 7 lamps new box, Yulia VIS 7 lamps old box, Yulia VIS 7 lamps new box]"
      ]
     },
     "execution_count": 12,
     "metadata": {},
     "output_type": "execute_result"
    }
   ],
   "source": [
    "summary_df=pd.DataFrame()\n",
    "summary_df['Photolysis rate constant']=actinic.columns[1:5]\n",
    "summary_df.set_index('Photolysis rate constant')"
   ]
  },
  {
   "cell_type": "code",
   "execution_count": null,
   "metadata": {},
   "outputs": [],
   "source": [
    "nitrate_df=(pd.merge(actinic, new_cross_section_nitrate, on='wavelength'))\n",
    "delta_lamda= nitrate_df.wavelength[1]-nitrate_df.wavelength[0]\n",
    "nitrate_1=((nitrate_df.iloc[:,1]*nitrate_df['molecular_cross_section']*nitrate_df['quantumn_yield']).sum(axis=0)*delta_lamda)\n",
    "nitrate_2=((nitrate_df.iloc[:,2]*nitrate_df['molecular_cross_section']*nitrate_df['quantumn_yield']).sum(axis=0)*delta_lamda)\n",
    "nitrate_3=((nitrate_df.iloc[:,3]*nitrate_df['molecular_cross_section']*nitrate_df['quantumn_yield']).sum(axis=0)*delta_lamda)\n",
    "nitrate_4=((nitrate_df.iloc[:,4]*nitrate_df['molecular_cross_section']*nitrate_df['quantumn_yield']).sum(axis=0)*delta_lamda)\n",
    "summary_df['nitrate']=[nitrate_1, nitrate_2, nitrate_3,nitrate_4]\n"
   ]
  },
  {
   "cell_type": "code",
   "execution_count": null,
   "metadata": {},
   "outputs": [],
   "source": [
    "nitrite_df=(pd.merge(actinic, new_cross_section_nitrite, on='wavelength'))\n",
    "delta_lamda= nitrite_df.wavelength[1]-nitrite_df.wavelength[0]\n",
    "nitrite_1=((nitrite_df.iloc[:,1]*nitrite_df['molecular_cross_section']*nitrite_df['quantumn_yield']).sum(axis=0)*delta_lamda)\n",
    "nitrite_2=((nitrite_df.iloc[:,2]*nitrite_df['molecular_cross_section']*nitrite_df['quantumn_yield']).sum(axis=0)*delta_lamda)\n",
    "nitrite_3=((nitrite_df.iloc[:,3]*nitrite_df['molecular_cross_section']*nitrite_df['quantumn_yield']).sum(axis=0)*delta_lamda)\n",
    "nitrite_4=((nitrite_df.iloc[:,4]*nitrite_df['molecular_cross_section']*nitrite_df['quantumn_yield']).sum(axis=0)*delta_lamda)\n",
    "summary_df['nitrite']=[nitrite_1, nitrite_2, nitrite_3,nitrite_4]\n"
   ]
  },
  {
   "cell_type": "code",
   "execution_count": null,
   "metadata": {},
   "outputs": [],
   "source": [
    "I2_df=(pd.merge(actinic, new_cross_section_I2, on='wavelength'))\n",
    "delta_lamda= I2_df.wavelength[1]-I2_df.wavelength[0]\n",
    "I2_1=((I2_df.iloc[:,1]*I2_df['molecular_cross_section']*I2_df['quantumn_yield']).sum(axis=0)*delta_lamda)\n",
    "I2_2=((I2_df.iloc[:,2]*I2_df['molecular_cross_section']*I2_df['quantumn_yield']).sum(axis=0)*delta_lamda)\n",
    "I2_3=((I2_df.iloc[:,3]*I2_df['molecular_cross_section']*I2_df['quantumn_yield']).sum(axis=0)*delta_lamda)\n",
    "I2_4=((I2_df.iloc[:,4]*I2_df['molecular_cross_section']*I2_df['quantumn_yield']).sum(axis=0)*delta_lamda)\n",
    "summary_df['I2']=[I2_1, I2_2, I2_3,I2_4]\n"
   ]
  },
  {
   "cell_type": "code",
   "execution_count": null,
   "metadata": {},
   "outputs": [],
   "source": [
    "clno_df=(pd.merge(actinic, new_cross_section_clno, on='wavelength'))\n",
    "delta_lamda= clno_df.wavelength[1]-clno_df.wavelength[0]\n",
    "clno_1=((clno_df.iloc[:,1]*clno_df['molecular_cross_section']*clno_df['quantumn_yield']).sum(axis=0)*delta_lamda)\n",
    "clno_2=((clno_df.iloc[:,2]*clno_df['molecular_cross_section']*clno_df['quantumn_yield']).sum(axis=0)*delta_lamda)\n",
    "clno_3=((clno_df.iloc[:,3]*clno_df['molecular_cross_section']*clno_df['quantumn_yield']).sum(axis=0)*delta_lamda)\n",
    "clno_4=((clno_df.iloc[:,4]*clno_df['molecular_cross_section']*clno_df['quantumn_yield']).sum(axis=0)*delta_lamda)\n",
    "summary_df['clno']=[clno_1, clno_2, clno_3,clno_4]\n"
   ]
  },
  {
   "cell_type": "code",
   "execution_count": null,
   "metadata": {},
   "outputs": [],
   "source": [
    "NO2_df=(pd.merge(actinic, new_cross_section_NO2, on='wavelength'))\n",
    "delta_lamda= NO2_df.wavelength[1]-NO2_df.wavelength[0]\n",
    "NO2_1=((NO2_df.iloc[:,1]*NO2_df['molecular_cross_section']*NO2_df['quantumn_yield']).sum(axis=0)*delta_lamda)\n",
    "NO2_2=((NO2_df.iloc[:,2]*NO2_df['molecular_cross_section']*NO2_df['quantumn_yield']).sum(axis=0)*delta_lamda)\n",
    "NO2_3=((NO2_df.iloc[:,3]*NO2_df['molecular_cross_section']*NO2_df['quantumn_yield']).sum(axis=0)*delta_lamda)\n",
    "NO2_4=((NO2_df.iloc[:,4]*NO2_df['molecular_cross_section']*NO2_df['quantumn_yield']).sum(axis=0)*delta_lamda)\n",
    "summary_df['NO2']=[NO2_1, NO2_2, NO2_3,NO2_4]\n"
   ]
  },
  {
   "cell_type": "code",
   "execution_count": 29,
   "metadata": {},
   "outputs": [],
   "source": [
    "NO2_chamber_df=(pd.merge(psi_chamber_df, new_cross_section_NO2, on='wavelength'))\n",
    "# delta_lamda= NO2_chamber_df.wavelength[1]-NO2_chamber_df.wavelength[0]\n",
    "# NO2_1=((NO2_chamber_df.iloc[:,1]*NO2_chamber_df['molecular_cross_section']*NO2_chamber_df['quantumn_yield']).sum(axis=0)*delta_lamda)\n",
    "\n",
    "# NO2_chamber_df"
   ]
  },
  {
   "cell_type": "code",
   "execution_count": null,
   "metadata": {},
   "outputs": [],
   "source": [
    "HONO_df=(pd.merge(actinic, new_cross_section_HONO, on='wavelength'))\n",
    "delta_lamda= HONO_df.wavelength[1]-HONO_df.wavelength[0]\n",
    "HONO_1=((HONO_df.iloc[:,1]*HONO_df['molecular_cross_section']*HONO_df['quantumn_yield']).sum(axis=0)*delta_lamda)\n",
    "HONO_2=((HONO_df.iloc[:,2]*HONO_df['molecular_cross_section']*HONO_df['quantumn_yield']).sum(axis=0)*delta_lamda)\n",
    "HONO_3=((HONO_df.iloc[:,3]*HONO_df['molecular_cross_section']*HONO_df['quantumn_yield']).sum(axis=0)*delta_lamda)\n",
    "HONO_4=((HONO_df.iloc[:,4]*HONO_df['molecular_cross_section']*HONO_df['quantumn_yield']).sum(axis=0)*delta_lamda)\n",
    "summary_df['HONO']=[HONO_1, HONO_2, HONO_3,HONO_4]\n"
   ]
  },
  {
   "cell_type": "code",
   "execution_count": null,
   "metadata": {},
   "outputs": [
    {
     "name": "stderr",
     "output_type": "stream",
     "text": [
      "/var/folders/79/t5bzbbwx1pn2dyslxyqgpk940000gn/T/ipykernel_24045/644696310.py:3: FutureWarning:\n",
      "\n",
      "Setting the `book` attribute is not part of the public API, usage can give unexpected or corrupted results and will be removed in a future version\n",
      "\n",
      "/Users/cathysmacpro/miniconda3/envs/snowflakes/lib/python3.11/site-packages/openpyxl/workbook/child.py:99: UserWarning:\n",
      "\n",
      "Title is more than 31 characters. Some applications may not be able to read the file\n",
      "\n"
     ]
    }
   ],
   "source": [
    "\n",
    "book = load_workbook(excel_path)\n",
    "writer = pd.ExcelWriter(excel_path, engine = 'openpyxl')\n",
    "writer.book = book\n",
    "\n",
    "new_cross_section_nitrate.to_excel(writer, sheet_name = 'nitrate')\n",
    "new_cross_section_nitrite.to_excel(writer, sheet_name = 'nitrite')\n",
    "new_cross_section_HONO.to_excel(writer, sheet_name = 'HONO')\n",
    "new_cross_section_I2.to_excel(writer, sheet_name = 'I2')\n",
    "new_cross_section_clno.to_excel(writer, sheet_name = 'clno')\n",
    "summary_df.to_excel(writer,sheet_name='summary_photolysis_rate_constant')\n",
    "\n",
    "writer.close()"
   ]
  }
 ],
 "metadata": {
  "kernelspec": {
   "display_name": "Python 3",
   "language": "python",
   "name": "python3"
  },
  "language_info": {
   "codemirror_mode": {
    "name": "ipython",
    "version": 3
   },
   "file_extension": ".py",
   "mimetype": "text/x-python",
   "name": "python",
   "nbconvert_exporter": "python",
   "pygments_lexer": "ipython3",
   "version": "3.11.4"
  },
  "vscode": {
   "interpreter": {
    "hash": "ad2bdc8ecc057115af97d19610ffacc2b4e99fae6737bb82f5d7fb13d2f2c186"
   }
  }
 },
 "nbformat": 4,
 "nbformat_minor": 4
}

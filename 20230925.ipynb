{
 "cells": [
  {
   "cell_type": "code",
   "execution_count": 1,
   "metadata": {},
   "outputs": [],
   "source": [
    "import pandas as pd\n",
    "import matplotlib.pyplot as plt\n",
    "import numpy as np\n",
    "import scipy\n",
    "import datetime\n",
    "from datetime import datetime, timedelta\n",
    "from matplotlib.dates import DateFormatter\n",
    "from scipy.optimize import curve_fit\n",
    "import glob\n",
    "import os\n",
    "import shutil\n",
    "import plotly.graph_objects as go\n",
    "from openpyxl import load_workbook"
   ]
  },
  {
   "cell_type": "code",
   "execution_count": 27,
   "metadata": {},
   "outputs": [],
   "source": [
    "nox_path='data/T200_NOx_/2023-09-25_08.27.00_PC14751_T200_NOx.dat'\n",
    "no2_path='data/NO2_ICAD/2023_09_25_Channel1_Data.dat'\n",
    "hono_path='data/HONO_ICAD/2023_09_25_Channel1_Data.dat'\n",
    "rh_path='data/Humidity_Sensors_/2023-09-25_08.27.01_PC14751_Humidity_Sensors.dat'"
   ]
  },
  {
   "cell_type": "code",
   "execution_count": 44,
   "metadata": {},
   "outputs": [
    {
     "name": "stdout",
     "output_type": "stream",
     "text": [
      "2023-09-25 02:01:20.234000\n"
     ]
    }
   ],
   "source": [
    "hono=pd.read_csv(hono_path,sep = '\\t', engine='python') #HONO from ICAD\n",
    "no2=pd.read_csv(no2_path,sep = '\\t', engine='python') #NO2 from ICAD\n",
    "nox=pd.read_csv(nox_path,sep = '\\t', header=1, engine='python') #no of nox analyzer\n",
    "rh=pd.read_csv(rh_path,sep = '\\t', header=1, encoding= 'unicode_escape', engine='python') #RH data\n",
    "\n",
    "#ICAD\n",
    "hono['Start Date/Time (UTC)']=pd.to_datetime(hono['Start Date/Time (UTC)'])\n",
    "no2['Start Date/Time (UTC)']=pd.to_datetime(no2['Start Date/Time (UTC)'])\n",
    "\n",
    "#NOx analyzer\n",
    "nox['datetime']=nox['Date']+ nox['Time']\n",
    "nox['time']= pd.to_datetime(nox['datetime'], format='%d.%m.%Y%H:%M:%S') \n",
    "\n",
    "\n",
    "#RH sensor\n",
    "rh['datetime']=rh['Date']+ rh['Time']\n",
    "rh['time']= pd.to_datetime(rh['datetime'], format='%d.%m.%Y%H:%M:%S') \n",
    "\n",
    "hono['Time_correct']=hono['Start Date/Time (UTC)']+timedelta(hours=2, minutes=1)\n",
    "hono['Time_correct']= pd.to_datetime(hono['Time_correct'], format='%d.%m.%Y%H:%M:%S') \n",
    "\n",
    "no2['Time_correct']=no2['Start Date/Time (UTC)']+timedelta(hours=2, minutes=1)\n",
    "no2['Time_correct']= pd.to_datetime(no2['Time_correct'], format='%d.%m.%Y%H:%M:%S') \n",
    "\n",
    "print(hono['Time_correct'][1])"
   ]
  },
  {
   "cell_type": "code",
   "execution_count": 29,
   "metadata": {},
   "outputs": [],
   "source": [
    "dil_factor=1\n",
    "\n",
    "df_hono_icad=pd.DataFrame()\n",
    "df_no2_icad=pd.DataFrame()\n",
    "df_rh=pd.DataFrame()\n",
    "df_nox_t200=pd.DataFrame()\n",
    "\n",
    "df_hono_icad['time']=hono['Time_correct']\n",
    "df_no2_icad['time']=no2['Time_correct']\n",
    "df_nox_t200['time']=nox['time']\n",
    "df_rh['time']=rh['time']\n",
    "df_rh['dew_point']=rh['DP7[°C]']\n",
    "df_hono_icad['hono']=hono['HONO (ppb)']*dil_factor\n",
    "df_no2_icad['no2']=no2['NO2 (ppb)']*dil_factor\n",
    "df_nox_t200['no']=nox['NO']*dil_factor\n"
   ]
  },
  {
   "cell_type": "code",
   "execution_count": 30,
   "metadata": {},
   "outputs": [],
   "source": [
    "average_interval='60s'\n",
    "df_hono_icad=df_hono_icad.resample(average_interval,on='time').mean()\n",
    "df_hono_icad['date_time']=df_hono_icad.index\n",
    "\n",
    "df_no2_icad=df_no2_icad.resample(average_interval,on='time').mean()\n",
    "df_no2_icad['date_time']=df_no2_icad.index\n",
    "df_no2_icad['date_time']= pd.to_datetime(df_no2_icad['date_time']) \n",
    "\n",
    "df_rh=df_rh.resample(average_interval,on='time').mean()\n",
    "df_rh['date_time']=df_rh.index\n",
    "\n",
    "df_nox_t200=df_nox_t200.resample(average_interval,on='time').mean()\n",
    "df_nox_t200['date_time']=df_nox_t200.index\n"
   ]
  },
  {
   "cell_type": "code",
   "execution_count": 36,
   "metadata": {},
   "outputs": [
    {
     "data": {
      "text/html": [
       "<div>\n",
       "<style scoped>\n",
       "    .dataframe tbody tr th:only-of-type {\n",
       "        vertical-align: middle;\n",
       "    }\n",
       "\n",
       "    .dataframe tbody tr th {\n",
       "        vertical-align: top;\n",
       "    }\n",
       "\n",
       "    .dataframe thead th {\n",
       "        text-align: right;\n",
       "    }\n",
       "</style>\n",
       "<table border=\"1\" class=\"dataframe\">\n",
       "  <thead>\n",
       "    <tr style=\"text-align: right;\">\n",
       "      <th></th>\n",
       "      <th>hono</th>\n",
       "      <th>date_time</th>\n",
       "      <th>no2</th>\n",
       "      <th>no</th>\n",
       "      <th>dew_point</th>\n",
       "    </tr>\n",
       "  </thead>\n",
       "  <tbody>\n",
       "    <tr>\n",
       "      <th>0</th>\n",
       "      <td>0.122500</td>\n",
       "      <td>2023-09-25 08:27:00</td>\n",
       "      <td>0.034567</td>\n",
       "      <td>0.595</td>\n",
       "      <td>0.000000</td>\n",
       "    </tr>\n",
       "    <tr>\n",
       "      <th>1</th>\n",
       "      <td>0.217500</td>\n",
       "      <td>2023-09-25 08:28:00</td>\n",
       "      <td>0.089150</td>\n",
       "      <td>0.920</td>\n",
       "      <td>7.050000</td>\n",
       "    </tr>\n",
       "    <tr>\n",
       "      <th>2</th>\n",
       "      <td>0.147333</td>\n",
       "      <td>2023-09-25 08:29:00</td>\n",
       "      <td>0.046700</td>\n",
       "      <td>1.170</td>\n",
       "      <td>17.251724</td>\n",
       "    </tr>\n",
       "    <tr>\n",
       "      <th>3</th>\n",
       "      <td>0.121167</td>\n",
       "      <td>2023-09-25 08:30:00</td>\n",
       "      <td>0.072350</td>\n",
       "      <td>1.430</td>\n",
       "      <td>16.686207</td>\n",
       "    </tr>\n",
       "    <tr>\n",
       "      <th>4</th>\n",
       "      <td>0.133200</td>\n",
       "      <td>2023-09-25 08:31:00</td>\n",
       "      <td>0.081867</td>\n",
       "      <td>1.685</td>\n",
       "      <td>16.165517</td>\n",
       "    </tr>\n",
       "    <tr>\n",
       "      <th>...</th>\n",
       "      <td>...</td>\n",
       "      <td>...</td>\n",
       "      <td>...</td>\n",
       "      <td>...</td>\n",
       "      <td>...</td>\n",
       "    </tr>\n",
       "    <tr>\n",
       "      <th>625</th>\n",
       "      <td>-0.014000</td>\n",
       "      <td>2023-09-25 18:52:00</td>\n",
       "      <td>0.001100</td>\n",
       "      <td>0.300</td>\n",
       "      <td>15.493103</td>\n",
       "    </tr>\n",
       "    <tr>\n",
       "      <th>626</th>\n",
       "      <td>-0.019333</td>\n",
       "      <td>2023-09-25 18:53:00</td>\n",
       "      <td>-0.010267</td>\n",
       "      <td>0.300</td>\n",
       "      <td>15.410345</td>\n",
       "    </tr>\n",
       "    <tr>\n",
       "      <th>627</th>\n",
       "      <td>0.471500</td>\n",
       "      <td>2023-09-25 18:54:00</td>\n",
       "      <td>0.005967</td>\n",
       "      <td>0.350</td>\n",
       "      <td>-4.448276</td>\n",
       "    </tr>\n",
       "    <tr>\n",
       "      <th>628</th>\n",
       "      <td>-0.202000</td>\n",
       "      <td>2023-09-25 18:55:00</td>\n",
       "      <td>0.004633</td>\n",
       "      <td>0.430</td>\n",
       "      <td>-21.793103</td>\n",
       "    </tr>\n",
       "    <tr>\n",
       "      <th>629</th>\n",
       "      <td>-0.316000</td>\n",
       "      <td>2023-09-25 18:56:00</td>\n",
       "      <td>0.025350</td>\n",
       "      <td>0.470</td>\n",
       "      <td>-4.331034</td>\n",
       "    </tr>\n",
       "  </tbody>\n",
       "</table>\n",
       "<p>630 rows × 5 columns</p>\n",
       "</div>"
      ],
      "text/plain": [
       "         hono           date_time       no2     no  dew_point\n",
       "0    0.122500 2023-09-25 08:27:00  0.034567  0.595   0.000000\n",
       "1    0.217500 2023-09-25 08:28:00  0.089150  0.920   7.050000\n",
       "2    0.147333 2023-09-25 08:29:00  0.046700  1.170  17.251724\n",
       "3    0.121167 2023-09-25 08:30:00  0.072350  1.430  16.686207\n",
       "4    0.133200 2023-09-25 08:31:00  0.081867  1.685  16.165517\n",
       "..        ...                 ...       ...    ...        ...\n",
       "625 -0.014000 2023-09-25 18:52:00  0.001100  0.300  15.493103\n",
       "626 -0.019333 2023-09-25 18:53:00 -0.010267  0.300  15.410345\n",
       "627  0.471500 2023-09-25 18:54:00  0.005967  0.350  -4.448276\n",
       "628 -0.202000 2023-09-25 18:55:00  0.004633  0.430 -21.793103\n",
       "629 -0.316000 2023-09-25 18:56:00  0.025350  0.470  -4.331034\n",
       "\n",
       "[630 rows x 5 columns]"
      ]
     },
     "execution_count": 36,
     "metadata": {},
     "output_type": "execute_result"
    }
   ],
   "source": [
    "df=pd.merge(pd.merge(pd.merge(df_hono_icad,df_no2_icad,on='date_time'),df_nox_t200,on='date_time'),df_rh,on='date_time')\n",
    "df"
   ]
  },
  {
   "cell_type": "code",
   "execution_count": 56,
   "metadata": {},
   "outputs": [
    {
     "name": "stdout",
     "output_type": "stream",
     "text": [
      "         hono           date_time       no2    no  dew_point\n",
      "506  0.005167 2023-09-25 16:53:00 -0.002217  0.53  17.213793\n"
     ]
    },
    {
     "data": {
      "application/vnd.plotly.v1+json": {
       "config": {
        "displayModeBar": true,
        "plotlyServerURL": "https://plot.ly"
       },
       "data": [
        {
         "line": {
          "width": 2
         },
         "marker": {
          "size": 10
         },
         "mode": "markers+lines",
         "name": "HONO",
         "type": "scatter",
         "x": [
          0,
          1,
          2,
          3,
          4,
          5,
          6,
          7,
          8,
          9,
          10,
          11,
          12,
          13,
          14,
          15,
          16,
          17,
          18,
          19,
          20,
          21,
          22,
          23,
          24,
          25,
          26,
          27,
          28,
          29,
          30,
          31,
          32,
          33,
          34,
          35,
          36,
          37,
          38,
          39,
          40,
          41,
          42,
          43,
          44,
          45,
          46,
          47,
          48,
          49,
          50,
          51,
          52,
          53,
          54,
          55,
          56,
          57,
          58,
          59
         ],
         "y": [
          0.039333333333333324,
          0.07983333333333333,
          0.14483333333333334,
          0.0675,
          -0.009500000000000007,
          -0.014333333333333337,
          0.059166666666666666,
          0.079,
          -0.034666666666666665,
          -0.07366666666666667,
          0.005166666666666667,
          3.3944999999999994,
          11.1232,
          14.760833333333332,
          18.906666666666666,
          22.91616666666667,
          26.288666666666668,
          29.099833333333333,
          31.822333333333333,
          34.39033333333333,
          37.231833333333334,
          40.55416666666667,
          44.190333333333335,
          46.705666666666666,
          48.675666666666665,
          50.7564,
          53.062999999999995,
          55.623,
          58.34116666666667,
          61.4925,
          64.14183333333334,
          65.71716666666667,
          67.55283333333334,
          69.133,
          null,
          75.0995,
          76.31616666666666,
          78.06716666666667,
          77.45083333333334,
          76.35483333333333,
          76.64516666666667,
          76.8412,
          57.64633333333333,
          5.795833333333333,
          1.5766666666666669,
          0.8931666666666667,
          0.5701666666666666,
          0.49300000000000005,
          0.46449999999999997,
          0.3885,
          0.3781666666666667,
          0.3368333333333333,
          0.2788333333333333,
          0.09150000000000001,
          0.18816666666666668,
          0.143,
          0.17533333333333334,
          0.07366666666666667,
          0.2316666666666667,
          null
         ],
         "yaxis": "y"
        },
        {
         "line": {
          "width": 2
         },
         "marker": {
          "size": 10
         },
         "mode": "markers+lines",
         "name": "NO<sub>2</sub>",
         "type": "scatter",
         "x": [
          0,
          1,
          2,
          3,
          4,
          5,
          6,
          7,
          8,
          9,
          10,
          11,
          12,
          13,
          14,
          15,
          16,
          17,
          18,
          19,
          20,
          21,
          22,
          23,
          24,
          25,
          26,
          27,
          28,
          29,
          30,
          31,
          32,
          33,
          34,
          35,
          36,
          37,
          38,
          39,
          40,
          41,
          42,
          43,
          44,
          45,
          46,
          47,
          48,
          49,
          50,
          51,
          52,
          53,
          54,
          55,
          56,
          57,
          58,
          59
         ],
         "y": [
          -0.026216666666666666,
          0.048400000000000006,
          -0.008599999999999998,
          0.03241666666666667,
          0.018266666666666667,
          0.010916666666666667,
          -0.0035500000000000006,
          0.016166666666666666,
          0.0028833333333333337,
          -0.015816666666666666,
          -0.0022166666666666676,
          -0.013566666666666664,
          2.3769,
          3.71425,
          4.216933333333333,
          4.631616666666667,
          5.032699999999999,
          5.224766666666667,
          5.406933333333334,
          5.596216666666667,
          5.87168,
          6.1408,
          6.589516666666667,
          6.940666666666666,
          7.172766666666667,
          7.305350000000001,
          7.4771,
          7.771616666666667,
          7.9181833333333325,
          8.1344,
          8.373516666666667,
          8.562633333333332,
          8.6534,
          8.810633333333334,
          8.881233333333332,
          9.03815,
          9.03364,
          9.10905,
          9.035,
          8.79475,
          8.566833333333333,
          8.342933333333333,
          8.2424,
          2.8644,
          0.007899999999999999,
          0.04808333333333334,
          -0.01661666666666667,
          -0.03158,
          -0.028683333333333335,
          -0.009416666666666669,
          0.0008499999999999989,
          0.010766666666666666,
          -0.006719999999999999,
          0.0095,
          0.01958333333333333,
          0.028950000000000004,
          0.06528,
          0.036533333333333334,
          0.0305,
          null
         ],
         "yaxis": "y"
        },
        {
         "line": {
          "width": 2
         },
         "marker": {
          "size": 10
         },
         "mode": "markers+lines",
         "name": "NO",
         "type": "scatter",
         "x": [
          0,
          1,
          2,
          3,
          4,
          5,
          6,
          7,
          8,
          9,
          10,
          11,
          12,
          13,
          14,
          15,
          16,
          17,
          18,
          19,
          20,
          21,
          22,
          23,
          24,
          25,
          26,
          27,
          28,
          29,
          30,
          31,
          32,
          33,
          34,
          35,
          36,
          37,
          38,
          39,
          40,
          41,
          42,
          43,
          44,
          45,
          46,
          47,
          48,
          49,
          50,
          51,
          52,
          53,
          54,
          55,
          56,
          57,
          58,
          59
         ],
         "y": [
          -0.2,
          -0.09,
          0.04,
          0.2,
          0.3,
          0.35,
          0.4,
          0.505,
          0.585,
          0.52,
          0.53,
          0.525,
          0.705,
          0.9199999999999999,
          1.12,
          1.3421052631578947,
          1.61,
          1.955,
          2.3,
          2.6,
          2.8649999999999998,
          3.2,
          3.5149999999999997,
          3.835,
          4.13,
          4.4399999999999995,
          4.8,
          5.279999999999999,
          5.720000000000001,
          6.075,
          6.35,
          6.663157894736842,
          6.909999999999999,
          7.1,
          7.089999999999999,
          6.965000000000001,
          6.83,
          6.8,
          6.720000000000001,
          6.534999999999999,
          6.345000000000001,
          6.195,
          5.675,
          4.8950000000000005,
          4.0600000000000005,
          3.185,
          2.357894736842105,
          1.585,
          0.7849999999999999,
          0.23000000000000004,
          0.19,
          0.1,
          0.035,
          0.035,
          0.030000000000000006,
          0.035,
          0.07,
          0.035,
          0.030000000000000006,
          0.10500000000000001
         ],
         "yaxis": "y"
        }
       ],
       "layout": {
        "annotations": [
         {
          "font": {
           "size": 14
          },
          "showarrow": false,
          "text": "UV-A lights on",
          "x": 25.5,
          "xanchor": "center",
          "xref": "x",
          "y": 1,
          "yanchor": "top",
          "yref": "y domain"
         }
        ],
        "autosize": false,
        "height": 800,
        "legend": {
         "font": {
          "color": "black",
          "size": 25
         },
         "x": 0.05,
         "xanchor": "left",
         "y": 0.8,
         "yanchor": "top"
        },
        "paper_bgcolor": "white",
        "plot_bgcolor": "white",
        "shapes": [
         {
          "fillcolor": "yellow",
          "layer": "below",
          "line": {
           "width": 0
          },
          "opacity": 0.3,
          "type": "rect",
          "x0": 10,
          "x1": 41,
          "xref": "x",
          "y0": 0,
          "y1": 1,
          "yref": "y domain"
         }
        ],
        "template": {
         "data": {
          "bar": [
           {
            "error_x": {
             "color": "#2a3f5f"
            },
            "error_y": {
             "color": "#2a3f5f"
            },
            "marker": {
             "line": {
              "color": "#E5ECF6",
              "width": 0.5
             },
             "pattern": {
              "fillmode": "overlay",
              "size": 10,
              "solidity": 0.2
             }
            },
            "type": "bar"
           }
          ],
          "barpolar": [
           {
            "marker": {
             "line": {
              "color": "#E5ECF6",
              "width": 0.5
             },
             "pattern": {
              "fillmode": "overlay",
              "size": 10,
              "solidity": 0.2
             }
            },
            "type": "barpolar"
           }
          ],
          "carpet": [
           {
            "aaxis": {
             "endlinecolor": "#2a3f5f",
             "gridcolor": "white",
             "linecolor": "white",
             "minorgridcolor": "white",
             "startlinecolor": "#2a3f5f"
            },
            "baxis": {
             "endlinecolor": "#2a3f5f",
             "gridcolor": "white",
             "linecolor": "white",
             "minorgridcolor": "white",
             "startlinecolor": "#2a3f5f"
            },
            "type": "carpet"
           }
          ],
          "choropleth": [
           {
            "colorbar": {
             "outlinewidth": 0,
             "ticks": ""
            },
            "type": "choropleth"
           }
          ],
          "contour": [
           {
            "colorbar": {
             "outlinewidth": 0,
             "ticks": ""
            },
            "colorscale": [
             [
              0,
              "#0d0887"
             ],
             [
              0.1111111111111111,
              "#46039f"
             ],
             [
              0.2222222222222222,
              "#7201a8"
             ],
             [
              0.3333333333333333,
              "#9c179e"
             ],
             [
              0.4444444444444444,
              "#bd3786"
             ],
             [
              0.5555555555555556,
              "#d8576b"
             ],
             [
              0.6666666666666666,
              "#ed7953"
             ],
             [
              0.7777777777777778,
              "#fb9f3a"
             ],
             [
              0.8888888888888888,
              "#fdca26"
             ],
             [
              1,
              "#f0f921"
             ]
            ],
            "type": "contour"
           }
          ],
          "contourcarpet": [
           {
            "colorbar": {
             "outlinewidth": 0,
             "ticks": ""
            },
            "type": "contourcarpet"
           }
          ],
          "heatmap": [
           {
            "colorbar": {
             "outlinewidth": 0,
             "ticks": ""
            },
            "colorscale": [
             [
              0,
              "#0d0887"
             ],
             [
              0.1111111111111111,
              "#46039f"
             ],
             [
              0.2222222222222222,
              "#7201a8"
             ],
             [
              0.3333333333333333,
              "#9c179e"
             ],
             [
              0.4444444444444444,
              "#bd3786"
             ],
             [
              0.5555555555555556,
              "#d8576b"
             ],
             [
              0.6666666666666666,
              "#ed7953"
             ],
             [
              0.7777777777777778,
              "#fb9f3a"
             ],
             [
              0.8888888888888888,
              "#fdca26"
             ],
             [
              1,
              "#f0f921"
             ]
            ],
            "type": "heatmap"
           }
          ],
          "heatmapgl": [
           {
            "colorbar": {
             "outlinewidth": 0,
             "ticks": ""
            },
            "colorscale": [
             [
              0,
              "#0d0887"
             ],
             [
              0.1111111111111111,
              "#46039f"
             ],
             [
              0.2222222222222222,
              "#7201a8"
             ],
             [
              0.3333333333333333,
              "#9c179e"
             ],
             [
              0.4444444444444444,
              "#bd3786"
             ],
             [
              0.5555555555555556,
              "#d8576b"
             ],
             [
              0.6666666666666666,
              "#ed7953"
             ],
             [
              0.7777777777777778,
              "#fb9f3a"
             ],
             [
              0.8888888888888888,
              "#fdca26"
             ],
             [
              1,
              "#f0f921"
             ]
            ],
            "type": "heatmapgl"
           }
          ],
          "histogram": [
           {
            "marker": {
             "pattern": {
              "fillmode": "overlay",
              "size": 10,
              "solidity": 0.2
             }
            },
            "type": "histogram"
           }
          ],
          "histogram2d": [
           {
            "colorbar": {
             "outlinewidth": 0,
             "ticks": ""
            },
            "colorscale": [
             [
              0,
              "#0d0887"
             ],
             [
              0.1111111111111111,
              "#46039f"
             ],
             [
              0.2222222222222222,
              "#7201a8"
             ],
             [
              0.3333333333333333,
              "#9c179e"
             ],
             [
              0.4444444444444444,
              "#bd3786"
             ],
             [
              0.5555555555555556,
              "#d8576b"
             ],
             [
              0.6666666666666666,
              "#ed7953"
             ],
             [
              0.7777777777777778,
              "#fb9f3a"
             ],
             [
              0.8888888888888888,
              "#fdca26"
             ],
             [
              1,
              "#f0f921"
             ]
            ],
            "type": "histogram2d"
           }
          ],
          "histogram2dcontour": [
           {
            "colorbar": {
             "outlinewidth": 0,
             "ticks": ""
            },
            "colorscale": [
             [
              0,
              "#0d0887"
             ],
             [
              0.1111111111111111,
              "#46039f"
             ],
             [
              0.2222222222222222,
              "#7201a8"
             ],
             [
              0.3333333333333333,
              "#9c179e"
             ],
             [
              0.4444444444444444,
              "#bd3786"
             ],
             [
              0.5555555555555556,
              "#d8576b"
             ],
             [
              0.6666666666666666,
              "#ed7953"
             ],
             [
              0.7777777777777778,
              "#fb9f3a"
             ],
             [
              0.8888888888888888,
              "#fdca26"
             ],
             [
              1,
              "#f0f921"
             ]
            ],
            "type": "histogram2dcontour"
           }
          ],
          "mesh3d": [
           {
            "colorbar": {
             "outlinewidth": 0,
             "ticks": ""
            },
            "type": "mesh3d"
           }
          ],
          "parcoords": [
           {
            "line": {
             "colorbar": {
              "outlinewidth": 0,
              "ticks": ""
             }
            },
            "type": "parcoords"
           }
          ],
          "pie": [
           {
            "automargin": true,
            "type": "pie"
           }
          ],
          "scatter": [
           {
            "fillpattern": {
             "fillmode": "overlay",
             "size": 10,
             "solidity": 0.2
            },
            "type": "scatter"
           }
          ],
          "scatter3d": [
           {
            "line": {
             "colorbar": {
              "outlinewidth": 0,
              "ticks": ""
             }
            },
            "marker": {
             "colorbar": {
              "outlinewidth": 0,
              "ticks": ""
             }
            },
            "type": "scatter3d"
           }
          ],
          "scattercarpet": [
           {
            "marker": {
             "colorbar": {
              "outlinewidth": 0,
              "ticks": ""
             }
            },
            "type": "scattercarpet"
           }
          ],
          "scattergeo": [
           {
            "marker": {
             "colorbar": {
              "outlinewidth": 0,
              "ticks": ""
             }
            },
            "type": "scattergeo"
           }
          ],
          "scattergl": [
           {
            "marker": {
             "colorbar": {
              "outlinewidth": 0,
              "ticks": ""
             }
            },
            "type": "scattergl"
           }
          ],
          "scattermapbox": [
           {
            "marker": {
             "colorbar": {
              "outlinewidth": 0,
              "ticks": ""
             }
            },
            "type": "scattermapbox"
           }
          ],
          "scatterpolar": [
           {
            "marker": {
             "colorbar": {
              "outlinewidth": 0,
              "ticks": ""
             }
            },
            "type": "scatterpolar"
           }
          ],
          "scatterpolargl": [
           {
            "marker": {
             "colorbar": {
              "outlinewidth": 0,
              "ticks": ""
             }
            },
            "type": "scatterpolargl"
           }
          ],
          "scatterternary": [
           {
            "marker": {
             "colorbar": {
              "outlinewidth": 0,
              "ticks": ""
             }
            },
            "type": "scatterternary"
           }
          ],
          "surface": [
           {
            "colorbar": {
             "outlinewidth": 0,
             "ticks": ""
            },
            "colorscale": [
             [
              0,
              "#0d0887"
             ],
             [
              0.1111111111111111,
              "#46039f"
             ],
             [
              0.2222222222222222,
              "#7201a8"
             ],
             [
              0.3333333333333333,
              "#9c179e"
             ],
             [
              0.4444444444444444,
              "#bd3786"
             ],
             [
              0.5555555555555556,
              "#d8576b"
             ],
             [
              0.6666666666666666,
              "#ed7953"
             ],
             [
              0.7777777777777778,
              "#fb9f3a"
             ],
             [
              0.8888888888888888,
              "#fdca26"
             ],
             [
              1,
              "#f0f921"
             ]
            ],
            "type": "surface"
           }
          ],
          "table": [
           {
            "cells": {
             "fill": {
              "color": "#EBF0F8"
             },
             "line": {
              "color": "white"
             }
            },
            "header": {
             "fill": {
              "color": "#C8D4E3"
             },
             "line": {
              "color": "white"
             }
            },
            "type": "table"
           }
          ]
         },
         "layout": {
          "annotationdefaults": {
           "arrowcolor": "#2a3f5f",
           "arrowhead": 0,
           "arrowwidth": 1
          },
          "autotypenumbers": "strict",
          "coloraxis": {
           "colorbar": {
            "outlinewidth": 0,
            "ticks": ""
           }
          },
          "colorscale": {
           "diverging": [
            [
             0,
             "#8e0152"
            ],
            [
             0.1,
             "#c51b7d"
            ],
            [
             0.2,
             "#de77ae"
            ],
            [
             0.3,
             "#f1b6da"
            ],
            [
             0.4,
             "#fde0ef"
            ],
            [
             0.5,
             "#f7f7f7"
            ],
            [
             0.6,
             "#e6f5d0"
            ],
            [
             0.7,
             "#b8e186"
            ],
            [
             0.8,
             "#7fbc41"
            ],
            [
             0.9,
             "#4d9221"
            ],
            [
             1,
             "#276419"
            ]
           ],
           "sequential": [
            [
             0,
             "#0d0887"
            ],
            [
             0.1111111111111111,
             "#46039f"
            ],
            [
             0.2222222222222222,
             "#7201a8"
            ],
            [
             0.3333333333333333,
             "#9c179e"
            ],
            [
             0.4444444444444444,
             "#bd3786"
            ],
            [
             0.5555555555555556,
             "#d8576b"
            ],
            [
             0.6666666666666666,
             "#ed7953"
            ],
            [
             0.7777777777777778,
             "#fb9f3a"
            ],
            [
             0.8888888888888888,
             "#fdca26"
            ],
            [
             1,
             "#f0f921"
            ]
           ],
           "sequentialminus": [
            [
             0,
             "#0d0887"
            ],
            [
             0.1111111111111111,
             "#46039f"
            ],
            [
             0.2222222222222222,
             "#7201a8"
            ],
            [
             0.3333333333333333,
             "#9c179e"
            ],
            [
             0.4444444444444444,
             "#bd3786"
            ],
            [
             0.5555555555555556,
             "#d8576b"
            ],
            [
             0.6666666666666666,
             "#ed7953"
            ],
            [
             0.7777777777777778,
             "#fb9f3a"
            ],
            [
             0.8888888888888888,
             "#fdca26"
            ],
            [
             1,
             "#f0f921"
            ]
           ]
          },
          "colorway": [
           "#636efa",
           "#EF553B",
           "#00cc96",
           "#ab63fa",
           "#FFA15A",
           "#19d3f3",
           "#FF6692",
           "#B6E880",
           "#FF97FF",
           "#FECB52"
          ],
          "font": {
           "color": "#2a3f5f"
          },
          "geo": {
           "bgcolor": "white",
           "lakecolor": "white",
           "landcolor": "#E5ECF6",
           "showlakes": true,
           "showland": true,
           "subunitcolor": "white"
          },
          "hoverlabel": {
           "align": "left"
          },
          "hovermode": "closest",
          "mapbox": {
           "style": "light"
          },
          "paper_bgcolor": "white",
          "plot_bgcolor": "#E5ECF6",
          "polar": {
           "angularaxis": {
            "gridcolor": "white",
            "linecolor": "white",
            "ticks": ""
           },
           "bgcolor": "#E5ECF6",
           "radialaxis": {
            "gridcolor": "white",
            "linecolor": "white",
            "ticks": ""
           }
          },
          "scene": {
           "xaxis": {
            "backgroundcolor": "#E5ECF6",
            "gridcolor": "white",
            "gridwidth": 2,
            "linecolor": "white",
            "showbackground": true,
            "ticks": "",
            "zerolinecolor": "white"
           },
           "yaxis": {
            "backgroundcolor": "#E5ECF6",
            "gridcolor": "white",
            "gridwidth": 2,
            "linecolor": "white",
            "showbackground": true,
            "ticks": "",
            "zerolinecolor": "white"
           },
           "zaxis": {
            "backgroundcolor": "#E5ECF6",
            "gridcolor": "white",
            "gridwidth": 2,
            "linecolor": "white",
            "showbackground": true,
            "ticks": "",
            "zerolinecolor": "white"
           }
          },
          "shapedefaults": {
           "line": {
            "color": "#2a3f5f"
           }
          },
          "ternary": {
           "aaxis": {
            "gridcolor": "white",
            "linecolor": "white",
            "ticks": ""
           },
           "baxis": {
            "gridcolor": "white",
            "linecolor": "white",
            "ticks": ""
           },
           "bgcolor": "#E5ECF6",
           "caxis": {
            "gridcolor": "white",
            "linecolor": "white",
            "ticks": ""
           }
          },
          "title": {
           "x": 0.05
          },
          "xaxis": {
           "automargin": true,
           "gridcolor": "white",
           "linecolor": "white",
           "ticks": "",
           "title": {
            "standoff": 15
           },
           "zerolinecolor": "white",
           "zerolinewidth": 2
          },
          "yaxis": {
           "automargin": true,
           "gridcolor": "white",
           "linecolor": "white",
           "ticks": "",
           "title": {
            "standoff": 15
           },
           "zerolinecolor": "white",
           "zerolinewidth": 2
          }
         }
        },
        "title": {
         "font": {
          "color": "black",
          "size": 25
         },
         "text": "0925e NaNO3 (0.1M) + DHB (0.02M) 600 uL "
        },
        "width": 1000,
        "xaxis": {
         "linecolor": "black",
         "linewidth": 2,
         "mirror": true,
         "showgrid": false,
         "showline": true,
         "tickfont": {
          "color": "black",
          "size": 25
         },
         "ticks": "inside",
         "title": {
          "font": {
           "color": "black",
           "size": 25
          },
          "text": "time (min)"
         }
        },
        "yaxis": {
         "linecolor": "black",
         "linewidth": 2,
         "mirror": true,
         "range": [
          -2,
          85
         ],
         "showgrid": false,
         "tickfont": {
          "color": "black",
          "size": 25
         },
         "ticks": "inside",
         "title": {
          "font": {
           "color": "black",
           "size": 25
          },
          "text": "HONO or NO<sub>x</sub> concentration (ppb)"
         }
        },
        "yaxis2": {
         "anchor": "free",
         "linecolor": "black",
         "linewidth": 2,
         "overlaying": "y",
         "position": 1,
         "showticklabels": true,
         "side": "right",
         "tickfont": {
          "color": "black",
          "size": 25
         },
         "ticks": "inside",
         "title": {
          "font": {
           "color": "black",
           "size": 25
          },
          "text": ""
         }
        }
       }
      }
     },
     "metadata": {},
     "output_type": "display_data"
    }
   ],
   "source": [
    "df=pd.merge(pd.merge(pd.merge(df_hono_icad,df_no2_icad,on='date_time'),df_nox_t200,on='date_time'),df_rh,on='date_time')\n",
    "# df=pd.merge(pd.merge(df_hono_icad,df_no2_icad,on='date_time'),df_nox_t200,on='date_time')\n",
    "# df=pd.merge(df_hono_icad,df_no2_icad,on='date_time')\n",
    "\n",
    "# correct HONO background\n",
    "print(df[df['date_time'] == '2023-09-25 16:53:00'])\n",
    "\n",
    "# df.hono=df.hono-df.hono[46:76].mean()\n",
    "time_start=506-10\n",
    "df=df[time_start:time_start+60]\n",
    "# df=df[time_start:time_start+39]\n",
    "\n",
    "x_minutes=(df['date_time'] - df['date_time'][time_start]).dt.total_seconds().div(60).astype(int)\n",
    "df['x_minutes']=x_minutes\n",
    "\n",
    "x= df.x_minutes\n",
    "# x= df.date_time\n",
    "\n",
    "fig_1= go.Figure()\n",
    "fig_1.add_trace(go.Scatter(x=x,y=df.hono,yaxis = \"y1\",mode='markers+lines',marker_size=10,line_width=2,name=\"HONO\"))\n",
    "fig_1.add_trace(go.Scatter(x= x,y=df.no2,yaxis = \"y1\",mode='markers+lines',marker_size=10,line_width=2,name=\"NO<sub>2</sub>\"))\n",
    "fig_1.add_trace(go.Scatter(x= x,y=df.no,yaxis = \"y1\",mode='markers+lines',marker_size=10,line_width=2,name=\"NO\"))\n",
    "\n",
    "# fig_1.add_trace(go.Scatter(x= df.date_time,y=df.no,yaxis = \"y1\",mode='markers+lines',marker_size=10,line_width=2,name=\"NO\"))\n",
    "# fig_1.add_trace(go.Scatter(x= df.date_time,y=df.no+df.no2+df.hono,yaxis = \"y1\",mode='markers+lines',marker_size=10,line_width=2,name=\"no\"))\n",
    "fig_1.update_layout(title='0925e NaNO3 (0.1M) + DHB (0.02M) 600 uL ',titlefont=dict(color=\"black\",size=25))\n",
    "# fig_1.update_layout( bargap=0)\n",
    "fig_1.update_layout(\n",
    "  plot_bgcolor = 'white',paper_bgcolor = 'white',autosize=False,width=1000, height=800,\n",
    "    xaxis=dict( title=\"time (min)\",titlefont=dict(color=\"black\",size=25),showline=True, mirror= True,tickfont=dict(color='black',size=25 ),linecolor=\"black\", linewidth=2,ticks='inside'),\n",
    "    yaxis=dict( title='HONO or NO<sub>x</sub> concentration (ppb)', \n",
    "               range=[-2,85],\n",
    "               titlefont=dict(color=\"black\",size=25),mirror= True,tickfont=dict(color='black',size=25 ),linecolor=\"black\", linewidth=2,ticks='inside'),\n",
    "    yaxis2=dict(title='',titlefont=dict(color=\"black\",size=25),tickfont=dict(color=\"black\" ,size=25),ticks='inside',anchor=\"free\",overlaying=\"y\", side=\"right\", position=1, linecolor=\"black\", linewidth=2,showticklabels = True) )\n",
    "fig_1.update_layout(legend=dict(yanchor=\"top\",y=0.8 ,xanchor=\"left\",x=0.05,  font=dict( size=25,color=\"black\")))\n",
    "fig_1.update_layout(xaxis=dict(showgrid=False),\n",
    "              yaxis=dict(showgrid=False)\n",
    ")\n",
    "\n",
    "fig_1.add_vrect(x0=10, x1=41,annotation_text=\"UV-A lights on\", annotation_position=\"top\",annotation_font_size=14,fillcolor=\"yellow\", opacity=0.3,layer=\"below\", line_width=0)\n",
    "# fig_1.add_vrect(x0=30, x1=36,annotation_text=\"UV-A lights off\", annotation_position=\"top\",annotation_font_size=14,fillcolor=\"grey\", opacity=0.3,layer=\"below\", line_width=0)\n",
    "# fig_1.add_vrect(x0=36 , x1=36+10,annotation_text=\"bypass\", annotation_position=\"top\",annotation_font_size=14,fillcolor=\"white\", opacity=0.3,layer=\"below\", line_width=0)\n",
    "\n",
    "config = {'displayModeBar': True}\n",
    "fig_1.show(config=config)\n",
    "# fig_1.to_image('3.jpeg')\n"
   ]
  },
  {
   "cell_type": "code",
   "execution_count": 58,
   "metadata": {},
   "outputs": [
    {
     "name": "stdout",
     "output_type": "stream",
     "text": [
      "         hono           date_time     no2   no  dew_point\n",
      "576  0.041833 2023-09-25 18:03:00  0.0091  0.2  17.055172\n"
     ]
    },
    {
     "data": {
      "application/vnd.plotly.v1+json": {
       "config": {
        "displayModeBar": true,
        "plotlyServerURL": "https://plot.ly"
       },
       "data": [
        {
         "line": {
          "width": 2
         },
         "marker": {
          "size": 10
         },
         "mode": "markers+lines",
         "name": "HONO",
         "type": "scatter",
         "x": [
          0,
          1,
          2,
          3,
          4,
          5,
          6,
          7,
          8,
          9,
          10,
          11,
          12,
          13,
          14,
          15,
          16,
          17,
          18,
          19,
          20,
          21,
          22,
          23,
          24,
          25,
          26,
          27,
          28,
          29,
          30,
          31,
          32,
          33,
          34,
          35,
          36,
          37,
          38,
          39,
          40,
          41,
          42,
          43,
          44,
          45,
          46,
          47,
          48,
          49,
          50,
          51,
          52,
          53,
          54,
          55,
          56,
          57,
          58,
          59
         ],
         "y": [
          0.03166666666666667,
          -0.05783333333333334,
          0.1728333333333333,
          0.17216666666666666,
          0.1845,
          0.15216666666666667,
          0.14533333333333334,
          0.136,
          0.022000000000000002,
          0.04566666666666667,
          0.041833333333333333,
          6.202,
          15.585833333333333,
          19.202333333333332,
          21.984666666666666,
          24.2655,
          26.337333333333333,
          28.511333333333337,
          30.703333333333333,
          32.988,
          35.7185,
          38.3265,
          40.345166666666664,
          42.56116666666667,
          44.632999999999996,
          46.79483333333334,
          49.683166666666665,
          52.461999999999996,
          55.374833333333335,
          57.92633333333333,
          59.93633333333333,
          61.67366666666667,
          63.07,
          63.46,
          62.5685,
          61.91266666666667,
          61.9115,
          62.0708,
          62.07633333333334,
          62.312999999999995,
          62.52,
          62.937666666666665,
          63.177166666666665,
          63.175000000000004,
          63.394666666666666,
          63.272,
          62.584666666666664,
          43.45766666666666,
          3.9585000000000004,
          0.975,
          0.7165999999999999,
          0.44016666666666665,
          0.347,
          0.21583333333333332,
          0.169,
          0.25,
          0.15433333333333335,
          -0.005333333333333329,
          0.022666666666666672,
          -0.013999999999999999
         ],
         "yaxis": "y"
        },
        {
         "line": {
          "width": 2
         },
         "marker": {
          "size": 10
         },
         "mode": "markers+lines",
         "name": "NO<sub>2</sub>",
         "type": "scatter",
         "x": [
          0,
          1,
          2,
          3,
          4,
          5,
          6,
          7,
          8,
          9,
          10,
          11,
          12,
          13,
          14,
          15,
          16,
          17,
          18,
          19,
          20,
          21,
          22,
          23,
          24,
          25,
          26,
          27,
          28,
          29,
          30,
          31,
          32,
          33,
          34,
          35,
          36,
          37,
          38,
          39,
          40,
          41,
          42,
          43,
          44,
          45,
          46,
          47,
          48,
          49,
          50,
          51,
          52,
          53,
          54,
          55,
          56,
          57,
          58,
          59
         ],
         "y": [
          -0.03656666666666667,
          -0.01881666666666667,
          -0.022050000000000004,
          0.0018333333333333311,
          -0.031900000000000005,
          -0.017983333333333334,
          0.040100000000000004,
          -0.048133333333333334,
          -0.045533333333333335,
          -0.010916666666666667,
          0.009099999999999999,
          0.24925,
          4.8368,
          5.921860000000001,
          6.1565,
          6.234983333333333,
          6.214933333333334,
          6.245233333333334,
          6.214066666666667,
          6.2853200000000005,
          6.32495,
          6.550833333333333,
          6.6737,
          6.677583333333334,
          6.742279999999999,
          6.88795,
          7.0064,
          7.3740875,
          7.54963125,
          7.901075,
          7.9842200000000005,
          8.10955,
          8.21615,
          8.252516666666667,
          8.09044,
          7.78635,
          7.566549999999999,
          7.380466666666667,
          7.21115,
          7.1555,
          7.02748,
          7.011933333333334,
          6.882446666666667,
          6.905586666666666,
          6.778216666666666,
          6.70922,
          6.630566666666667,
          6.424483333333334,
          2.4995000000000003,
          0.05778333333333333,
          0.02413333333333333,
          0.006033333333333334,
          -0.0191,
          -0.007199999999999999,
          -0.013916666666666667,
          -0.004816666666666666,
          -0.021266666666666666,
          0.0005200000000000024,
          -0.0043,
          0.0011000000000000003
         ],
         "yaxis": "y"
        },
        {
         "line": {
          "width": 2
         },
         "marker": {
          "size": 10
         },
         "mode": "markers+lines",
         "name": "NO",
         "type": "scatter",
         "x": [
          0,
          1,
          2,
          3,
          4,
          5,
          6,
          7,
          8,
          9,
          10,
          11,
          12,
          13,
          14,
          15,
          16,
          17,
          18,
          19,
          20,
          21,
          22,
          23,
          24,
          25,
          26,
          27,
          28,
          29,
          30,
          31,
          32,
          33,
          34,
          35,
          36,
          37,
          38,
          39,
          40,
          41,
          42,
          43,
          44,
          45,
          46,
          47,
          48,
          49,
          50,
          51,
          52,
          53,
          54,
          55,
          56,
          57,
          58,
          59
         ],
         "y": [
          -0.075,
          -0.085,
          -0.025,
          -0.02,
          -0.015000000000000003,
          -0.01578947368421053,
          0,
          0.05,
          0.07,
          0.195,
          0.2,
          0.33,
          0.45999999999999996,
          0.5,
          0.6,
          0.65,
          0.725,
          0.915,
          1.075,
          1.1300000000000001,
          1.2550000000000001,
          1.4105263157894736,
          1.605,
          1.7,
          1.8,
          1.8199999999999998,
          1.9,
          1.9,
          1.9600000000000002,
          1.97,
          2,
          1.985,
          2.055,
          2.1350000000000002,
          2.2,
          2.28,
          2.2849999999999997,
          2.2842105263157895,
          2.4050000000000002,
          2.5,
          2.5,
          2.4850000000000003,
          2.4899999999999998,
          2.54,
          2.585,
          2.585,
          2.555,
          2.355,
          2.0300000000000002,
          1.7,
          1.4049999999999998,
          1.07,
          0.8263157894736842,
          0.485,
          0.22999999999999998,
          0.2,
          0.21000000000000002,
          0.275,
          0.3,
          0.3
         ],
         "yaxis": "y"
        }
       ],
       "layout": {
        "annotations": [
         {
          "font": {
           "size": 14
          },
          "showarrow": false,
          "text": "UV-A lights on",
          "x": 28,
          "xanchor": "center",
          "xref": "x",
          "y": 1,
          "yanchor": "top",
          "yref": "y domain"
         }
        ],
        "autosize": false,
        "height": 800,
        "legend": {
         "font": {
          "color": "black",
          "size": 25
         },
         "x": 0.05,
         "xanchor": "left",
         "y": 0.8,
         "yanchor": "top"
        },
        "paper_bgcolor": "white",
        "plot_bgcolor": "white",
        "shapes": [
         {
          "fillcolor": "yellow",
          "layer": "below",
          "line": {
           "width": 0
          },
          "opacity": 0.3,
          "type": "rect",
          "x0": 10,
          "x1": 46,
          "xref": "x",
          "y0": 0,
          "y1": 1,
          "yref": "y domain"
         }
        ],
        "template": {
         "data": {
          "bar": [
           {
            "error_x": {
             "color": "#2a3f5f"
            },
            "error_y": {
             "color": "#2a3f5f"
            },
            "marker": {
             "line": {
              "color": "#E5ECF6",
              "width": 0.5
             },
             "pattern": {
              "fillmode": "overlay",
              "size": 10,
              "solidity": 0.2
             }
            },
            "type": "bar"
           }
          ],
          "barpolar": [
           {
            "marker": {
             "line": {
              "color": "#E5ECF6",
              "width": 0.5
             },
             "pattern": {
              "fillmode": "overlay",
              "size": 10,
              "solidity": 0.2
             }
            },
            "type": "barpolar"
           }
          ],
          "carpet": [
           {
            "aaxis": {
             "endlinecolor": "#2a3f5f",
             "gridcolor": "white",
             "linecolor": "white",
             "minorgridcolor": "white",
             "startlinecolor": "#2a3f5f"
            },
            "baxis": {
             "endlinecolor": "#2a3f5f",
             "gridcolor": "white",
             "linecolor": "white",
             "minorgridcolor": "white",
             "startlinecolor": "#2a3f5f"
            },
            "type": "carpet"
           }
          ],
          "choropleth": [
           {
            "colorbar": {
             "outlinewidth": 0,
             "ticks": ""
            },
            "type": "choropleth"
           }
          ],
          "contour": [
           {
            "colorbar": {
             "outlinewidth": 0,
             "ticks": ""
            },
            "colorscale": [
             [
              0,
              "#0d0887"
             ],
             [
              0.1111111111111111,
              "#46039f"
             ],
             [
              0.2222222222222222,
              "#7201a8"
             ],
             [
              0.3333333333333333,
              "#9c179e"
             ],
             [
              0.4444444444444444,
              "#bd3786"
             ],
             [
              0.5555555555555556,
              "#d8576b"
             ],
             [
              0.6666666666666666,
              "#ed7953"
             ],
             [
              0.7777777777777778,
              "#fb9f3a"
             ],
             [
              0.8888888888888888,
              "#fdca26"
             ],
             [
              1,
              "#f0f921"
             ]
            ],
            "type": "contour"
           }
          ],
          "contourcarpet": [
           {
            "colorbar": {
             "outlinewidth": 0,
             "ticks": ""
            },
            "type": "contourcarpet"
           }
          ],
          "heatmap": [
           {
            "colorbar": {
             "outlinewidth": 0,
             "ticks": ""
            },
            "colorscale": [
             [
              0,
              "#0d0887"
             ],
             [
              0.1111111111111111,
              "#46039f"
             ],
             [
              0.2222222222222222,
              "#7201a8"
             ],
             [
              0.3333333333333333,
              "#9c179e"
             ],
             [
              0.4444444444444444,
              "#bd3786"
             ],
             [
              0.5555555555555556,
              "#d8576b"
             ],
             [
              0.6666666666666666,
              "#ed7953"
             ],
             [
              0.7777777777777778,
              "#fb9f3a"
             ],
             [
              0.8888888888888888,
              "#fdca26"
             ],
             [
              1,
              "#f0f921"
             ]
            ],
            "type": "heatmap"
           }
          ],
          "heatmapgl": [
           {
            "colorbar": {
             "outlinewidth": 0,
             "ticks": ""
            },
            "colorscale": [
             [
              0,
              "#0d0887"
             ],
             [
              0.1111111111111111,
              "#46039f"
             ],
             [
              0.2222222222222222,
              "#7201a8"
             ],
             [
              0.3333333333333333,
              "#9c179e"
             ],
             [
              0.4444444444444444,
              "#bd3786"
             ],
             [
              0.5555555555555556,
              "#d8576b"
             ],
             [
              0.6666666666666666,
              "#ed7953"
             ],
             [
              0.7777777777777778,
              "#fb9f3a"
             ],
             [
              0.8888888888888888,
              "#fdca26"
             ],
             [
              1,
              "#f0f921"
             ]
            ],
            "type": "heatmapgl"
           }
          ],
          "histogram": [
           {
            "marker": {
             "pattern": {
              "fillmode": "overlay",
              "size": 10,
              "solidity": 0.2
             }
            },
            "type": "histogram"
           }
          ],
          "histogram2d": [
           {
            "colorbar": {
             "outlinewidth": 0,
             "ticks": ""
            },
            "colorscale": [
             [
              0,
              "#0d0887"
             ],
             [
              0.1111111111111111,
              "#46039f"
             ],
             [
              0.2222222222222222,
              "#7201a8"
             ],
             [
              0.3333333333333333,
              "#9c179e"
             ],
             [
              0.4444444444444444,
              "#bd3786"
             ],
             [
              0.5555555555555556,
              "#d8576b"
             ],
             [
              0.6666666666666666,
              "#ed7953"
             ],
             [
              0.7777777777777778,
              "#fb9f3a"
             ],
             [
              0.8888888888888888,
              "#fdca26"
             ],
             [
              1,
              "#f0f921"
             ]
            ],
            "type": "histogram2d"
           }
          ],
          "histogram2dcontour": [
           {
            "colorbar": {
             "outlinewidth": 0,
             "ticks": ""
            },
            "colorscale": [
             [
              0,
              "#0d0887"
             ],
             [
              0.1111111111111111,
              "#46039f"
             ],
             [
              0.2222222222222222,
              "#7201a8"
             ],
             [
              0.3333333333333333,
              "#9c179e"
             ],
             [
              0.4444444444444444,
              "#bd3786"
             ],
             [
              0.5555555555555556,
              "#d8576b"
             ],
             [
              0.6666666666666666,
              "#ed7953"
             ],
             [
              0.7777777777777778,
              "#fb9f3a"
             ],
             [
              0.8888888888888888,
              "#fdca26"
             ],
             [
              1,
              "#f0f921"
             ]
            ],
            "type": "histogram2dcontour"
           }
          ],
          "mesh3d": [
           {
            "colorbar": {
             "outlinewidth": 0,
             "ticks": ""
            },
            "type": "mesh3d"
           }
          ],
          "parcoords": [
           {
            "line": {
             "colorbar": {
              "outlinewidth": 0,
              "ticks": ""
             }
            },
            "type": "parcoords"
           }
          ],
          "pie": [
           {
            "automargin": true,
            "type": "pie"
           }
          ],
          "scatter": [
           {
            "fillpattern": {
             "fillmode": "overlay",
             "size": 10,
             "solidity": 0.2
            },
            "type": "scatter"
           }
          ],
          "scatter3d": [
           {
            "line": {
             "colorbar": {
              "outlinewidth": 0,
              "ticks": ""
             }
            },
            "marker": {
             "colorbar": {
              "outlinewidth": 0,
              "ticks": ""
             }
            },
            "type": "scatter3d"
           }
          ],
          "scattercarpet": [
           {
            "marker": {
             "colorbar": {
              "outlinewidth": 0,
              "ticks": ""
             }
            },
            "type": "scattercarpet"
           }
          ],
          "scattergeo": [
           {
            "marker": {
             "colorbar": {
              "outlinewidth": 0,
              "ticks": ""
             }
            },
            "type": "scattergeo"
           }
          ],
          "scattergl": [
           {
            "marker": {
             "colorbar": {
              "outlinewidth": 0,
              "ticks": ""
             }
            },
            "type": "scattergl"
           }
          ],
          "scattermapbox": [
           {
            "marker": {
             "colorbar": {
              "outlinewidth": 0,
              "ticks": ""
             }
            },
            "type": "scattermapbox"
           }
          ],
          "scatterpolar": [
           {
            "marker": {
             "colorbar": {
              "outlinewidth": 0,
              "ticks": ""
             }
            },
            "type": "scatterpolar"
           }
          ],
          "scatterpolargl": [
           {
            "marker": {
             "colorbar": {
              "outlinewidth": 0,
              "ticks": ""
             }
            },
            "type": "scatterpolargl"
           }
          ],
          "scatterternary": [
           {
            "marker": {
             "colorbar": {
              "outlinewidth": 0,
              "ticks": ""
             }
            },
            "type": "scatterternary"
           }
          ],
          "surface": [
           {
            "colorbar": {
             "outlinewidth": 0,
             "ticks": ""
            },
            "colorscale": [
             [
              0,
              "#0d0887"
             ],
             [
              0.1111111111111111,
              "#46039f"
             ],
             [
              0.2222222222222222,
              "#7201a8"
             ],
             [
              0.3333333333333333,
              "#9c179e"
             ],
             [
              0.4444444444444444,
              "#bd3786"
             ],
             [
              0.5555555555555556,
              "#d8576b"
             ],
             [
              0.6666666666666666,
              "#ed7953"
             ],
             [
              0.7777777777777778,
              "#fb9f3a"
             ],
             [
              0.8888888888888888,
              "#fdca26"
             ],
             [
              1,
              "#f0f921"
             ]
            ],
            "type": "surface"
           }
          ],
          "table": [
           {
            "cells": {
             "fill": {
              "color": "#EBF0F8"
             },
             "line": {
              "color": "white"
             }
            },
            "header": {
             "fill": {
              "color": "#C8D4E3"
             },
             "line": {
              "color": "white"
             }
            },
            "type": "table"
           }
          ]
         },
         "layout": {
          "annotationdefaults": {
           "arrowcolor": "#2a3f5f",
           "arrowhead": 0,
           "arrowwidth": 1
          },
          "autotypenumbers": "strict",
          "coloraxis": {
           "colorbar": {
            "outlinewidth": 0,
            "ticks": ""
           }
          },
          "colorscale": {
           "diverging": [
            [
             0,
             "#8e0152"
            ],
            [
             0.1,
             "#c51b7d"
            ],
            [
             0.2,
             "#de77ae"
            ],
            [
             0.3,
             "#f1b6da"
            ],
            [
             0.4,
             "#fde0ef"
            ],
            [
             0.5,
             "#f7f7f7"
            ],
            [
             0.6,
             "#e6f5d0"
            ],
            [
             0.7,
             "#b8e186"
            ],
            [
             0.8,
             "#7fbc41"
            ],
            [
             0.9,
             "#4d9221"
            ],
            [
             1,
             "#276419"
            ]
           ],
           "sequential": [
            [
             0,
             "#0d0887"
            ],
            [
             0.1111111111111111,
             "#46039f"
            ],
            [
             0.2222222222222222,
             "#7201a8"
            ],
            [
             0.3333333333333333,
             "#9c179e"
            ],
            [
             0.4444444444444444,
             "#bd3786"
            ],
            [
             0.5555555555555556,
             "#d8576b"
            ],
            [
             0.6666666666666666,
             "#ed7953"
            ],
            [
             0.7777777777777778,
             "#fb9f3a"
            ],
            [
             0.8888888888888888,
             "#fdca26"
            ],
            [
             1,
             "#f0f921"
            ]
           ],
           "sequentialminus": [
            [
             0,
             "#0d0887"
            ],
            [
             0.1111111111111111,
             "#46039f"
            ],
            [
             0.2222222222222222,
             "#7201a8"
            ],
            [
             0.3333333333333333,
             "#9c179e"
            ],
            [
             0.4444444444444444,
             "#bd3786"
            ],
            [
             0.5555555555555556,
             "#d8576b"
            ],
            [
             0.6666666666666666,
             "#ed7953"
            ],
            [
             0.7777777777777778,
             "#fb9f3a"
            ],
            [
             0.8888888888888888,
             "#fdca26"
            ],
            [
             1,
             "#f0f921"
            ]
           ]
          },
          "colorway": [
           "#636efa",
           "#EF553B",
           "#00cc96",
           "#ab63fa",
           "#FFA15A",
           "#19d3f3",
           "#FF6692",
           "#B6E880",
           "#FF97FF",
           "#FECB52"
          ],
          "font": {
           "color": "#2a3f5f"
          },
          "geo": {
           "bgcolor": "white",
           "lakecolor": "white",
           "landcolor": "#E5ECF6",
           "showlakes": true,
           "showland": true,
           "subunitcolor": "white"
          },
          "hoverlabel": {
           "align": "left"
          },
          "hovermode": "closest",
          "mapbox": {
           "style": "light"
          },
          "paper_bgcolor": "white",
          "plot_bgcolor": "#E5ECF6",
          "polar": {
           "angularaxis": {
            "gridcolor": "white",
            "linecolor": "white",
            "ticks": ""
           },
           "bgcolor": "#E5ECF6",
           "radialaxis": {
            "gridcolor": "white",
            "linecolor": "white",
            "ticks": ""
           }
          },
          "scene": {
           "xaxis": {
            "backgroundcolor": "#E5ECF6",
            "gridcolor": "white",
            "gridwidth": 2,
            "linecolor": "white",
            "showbackground": true,
            "ticks": "",
            "zerolinecolor": "white"
           },
           "yaxis": {
            "backgroundcolor": "#E5ECF6",
            "gridcolor": "white",
            "gridwidth": 2,
            "linecolor": "white",
            "showbackground": true,
            "ticks": "",
            "zerolinecolor": "white"
           },
           "zaxis": {
            "backgroundcolor": "#E5ECF6",
            "gridcolor": "white",
            "gridwidth": 2,
            "linecolor": "white",
            "showbackground": true,
            "ticks": "",
            "zerolinecolor": "white"
           }
          },
          "shapedefaults": {
           "line": {
            "color": "#2a3f5f"
           }
          },
          "ternary": {
           "aaxis": {
            "gridcolor": "white",
            "linecolor": "white",
            "ticks": ""
           },
           "baxis": {
            "gridcolor": "white",
            "linecolor": "white",
            "ticks": ""
           },
           "bgcolor": "#E5ECF6",
           "caxis": {
            "gridcolor": "white",
            "linecolor": "white",
            "ticks": ""
           }
          },
          "title": {
           "x": 0.05
          },
          "xaxis": {
           "automargin": true,
           "gridcolor": "white",
           "linecolor": "white",
           "ticks": "",
           "title": {
            "standoff": 15
           },
           "zerolinecolor": "white",
           "zerolinewidth": 2
          },
          "yaxis": {
           "automargin": true,
           "gridcolor": "white",
           "linecolor": "white",
           "ticks": "",
           "title": {
            "standoff": 15
           },
           "zerolinecolor": "white",
           "zerolinewidth": 2
          }
         }
        },
        "title": {
         "font": {
          "color": "black",
          "size": 25
         },
         "text": "0925f NaNO3 (0.1M) + DHB (0.02M) 600 uL "
        },
        "width": 1000,
        "xaxis": {
         "linecolor": "black",
         "linewidth": 2,
         "mirror": true,
         "showgrid": false,
         "showline": true,
         "tickfont": {
          "color": "black",
          "size": 25
         },
         "ticks": "inside",
         "title": {
          "font": {
           "color": "black",
           "size": 25
          },
          "text": "time (min)"
         }
        },
        "yaxis": {
         "linecolor": "black",
         "linewidth": 2,
         "mirror": true,
         "range": [
          -2,
          68
         ],
         "showgrid": false,
         "tickfont": {
          "color": "black",
          "size": 25
         },
         "ticks": "inside",
         "title": {
          "font": {
           "color": "black",
           "size": 25
          },
          "text": "HONO or NO<sub>x</sub> concentration (ppb)"
         }
        },
        "yaxis2": {
         "anchor": "free",
         "linecolor": "black",
         "linewidth": 2,
         "overlaying": "y",
         "position": 1,
         "showticklabels": true,
         "side": "right",
         "tickfont": {
          "color": "black",
          "size": 25
         },
         "ticks": "inside",
         "title": {
          "font": {
           "color": "black",
           "size": 25
          },
          "text": ""
         }
        }
       }
      }
     },
     "metadata": {},
     "output_type": "display_data"
    }
   ],
   "source": [
    "df=pd.merge(pd.merge(pd.merge(df_hono_icad,df_no2_icad,on='date_time'),df_nox_t200,on='date_time'),df_rh,on='date_time')\n",
    "# df=pd.merge(pd.merge(df_hono_icad,df_no2_icad,on='date_time'),df_nox_t200,on='date_time')\n",
    "# df=pd.merge(df_hono_icad,df_no2_icad,on='date_time')\n",
    "\n",
    "# correct HONO background\n",
    "print(df[df['date_time'] == '2023-09-25 18:03:00'])\n",
    "# df.hono=df.hono-df.hono[46:76].mean()\n",
    "time_start=576-10\n",
    "df=df[time_start:time_start+30+30]\n",
    "# df=df[time_start:time_start+39]\n",
    "\n",
    "x_minutes=(df['date_time'] - df['date_time'][time_start]).dt.total_seconds().div(60).astype(int)\n",
    "df['x_minutes']=x_minutes\n",
    "\n",
    "x= df.x_minutes\n",
    "# x= df.date_time\n",
    "\n",
    "fig_1= go.Figure()\n",
    "fig_1.add_trace(go.Scatter(x=x,y=df.hono,yaxis = \"y1\",mode='markers+lines',marker_size=10,line_width=2,name=\"HONO\"))\n",
    "fig_1.add_trace(go.Scatter(x= x,y=df.no2,yaxis = \"y1\",mode='markers+lines',marker_size=10,line_width=2,name=\"NO<sub>2</sub>\"))\n",
    "fig_1.add_trace(go.Scatter(x= x,y=df.no,yaxis = \"y1\",mode='markers+lines',marker_size=10,line_width=2,name=\"NO\"))\n",
    "\n",
    "# fig_1.add_trace(go.Scatter(x= df.date_time,y=df.no,yaxis = \"y1\",mode='markers+lines',marker_size=10,line_width=2,name=\"NO\"))\n",
    "# fig_1.add_trace(go.Scatter(x= df.date_time,y=df.no+df.no2+df.hono,yaxis = \"y1\",mode='markers+lines',marker_size=10,line_width=2,name=\"no\"))\n",
    "fig_1.update_layout(title='0925f NaNO3 (0.1M) + DHB (0.02M) 600 uL ',titlefont=dict(color=\"black\",size=25))\n",
    "# fig_1.update_layout( bargap=0)\n",
    "fig_1.update_layout(\n",
    "  plot_bgcolor = 'white',paper_bgcolor = 'white',autosize=False,width=1000, height=800,\n",
    "    xaxis=dict( title=\"time (min)\",titlefont=dict(color=\"black\",size=25),showline=True, mirror= True,tickfont=dict(color='black',size=25 ),linecolor=\"black\", linewidth=2,ticks='inside'),\n",
    "    yaxis=dict( title='HONO or NO<sub>x</sub> concentration (ppb)', \n",
    "               range=[-2,68],\n",
    "               titlefont=dict(color=\"black\",size=25),mirror= True,tickfont=dict(color='black',size=25 ),linecolor=\"black\", linewidth=2,ticks='inside'),\n",
    "    yaxis2=dict(title='',titlefont=dict(color=\"black\",size=25),tickfont=dict(color=\"black\" ,size=25),ticks='inside',anchor=\"free\",overlaying=\"y\", side=\"right\", position=1, linecolor=\"black\", linewidth=2,showticklabels = True) )\n",
    "fig_1.update_layout(legend=dict(yanchor=\"top\",y=0.8 ,xanchor=\"left\",x=0.05,  font=dict( size=25,color=\"black\")))\n",
    "fig_1.update_layout(xaxis=dict(showgrid=False),\n",
    "              yaxis=dict(showgrid=False)\n",
    ")\n",
    "\n",
    "fig_1.add_vrect(x0=10, x1=46,annotation_text=\"UV-A lights on\", annotation_position=\"top\",annotation_font_size=14,fillcolor=\"yellow\", opacity=0.3,layer=\"below\", line_width=0)\n",
    "\n",
    "config = {'displayModeBar': True}\n",
    "fig_1.show(config=config)\n",
    "# fig_1.to_image('3.jpeg')\n"
   ]
  }
 ],
 "metadata": {
  "kernelspec": {
   "display_name": "snowflakes",
   "language": "python",
   "name": "python3"
  },
  "language_info": {
   "codemirror_mode": {
    "name": "ipython",
    "version": 3
   },
   "file_extension": ".py",
   "mimetype": "text/x-python",
   "name": "python",
   "nbconvert_exporter": "python",
   "pygments_lexer": "ipython3",
   "version": "3.11.4"
  },
  "orig_nbformat": 4
 },
 "nbformat": 4,
 "nbformat_minor": 2
}

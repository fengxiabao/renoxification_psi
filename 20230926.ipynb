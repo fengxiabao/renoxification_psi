{
 "cells": [
  {
   "cell_type": "code",
   "execution_count": 2,
   "metadata": {},
   "outputs": [],
   "source": [
    "import pandas as pd\n",
    "import matplotlib.pyplot as plt\n",
    "import numpy as np\n",
    "import scipy\n",
    "import datetime\n",
    "from datetime import datetime, timedelta\n",
    "from matplotlib.dates import DateFormatter\n",
    "from scipy.optimize import curve_fit\n",
    "import glob\n",
    "import os\n",
    "import shutil\n",
    "import plotly.graph_objects as go\n",
    "from openpyxl import load_workbook"
   ]
  },
  {
   "cell_type": "markdown",
   "metadata": {},
   "source": [
    "### find and read the data\n",
    "replace the file path with the one you want to analyze"
   ]
  },
  {
   "cell_type": "code",
   "execution_count": 3,
   "metadata": {},
   "outputs": [],
   "source": [
    "nox_path='data/T200_NOx_/2023-09-26_08.33.51_PC14751_T200_NOx.dat'\n",
    "no2_path='data/NO2_ICAD/2023_09_26_Channel1_Data.dat'\n",
    "hono_path='data/HONO_ICAD/2023_09_26_Channel1_Data.dat'\n",
    "rh_path='data/Humidity_Sensors_/2023-09-26_08.33.52_PC14751_Humidity_Sensors.dat'"
   ]
  },
  {
   "cell_type": "code",
   "execution_count": 4,
   "metadata": {},
   "outputs": [
    {
     "name": "stdout",
     "output_type": "stream",
     "text": [
      "2023-09-26 02:01:18.774000\n"
     ]
    }
   ],
   "source": [
    "hono=pd.read_csv(hono_path,sep = '\\t', engine='python') #HONO from ICAD\n",
    "no2=pd.read_csv(no2_path,sep = '\\t', engine='python') #NO2 from ICAD\n",
    "nox=pd.read_csv(nox_path,sep = '\\t', header=1, engine='python') #no of nox analyzer\n",
    "rh=pd.read_csv(rh_path,sep = '\\t', header=1, encoding= 'unicode_escape', engine='python') #RH data\n",
    "\n",
    "#ICAD\n",
    "hono['Start Date/Time (UTC)']=pd.to_datetime(hono['Start Date/Time (UTC)'])\n",
    "no2['Start Date/Time (UTC)']=pd.to_datetime(no2['Start Date/Time (UTC)'])\n",
    "\n",
    "#NOx analyzer\n",
    "nox['datetime']=nox['Date']+ nox['Time']\n",
    "nox['time']= pd.to_datetime(nox['datetime'], format='%d.%m.%Y%H:%M:%S') \n",
    "\n",
    "\n",
    "#RH sensor\n",
    "rh['datetime']=rh['Date']+ rh['Time']\n",
    "rh['time']= pd.to_datetime(rh['datetime'], format='%d.%m.%Y%H:%M:%S') \n",
    "\n",
    "hono['Time_correct']=hono['Start Date/Time (UTC)']+timedelta(hours=2, minutes=1)\n",
    "hono['Time_correct']= pd.to_datetime(hono['Time_correct'], format='%d.%m.%Y%H:%M:%S') \n",
    "\n",
    "no2['Time_correct']=no2['Start Date/Time (UTC)']+timedelta(hours=2, minutes=1)\n",
    "no2['Time_correct']= pd.to_datetime(no2['Time_correct'], format='%d.%m.%Y%H:%M:%S') \n",
    "\n",
    "print(hono['Time_correct'][1])"
   ]
  },
  {
   "cell_type": "markdown",
   "metadata": {},
   "source": [
    "# calculate dilution factor"
   ]
  },
  {
   "cell_type": "code",
   "execution_count": 5,
   "metadata": {},
   "outputs": [],
   "source": [
    "# dil_flow=2.2435\n",
    "# flow_tube=1.7224\n",
    "# tot_flow=flow_tube+dil_flow\n",
    "# dil_factor=tot_flow/flow_tube\n",
    "dil_factor=1"
   ]
  },
  {
   "cell_type": "markdown",
   "metadata": {},
   "source": [
    "## select data useful in new dataframes"
   ]
  },
  {
   "cell_type": "code",
   "execution_count": 6,
   "metadata": {},
   "outputs": [],
   "source": [
    "\n",
    "df_hono_icad=pd.DataFrame()\n",
    "df_no2_icad=pd.DataFrame()\n",
    "df_rh=pd.DataFrame()\n",
    "df_nox_t200=pd.DataFrame()\n",
    "\n",
    "df_hono_icad['time']=hono['Time_correct']\n",
    "df_no2_icad['time']=no2['Time_correct']\n",
    "df_nox_t200['time']=nox['time']\n",
    "df_rh['time']=rh['time']\n",
    "df_rh['dew_point']=rh['DP7[°C]']\n",
    "df_hono_icad['hono']=hono['HONO (ppb)']*dil_factor\n",
    "df_no2_icad['no2']=no2['NO2 (ppb)']*dil_factor\n",
    "df_nox_t200['no']=nox['NO']*dil_factor\n"
   ]
  },
  {
   "cell_type": "markdown",
   "metadata": {},
   "source": [
    "## get average time at a certain time interval"
   ]
  },
  {
   "cell_type": "code",
   "execution_count": 7,
   "metadata": {},
   "outputs": [],
   "source": [
    "average_interval='60s'\n",
    "df_hono_icad=df_hono_icad.resample(average_interval,on='time').mean()\n",
    "df_hono_icad['date_time']=df_hono_icad.index\n",
    "\n",
    "df_no2_icad=df_no2_icad.resample(average_interval,on='time').mean()\n",
    "df_no2_icad['date_time']=df_no2_icad.index\n",
    "df_no2_icad['date_time']= pd.to_datetime(df_no2_icad['date_time']) \n",
    "\n",
    "df_rh=df_rh.resample(average_interval,on='time').mean()\n",
    "df_rh['date_time']=df_rh.index\n",
    "\n",
    "df_nox_t200=df_nox_t200.resample(average_interval,on='time').mean()\n",
    "df_nox_t200['date_time']=df_nox_t200.index\n"
   ]
  },
  {
   "cell_type": "markdown",
   "metadata": {},
   "source": [
    "# combine all data  in one dataframe; align with time and plot them together"
   ]
  },
  {
   "cell_type": "code",
   "execution_count": 158,
   "metadata": {},
   "outputs": [
    {
     "name": "stdout",
     "output_type": "stream",
     "text": [
      "        hono           date_time       no2   no  dew_point\n",
      "35  0.073333 2023-09-26 09:08:00 -0.006833  0.8  16.803448\n"
     ]
    },
    {
     "data": {
      "application/vnd.plotly.v1+json": {
       "config": {
        "displayModeBar": true,
        "plotlyServerURL": "https://plot.ly"
       },
       "data": [
        {
         "line": {
          "width": 2
         },
         "marker": {
          "size": 10
         },
         "mode": "markers+lines",
         "name": "HONO",
         "type": "scatter",
         "x": [
          0,
          1,
          2,
          3,
          4,
          5,
          6,
          7,
          8,
          9,
          10,
          11,
          12,
          13,
          14,
          15,
          16,
          17,
          18,
          19,
          20,
          21,
          22,
          23,
          24,
          25,
          26,
          27,
          28,
          29,
          30,
          31,
          32,
          33,
          34,
          35,
          36,
          37,
          38,
          39,
          40,
          41,
          42,
          43,
          44,
          45,
          46,
          47,
          48,
          49,
          50,
          51,
          52,
          53,
          54,
          55,
          56,
          57,
          58,
          59
         ],
         "y": [
          0.14683333333333334,
          0.0646,
          0.07366666666666666,
          0.15216666666666664,
          0.1991666666666667,
          0.15483333333333335,
          0.11449999999999999,
          0.09116666666666667,
          0.0265,
          0.01916666666666666,
          0.07333333333333333,
          0.41083333333333333,
          0.7345,
          0.8285,
          1.2306000000000001,
          1.3843333333333334,
          1.5534999999999999,
          1.7433333333333334,
          1.7051666666666667,
          1.784,
          1.7866666666666668,
          1.788,
          1.7926666666666666,
          1.8633333333333333,
          1.7898333333333334,
          1.8715,
          1.8923999999999999,
          1.8798333333333332,
          1.8715,
          1.8553333333333333,
          1.9669999999999999,
          1.9898333333333333,
          2.0341666666666667,
          2.0425,
          2.0556666666666668,
          2.216666666666667,
          1.6364999999999998,
          1.5308333333333335,
          1.4398333333333333,
          1.4786,
          1.4338333333333333,
          0.5393333333333333,
          0.012499999999999997,
          -0.052833333333333336,
          -0.0545,
          -0.016166666666666666,
          -0.09433333333333332,
          -0.07866666666666666,
          -0.12766666666666668,
          -0.0765,
          -0.10716666666666667,
          -0.052833333333333336,
          -0.011600000000000003,
          -0.023333333333333334,
          -0.14616666666666667,
          -0.020833333333333332,
          -0.064,
          -0.015999999999999997,
          -0.07866666666666668,
          -0.09649999999999999
         ],
         "yaxis": "y"
        },
        {
         "line": {
          "width": 2
         },
         "marker": {
          "size": 10
         },
         "mode": "markers+lines",
         "name": "NO<sub>2</sub>",
         "type": "scatter",
         "x": [
          0,
          1,
          2,
          3,
          4,
          5,
          6,
          7,
          8,
          9,
          10,
          11,
          12,
          13,
          14,
          15,
          16,
          17,
          18,
          19,
          20,
          21,
          22,
          23,
          24,
          25,
          26,
          27,
          28,
          29,
          30,
          31,
          32,
          33,
          34,
          35,
          36,
          37,
          38,
          39,
          40,
          41,
          42,
          43,
          44,
          45,
          46,
          47,
          48,
          49,
          50,
          51,
          52,
          53,
          54,
          55,
          56,
          57,
          58,
          59
         ],
         "y": [
          -0.034633333333333335,
          0.010433333333333334,
          -0.05816,
          -0.027316666666666666,
          -0.007383333333333335,
          -0.02685,
          -0.012819999999999998,
          0.0203,
          0.001216666666666667,
          -0.09647777777777779,
          -0.006833333333333334,
          0.07482,
          0.3609166666666666,
          0.4741166666666667,
          0.5166499999999999,
          0.59838,
          0.6190166666666667,
          0.6025333333333334,
          0.6987666666666666,
          0.66735,
          0.6365999999999999,
          0.6547999999999999,
          0.62635,
          0.7158166666666667,
          0.69625,
          0.68218,
          0.7161,
          0.7287166666666667,
          0.7148,
          0.7194833333333334,
          0.75304,
          0.7687499999999999,
          0.7651333333333333,
          0.8224999999999999,
          0.7782600000000001,
          0.7934166666666668,
          0.7686666666666667,
          0.6960166666666666,
          0.7161,
          0.75495,
          0.6989599999999999,
          0.5106166666666666,
          0.04131666666666667,
          0.01555,
          0.02753333333333333,
          0.06498000000000001,
          0.029233333333333333,
          -0.0256,
          0.020233333333333332,
          0.03416,
          0.04791666666666666,
          0.04285,
          0.06724999999999999,
          0.05761666666666667,
          0.03065,
          0.01538,
          0.06605,
          0.06071666666666666,
          0.0008666666666666649,
          0.03673333333333333
         ],
         "yaxis": "y"
        },
        {
         "line": {
          "width": 2
         },
         "marker": {
          "size": 10
         },
         "mode": "markers+lines",
         "name": "NO",
         "type": "scatter",
         "x": [
          0,
          1,
          2,
          3,
          4,
          5,
          6,
          7,
          8,
          9,
          10,
          11,
          12,
          13,
          14,
          15,
          16,
          17,
          18,
          19,
          20,
          21,
          22,
          23,
          24,
          25,
          26,
          27,
          28,
          29,
          30,
          31,
          32,
          33,
          34,
          35,
          36,
          37,
          38,
          39,
          40,
          41,
          42,
          43,
          44,
          45,
          46,
          47,
          48,
          49,
          50,
          51,
          52,
          53,
          54,
          55,
          56,
          57,
          58,
          59
         ],
         "y": [
          0.25,
          0.2092105263157895,
          0.24000000000000005,
          0.22500000000000003,
          0.25,
          0.37000000000000005,
          0.415,
          0.44,
          0.6000000000000001,
          0.625,
          0.625,
          0.625,
          0.55,
          0.47500000000000003,
          0.36500000000000005,
          0.24500000000000005,
          0.13552631578947366,
          0.125,
          0.125,
          0.05000000000000002,
          0.125,
          0.125,
          0.15499999999999997,
          0.20500000000000002,
          0.22500000000000003,
          0.22500000000000003,
          0.29500000000000004,
          0.325,
          0.36500000000000005,
          0.38999999999999996,
          0.425,
          0.425,
          0.435,
          0.43,
          0.425,
          0.425,
          0.425,
          0.37999999999999995,
          0.34,
          0.37500000000000006,
          0.425,
          0.425,
          0.425,
          0.455,
          0.45,
          0.4934210526315789,
          0.38499999999999995,
          0.31,
          0.22500000000000003,
          0.11499999999999999,
          0.025000000000000022,
          0.010000000000000009,
          0,
          0.020000000000000018,
          0.025000000000000022,
          -0.01999999999999999,
          0.03500000000000003,
          0.09000000000000002,
          0.04000000000000001,
          0.060000000000000026
         ],
         "yaxis": "y"
        }
       ],
       "layout": {
        "annotations": [
         {
          "font": {
           "size": 14
          },
          "showarrow": false,
          "text": "UV-A lights on",
          "x": 24.5,
          "xanchor": "center",
          "xref": "x",
          "y": 1,
          "yanchor": "top",
          "yref": "y domain"
         }
        ],
        "autosize": false,
        "height": 800,
        "legend": {
         "font": {
          "color": "black",
          "size": 25
         },
         "x": 0.75,
         "xanchor": "left",
         "y": 0.9,
         "yanchor": "top"
        },
        "paper_bgcolor": "white",
        "plot_bgcolor": "white",
        "shapes": [
         {
          "fillcolor": "yellow",
          "layer": "below",
          "line": {
           "width": 0
          },
          "opacity": 0.3,
          "type": "rect",
          "x0": 9,
          "x1": 40,
          "xref": "x",
          "y0": 0,
          "y1": 1,
          "yref": "y domain"
         }
        ],
        "template": {
         "data": {
          "bar": [
           {
            "error_x": {
             "color": "#2a3f5f"
            },
            "error_y": {
             "color": "#2a3f5f"
            },
            "marker": {
             "line": {
              "color": "#E5ECF6",
              "width": 0.5
             },
             "pattern": {
              "fillmode": "overlay",
              "size": 10,
              "solidity": 0.2
             }
            },
            "type": "bar"
           }
          ],
          "barpolar": [
           {
            "marker": {
             "line": {
              "color": "#E5ECF6",
              "width": 0.5
             },
             "pattern": {
              "fillmode": "overlay",
              "size": 10,
              "solidity": 0.2
             }
            },
            "type": "barpolar"
           }
          ],
          "carpet": [
           {
            "aaxis": {
             "endlinecolor": "#2a3f5f",
             "gridcolor": "white",
             "linecolor": "white",
             "minorgridcolor": "white",
             "startlinecolor": "#2a3f5f"
            },
            "baxis": {
             "endlinecolor": "#2a3f5f",
             "gridcolor": "white",
             "linecolor": "white",
             "minorgridcolor": "white",
             "startlinecolor": "#2a3f5f"
            },
            "type": "carpet"
           }
          ],
          "choropleth": [
           {
            "colorbar": {
             "outlinewidth": 0,
             "ticks": ""
            },
            "type": "choropleth"
           }
          ],
          "contour": [
           {
            "colorbar": {
             "outlinewidth": 0,
             "ticks": ""
            },
            "colorscale": [
             [
              0,
              "#0d0887"
             ],
             [
              0.1111111111111111,
              "#46039f"
             ],
             [
              0.2222222222222222,
              "#7201a8"
             ],
             [
              0.3333333333333333,
              "#9c179e"
             ],
             [
              0.4444444444444444,
              "#bd3786"
             ],
             [
              0.5555555555555556,
              "#d8576b"
             ],
             [
              0.6666666666666666,
              "#ed7953"
             ],
             [
              0.7777777777777778,
              "#fb9f3a"
             ],
             [
              0.8888888888888888,
              "#fdca26"
             ],
             [
              1,
              "#f0f921"
             ]
            ],
            "type": "contour"
           }
          ],
          "contourcarpet": [
           {
            "colorbar": {
             "outlinewidth": 0,
             "ticks": ""
            },
            "type": "contourcarpet"
           }
          ],
          "heatmap": [
           {
            "colorbar": {
             "outlinewidth": 0,
             "ticks": ""
            },
            "colorscale": [
             [
              0,
              "#0d0887"
             ],
             [
              0.1111111111111111,
              "#46039f"
             ],
             [
              0.2222222222222222,
              "#7201a8"
             ],
             [
              0.3333333333333333,
              "#9c179e"
             ],
             [
              0.4444444444444444,
              "#bd3786"
             ],
             [
              0.5555555555555556,
              "#d8576b"
             ],
             [
              0.6666666666666666,
              "#ed7953"
             ],
             [
              0.7777777777777778,
              "#fb9f3a"
             ],
             [
              0.8888888888888888,
              "#fdca26"
             ],
             [
              1,
              "#f0f921"
             ]
            ],
            "type": "heatmap"
           }
          ],
          "heatmapgl": [
           {
            "colorbar": {
             "outlinewidth": 0,
             "ticks": ""
            },
            "colorscale": [
             [
              0,
              "#0d0887"
             ],
             [
              0.1111111111111111,
              "#46039f"
             ],
             [
              0.2222222222222222,
              "#7201a8"
             ],
             [
              0.3333333333333333,
              "#9c179e"
             ],
             [
              0.4444444444444444,
              "#bd3786"
             ],
             [
              0.5555555555555556,
              "#d8576b"
             ],
             [
              0.6666666666666666,
              "#ed7953"
             ],
             [
              0.7777777777777778,
              "#fb9f3a"
             ],
             [
              0.8888888888888888,
              "#fdca26"
             ],
             [
              1,
              "#f0f921"
             ]
            ],
            "type": "heatmapgl"
           }
          ],
          "histogram": [
           {
            "marker": {
             "pattern": {
              "fillmode": "overlay",
              "size": 10,
              "solidity": 0.2
             }
            },
            "type": "histogram"
           }
          ],
          "histogram2d": [
           {
            "colorbar": {
             "outlinewidth": 0,
             "ticks": ""
            },
            "colorscale": [
             [
              0,
              "#0d0887"
             ],
             [
              0.1111111111111111,
              "#46039f"
             ],
             [
              0.2222222222222222,
              "#7201a8"
             ],
             [
              0.3333333333333333,
              "#9c179e"
             ],
             [
              0.4444444444444444,
              "#bd3786"
             ],
             [
              0.5555555555555556,
              "#d8576b"
             ],
             [
              0.6666666666666666,
              "#ed7953"
             ],
             [
              0.7777777777777778,
              "#fb9f3a"
             ],
             [
              0.8888888888888888,
              "#fdca26"
             ],
             [
              1,
              "#f0f921"
             ]
            ],
            "type": "histogram2d"
           }
          ],
          "histogram2dcontour": [
           {
            "colorbar": {
             "outlinewidth": 0,
             "ticks": ""
            },
            "colorscale": [
             [
              0,
              "#0d0887"
             ],
             [
              0.1111111111111111,
              "#46039f"
             ],
             [
              0.2222222222222222,
              "#7201a8"
             ],
             [
              0.3333333333333333,
              "#9c179e"
             ],
             [
              0.4444444444444444,
              "#bd3786"
             ],
             [
              0.5555555555555556,
              "#d8576b"
             ],
             [
              0.6666666666666666,
              "#ed7953"
             ],
             [
              0.7777777777777778,
              "#fb9f3a"
             ],
             [
              0.8888888888888888,
              "#fdca26"
             ],
             [
              1,
              "#f0f921"
             ]
            ],
            "type": "histogram2dcontour"
           }
          ],
          "mesh3d": [
           {
            "colorbar": {
             "outlinewidth": 0,
             "ticks": ""
            },
            "type": "mesh3d"
           }
          ],
          "parcoords": [
           {
            "line": {
             "colorbar": {
              "outlinewidth": 0,
              "ticks": ""
             }
            },
            "type": "parcoords"
           }
          ],
          "pie": [
           {
            "automargin": true,
            "type": "pie"
           }
          ],
          "scatter": [
           {
            "fillpattern": {
             "fillmode": "overlay",
             "size": 10,
             "solidity": 0.2
            },
            "type": "scatter"
           }
          ],
          "scatter3d": [
           {
            "line": {
             "colorbar": {
              "outlinewidth": 0,
              "ticks": ""
             }
            },
            "marker": {
             "colorbar": {
              "outlinewidth": 0,
              "ticks": ""
             }
            },
            "type": "scatter3d"
           }
          ],
          "scattercarpet": [
           {
            "marker": {
             "colorbar": {
              "outlinewidth": 0,
              "ticks": ""
             }
            },
            "type": "scattercarpet"
           }
          ],
          "scattergeo": [
           {
            "marker": {
             "colorbar": {
              "outlinewidth": 0,
              "ticks": ""
             }
            },
            "type": "scattergeo"
           }
          ],
          "scattergl": [
           {
            "marker": {
             "colorbar": {
              "outlinewidth": 0,
              "ticks": ""
             }
            },
            "type": "scattergl"
           }
          ],
          "scattermapbox": [
           {
            "marker": {
             "colorbar": {
              "outlinewidth": 0,
              "ticks": ""
             }
            },
            "type": "scattermapbox"
           }
          ],
          "scatterpolar": [
           {
            "marker": {
             "colorbar": {
              "outlinewidth": 0,
              "ticks": ""
             }
            },
            "type": "scatterpolar"
           }
          ],
          "scatterpolargl": [
           {
            "marker": {
             "colorbar": {
              "outlinewidth": 0,
              "ticks": ""
             }
            },
            "type": "scatterpolargl"
           }
          ],
          "scatterternary": [
           {
            "marker": {
             "colorbar": {
              "outlinewidth": 0,
              "ticks": ""
             }
            },
            "type": "scatterternary"
           }
          ],
          "surface": [
           {
            "colorbar": {
             "outlinewidth": 0,
             "ticks": ""
            },
            "colorscale": [
             [
              0,
              "#0d0887"
             ],
             [
              0.1111111111111111,
              "#46039f"
             ],
             [
              0.2222222222222222,
              "#7201a8"
             ],
             [
              0.3333333333333333,
              "#9c179e"
             ],
             [
              0.4444444444444444,
              "#bd3786"
             ],
             [
              0.5555555555555556,
              "#d8576b"
             ],
             [
              0.6666666666666666,
              "#ed7953"
             ],
             [
              0.7777777777777778,
              "#fb9f3a"
             ],
             [
              0.8888888888888888,
              "#fdca26"
             ],
             [
              1,
              "#f0f921"
             ]
            ],
            "type": "surface"
           }
          ],
          "table": [
           {
            "cells": {
             "fill": {
              "color": "#EBF0F8"
             },
             "line": {
              "color": "white"
             }
            },
            "header": {
             "fill": {
              "color": "#C8D4E3"
             },
             "line": {
              "color": "white"
             }
            },
            "type": "table"
           }
          ]
         },
         "layout": {
          "annotationdefaults": {
           "arrowcolor": "#2a3f5f",
           "arrowhead": 0,
           "arrowwidth": 1
          },
          "autotypenumbers": "strict",
          "coloraxis": {
           "colorbar": {
            "outlinewidth": 0,
            "ticks": ""
           }
          },
          "colorscale": {
           "diverging": [
            [
             0,
             "#8e0152"
            ],
            [
             0.1,
             "#c51b7d"
            ],
            [
             0.2,
             "#de77ae"
            ],
            [
             0.3,
             "#f1b6da"
            ],
            [
             0.4,
             "#fde0ef"
            ],
            [
             0.5,
             "#f7f7f7"
            ],
            [
             0.6,
             "#e6f5d0"
            ],
            [
             0.7,
             "#b8e186"
            ],
            [
             0.8,
             "#7fbc41"
            ],
            [
             0.9,
             "#4d9221"
            ],
            [
             1,
             "#276419"
            ]
           ],
           "sequential": [
            [
             0,
             "#0d0887"
            ],
            [
             0.1111111111111111,
             "#46039f"
            ],
            [
             0.2222222222222222,
             "#7201a8"
            ],
            [
             0.3333333333333333,
             "#9c179e"
            ],
            [
             0.4444444444444444,
             "#bd3786"
            ],
            [
             0.5555555555555556,
             "#d8576b"
            ],
            [
             0.6666666666666666,
             "#ed7953"
            ],
            [
             0.7777777777777778,
             "#fb9f3a"
            ],
            [
             0.8888888888888888,
             "#fdca26"
            ],
            [
             1,
             "#f0f921"
            ]
           ],
           "sequentialminus": [
            [
             0,
             "#0d0887"
            ],
            [
             0.1111111111111111,
             "#46039f"
            ],
            [
             0.2222222222222222,
             "#7201a8"
            ],
            [
             0.3333333333333333,
             "#9c179e"
            ],
            [
             0.4444444444444444,
             "#bd3786"
            ],
            [
             0.5555555555555556,
             "#d8576b"
            ],
            [
             0.6666666666666666,
             "#ed7953"
            ],
            [
             0.7777777777777778,
             "#fb9f3a"
            ],
            [
             0.8888888888888888,
             "#fdca26"
            ],
            [
             1,
             "#f0f921"
            ]
           ]
          },
          "colorway": [
           "#636efa",
           "#EF553B",
           "#00cc96",
           "#ab63fa",
           "#FFA15A",
           "#19d3f3",
           "#FF6692",
           "#B6E880",
           "#FF97FF",
           "#FECB52"
          ],
          "font": {
           "color": "#2a3f5f"
          },
          "geo": {
           "bgcolor": "white",
           "lakecolor": "white",
           "landcolor": "#E5ECF6",
           "showlakes": true,
           "showland": true,
           "subunitcolor": "white"
          },
          "hoverlabel": {
           "align": "left"
          },
          "hovermode": "closest",
          "mapbox": {
           "style": "light"
          },
          "paper_bgcolor": "white",
          "plot_bgcolor": "#E5ECF6",
          "polar": {
           "angularaxis": {
            "gridcolor": "white",
            "linecolor": "white",
            "ticks": ""
           },
           "bgcolor": "#E5ECF6",
           "radialaxis": {
            "gridcolor": "white",
            "linecolor": "white",
            "ticks": ""
           }
          },
          "scene": {
           "xaxis": {
            "backgroundcolor": "#E5ECF6",
            "gridcolor": "white",
            "gridwidth": 2,
            "linecolor": "white",
            "showbackground": true,
            "ticks": "",
            "zerolinecolor": "white"
           },
           "yaxis": {
            "backgroundcolor": "#E5ECF6",
            "gridcolor": "white",
            "gridwidth": 2,
            "linecolor": "white",
            "showbackground": true,
            "ticks": "",
            "zerolinecolor": "white"
           },
           "zaxis": {
            "backgroundcolor": "#E5ECF6",
            "gridcolor": "white",
            "gridwidth": 2,
            "linecolor": "white",
            "showbackground": true,
            "ticks": "",
            "zerolinecolor": "white"
           }
          },
          "shapedefaults": {
           "line": {
            "color": "#2a3f5f"
           }
          },
          "ternary": {
           "aaxis": {
            "gridcolor": "white",
            "linecolor": "white",
            "ticks": ""
           },
           "baxis": {
            "gridcolor": "white",
            "linecolor": "white",
            "ticks": ""
           },
           "bgcolor": "#E5ECF6",
           "caxis": {
            "gridcolor": "white",
            "linecolor": "white",
            "ticks": ""
           }
          },
          "title": {
           "x": 0.05
          },
          "xaxis": {
           "automargin": true,
           "gridcolor": "white",
           "linecolor": "white",
           "ticks": "",
           "title": {
            "standoff": 15
           },
           "zerolinecolor": "white",
           "zerolinewidth": 2
          },
          "yaxis": {
           "automargin": true,
           "gridcolor": "white",
           "linecolor": "white",
           "ticks": "",
           "title": {
            "standoff": 15
           },
           "zerolinecolor": "white",
           "zerolinewidth": 2
          }
         }
        },
        "title": {
         "font": {
          "color": "black",
          "size": 25
         },
         "text": "0926a NaNO3 only 0.1M 600 uL"
        },
        "width": 1000,
        "xaxis": {
         "linecolor": "black",
         "linewidth": 2,
         "mirror": true,
         "showgrid": false,
         "showline": true,
         "tickfont": {
          "color": "black",
          "size": 25
         },
         "ticks": "inside",
         "title": {
          "font": {
           "color": "black",
           "size": 25
          },
          "text": "time (min)"
         }
        },
        "yaxis": {
         "linecolor": "black",
         "linewidth": 2,
         "mirror": true,
         "range": [
          -2,
          68
         ],
         "showgrid": false,
         "tickfont": {
          "color": "black",
          "size": 25
         },
         "ticks": "inside",
         "title": {
          "font": {
           "color": "black",
           "size": 25
          },
          "text": "HONO or NO<sub>x</sub> concentration (ppb)"
         }
        },
        "yaxis2": {
         "anchor": "free",
         "linecolor": "black",
         "linewidth": 2,
         "overlaying": "y",
         "position": 1,
         "showticklabels": true,
         "side": "right",
         "tickfont": {
          "color": "black",
          "size": 25
         },
         "ticks": "inside",
         "title": {
          "font": {
           "color": "black",
           "size": 25
          },
          "text": ""
         }
        }
       }
      }
     },
     "metadata": {},
     "output_type": "display_data"
    }
   ],
   "source": [
    "df=pd.merge(pd.merge(pd.merge(df_hono_icad,df_no2_icad,on='date_time'),df_nox_t200,on='date_time'),df_rh,on='date_time')\n",
    "# df=pd.merge(pd.merge(df_hono_icad,df_no2_icad,on='date_time'),df_nox_t200,on='date_time')\n",
    "\n",
    "# correct HONO background\n",
    "print(df[df['date_time'] == '2023-09-26 09:08:00'])\n",
    "\n",
    "# df.hono=df.hono-df.hono[46:76].mean()\n",
    "time_start=35-10\n",
    "# df=df[time_start:time_start+10+41+10]\n",
    "df=df[time_start:time_start+60]\n",
    "\n",
    "x_minutes=(df['date_time'] - df['date_time'][time_start]).dt.total_seconds().div(60).astype(int)\n",
    "df['x_minutes']=x_minutes\n",
    "\n",
    "x= df.x_minutes\n",
    "# x= df.date_time\n",
    "\n",
    "fig_1= go.Figure()\n",
    "fig_1.add_trace(go.Scatter(x= x,y=df.hono,yaxis = \"y1\",mode='markers+lines',marker_size=10,line_width=2,name=\"HONO\"))\n",
    "fig_1.add_trace(go.Scatter(x= x,y=df.no2,yaxis = \"y1\",mode='markers+lines',marker_size=10,line_width=2,name=\"NO<sub>2</sub>\"))\n",
    "fig_1.add_trace(go.Scatter(x= x,y=df.no-0.175,yaxis = \"y1\",mode='markers+lines',marker_size=10,line_width=2,name=\"NO\"))\n",
    "\n",
    "# fig_1.add_trace(go.Scatter(x= df.date_time,y=df.no+df.no2+df.hono,yaxis = \"y1\",mode='markers+lines',marker_size=10,line_width=2,name=\"no\"))\n",
    "fig_1.update_layout(title='0926a NaNO3 only 0.1M 600 uL',titlefont=dict(color=\"black\",size=25))\n",
    "fig_1.update_layout(\n",
    "  plot_bgcolor = 'white',paper_bgcolor = 'white',autosize=False,width=1000, height=800,\n",
    "    xaxis=dict( title=\"time (min)\",titlefont=dict(color=\"black\",size=25),showline=True, mirror= True,tickfont=dict(color='black',size=25 ),linecolor=\"black\", linewidth=2,ticks='inside'),\n",
    "    yaxis=dict( title='HONO or NO<sub>x</sub> concentration (ppb)', \n",
    "               range=[-2,68],\n",
    "               titlefont=dict(color=\"black\",size=25),mirror= True,tickfont=dict(color='black',size=25 ),linecolor=\"black\", linewidth=2,ticks='inside'),\n",
    "    yaxis2=dict(title='',titlefont=dict(color=\"black\",size=25),tickfont=dict(color=\"black\" ,size=25),ticks='inside',anchor=\"free\",overlaying=\"y\", side=\"right\", position=1, linecolor=\"black\", linewidth=2,showticklabels = True) )\n",
    "fig_1.update_layout(legend=dict(yanchor=\"top\",y=0.9 ,xanchor=\"left\",x=0.75,  font=dict( size=25,color=\"black\")))\n",
    "fig_1.update_layout(xaxis=dict(showgrid=False),\n",
    "              yaxis=dict(showgrid=False)\n",
    ")\n",
    "\n",
    "\n",
    "fig_1.add_vrect(x0=9, x1=40,annotation_text=\"UV-A lights on\",annotation_position=\"top\",annotation_font_size=14,fillcolor=\"yellow\", opacity=0.3,layer=\"below\", line_width=0)\n",
    "\n",
    "config = {'displayModeBar': True}\n",
    "\n",
    "fig_1.show(config=config)\n",
    "# fig_1.to_image('3.jpeg')\n"
   ]
  },
  {
   "cell_type": "markdown",
   "metadata": {},
   "source": [
    "          Do we need to calibrate T2OO NOx analyzer; it looks weird...\n",
    "          it is currently not connected to a Na2co3 before sampling"
   ]
  },
  {
   "cell_type": "code",
   "execution_count": 9,
   "metadata": {},
   "outputs": [
    {
     "name": "stdout",
     "output_type": "stream",
     "text": [
      "         hono           date_time       no2    no  dew_point\n",
      "108 -0.132333 2023-09-26 10:21:00  0.059767  0.45  17.631034\n"
     ]
    }
   ],
   "source": [
    "\n",
    "df=pd.merge(pd.merge(pd.merge(df_hono_icad,df_no2_icad,on='date_time'),df_nox_t200,on='date_time'),df_rh,on='date_time')\n",
    "# df=pd.merge(pd.merge(df_hono_icad,df_no2_icad,on='date_time'),df_nox_t200,on='date_time')\n",
    "\n",
    "print(df[df['date_time'] == '2023-09-26 10:21:00'])\n"
   ]
  },
  {
   "cell_type": "code",
   "execution_count": 10,
   "metadata": {},
   "outputs": [
    {
     "name": "stdout",
     "output_type": "stream",
     "text": [
      "        hono           date_time       no2    no  dew_point\n",
      "48  1.863333 2023-09-26 09:21:00  0.715817  0.38       16.5\n"
     ]
    },
    {
     "data": {
      "application/vnd.plotly.v1+json": {
       "config": {
        "displayModeBar": true,
        "plotlyServerURL": "https://plot.ly"
       },
       "data": [
        {
         "line": {
          "width": 2
         },
         "marker": {
          "size": 10
         },
         "mode": "markers+lines",
         "name": "HONO",
         "type": "scatter",
         "x": [
          "2023-09-26T10:11:00",
          "2023-09-26T10:12:00",
          "2023-09-26T10:13:00",
          "2023-09-26T10:14:00",
          "2023-09-26T10:15:00",
          "2023-09-26T10:16:00",
          "2023-09-26T10:17:00",
          "2023-09-26T10:18:00",
          "2023-09-26T10:19:00",
          "2023-09-26T10:20:00",
          "2023-09-26T10:21:00",
          "2023-09-26T10:22:00",
          "2023-09-26T10:23:00",
          "2023-09-26T10:24:00",
          "2023-09-26T10:25:00",
          "2023-09-26T10:26:00",
          "2023-09-26T10:27:00",
          "2023-09-26T10:28:00",
          "2023-09-26T10:29:00",
          "2023-09-26T10:30:00",
          "2023-09-26T10:31:00",
          "2023-09-26T10:32:00",
          "2023-09-26T10:33:00",
          "2023-09-26T10:34:00",
          "2023-09-26T10:35:00",
          "2023-09-26T10:36:00",
          "2023-09-26T10:37:00",
          "2023-09-26T10:38:00",
          "2023-09-26T10:39:00",
          "2023-09-26T10:40:00",
          "2023-09-26T10:41:00",
          "2023-09-26T10:42:00",
          "2023-09-26T10:43:00",
          "2023-09-26T10:44:00",
          "2023-09-26T10:45:00",
          "2023-09-26T10:46:00",
          "2023-09-26T10:47:00",
          "2023-09-26T10:48:00",
          "2023-09-26T10:49:00",
          "2023-09-26T10:50:00",
          "2023-09-26T10:51:00",
          "2023-09-26T10:52:00",
          "2023-09-26T10:53:00",
          "2023-09-26T10:54:00",
          "2023-09-26T10:55:00",
          "2023-09-26T10:56:00",
          "2023-09-26T10:57:00",
          "2023-09-26T10:58:00",
          "2023-09-26T10:59:00",
          "2023-09-26T11:00:00",
          "2023-09-26T11:01:00",
          "2023-09-26T11:02:00",
          "2023-09-26T11:03:00",
          "2023-09-26T11:04:00",
          "2023-09-26T11:05:00",
          "2023-09-26T11:06:00",
          "2023-09-26T11:07:00",
          "2023-09-26T11:08:00",
          "2023-09-26T11:09:00",
          "2023-09-26T11:10:00",
          "2023-09-26T11:11:00",
          "2023-09-26T11:12:00",
          "2023-09-26T11:13:00",
          "2023-09-26T11:14:00",
          "2023-09-26T11:15:00",
          "2023-09-26T11:16:00",
          "2023-09-26T11:17:00",
          "2023-09-26T11:18:00",
          "2023-09-26T11:19:00",
          "2023-09-26T11:20:00",
          "2023-09-26T11:21:00",
          "2023-09-26T11:22:00",
          "2023-09-26T11:23:00",
          "2023-09-26T11:24:00",
          "2023-09-26T11:25:00",
          "2023-09-26T11:26:00",
          "2023-09-26T11:27:00",
          "2023-09-26T11:28:00",
          "2023-09-26T11:29:00",
          "2023-09-26T11:30:00",
          "2023-09-26T11:31:00",
          "2023-09-26T11:32:00",
          "2023-09-26T11:33:00",
          "2023-09-26T11:34:00",
          "2023-09-26T11:35:00",
          "2023-09-26T11:36:00",
          "2023-09-26T11:37:00",
          "2023-09-26T11:38:00",
          "2023-09-26T11:39:00",
          "2023-09-26T11:40:00",
          "2023-09-26T11:41:00",
          "2023-09-26T11:42:00",
          "2023-09-26T11:43:00",
          "2023-09-26T11:44:00",
          "2023-09-26T11:45:00",
          "2023-09-26T11:46:00",
          "2023-09-26T11:47:00",
          "2023-09-26T11:48:00",
          "2023-09-26T11:49:00",
          "2023-09-26T11:50:00",
          "2023-09-26T11:51:00",
          "2023-09-26T11:52:00",
          "2023-09-26T11:53:00",
          "2023-09-26T11:54:00",
          "2023-09-26T11:55:00",
          "2023-09-26T11:56:00",
          "2023-09-26T11:57:00",
          "2023-09-26T11:58:00",
          "2023-09-26T11:59:00",
          "2023-09-26T12:00:00"
         ],
         "y": [
          -0.08133333333333333,
          -0.18000000000000002,
          -0.07016666666666667,
          -0.07633333333333334,
          0.0482,
          -0.15233333333333335,
          -0.10983333333333334,
          -0.1045,
          -0.07233333333333335,
          -0.1195,
          -0.13233333333333333,
          0.0018333333333333361,
          -0.05016666666666667,
          -0.049166666666666664,
          0.21866666666666668,
          -0.09449999999999999,
          -0.11866666666666666,
          -0.042800000000000005,
          -0.11716666666666666,
          -0.08433333333333333,
          -0.17383333333333337,
          -0.11299999999999999,
          -0.17166666666666666,
          -0.09549999999999999,
          -0.10816666666666667,
          -0.068,
          6.156,
          24.47066666666667,
          33.18266666666667,
          37.6705,
          39.3914,
          40.56,
          41.66316666666667,
          42.95066666666667,
          44.5025,
          46.034166666666664,
          46.916,
          46.55433333333334,
          47.10766666666667,
          47.60366666666667,
          48.48933333333334,
          49.30233333333333,
          50.0416,
          50.46866666666667,
          49.89633333333333,
          49.48066666666667,
          49.403999999999996,
          49.958666666666666,
          47.69616666666667,
          53.07583333333333,
          60.112500000000004,
          63.27700000000001,
          64.69516666666667,
          65.7675,
          66.425,
          67.163,
          67.801,
          67.8315,
          67.6395,
          67.88016666666667,
          68.35533333333333,
          68.67233333333333,
          69.07366666666667,
          69.11233333333334,
          69.4395,
          69.52666666666666,
          47.874833333333335,
          27.4135,
          50.693200000000004,
          39.278333333333336,
          55.0495,
          54.43666666666667,
          55.46533333333334,
          39.21083333333333,
          46.929,
          49.160666666666664,
          48.884166666666665,
          47.01683333333333,
          46.08033333333333,
          45.41766666666667,
          45.0035,
          44.68383333333333,
          43.943999999999996,
          43.7156,
          43.37266666666667,
          43.373,
          41.568666666666665,
          40.48166666666666,
          40.001,
          40.023833333333336,
          40.00066666666667,
          36.26433333333333,
          10.990666666666668,
          3.4765,
          1.5453333333333334,
          0.9584999999999999,
          0.6505,
          0.1766,
          0.18483333333333332,
          0.13983333333333334,
          0.2753333333333334,
          0.35883333333333334,
          0.3045,
          0.3183333333333333,
          0.2303333333333333,
          0.3263333333333333,
          0.03366666666666667,
          -0.025999999999999995,
          0.023666666666666666,
          0.058666666666666666
         ],
         "yaxis": "y"
        },
        {
         "line": {
          "width": 2
         },
         "marker": {
          "size": 10
         },
         "mode": "markers+lines",
         "name": "NO<sub>2</sub>",
         "type": "scatter",
         "x": [
          "2023-09-26T10:11:00",
          "2023-09-26T10:12:00",
          "2023-09-26T10:13:00",
          "2023-09-26T10:14:00",
          "2023-09-26T10:15:00",
          "2023-09-26T10:16:00",
          "2023-09-26T10:17:00",
          "2023-09-26T10:18:00",
          "2023-09-26T10:19:00",
          "2023-09-26T10:20:00",
          "2023-09-26T10:21:00",
          "2023-09-26T10:22:00",
          "2023-09-26T10:23:00",
          "2023-09-26T10:24:00",
          "2023-09-26T10:25:00",
          "2023-09-26T10:26:00",
          "2023-09-26T10:27:00",
          "2023-09-26T10:28:00",
          "2023-09-26T10:29:00",
          "2023-09-26T10:30:00",
          "2023-09-26T10:31:00",
          "2023-09-26T10:32:00",
          "2023-09-26T10:33:00",
          "2023-09-26T10:34:00",
          "2023-09-26T10:35:00",
          "2023-09-26T10:36:00",
          "2023-09-26T10:37:00",
          "2023-09-26T10:38:00",
          "2023-09-26T10:39:00",
          "2023-09-26T10:40:00",
          "2023-09-26T10:41:00",
          "2023-09-26T10:42:00",
          "2023-09-26T10:43:00",
          "2023-09-26T10:44:00",
          "2023-09-26T10:45:00",
          "2023-09-26T10:46:00",
          "2023-09-26T10:47:00",
          "2023-09-26T10:48:00",
          "2023-09-26T10:49:00",
          "2023-09-26T10:50:00",
          "2023-09-26T10:51:00",
          "2023-09-26T10:52:00",
          "2023-09-26T10:53:00",
          "2023-09-26T10:54:00",
          "2023-09-26T10:55:00",
          "2023-09-26T10:56:00",
          "2023-09-26T10:57:00",
          "2023-09-26T10:58:00",
          "2023-09-26T10:59:00",
          "2023-09-26T11:00:00",
          "2023-09-26T11:01:00",
          "2023-09-26T11:02:00",
          "2023-09-26T11:03:00",
          "2023-09-26T11:04:00",
          "2023-09-26T11:05:00",
          "2023-09-26T11:06:00",
          "2023-09-26T11:07:00",
          "2023-09-26T11:08:00",
          "2023-09-26T11:09:00",
          "2023-09-26T11:10:00",
          "2023-09-26T11:11:00",
          "2023-09-26T11:12:00",
          "2023-09-26T11:13:00",
          "2023-09-26T11:14:00",
          "2023-09-26T11:15:00",
          "2023-09-26T11:16:00",
          "2023-09-26T11:17:00",
          "2023-09-26T11:18:00",
          "2023-09-26T11:19:00",
          "2023-09-26T11:20:00",
          "2023-09-26T11:21:00",
          "2023-09-26T11:22:00",
          "2023-09-26T11:23:00",
          "2023-09-26T11:24:00",
          "2023-09-26T11:25:00",
          "2023-09-26T11:26:00",
          "2023-09-26T11:27:00",
          "2023-09-26T11:28:00",
          "2023-09-26T11:29:00",
          "2023-09-26T11:30:00",
          "2023-09-26T11:31:00",
          "2023-09-26T11:32:00",
          "2023-09-26T11:33:00",
          "2023-09-26T11:34:00",
          "2023-09-26T11:35:00",
          "2023-09-26T11:36:00",
          "2023-09-26T11:37:00",
          "2023-09-26T11:38:00",
          "2023-09-26T11:39:00",
          "2023-09-26T11:40:00",
          "2023-09-26T11:41:00",
          "2023-09-26T11:42:00",
          "2023-09-26T11:43:00",
          "2023-09-26T11:44:00",
          "2023-09-26T11:45:00",
          "2023-09-26T11:46:00",
          "2023-09-26T11:47:00",
          "2023-09-26T11:48:00",
          "2023-09-26T11:49:00",
          "2023-09-26T11:50:00",
          "2023-09-26T11:51:00",
          "2023-09-26T11:52:00",
          "2023-09-26T11:53:00",
          "2023-09-26T11:54:00",
          "2023-09-26T11:55:00",
          "2023-09-26T11:56:00",
          "2023-09-26T11:57:00",
          "2023-09-26T11:58:00",
          "2023-09-26T11:59:00",
          "2023-09-26T12:00:00"
         ],
         "y": [
          0.04331666666666667,
          -0.03962,
          0.044199999999999996,
          0.043250000000000004,
          0.056350000000000004,
          0.006400000000000003,
          0.02501666666666667,
          0.038149999999999996,
          0.007999999999999998,
          0.02391666666666667,
          0.05976666666666667,
          0.04583333333333334,
          0.07990000000000001,
          0.014066666666666665,
          1.1690833333333333,
          0.6218600000000001,
          0.06344999999999999,
          0.06721666666666666,
          0.08979999999999999,
          0.02775,
          0.024816666666666667,
          0.08201666666666667,
          0.044067857142857145,
          0.0486,
          0.09728333333333333,
          0.05123333333333333,
          0.032483333333333336,
          4.70655,
          6.978233333333333,
          7.3259,
          7.232500000000001,
          7.1097399999999995,
          6.997983333333333,
          6.917516666666667,
          6.8973,
          6.9341,
          6.966500000000001,
          6.760683333333334,
          6.502060714285714,
          6.429533333333333,
          6.277416666666667,
          6.212233333333334,
          6.2597000000000005,
          6.213466666666666,
          5.979083333333333,
          5.746066666666667,
          5.582316666666666,
          5.501433333333334,
          5.4402,
          8.35384,
          9.336442857142856,
          9.079866666666666,
          8.77275,
          8.648316666666666,
          8.48822,
          8.448166666666667,
          8.313766666666666,
          8.237683333333333,
          8.1412,
          8.020283333333333,
          7.9567000000000005,
          7.8964,
          7.873916666666666,
          7.893916666666667,
          7.872683333333334,
          7.842316666666666,
          7.845366666666667,
          9.5118,
          9.74442,
          8.237766666666667,
          9.047716666666666,
          8.465716666666667,
          4.740583333333333,
          1.8113666666666666,
          3.0186333333333333,
          3.293066666666667,
          3.3034799999999995,
          3.242566666666667,
          3.1251666666666664,
          3.0239833333333337,
          2.9408166666666666,
          2.801816666666667,
          2.8412599999999997,
          2.7441,
          2.6872166666666666,
          2.7084333333333332,
          2.6286,
          2.3467,
          2.196616666666667,
          2.1794666666666664,
          2.02486,
          2.0032833333333335,
          0.7907166666666666,
          0.07215,
          0.07898333333333334,
          0.031016666666666665,
          0.006220000000000001,
          0.06346666666666667,
          0.018783333333333332,
          0.028149999999999998,
          0.007033333333333332,
          0.07088333333333333,
          0.0236,
          0.02401666666666667,
          0.07598,
          0.03233333333333333,
          0.12533333333333332,
          0.04305,
          0.03713333333333333,
          0.02845
         ],
         "yaxis": "y"
        },
        {
         "line": {
          "width": 2
         },
         "marker": {
          "size": 10
         },
         "mode": "markers+lines",
         "name": "NO",
         "type": "scatter",
         "x": [
          "2023-09-26T10:11:00",
          "2023-09-26T10:12:00",
          "2023-09-26T10:13:00",
          "2023-09-26T10:14:00",
          "2023-09-26T10:15:00",
          "2023-09-26T10:16:00",
          "2023-09-26T10:17:00",
          "2023-09-26T10:18:00",
          "2023-09-26T10:19:00",
          "2023-09-26T10:20:00",
          "2023-09-26T10:21:00",
          "2023-09-26T10:22:00",
          "2023-09-26T10:23:00",
          "2023-09-26T10:24:00",
          "2023-09-26T10:25:00",
          "2023-09-26T10:26:00",
          "2023-09-26T10:27:00",
          "2023-09-26T10:28:00",
          "2023-09-26T10:29:00",
          "2023-09-26T10:30:00",
          "2023-09-26T10:31:00",
          "2023-09-26T10:32:00",
          "2023-09-26T10:33:00",
          "2023-09-26T10:34:00",
          "2023-09-26T10:35:00",
          "2023-09-26T10:36:00",
          "2023-09-26T10:37:00",
          "2023-09-26T10:38:00",
          "2023-09-26T10:39:00",
          "2023-09-26T10:40:00",
          "2023-09-26T10:41:00",
          "2023-09-26T10:42:00",
          "2023-09-26T10:43:00",
          "2023-09-26T10:44:00",
          "2023-09-26T10:45:00",
          "2023-09-26T10:46:00",
          "2023-09-26T10:47:00",
          "2023-09-26T10:48:00",
          "2023-09-26T10:49:00",
          "2023-09-26T10:50:00",
          "2023-09-26T10:51:00",
          "2023-09-26T10:52:00",
          "2023-09-26T10:53:00",
          "2023-09-26T10:54:00",
          "2023-09-26T10:55:00",
          "2023-09-26T10:56:00",
          "2023-09-26T10:57:00",
          "2023-09-26T10:58:00",
          "2023-09-26T10:59:00",
          "2023-09-26T11:00:00",
          "2023-09-26T11:01:00",
          "2023-09-26T11:02:00",
          "2023-09-26T11:03:00",
          "2023-09-26T11:04:00",
          "2023-09-26T11:05:00",
          "2023-09-26T11:06:00",
          "2023-09-26T11:07:00",
          "2023-09-26T11:08:00",
          "2023-09-26T11:09:00",
          "2023-09-26T11:10:00",
          "2023-09-26T11:11:00",
          "2023-09-26T11:12:00",
          "2023-09-26T11:13:00",
          "2023-09-26T11:14:00",
          "2023-09-26T11:15:00",
          "2023-09-26T11:16:00",
          "2023-09-26T11:17:00",
          "2023-09-26T11:18:00",
          "2023-09-26T11:19:00",
          "2023-09-26T11:20:00",
          "2023-09-26T11:21:00",
          "2023-09-26T11:22:00",
          "2023-09-26T11:23:00",
          "2023-09-26T11:24:00",
          "2023-09-26T11:25:00",
          "2023-09-26T11:26:00",
          "2023-09-26T11:27:00",
          "2023-09-26T11:28:00",
          "2023-09-26T11:29:00",
          "2023-09-26T11:30:00",
          "2023-09-26T11:31:00",
          "2023-09-26T11:32:00",
          "2023-09-26T11:33:00",
          "2023-09-26T11:34:00",
          "2023-09-26T11:35:00",
          "2023-09-26T11:36:00",
          "2023-09-26T11:37:00",
          "2023-09-26T11:38:00",
          "2023-09-26T11:39:00",
          "2023-09-26T11:40:00",
          "2023-09-26T11:41:00",
          "2023-09-26T11:42:00",
          "2023-09-26T11:43:00",
          "2023-09-26T11:44:00",
          "2023-09-26T11:45:00",
          "2023-09-26T11:46:00",
          "2023-09-26T11:47:00",
          "2023-09-26T11:48:00",
          "2023-09-26T11:49:00",
          "2023-09-26T11:50:00",
          "2023-09-26T11:51:00",
          "2023-09-26T11:52:00",
          "2023-09-26T11:53:00",
          "2023-09-26T11:54:00",
          "2023-09-26T11:55:00",
          "2023-09-26T11:56:00",
          "2023-09-26T11:57:00",
          "2023-09-26T11:58:00",
          "2023-09-26T11:59:00",
          "2023-09-26T12:00:00"
         ],
         "y": [
          0.22000000000000003,
          0.2,
          0.2,
          0.2,
          0.27999999999999997,
          0.3,
          0.3,
          0.3,
          0.3,
          0.385,
          0.45,
          0.41500000000000004,
          0.365,
          0.325,
          0.385,
          0.465,
          0.45999999999999996,
          0.4,
          0.4,
          0.47000000000000003,
          0.5,
          0.525,
          0.5549999999999999,
          0.6,
          0.675,
          1.925,
          10.99,
          41.660000000000004,
          80.225,
          118.65,
          156.57999999999998,
          195.48499999999999,
          234.74499999999998,
          269.335,
          284.18947368421055,
          285.33,
          285.485,
          285.41999999999996,
          284.765,
          284.565,
          284.01,
          283.48,
          282.99,
          281.56,
          279.53499999999997,
          277.36,
          274.935,
          273.03499999999997,
          274.4,
          281.12105263157895,
          288.175,
          294.82,
          302.515,
          310.03,
          317.41999999999996,
          324.615,
          324.26,
          322.23,
          321.505,
          320.64,
          319.76,
          319.18,
          317.105,
          314.78,
          313.17368421052635,
          311.51,
          311.5,
          312.685,
          312.98,
          313.15500000000003,
          313.745,
          311.71,
          283.4,
          266.71,
          256.29,
          244.67,
          234.15500000000003,
          204.25,
          163.68421052631578,
          128.965,
          119.53999999999999,
          92.14,
          59.339999999999996,
          26.975,
          3.6149999999999998,
          2.275,
          2.475,
          2.5100000000000002,
          2.675,
          2.86,
          3.12,
          3.2700000000000005,
          3.3,
          3.16,
          3.1,
          3.115,
          3.04,
          2.75,
          2.4349999999999996,
          2.38,
          2.3,
          2.205,
          2.185,
          2.2,
          2.23,
          2.23,
          2.1700000000000004,
          1.9600000000000002,
          1.7894736842105263,
          1.6
         ],
         "yaxis": "y"
        }
       ],
       "layout": {
        "autosize": false,
        "height": 800,
        "legend": {
         "font": {
          "color": "black",
          "size": 25
         },
         "x": 0.75,
         "xanchor": "left",
         "y": 0.9,
         "yanchor": "top"
        },
        "paper_bgcolor": "white",
        "plot_bgcolor": "white",
        "template": {
         "data": {
          "bar": [
           {
            "error_x": {
             "color": "#2a3f5f"
            },
            "error_y": {
             "color": "#2a3f5f"
            },
            "marker": {
             "line": {
              "color": "#E5ECF6",
              "width": 0.5
             },
             "pattern": {
              "fillmode": "overlay",
              "size": 10,
              "solidity": 0.2
             }
            },
            "type": "bar"
           }
          ],
          "barpolar": [
           {
            "marker": {
             "line": {
              "color": "#E5ECF6",
              "width": 0.5
             },
             "pattern": {
              "fillmode": "overlay",
              "size": 10,
              "solidity": 0.2
             }
            },
            "type": "barpolar"
           }
          ],
          "carpet": [
           {
            "aaxis": {
             "endlinecolor": "#2a3f5f",
             "gridcolor": "white",
             "linecolor": "white",
             "minorgridcolor": "white",
             "startlinecolor": "#2a3f5f"
            },
            "baxis": {
             "endlinecolor": "#2a3f5f",
             "gridcolor": "white",
             "linecolor": "white",
             "minorgridcolor": "white",
             "startlinecolor": "#2a3f5f"
            },
            "type": "carpet"
           }
          ],
          "choropleth": [
           {
            "colorbar": {
             "outlinewidth": 0,
             "ticks": ""
            },
            "type": "choropleth"
           }
          ],
          "contour": [
           {
            "colorbar": {
             "outlinewidth": 0,
             "ticks": ""
            },
            "colorscale": [
             [
              0,
              "#0d0887"
             ],
             [
              0.1111111111111111,
              "#46039f"
             ],
             [
              0.2222222222222222,
              "#7201a8"
             ],
             [
              0.3333333333333333,
              "#9c179e"
             ],
             [
              0.4444444444444444,
              "#bd3786"
             ],
             [
              0.5555555555555556,
              "#d8576b"
             ],
             [
              0.6666666666666666,
              "#ed7953"
             ],
             [
              0.7777777777777778,
              "#fb9f3a"
             ],
             [
              0.8888888888888888,
              "#fdca26"
             ],
             [
              1,
              "#f0f921"
             ]
            ],
            "type": "contour"
           }
          ],
          "contourcarpet": [
           {
            "colorbar": {
             "outlinewidth": 0,
             "ticks": ""
            },
            "type": "contourcarpet"
           }
          ],
          "heatmap": [
           {
            "colorbar": {
             "outlinewidth": 0,
             "ticks": ""
            },
            "colorscale": [
             [
              0,
              "#0d0887"
             ],
             [
              0.1111111111111111,
              "#46039f"
             ],
             [
              0.2222222222222222,
              "#7201a8"
             ],
             [
              0.3333333333333333,
              "#9c179e"
             ],
             [
              0.4444444444444444,
              "#bd3786"
             ],
             [
              0.5555555555555556,
              "#d8576b"
             ],
             [
              0.6666666666666666,
              "#ed7953"
             ],
             [
              0.7777777777777778,
              "#fb9f3a"
             ],
             [
              0.8888888888888888,
              "#fdca26"
             ],
             [
              1,
              "#f0f921"
             ]
            ],
            "type": "heatmap"
           }
          ],
          "heatmapgl": [
           {
            "colorbar": {
             "outlinewidth": 0,
             "ticks": ""
            },
            "colorscale": [
             [
              0,
              "#0d0887"
             ],
             [
              0.1111111111111111,
              "#46039f"
             ],
             [
              0.2222222222222222,
              "#7201a8"
             ],
             [
              0.3333333333333333,
              "#9c179e"
             ],
             [
              0.4444444444444444,
              "#bd3786"
             ],
             [
              0.5555555555555556,
              "#d8576b"
             ],
             [
              0.6666666666666666,
              "#ed7953"
             ],
             [
              0.7777777777777778,
              "#fb9f3a"
             ],
             [
              0.8888888888888888,
              "#fdca26"
             ],
             [
              1,
              "#f0f921"
             ]
            ],
            "type": "heatmapgl"
           }
          ],
          "histogram": [
           {
            "marker": {
             "pattern": {
              "fillmode": "overlay",
              "size": 10,
              "solidity": 0.2
             }
            },
            "type": "histogram"
           }
          ],
          "histogram2d": [
           {
            "colorbar": {
             "outlinewidth": 0,
             "ticks": ""
            },
            "colorscale": [
             [
              0,
              "#0d0887"
             ],
             [
              0.1111111111111111,
              "#46039f"
             ],
             [
              0.2222222222222222,
              "#7201a8"
             ],
             [
              0.3333333333333333,
              "#9c179e"
             ],
             [
              0.4444444444444444,
              "#bd3786"
             ],
             [
              0.5555555555555556,
              "#d8576b"
             ],
             [
              0.6666666666666666,
              "#ed7953"
             ],
             [
              0.7777777777777778,
              "#fb9f3a"
             ],
             [
              0.8888888888888888,
              "#fdca26"
             ],
             [
              1,
              "#f0f921"
             ]
            ],
            "type": "histogram2d"
           }
          ],
          "histogram2dcontour": [
           {
            "colorbar": {
             "outlinewidth": 0,
             "ticks": ""
            },
            "colorscale": [
             [
              0,
              "#0d0887"
             ],
             [
              0.1111111111111111,
              "#46039f"
             ],
             [
              0.2222222222222222,
              "#7201a8"
             ],
             [
              0.3333333333333333,
              "#9c179e"
             ],
             [
              0.4444444444444444,
              "#bd3786"
             ],
             [
              0.5555555555555556,
              "#d8576b"
             ],
             [
              0.6666666666666666,
              "#ed7953"
             ],
             [
              0.7777777777777778,
              "#fb9f3a"
             ],
             [
              0.8888888888888888,
              "#fdca26"
             ],
             [
              1,
              "#f0f921"
             ]
            ],
            "type": "histogram2dcontour"
           }
          ],
          "mesh3d": [
           {
            "colorbar": {
             "outlinewidth": 0,
             "ticks": ""
            },
            "type": "mesh3d"
           }
          ],
          "parcoords": [
           {
            "line": {
             "colorbar": {
              "outlinewidth": 0,
              "ticks": ""
             }
            },
            "type": "parcoords"
           }
          ],
          "pie": [
           {
            "automargin": true,
            "type": "pie"
           }
          ],
          "scatter": [
           {
            "fillpattern": {
             "fillmode": "overlay",
             "size": 10,
             "solidity": 0.2
            },
            "type": "scatter"
           }
          ],
          "scatter3d": [
           {
            "line": {
             "colorbar": {
              "outlinewidth": 0,
              "ticks": ""
             }
            },
            "marker": {
             "colorbar": {
              "outlinewidth": 0,
              "ticks": ""
             }
            },
            "type": "scatter3d"
           }
          ],
          "scattercarpet": [
           {
            "marker": {
             "colorbar": {
              "outlinewidth": 0,
              "ticks": ""
             }
            },
            "type": "scattercarpet"
           }
          ],
          "scattergeo": [
           {
            "marker": {
             "colorbar": {
              "outlinewidth": 0,
              "ticks": ""
             }
            },
            "type": "scattergeo"
           }
          ],
          "scattergl": [
           {
            "marker": {
             "colorbar": {
              "outlinewidth": 0,
              "ticks": ""
             }
            },
            "type": "scattergl"
           }
          ],
          "scattermapbox": [
           {
            "marker": {
             "colorbar": {
              "outlinewidth": 0,
              "ticks": ""
             }
            },
            "type": "scattermapbox"
           }
          ],
          "scatterpolar": [
           {
            "marker": {
             "colorbar": {
              "outlinewidth": 0,
              "ticks": ""
             }
            },
            "type": "scatterpolar"
           }
          ],
          "scatterpolargl": [
           {
            "marker": {
             "colorbar": {
              "outlinewidth": 0,
              "ticks": ""
             }
            },
            "type": "scatterpolargl"
           }
          ],
          "scatterternary": [
           {
            "marker": {
             "colorbar": {
              "outlinewidth": 0,
              "ticks": ""
             }
            },
            "type": "scatterternary"
           }
          ],
          "surface": [
           {
            "colorbar": {
             "outlinewidth": 0,
             "ticks": ""
            },
            "colorscale": [
             [
              0,
              "#0d0887"
             ],
             [
              0.1111111111111111,
              "#46039f"
             ],
             [
              0.2222222222222222,
              "#7201a8"
             ],
             [
              0.3333333333333333,
              "#9c179e"
             ],
             [
              0.4444444444444444,
              "#bd3786"
             ],
             [
              0.5555555555555556,
              "#d8576b"
             ],
             [
              0.6666666666666666,
              "#ed7953"
             ],
             [
              0.7777777777777778,
              "#fb9f3a"
             ],
             [
              0.8888888888888888,
              "#fdca26"
             ],
             [
              1,
              "#f0f921"
             ]
            ],
            "type": "surface"
           }
          ],
          "table": [
           {
            "cells": {
             "fill": {
              "color": "#EBF0F8"
             },
             "line": {
              "color": "white"
             }
            },
            "header": {
             "fill": {
              "color": "#C8D4E3"
             },
             "line": {
              "color": "white"
             }
            },
            "type": "table"
           }
          ]
         },
         "layout": {
          "annotationdefaults": {
           "arrowcolor": "#2a3f5f",
           "arrowhead": 0,
           "arrowwidth": 1
          },
          "autotypenumbers": "strict",
          "coloraxis": {
           "colorbar": {
            "outlinewidth": 0,
            "ticks": ""
           }
          },
          "colorscale": {
           "diverging": [
            [
             0,
             "#8e0152"
            ],
            [
             0.1,
             "#c51b7d"
            ],
            [
             0.2,
             "#de77ae"
            ],
            [
             0.3,
             "#f1b6da"
            ],
            [
             0.4,
             "#fde0ef"
            ],
            [
             0.5,
             "#f7f7f7"
            ],
            [
             0.6,
             "#e6f5d0"
            ],
            [
             0.7,
             "#b8e186"
            ],
            [
             0.8,
             "#7fbc41"
            ],
            [
             0.9,
             "#4d9221"
            ],
            [
             1,
             "#276419"
            ]
           ],
           "sequential": [
            [
             0,
             "#0d0887"
            ],
            [
             0.1111111111111111,
             "#46039f"
            ],
            [
             0.2222222222222222,
             "#7201a8"
            ],
            [
             0.3333333333333333,
             "#9c179e"
            ],
            [
             0.4444444444444444,
             "#bd3786"
            ],
            [
             0.5555555555555556,
             "#d8576b"
            ],
            [
             0.6666666666666666,
             "#ed7953"
            ],
            [
             0.7777777777777778,
             "#fb9f3a"
            ],
            [
             0.8888888888888888,
             "#fdca26"
            ],
            [
             1,
             "#f0f921"
            ]
           ],
           "sequentialminus": [
            [
             0,
             "#0d0887"
            ],
            [
             0.1111111111111111,
             "#46039f"
            ],
            [
             0.2222222222222222,
             "#7201a8"
            ],
            [
             0.3333333333333333,
             "#9c179e"
            ],
            [
             0.4444444444444444,
             "#bd3786"
            ],
            [
             0.5555555555555556,
             "#d8576b"
            ],
            [
             0.6666666666666666,
             "#ed7953"
            ],
            [
             0.7777777777777778,
             "#fb9f3a"
            ],
            [
             0.8888888888888888,
             "#fdca26"
            ],
            [
             1,
             "#f0f921"
            ]
           ]
          },
          "colorway": [
           "#636efa",
           "#EF553B",
           "#00cc96",
           "#ab63fa",
           "#FFA15A",
           "#19d3f3",
           "#FF6692",
           "#B6E880",
           "#FF97FF",
           "#FECB52"
          ],
          "font": {
           "color": "#2a3f5f"
          },
          "geo": {
           "bgcolor": "white",
           "lakecolor": "white",
           "landcolor": "#E5ECF6",
           "showlakes": true,
           "showland": true,
           "subunitcolor": "white"
          },
          "hoverlabel": {
           "align": "left"
          },
          "hovermode": "closest",
          "mapbox": {
           "style": "light"
          },
          "paper_bgcolor": "white",
          "plot_bgcolor": "#E5ECF6",
          "polar": {
           "angularaxis": {
            "gridcolor": "white",
            "linecolor": "white",
            "ticks": ""
           },
           "bgcolor": "#E5ECF6",
           "radialaxis": {
            "gridcolor": "white",
            "linecolor": "white",
            "ticks": ""
           }
          },
          "scene": {
           "xaxis": {
            "backgroundcolor": "#E5ECF6",
            "gridcolor": "white",
            "gridwidth": 2,
            "linecolor": "white",
            "showbackground": true,
            "ticks": "",
            "zerolinecolor": "white"
           },
           "yaxis": {
            "backgroundcolor": "#E5ECF6",
            "gridcolor": "white",
            "gridwidth": 2,
            "linecolor": "white",
            "showbackground": true,
            "ticks": "",
            "zerolinecolor": "white"
           },
           "zaxis": {
            "backgroundcolor": "#E5ECF6",
            "gridcolor": "white",
            "gridwidth": 2,
            "linecolor": "white",
            "showbackground": true,
            "ticks": "",
            "zerolinecolor": "white"
           }
          },
          "shapedefaults": {
           "line": {
            "color": "#2a3f5f"
           }
          },
          "ternary": {
           "aaxis": {
            "gridcolor": "white",
            "linecolor": "white",
            "ticks": ""
           },
           "baxis": {
            "gridcolor": "white",
            "linecolor": "white",
            "ticks": ""
           },
           "bgcolor": "#E5ECF6",
           "caxis": {
            "gridcolor": "white",
            "linecolor": "white",
            "ticks": ""
           }
          },
          "title": {
           "x": 0.05
          },
          "xaxis": {
           "automargin": true,
           "gridcolor": "white",
           "linecolor": "white",
           "ticks": "",
           "title": {
            "standoff": 15
           },
           "zerolinecolor": "white",
           "zerolinewidth": 2
          },
          "yaxis": {
           "automargin": true,
           "gridcolor": "white",
           "linecolor": "white",
           "ticks": "",
           "title": {
            "standoff": 15
           },
           "zerolinecolor": "white",
           "zerolinewidth": 2
          }
         }
        },
        "title": {
         "font": {
          "color": "black",
          "size": 25
         },
         "text": "0926b NaNO3 (0.1M) + DHB (0.02M) 600 uL"
        },
        "width": 1000,
        "xaxis": {
         "linecolor": "black",
         "linewidth": 2,
         "mirror": true,
         "showgrid": false,
         "showline": true,
         "tickfont": {
          "color": "black",
          "size": 25
         },
         "ticks": "inside",
         "title": {
          "font": {
           "color": "black",
           "size": 25
          },
          "text": "time (min)"
         }
        },
        "yaxis": {
         "linecolor": "black",
         "linewidth": 2,
         "mirror": true,
         "showgrid": false,
         "tickfont": {
          "color": "black",
          "size": 25
         },
         "ticks": "inside",
         "title": {
          "font": {
           "color": "black",
           "size": 25
          },
          "text": "HONO or NO<sub>x</sub> concentration (ppb)"
         }
        },
        "yaxis2": {
         "anchor": "free",
         "linecolor": "black",
         "linewidth": 2,
         "overlaying": "y",
         "position": 1,
         "showticklabels": true,
         "side": "right",
         "tickfont": {
          "color": "black",
          "size": 25
         },
         "ticks": "inside",
         "title": {
          "font": {
           "color": "black",
           "size": 25
          },
          "text": ""
         }
        }
       }
      }
     },
     "metadata": {},
     "output_type": "display_data"
    }
   ],
   "source": [
    "\n",
    "df=pd.merge(pd.merge(pd.merge(df_hono_icad,df_no2_icad,on='date_time'),df_nox_t200,on='date_time'),df_rh,on='date_time')\n",
    "# df=pd.merge(pd.merge(df_hono_icad,df_no2_icad,on='date_time'),df_nox_t200,on='date_time')\n",
    "\n",
    "# correct HONO background\n",
    "print(df[df['date_time'] == '2023-09-26 09:21:00'])\n",
    "\n",
    "# df.hono=df.hono-df.hono[46:76].mean()\n",
    "time_start=108-10\n",
    "# df=df[time_start:time_start+10+41+10]\n",
    "df=df[time_start:time_start+110]\n",
    "\n",
    "x_minutes=(df['date_time'] - df['date_time'][time_start]).dt.total_seconds().div(60).astype(int)\n",
    "df['x_minutes']=x_minutes\n",
    "\n",
    "fig_1= go.Figure()\n",
    "fig_1.add_trace(go.Scatter(x= df.date_time,y=df.hono,yaxis = \"y1\",mode='markers+lines',marker_size=10,line_width=2,name=\"HONO\"))\n",
    "fig_1.add_trace(go.Scatter(x= df.date_time,y=df.no2,yaxis = \"y1\",mode='markers+lines',marker_size=10,line_width=2,name=\"NO<sub>2</sub>\"))\n",
    "fig_1.add_trace(go.Scatter(x= df.date_time,y=df.no,yaxis = \"y1\",mode='markers+lines',marker_size=10,line_width=2,name=\"NO\"))\n",
    "# fig_1.add_trace(go.Scatter(x= df.date_time,y=df.no+df.no2+df.hono,yaxis = \"y1\",mode='markers+lines',marker_size=10,line_width=2,name=\"no\"))\n",
    "fig_1.update_layout(title='0926b NaNO3 (0.1M) + DHB (0.02M) 600 uL',titlefont=dict(color=\"black\",size=25))\n",
    "# fig_1.update_layout( bargap=0)\n",
    "fig_1.update_layout(\n",
    "  plot_bgcolor = 'white',paper_bgcolor = 'white',autosize=False,width=1000, height=800,\n",
    "    xaxis=dict( title=\"time (min)\",titlefont=dict(color=\"black\",size=25),showline=True, mirror= True,tickfont=dict(color='black',size=25 ),linecolor=\"black\", linewidth=2,ticks='inside'),\n",
    "    yaxis=dict( title='HONO or NO<sub>x</sub> concentration (ppb)', \n",
    "              #  range=[-2,100],\n",
    "               titlefont=dict(color=\"black\",size=25),mirror= True,tickfont=dict(color='black',size=25 ),linecolor=\"black\", linewidth=2,ticks='inside'),\n",
    "    yaxis2=dict(title='',titlefont=dict(color=\"black\",size=25),tickfont=dict(color=\"black\" ,size=25),ticks='inside',anchor=\"free\",overlaying=\"y\", side=\"right\", position=1, linecolor=\"black\", linewidth=2,showticklabels = True) )\n",
    "fig_1.update_layout(legend=dict(yanchor=\"top\",y=0.9 ,xanchor=\"left\",x=0.75,  font=dict( size=25,color=\"black\")))\n",
    "fig_1.update_layout(xaxis=dict(showgrid=False),\n",
    "              yaxis=dict(showgrid=False)\n",
    ")\n",
    "\n",
    "# fig_1.add_vrect(\n",
    "#     x0=11, x1=11+32,\n",
    "#     fillcolor=\"yellow\", opacity=0.3,\n",
    "#     layer=\"below\", line_width=0,\n",
    "# )\n",
    "\n",
    "config = {'displayModeBar': True}\n",
    "\n",
    "fig_1.show(config=config)\n",
    "# fig_1.to_image('3.jpeg')\n"
   ]
  },
  {
   "cell_type": "markdown",
   "metadata": {},
   "source": [
    "\t\t## here shows, first adding O2 improves nitrate photolysis, but adding more O2 decreases all the conc.; the change in the concentration is more likely due to the change of total purging flow.\n",
    "\t\t\n",
    "\t\texp 0926B\tsolution 0925a\tnitrate+DHB\n",
    "\n",
    "\t\t26/09/2023 10:21:53\tlet the sample dry in pure N2\t\n",
    "\n",
    "\t\t26/09/2023 10:36:56\tLIGHTS ON \tNO O2\n",
    "\n",
    "\t\t26/09/2023 10:59:26\tswitch to add O2\n",
    "\n",
    "\t\tadjust N2 and O2 ratio\t \n",
    "\t\t\n",
    "\t\t## pay attention: although I tried to keep the total cwft flow to be 2300 ml min-1, the flow still can be different when I change the N2/O2 ratio. \n",
    "\n",
    "\t\t26/09/2023 11:26:18\tN2/O2 = 1:1\tN2 = 1150 ml min-1\n",
    "\t\t\t\tO2=1150 ml min-1 \n",
    "\n",
    "\t\t26/09/2023 11:36:11\tonly N2\t\n",
    "\n",
    "\t\t26/09/2023 11:42:07\tlights off\t\n",
    "\n",
    "\t\tnote: the solution is one day old\n",
    "\t\t"
   ]
  },
  {
   "cell_type": "code",
   "execution_count": 11,
   "metadata": {},
   "outputs": [
    {
     "name": "stdout",
     "output_type": "stream",
     "text": [
      "         hono           date_time       no2     no  dew_point\n",
      "216  0.115167 2023-09-26 12:09:00  0.056033  1.615  17.310345\n"
     ]
    }
   ],
   "source": [
    "\n",
    "df=pd.merge(pd.merge(pd.merge(df_hono_icad,df_no2_icad,on='date_time'),df_nox_t200,on='date_time'),df_rh,on='date_time')\n",
    "# df=pd.merge(pd.merge(df_hono_icad,df_no2_icad,on='date_time'),df_nox_t200,on='date_time')\n",
    "\n",
    "# correct HONO background\n",
    "print(df[df['date_time'] == '2023-09-26 12:09:00'])"
   ]
  },
  {
   "cell_type": "code",
   "execution_count": 12,
   "metadata": {},
   "outputs": [
    {
     "name": "stdout",
     "output_type": "stream",
     "text": [
      "        hono           date_time       no2    no  dew_point\n",
      "48  1.863333 2023-09-26 09:21:00  0.715817  0.38       16.5\n"
     ]
    },
    {
     "data": {
      "application/vnd.plotly.v1+json": {
       "config": {
        "displayModeBar": true,
        "plotlyServerURL": "https://plot.ly"
       },
       "data": [
        {
         "line": {
          "width": 2
         },
         "marker": {
          "size": 10
         },
         "mode": "markers+lines",
         "name": "HONO",
         "type": "scatter",
         "x": [
          "2023-09-26T11:59:00",
          "2023-09-26T12:00:00",
          "2023-09-26T12:01:00",
          "2023-09-26T12:02:00",
          "2023-09-26T12:03:00",
          "2023-09-26T12:04:00",
          "2023-09-26T12:05:00",
          "2023-09-26T12:06:00",
          "2023-09-26T12:07:00",
          "2023-09-26T12:08:00",
          "2023-09-26T12:09:00",
          "2023-09-26T12:10:00",
          "2023-09-26T12:11:00",
          "2023-09-26T12:12:00",
          "2023-09-26T12:13:00",
          "2023-09-26T12:14:00",
          "2023-09-26T12:15:00",
          "2023-09-26T12:16:00",
          "2023-09-26T12:17:00",
          "2023-09-26T12:18:00",
          "2023-09-26T12:19:00",
          "2023-09-26T12:20:00",
          "2023-09-26T12:21:00",
          "2023-09-26T12:22:00",
          "2023-09-26T12:23:00",
          "2023-09-26T12:24:00",
          "2023-09-26T12:25:00",
          "2023-09-26T12:26:00",
          "2023-09-26T12:27:00",
          "2023-09-26T12:28:00",
          "2023-09-26T12:29:00",
          "2023-09-26T12:30:00",
          "2023-09-26T12:31:00",
          "2023-09-26T12:32:00",
          "2023-09-26T12:33:00",
          "2023-09-26T12:34:00",
          "2023-09-26T12:35:00",
          "2023-09-26T12:36:00",
          "2023-09-26T12:37:00",
          "2023-09-26T12:38:00",
          "2023-09-26T12:39:00",
          "2023-09-26T12:40:00",
          "2023-09-26T12:41:00",
          "2023-09-26T12:42:00",
          "2023-09-26T12:43:00",
          "2023-09-26T12:44:00",
          "2023-09-26T12:45:00",
          "2023-09-26T12:46:00",
          "2023-09-26T12:47:00",
          "2023-09-26T12:48:00",
          "2023-09-26T12:49:00",
          "2023-09-26T12:50:00",
          "2023-09-26T12:51:00",
          "2023-09-26T12:52:00",
          "2023-09-26T12:53:00",
          "2023-09-26T12:54:00",
          "2023-09-26T12:55:00",
          "2023-09-26T12:56:00",
          "2023-09-26T12:57:00",
          "2023-09-26T12:58:00",
          "2023-09-26T12:59:00",
          "2023-09-26T13:00:00",
          "2023-09-26T13:01:00",
          "2023-09-26T13:02:00",
          "2023-09-26T13:03:00",
          "2023-09-26T13:04:00",
          "2023-09-26T13:05:00",
          "2023-09-26T13:06:00",
          "2023-09-26T13:07:00",
          "2023-09-26T13:08:00",
          "2023-09-26T13:09:00",
          "2023-09-26T13:10:00",
          "2023-09-26T13:11:00",
          "2023-09-26T13:12:00",
          "2023-09-26T13:13:00",
          "2023-09-26T13:14:00",
          "2023-09-26T13:15:00",
          "2023-09-26T13:16:00",
          "2023-09-26T13:17:00",
          "2023-09-26T13:18:00",
          "2023-09-26T13:19:00",
          "2023-09-26T13:20:00",
          "2023-09-26T13:21:00",
          "2023-09-26T13:22:00",
          "2023-09-26T13:23:00",
          "2023-09-26T13:24:00",
          "2023-09-26T13:25:00",
          "2023-09-26T13:26:00",
          "2023-09-26T13:27:00",
          "2023-09-26T13:28:00"
         ],
         "y": [
          0.023666666666666666,
          0.058666666666666666,
          0.16399999999999998,
          0.16766666666666666,
          0.1875,
          0.1708333333333333,
          0.07166666666666667,
          0.07116666666666667,
          -0.0018333333333333372,
          0.09949999999999999,
          0.11516666666666668,
          6.366499999999999,
          12.695,
          18.4995,
          23.482833333333332,
          27.3856,
          30.669166666666666,
          34.6115,
          38.49283333333333,
          42.5825,
          46.4715,
          49.61116666666667,
          52.755500000000005,
          56.60183333333333,
          61.51583333333334,
          65.50283333333333,
          68.4665,
          71.28816666666667,
          73.3364,
          75.26,
          76.77283333333334,
          78.159,
          79.4775,
          80.57600000000001,
          81.66533333333334,
          82.96266666666666,
          84.66183333333333,
          80.44500000000001,
          77.65216666666667,
          76,
          75.02720000000001,
          82.566,
          93.22833333333334,
          105.483,
          89.02183333333333,
          78.7885,
          75.8095,
          74.16466666666666,
          72.84266666666666,
          70.21133333333334,
          67.522,
          66.101,
          65.3575,
          65.15066666666667,
          64.85333333333334,
          64.4894,
          64.2325,
          63.62083333333334,
          63.291333333333334,
          62.730333333333334,
          61.92333333333334,
          61.51066666666667,
          60.98716666666667,
          60.46383333333333,
          59.856833333333334,
          59.216,
          57.26233333333334,
          55.365833333333335,
          53.930600000000005,
          53.386500000000005,
          53.07416666666666,
          52.619166666666665,
          56.382666666666665,
          51.04683333333333,
          49.916500000000006,
          49.157000000000004,
          49.07533333333333,
          48.31983333333333,
          46.66766666666666,
          45.2845,
          44.69566666666666,
          39.7222,
          16.910333333333334,
          12.3275,
          4.831166666666667,
          3.063166666666666,
          2.0845,
          1.611,
          1.1423333333333332,
          0.9996666666666667
         ],
         "yaxis": "y"
        },
        {
         "line": {
          "width": 2
         },
         "marker": {
          "size": 10
         },
         "mode": "markers+lines",
         "name": "NO<sub>2</sub>",
         "type": "scatter",
         "x": [
          "2023-09-26T11:59:00",
          "2023-09-26T12:00:00",
          "2023-09-26T12:01:00",
          "2023-09-26T12:02:00",
          "2023-09-26T12:03:00",
          "2023-09-26T12:04:00",
          "2023-09-26T12:05:00",
          "2023-09-26T12:06:00",
          "2023-09-26T12:07:00",
          "2023-09-26T12:08:00",
          "2023-09-26T12:09:00",
          "2023-09-26T12:10:00",
          "2023-09-26T12:11:00",
          "2023-09-26T12:12:00",
          "2023-09-26T12:13:00",
          "2023-09-26T12:14:00",
          "2023-09-26T12:15:00",
          "2023-09-26T12:16:00",
          "2023-09-26T12:17:00",
          "2023-09-26T12:18:00",
          "2023-09-26T12:19:00",
          "2023-09-26T12:20:00",
          "2023-09-26T12:21:00",
          "2023-09-26T12:22:00",
          "2023-09-26T12:23:00",
          "2023-09-26T12:24:00",
          "2023-09-26T12:25:00",
          "2023-09-26T12:26:00",
          "2023-09-26T12:27:00",
          "2023-09-26T12:28:00",
          "2023-09-26T12:29:00",
          "2023-09-26T12:30:00",
          "2023-09-26T12:31:00",
          "2023-09-26T12:32:00",
          "2023-09-26T12:33:00",
          "2023-09-26T12:34:00",
          "2023-09-26T12:35:00",
          "2023-09-26T12:36:00",
          "2023-09-26T12:37:00",
          "2023-09-26T12:38:00",
          "2023-09-26T12:39:00",
          "2023-09-26T12:40:00",
          "2023-09-26T12:41:00",
          "2023-09-26T12:42:00",
          "2023-09-26T12:43:00",
          "2023-09-26T12:44:00",
          "2023-09-26T12:45:00",
          "2023-09-26T12:46:00",
          "2023-09-26T12:47:00",
          "2023-09-26T12:48:00",
          "2023-09-26T12:49:00",
          "2023-09-26T12:50:00",
          "2023-09-26T12:51:00",
          "2023-09-26T12:52:00",
          "2023-09-26T12:53:00",
          "2023-09-26T12:54:00",
          "2023-09-26T12:55:00",
          "2023-09-26T12:56:00",
          "2023-09-26T12:57:00",
          "2023-09-26T12:58:00",
          "2023-09-26T12:59:00",
          "2023-09-26T13:00:00",
          "2023-09-26T13:01:00",
          "2023-09-26T13:02:00",
          "2023-09-26T13:03:00",
          "2023-09-26T13:04:00",
          "2023-09-26T13:05:00",
          "2023-09-26T13:06:00",
          "2023-09-26T13:07:00",
          "2023-09-26T13:08:00",
          "2023-09-26T13:09:00",
          "2023-09-26T13:10:00",
          "2023-09-26T13:11:00",
          "2023-09-26T13:12:00",
          "2023-09-26T13:13:00",
          "2023-09-26T13:14:00",
          "2023-09-26T13:15:00",
          "2023-09-26T13:16:00",
          "2023-09-26T13:17:00",
          "2023-09-26T13:18:00",
          "2023-09-26T13:19:00",
          "2023-09-26T13:20:00",
          "2023-09-26T13:21:00",
          "2023-09-26T13:22:00",
          "2023-09-26T13:23:00",
          "2023-09-26T13:24:00",
          "2023-09-26T13:25:00",
          "2023-09-26T13:26:00",
          "2023-09-26T13:27:00",
          "2023-09-26T13:28:00"
         ],
         "y": [
          0.03713333333333333,
          0.02845,
          0.02696,
          0.03963333333333333,
          -0.024300000000000002,
          0.062049999999999994,
          -0.008283333333333332,
          -0.011749999999999998,
          0.02723333333333333,
          0.029633333333333334,
          0.05603333333333333,
          1.06762,
          3.0097166666666664,
          3.4780166666666665,
          3.754016666666667,
          3.9514333333333336,
          4.12985,
          4.3532,
          4.530366666666667,
          4.746160714285714,
          4.96835,
          5.0561884615384605,
          5.193433333333333,
          5.44535,
          5.739316666666666,
          6.149733333333334,
          6.584083333333333,
          6.9441,
          7.11574347826087,
          7.316233333333333,
          7.40825,
          7.509666666666667,
          7.53905,
          7.534083333333332,
          7.523283333333333,
          7.4517999999999995,
          7.49725,
          7.49412,
          7.285833333333334,
          7.179,
          6.951216666666666,
          6.79905,
          7.874816666666667,
          7.4935833333333335,
          8.390083333333333,
          6.72808,
          6.490183333333333,
          6.3921,
          6.2797833333333335,
          5.965533333333333,
          5.668516666666666,
          5.404983333333334,
          5.3113166666666665,
          5.165066666666667,
          5.06922,
          4.959133333333333,
          4.861833333333333,
          4.72125,
          4.579296428571429,
          4.551333333333333,
          4.39708,
          4.322183333333333,
          4.2023,
          4.121933333333334,
          4.006,
          3.892716666666667,
          3.706633333333333,
          3.52965,
          3.3732,
          3.27194,
          3.244733333333333,
          3.144633333333333,
          3.2413000000000003,
          2.8624500000000004,
          2.6890666666666667,
          2.5924799999999997,
          2.4545333333333335,
          2.3877,
          2.2686333333333333,
          2.14046,
          2.1237,
          2.0217666666666667,
          0.35013333333333335,
          0.049183333333333336,
          0.02435,
          -0.036559999999999995,
          0.03401666666666667,
          0.04735,
          0.030555555555555555,
          0.05538333333333333
         ],
         "yaxis": "y"
        },
        {
         "line": {
          "width": 2
         },
         "marker": {
          "size": 10
         },
         "mode": "markers+lines",
         "name": "NO",
         "type": "scatter",
         "x": [
          "2023-09-26T11:59:00",
          "2023-09-26T12:00:00",
          "2023-09-26T12:01:00",
          "2023-09-26T12:02:00",
          "2023-09-26T12:03:00",
          "2023-09-26T12:04:00",
          "2023-09-26T12:05:00",
          "2023-09-26T12:06:00",
          "2023-09-26T12:07:00",
          "2023-09-26T12:08:00",
          "2023-09-26T12:09:00",
          "2023-09-26T12:10:00",
          "2023-09-26T12:11:00",
          "2023-09-26T12:12:00",
          "2023-09-26T12:13:00",
          "2023-09-26T12:14:00",
          "2023-09-26T12:15:00",
          "2023-09-26T12:16:00",
          "2023-09-26T12:17:00",
          "2023-09-26T12:18:00",
          "2023-09-26T12:19:00",
          "2023-09-26T12:20:00",
          "2023-09-26T12:21:00",
          "2023-09-26T12:22:00",
          "2023-09-26T12:23:00",
          "2023-09-26T12:24:00",
          "2023-09-26T12:25:00",
          "2023-09-26T12:26:00",
          "2023-09-26T12:27:00",
          "2023-09-26T12:28:00",
          "2023-09-26T12:29:00",
          "2023-09-26T12:30:00",
          "2023-09-26T12:31:00",
          "2023-09-26T12:32:00",
          "2023-09-26T12:33:00",
          "2023-09-26T12:34:00",
          "2023-09-26T12:35:00",
          "2023-09-26T12:36:00",
          "2023-09-26T12:37:00",
          "2023-09-26T12:38:00",
          "2023-09-26T12:39:00",
          "2023-09-26T12:40:00",
          "2023-09-26T12:41:00",
          "2023-09-26T12:42:00",
          "2023-09-26T12:43:00",
          "2023-09-26T12:44:00",
          "2023-09-26T12:45:00",
          "2023-09-26T12:46:00",
          "2023-09-26T12:47:00",
          "2023-09-26T12:48:00",
          "2023-09-26T12:49:00",
          "2023-09-26T12:50:00",
          "2023-09-26T12:51:00",
          "2023-09-26T12:52:00",
          "2023-09-26T12:53:00",
          "2023-09-26T12:54:00",
          "2023-09-26T12:55:00",
          "2023-09-26T12:56:00",
          "2023-09-26T12:57:00",
          "2023-09-26T12:58:00",
          "2023-09-26T12:59:00",
          "2023-09-26T13:00:00",
          "2023-09-26T13:01:00",
          "2023-09-26T13:02:00",
          "2023-09-26T13:03:00",
          "2023-09-26T13:04:00",
          "2023-09-26T13:05:00",
          "2023-09-26T13:06:00",
          "2023-09-26T13:07:00",
          "2023-09-26T13:08:00",
          "2023-09-26T13:09:00",
          "2023-09-26T13:10:00",
          "2023-09-26T13:11:00",
          "2023-09-26T13:12:00",
          "2023-09-26T13:13:00",
          "2023-09-26T13:14:00",
          "2023-09-26T13:15:00",
          "2023-09-26T13:16:00",
          "2023-09-26T13:17:00",
          "2023-09-26T13:18:00",
          "2023-09-26T13:19:00",
          "2023-09-26T13:20:00",
          "2023-09-26T13:21:00",
          "2023-09-26T13:22:00",
          "2023-09-26T13:23:00",
          "2023-09-26T13:24:00",
          "2023-09-26T13:25:00",
          "2023-09-26T13:26:00",
          "2023-09-26T13:27:00",
          "2023-09-26T13:28:00"
         ],
         "y": [
          1.7894736842105263,
          1.6,
          1.44,
          1.4,
          1.355,
          1.38,
          1.44,
          1.57,
          1.675,
          1.6949999999999998,
          1.6150000000000002,
          1.6,
          1.6300000000000001,
          1.7850000000000001,
          1.85,
          1.9684210526315788,
          2.055,
          2.2649999999999997,
          2.445,
          2.535,
          2.615,
          2.75,
          2.86,
          2.9699999999999998,
          3.105,
          3.2399999999999998,
          3.45,
          3.66,
          3.8,
          3.8850000000000002,
          3.9631578947368418,
          4.069999999999999,
          4.1850000000000005,
          4.235,
          4.33,
          4.335,
          4.49,
          4.5,
          4.44,
          4.3950000000000005,
          4.36,
          4.385,
          4.34,
          4.3,
          4.24,
          4.221052631578948,
          4.245,
          4.3149999999999995,
          4.3,
          4.285,
          4.390000000000001,
          4.529999999999999,
          4.67,
          4.845000000000001,
          4.885,
          4.955,
          5.16,
          5.380000000000001,
          5.5,
          5.64,
          5.725,
          5.9,
          6.115,
          6.345000000000001,
          6.49,
          6.6450000000000005,
          6.94,
          7.225,
          7.5200000000000005,
          7.68,
          7.85,
          7.970000000000001,
          8.1,
          8.2,
          8.435,
          8.559999999999999,
          8.775,
          8.936842105263159,
          9.015,
          9.129999999999999,
          9.27,
          9.055,
          8.76,
          8.4,
          8.040000000000001,
          7.705,
          7.37,
          6.840000000000001,
          6.3549999999999995,
          6
         ],
         "yaxis": "y"
        }
       ],
       "layout": {
        "autosize": false,
        "height": 800,
        "legend": {
         "font": {
          "color": "black",
          "size": 25
         },
         "x": 0.75,
         "xanchor": "left",
         "y": 0.9,
         "yanchor": "top"
        },
        "paper_bgcolor": "white",
        "plot_bgcolor": "white",
        "template": {
         "data": {
          "bar": [
           {
            "error_x": {
             "color": "#2a3f5f"
            },
            "error_y": {
             "color": "#2a3f5f"
            },
            "marker": {
             "line": {
              "color": "#E5ECF6",
              "width": 0.5
             },
             "pattern": {
              "fillmode": "overlay",
              "size": 10,
              "solidity": 0.2
             }
            },
            "type": "bar"
           }
          ],
          "barpolar": [
           {
            "marker": {
             "line": {
              "color": "#E5ECF6",
              "width": 0.5
             },
             "pattern": {
              "fillmode": "overlay",
              "size": 10,
              "solidity": 0.2
             }
            },
            "type": "barpolar"
           }
          ],
          "carpet": [
           {
            "aaxis": {
             "endlinecolor": "#2a3f5f",
             "gridcolor": "white",
             "linecolor": "white",
             "minorgridcolor": "white",
             "startlinecolor": "#2a3f5f"
            },
            "baxis": {
             "endlinecolor": "#2a3f5f",
             "gridcolor": "white",
             "linecolor": "white",
             "minorgridcolor": "white",
             "startlinecolor": "#2a3f5f"
            },
            "type": "carpet"
           }
          ],
          "choropleth": [
           {
            "colorbar": {
             "outlinewidth": 0,
             "ticks": ""
            },
            "type": "choropleth"
           }
          ],
          "contour": [
           {
            "colorbar": {
             "outlinewidth": 0,
             "ticks": ""
            },
            "colorscale": [
             [
              0,
              "#0d0887"
             ],
             [
              0.1111111111111111,
              "#46039f"
             ],
             [
              0.2222222222222222,
              "#7201a8"
             ],
             [
              0.3333333333333333,
              "#9c179e"
             ],
             [
              0.4444444444444444,
              "#bd3786"
             ],
             [
              0.5555555555555556,
              "#d8576b"
             ],
             [
              0.6666666666666666,
              "#ed7953"
             ],
             [
              0.7777777777777778,
              "#fb9f3a"
             ],
             [
              0.8888888888888888,
              "#fdca26"
             ],
             [
              1,
              "#f0f921"
             ]
            ],
            "type": "contour"
           }
          ],
          "contourcarpet": [
           {
            "colorbar": {
             "outlinewidth": 0,
             "ticks": ""
            },
            "type": "contourcarpet"
           }
          ],
          "heatmap": [
           {
            "colorbar": {
             "outlinewidth": 0,
             "ticks": ""
            },
            "colorscale": [
             [
              0,
              "#0d0887"
             ],
             [
              0.1111111111111111,
              "#46039f"
             ],
             [
              0.2222222222222222,
              "#7201a8"
             ],
             [
              0.3333333333333333,
              "#9c179e"
             ],
             [
              0.4444444444444444,
              "#bd3786"
             ],
             [
              0.5555555555555556,
              "#d8576b"
             ],
             [
              0.6666666666666666,
              "#ed7953"
             ],
             [
              0.7777777777777778,
              "#fb9f3a"
             ],
             [
              0.8888888888888888,
              "#fdca26"
             ],
             [
              1,
              "#f0f921"
             ]
            ],
            "type": "heatmap"
           }
          ],
          "heatmapgl": [
           {
            "colorbar": {
             "outlinewidth": 0,
             "ticks": ""
            },
            "colorscale": [
             [
              0,
              "#0d0887"
             ],
             [
              0.1111111111111111,
              "#46039f"
             ],
             [
              0.2222222222222222,
              "#7201a8"
             ],
             [
              0.3333333333333333,
              "#9c179e"
             ],
             [
              0.4444444444444444,
              "#bd3786"
             ],
             [
              0.5555555555555556,
              "#d8576b"
             ],
             [
              0.6666666666666666,
              "#ed7953"
             ],
             [
              0.7777777777777778,
              "#fb9f3a"
             ],
             [
              0.8888888888888888,
              "#fdca26"
             ],
             [
              1,
              "#f0f921"
             ]
            ],
            "type": "heatmapgl"
           }
          ],
          "histogram": [
           {
            "marker": {
             "pattern": {
              "fillmode": "overlay",
              "size": 10,
              "solidity": 0.2
             }
            },
            "type": "histogram"
           }
          ],
          "histogram2d": [
           {
            "colorbar": {
             "outlinewidth": 0,
             "ticks": ""
            },
            "colorscale": [
             [
              0,
              "#0d0887"
             ],
             [
              0.1111111111111111,
              "#46039f"
             ],
             [
              0.2222222222222222,
              "#7201a8"
             ],
             [
              0.3333333333333333,
              "#9c179e"
             ],
             [
              0.4444444444444444,
              "#bd3786"
             ],
             [
              0.5555555555555556,
              "#d8576b"
             ],
             [
              0.6666666666666666,
              "#ed7953"
             ],
             [
              0.7777777777777778,
              "#fb9f3a"
             ],
             [
              0.8888888888888888,
              "#fdca26"
             ],
             [
              1,
              "#f0f921"
             ]
            ],
            "type": "histogram2d"
           }
          ],
          "histogram2dcontour": [
           {
            "colorbar": {
             "outlinewidth": 0,
             "ticks": ""
            },
            "colorscale": [
             [
              0,
              "#0d0887"
             ],
             [
              0.1111111111111111,
              "#46039f"
             ],
             [
              0.2222222222222222,
              "#7201a8"
             ],
             [
              0.3333333333333333,
              "#9c179e"
             ],
             [
              0.4444444444444444,
              "#bd3786"
             ],
             [
              0.5555555555555556,
              "#d8576b"
             ],
             [
              0.6666666666666666,
              "#ed7953"
             ],
             [
              0.7777777777777778,
              "#fb9f3a"
             ],
             [
              0.8888888888888888,
              "#fdca26"
             ],
             [
              1,
              "#f0f921"
             ]
            ],
            "type": "histogram2dcontour"
           }
          ],
          "mesh3d": [
           {
            "colorbar": {
             "outlinewidth": 0,
             "ticks": ""
            },
            "type": "mesh3d"
           }
          ],
          "parcoords": [
           {
            "line": {
             "colorbar": {
              "outlinewidth": 0,
              "ticks": ""
             }
            },
            "type": "parcoords"
           }
          ],
          "pie": [
           {
            "automargin": true,
            "type": "pie"
           }
          ],
          "scatter": [
           {
            "fillpattern": {
             "fillmode": "overlay",
             "size": 10,
             "solidity": 0.2
            },
            "type": "scatter"
           }
          ],
          "scatter3d": [
           {
            "line": {
             "colorbar": {
              "outlinewidth": 0,
              "ticks": ""
             }
            },
            "marker": {
             "colorbar": {
              "outlinewidth": 0,
              "ticks": ""
             }
            },
            "type": "scatter3d"
           }
          ],
          "scattercarpet": [
           {
            "marker": {
             "colorbar": {
              "outlinewidth": 0,
              "ticks": ""
             }
            },
            "type": "scattercarpet"
           }
          ],
          "scattergeo": [
           {
            "marker": {
             "colorbar": {
              "outlinewidth": 0,
              "ticks": ""
             }
            },
            "type": "scattergeo"
           }
          ],
          "scattergl": [
           {
            "marker": {
             "colorbar": {
              "outlinewidth": 0,
              "ticks": ""
             }
            },
            "type": "scattergl"
           }
          ],
          "scattermapbox": [
           {
            "marker": {
             "colorbar": {
              "outlinewidth": 0,
              "ticks": ""
             }
            },
            "type": "scattermapbox"
           }
          ],
          "scatterpolar": [
           {
            "marker": {
             "colorbar": {
              "outlinewidth": 0,
              "ticks": ""
             }
            },
            "type": "scatterpolar"
           }
          ],
          "scatterpolargl": [
           {
            "marker": {
             "colorbar": {
              "outlinewidth": 0,
              "ticks": ""
             }
            },
            "type": "scatterpolargl"
           }
          ],
          "scatterternary": [
           {
            "marker": {
             "colorbar": {
              "outlinewidth": 0,
              "ticks": ""
             }
            },
            "type": "scatterternary"
           }
          ],
          "surface": [
           {
            "colorbar": {
             "outlinewidth": 0,
             "ticks": ""
            },
            "colorscale": [
             [
              0,
              "#0d0887"
             ],
             [
              0.1111111111111111,
              "#46039f"
             ],
             [
              0.2222222222222222,
              "#7201a8"
             ],
             [
              0.3333333333333333,
              "#9c179e"
             ],
             [
              0.4444444444444444,
              "#bd3786"
             ],
             [
              0.5555555555555556,
              "#d8576b"
             ],
             [
              0.6666666666666666,
              "#ed7953"
             ],
             [
              0.7777777777777778,
              "#fb9f3a"
             ],
             [
              0.8888888888888888,
              "#fdca26"
             ],
             [
              1,
              "#f0f921"
             ]
            ],
            "type": "surface"
           }
          ],
          "table": [
           {
            "cells": {
             "fill": {
              "color": "#EBF0F8"
             },
             "line": {
              "color": "white"
             }
            },
            "header": {
             "fill": {
              "color": "#C8D4E3"
             },
             "line": {
              "color": "white"
             }
            },
            "type": "table"
           }
          ]
         },
         "layout": {
          "annotationdefaults": {
           "arrowcolor": "#2a3f5f",
           "arrowhead": 0,
           "arrowwidth": 1
          },
          "autotypenumbers": "strict",
          "coloraxis": {
           "colorbar": {
            "outlinewidth": 0,
            "ticks": ""
           }
          },
          "colorscale": {
           "diverging": [
            [
             0,
             "#8e0152"
            ],
            [
             0.1,
             "#c51b7d"
            ],
            [
             0.2,
             "#de77ae"
            ],
            [
             0.3,
             "#f1b6da"
            ],
            [
             0.4,
             "#fde0ef"
            ],
            [
             0.5,
             "#f7f7f7"
            ],
            [
             0.6,
             "#e6f5d0"
            ],
            [
             0.7,
             "#b8e186"
            ],
            [
             0.8,
             "#7fbc41"
            ],
            [
             0.9,
             "#4d9221"
            ],
            [
             1,
             "#276419"
            ]
           ],
           "sequential": [
            [
             0,
             "#0d0887"
            ],
            [
             0.1111111111111111,
             "#46039f"
            ],
            [
             0.2222222222222222,
             "#7201a8"
            ],
            [
             0.3333333333333333,
             "#9c179e"
            ],
            [
             0.4444444444444444,
             "#bd3786"
            ],
            [
             0.5555555555555556,
             "#d8576b"
            ],
            [
             0.6666666666666666,
             "#ed7953"
            ],
            [
             0.7777777777777778,
             "#fb9f3a"
            ],
            [
             0.8888888888888888,
             "#fdca26"
            ],
            [
             1,
             "#f0f921"
            ]
           ],
           "sequentialminus": [
            [
             0,
             "#0d0887"
            ],
            [
             0.1111111111111111,
             "#46039f"
            ],
            [
             0.2222222222222222,
             "#7201a8"
            ],
            [
             0.3333333333333333,
             "#9c179e"
            ],
            [
             0.4444444444444444,
             "#bd3786"
            ],
            [
             0.5555555555555556,
             "#d8576b"
            ],
            [
             0.6666666666666666,
             "#ed7953"
            ],
            [
             0.7777777777777778,
             "#fb9f3a"
            ],
            [
             0.8888888888888888,
             "#fdca26"
            ],
            [
             1,
             "#f0f921"
            ]
           ]
          },
          "colorway": [
           "#636efa",
           "#EF553B",
           "#00cc96",
           "#ab63fa",
           "#FFA15A",
           "#19d3f3",
           "#FF6692",
           "#B6E880",
           "#FF97FF",
           "#FECB52"
          ],
          "font": {
           "color": "#2a3f5f"
          },
          "geo": {
           "bgcolor": "white",
           "lakecolor": "white",
           "landcolor": "#E5ECF6",
           "showlakes": true,
           "showland": true,
           "subunitcolor": "white"
          },
          "hoverlabel": {
           "align": "left"
          },
          "hovermode": "closest",
          "mapbox": {
           "style": "light"
          },
          "paper_bgcolor": "white",
          "plot_bgcolor": "#E5ECF6",
          "polar": {
           "angularaxis": {
            "gridcolor": "white",
            "linecolor": "white",
            "ticks": ""
           },
           "bgcolor": "#E5ECF6",
           "radialaxis": {
            "gridcolor": "white",
            "linecolor": "white",
            "ticks": ""
           }
          },
          "scene": {
           "xaxis": {
            "backgroundcolor": "#E5ECF6",
            "gridcolor": "white",
            "gridwidth": 2,
            "linecolor": "white",
            "showbackground": true,
            "ticks": "",
            "zerolinecolor": "white"
           },
           "yaxis": {
            "backgroundcolor": "#E5ECF6",
            "gridcolor": "white",
            "gridwidth": 2,
            "linecolor": "white",
            "showbackground": true,
            "ticks": "",
            "zerolinecolor": "white"
           },
           "zaxis": {
            "backgroundcolor": "#E5ECF6",
            "gridcolor": "white",
            "gridwidth": 2,
            "linecolor": "white",
            "showbackground": true,
            "ticks": "",
            "zerolinecolor": "white"
           }
          },
          "shapedefaults": {
           "line": {
            "color": "#2a3f5f"
           }
          },
          "ternary": {
           "aaxis": {
            "gridcolor": "white",
            "linecolor": "white",
            "ticks": ""
           },
           "baxis": {
            "gridcolor": "white",
            "linecolor": "white",
            "ticks": ""
           },
           "bgcolor": "#E5ECF6",
           "caxis": {
            "gridcolor": "white",
            "linecolor": "white",
            "ticks": ""
           }
          },
          "title": {
           "x": 0.05
          },
          "xaxis": {
           "automargin": true,
           "gridcolor": "white",
           "linecolor": "white",
           "ticks": "",
           "title": {
            "standoff": 15
           },
           "zerolinecolor": "white",
           "zerolinewidth": 2
          },
          "yaxis": {
           "automargin": true,
           "gridcolor": "white",
           "linecolor": "white",
           "ticks": "",
           "title": {
            "standoff": 15
           },
           "zerolinecolor": "white",
           "zerolinewidth": 2
          }
         }
        },
        "title": {
         "font": {
          "color": "black",
          "size": 25
         },
         "text": "0926c NaNO3 (0.1M) + DHB (0.02M) 600 uL"
        },
        "width": 1000,
        "xaxis": {
         "linecolor": "black",
         "linewidth": 2,
         "mirror": true,
         "showgrid": false,
         "showline": true,
         "tickfont": {
          "color": "black",
          "size": 25
         },
         "ticks": "inside",
         "title": {
          "font": {
           "color": "black",
           "size": 25
          },
          "text": "time (min)"
         }
        },
        "yaxis": {
         "linecolor": "black",
         "linewidth": 2,
         "mirror": true,
         "showgrid": false,
         "tickfont": {
          "color": "black",
          "size": 25
         },
         "ticks": "inside",
         "title": {
          "font": {
           "color": "black",
           "size": 25
          },
          "text": "HONO or NO<sub>x</sub> concentration (ppb)"
         }
        },
        "yaxis2": {
         "anchor": "free",
         "linecolor": "black",
         "linewidth": 2,
         "overlaying": "y",
         "position": 1,
         "showticklabels": true,
         "side": "right",
         "tickfont": {
          "color": "black",
          "size": 25
         },
         "ticks": "inside",
         "title": {
          "font": {
           "color": "black",
           "size": 25
          },
          "text": ""
         }
        }
       }
      }
     },
     "metadata": {},
     "output_type": "display_data"
    }
   ],
   "source": [
    "\n",
    "df=pd.merge(pd.merge(pd.merge(df_hono_icad,df_no2_icad,on='date_time'),df_nox_t200,on='date_time'),df_rh,on='date_time')\n",
    "# df=pd.merge(pd.merge(df_hono_icad,df_no2_icad,on='date_time'),df_nox_t200,on='date_time')\n",
    "\n",
    "# correct HONO background\n",
    "print(df[df['date_time'] == '2023-09-26 09:21:00'])\n",
    "\n",
    "# df.hono=df.hono-df.hono[46:76].mean()\n",
    "time_start=216-10\n",
    "# df=df[time_start:time_start+10+41+10]\n",
    "df=df[time_start:time_start+90]\n",
    "\n",
    "x_minutes=(df['date_time'] - df['date_time'][time_start]).dt.total_seconds().div(60).astype(int)\n",
    "df['x_minutes']=x_minutes\n",
    "\n",
    "fig_1= go.Figure()\n",
    "fig_1.add_trace(go.Scatter(x= df.date_time,y=df.hono,yaxis = \"y1\",mode='markers+lines',marker_size=10,line_width=2,name=\"HONO\"))\n",
    "fig_1.add_trace(go.Scatter(x= df.date_time,y=df.no2,yaxis = \"y1\",mode='markers+lines',marker_size=10,line_width=2,name=\"NO<sub>2</sub>\"))\n",
    "fig_1.add_trace(go.Scatter(x= df.date_time,y=df.no,yaxis = \"y1\",mode='markers+lines',marker_size=10,line_width=2,name=\"NO\"))\n",
    "# fig_1.add_trace(go.Scatter(x= df.date_time,y=df.no+df.no2+df.hono,yaxis = \"y1\",mode='markers+lines',marker_size=10,line_width=2,name=\"no\"))\n",
    "fig_1.update_layout(title='0926c NaNO3 (0.1M) + DHB (0.02M) 600 uL',titlefont=dict(color=\"black\",size=25))\n",
    "# fig_1.update_layout( bargap=0)\n",
    "fig_1.update_layout(\n",
    "  plot_bgcolor = 'white',paper_bgcolor = 'white',autosize=False,width=1000, height=800,\n",
    "    xaxis=dict( title=\"time (min)\",titlefont=dict(color=\"black\",size=25),showline=True, mirror= True,tickfont=dict(color='black',size=25 ),linecolor=\"black\", linewidth=2,ticks='inside'),\n",
    "    yaxis=dict( title='HONO or NO<sub>x</sub> concentration (ppb)', \n",
    "              #  range=[-2,100],\n",
    "               titlefont=dict(color=\"black\",size=25),mirror= True,tickfont=dict(color='black',size=25 ),linecolor=\"black\", linewidth=2,ticks='inside'),\n",
    "    yaxis2=dict(title='',titlefont=dict(color=\"black\",size=25),tickfont=dict(color=\"black\" ,size=25),ticks='inside',anchor=\"free\",overlaying=\"y\", side=\"right\", position=1, linecolor=\"black\", linewidth=2,showticklabels = True) )\n",
    "fig_1.update_layout(legend=dict(yanchor=\"top\",y=0.9 ,xanchor=\"left\",x=0.75,  font=dict( size=25,color=\"black\")))\n",
    "fig_1.update_layout(xaxis=dict(showgrid=False),\n",
    "              yaxis=dict(showgrid=False)\n",
    ")\n",
    "\n",
    "# fig_1.add_vrect(\n",
    "#     x0=11, x1=11+32,\n",
    "#     fillcolor=\"yellow\", opacity=0.3,\n",
    "#     layer=\"below\", line_width=0,\n",
    "# )\n",
    "\n",
    "config = {'displayModeBar': True}\n",
    "\n",
    "fig_1.show(config=config)\n",
    "# fig_1.to_image('3.jpeg')\n"
   ]
  },
  {
   "cell_type": "markdown",
   "metadata": {},
   "source": [
    "          exp 0926c\tsolution 0925a\tnitrate+DHB\n",
    "\n",
    "          26/09/2023 12:00:26\t\n",
    "\n",
    "          26/09/2023 12:09:50\tLIGHTS ON \t1150*2 ml min-1 N2\n",
    "\n",
    "          26/09/2023 12:40:55\tadd half O2\tN2 = 1150 ml min-1\n",
    "\n",
    "                    O2=1150 ml min-1 \n",
    "\n",
    "          26/09/2023 13:10:42\tONLY N2\t\n",
    "          \n",
    "                            \n",
    "          26/09/2023 14:21:01\tcwft in line\tN2 = 1150 ml min-1\n",
    "\n",
    "          26/09/2023 14:25:32\tlights on \tO2=1150 ml min-1 \n",
    "\n",
    "          26/09/2023 14:37:16\tlights off\t\n",
    "\n",
    "          26/09/2023 14:40:47\tbypass chamber\t"
   ]
  },
  {
   "cell_type": "code",
   "execution_count": 29,
   "metadata": {},
   "outputs": [
    {
     "name": "stdout",
     "output_type": "stream",
     "text": [
      "         hono           date_time      no2     no  dew_point\n",
      "401  1.155167 2023-09-26 15:14:00  0.20898  2.765  15.668966\n"
     ]
    },
    {
     "data": {
      "application/vnd.plotly.v1+json": {
       "config": {
        "displayModeBar": true,
        "plotlyServerURL": "https://plot.ly"
       },
       "data": [
        {
         "line": {
          "width": 2
         },
         "marker": {
          "size": 10
         },
         "mode": "markers+lines",
         "name": "HONO",
         "type": "scatter",
         "x": [
          "2023-09-26T15:04:00",
          "2023-09-26T15:05:00",
          "2023-09-26T15:06:00",
          "2023-09-26T15:07:00",
          "2023-09-26T15:08:00",
          "2023-09-26T15:09:00",
          "2023-09-26T15:10:00",
          "2023-09-26T15:11:00",
          "2023-09-26T15:12:00",
          "2023-09-26T15:13:00",
          "2023-09-26T15:14:00",
          "2023-09-26T15:15:00",
          "2023-09-26T15:16:00",
          "2023-09-26T15:17:00",
          "2023-09-26T15:18:00",
          "2023-09-26T15:19:00",
          "2023-09-26T15:20:00",
          "2023-09-26T15:21:00",
          "2023-09-26T15:22:00",
          "2023-09-26T15:23:00",
          "2023-09-26T15:24:00",
          "2023-09-26T15:25:00",
          "2023-09-26T15:26:00",
          "2023-09-26T15:27:00",
          "2023-09-26T15:28:00",
          "2023-09-26T15:29:00",
          "2023-09-26T15:30:00",
          "2023-09-26T15:31:00",
          "2023-09-26T15:32:00",
          "2023-09-26T15:33:00",
          "2023-09-26T15:34:00",
          "2023-09-26T15:35:00",
          "2023-09-26T15:36:00",
          "2023-09-26T15:37:00",
          "2023-09-26T15:38:00",
          "2023-09-26T15:39:00",
          "2023-09-26T15:40:00",
          "2023-09-26T15:41:00",
          "2023-09-26T15:42:00",
          "2023-09-26T15:43:00",
          "2023-09-26T15:44:00",
          "2023-09-26T15:45:00",
          "2023-09-26T15:46:00",
          "2023-09-26T15:47:00",
          "2023-09-26T15:48:00",
          "2023-09-26T15:49:00",
          "2023-09-26T15:50:00",
          "2023-09-26T15:51:00",
          "2023-09-26T15:52:00",
          "2023-09-26T15:53:00",
          "2023-09-26T15:54:00",
          "2023-09-26T15:55:00",
          "2023-09-26T15:56:00",
          "2023-09-26T15:57:00",
          "2023-09-26T15:58:00",
          "2023-09-26T15:59:00",
          "2023-09-26T16:00:00",
          "2023-09-26T16:01:00",
          "2023-09-26T16:02:00",
          "2023-09-26T16:03:00",
          "2023-09-26T16:04:00",
          "2023-09-26T16:05:00",
          "2023-09-26T16:06:00",
          "2023-09-26T16:07:00",
          "2023-09-26T16:08:00",
          "2023-09-26T16:09:00",
          "2023-09-26T16:10:00",
          "2023-09-26T16:11:00",
          "2023-09-26T16:12:00",
          "2023-09-26T16:13:00",
          "2023-09-26T16:14:00",
          "2023-09-26T16:15:00",
          "2023-09-26T16:16:00",
          "2023-09-26T16:17:00",
          "2023-09-26T16:18:00",
          "2023-09-26T16:19:00",
          "2023-09-26T16:20:00",
          "2023-09-26T16:21:00",
          "2023-09-26T16:22:00",
          "2023-09-26T16:23:00",
          "2023-09-26T16:24:00",
          "2023-09-26T16:25:00",
          "2023-09-26T16:26:00",
          "2023-09-26T16:27:00",
          "2023-09-26T16:28:00",
          "2023-09-26T16:29:00",
          "2023-09-26T16:30:00",
          "2023-09-26T16:31:00",
          "2023-09-26T16:32:00",
          "2023-09-26T16:33:00"
         ],
         "y": [
          0.07733333333333334,
          0.11416666666666668,
          0.05266666666666667,
          0.053,
          0.8953333333333333,
          0.7928333333333333,
          0.9181666666666667,
          1.0268333333333333,
          1.0526666666666666,
          1.0241666666666667,
          1.1551666666666667,
          1.3496,
          1.0125,
          1.2135,
          1.3491666666666668,
          1.229,
          1.3305,
          1.4000000000000001,
          1.282,
          1.2953333333333334,
          1.3798333333333332,
          1.39,
          1.3683333333333332,
          1.2991666666666666,
          1.3095,
          1.4849999999999999,
          1.2336666666666665,
          1.3806666666666667,
          1.3956666666666668,
          1.3789999999999998,
          1.344,
          1.3268333333333333,
          1.3373333333333335,
          1.4008333333333336,
          1.3760000000000001,
          1.2338333333333333,
          1.391,
          1.2358,
          1.3275,
          5.7955,
          13.885,
          18.627666666666666,
          22.689666666666668,
          24.78616666666667,
          26.764499999999998,
          28.199833333333334,
          26.369666666666664,
          25.523833333333332,
          25.136833333333332,
          24.92016666666667,
          26.4795,
          25.9332,
          24.8905,
          24.12816666666667,
          24.131833333333333,
          23.998,
          23.837666666666667,
          23.860333333333333,
          23.974166666666665,
          23.84583333333333,
          23.248499999999996,
          19.75883333333333,
          18.659666666666666,
          18.18316666666667,
          17.8288,
          17.3905,
          17.183333333333334,
          16.979,
          16.779833333333332,
          16.546166666666668,
          16.291,
          11.258000000000001,
          1.7865,
          1.6575,
          1.477,
          1.5430000000000001,
          1.4828333333333334,
          1.4768000000000001,
          1.4275,
          1.4515,
          1.2948333333333333,
          1.4213333333333333,
          1.3821666666666665,
          1.2943333333333333,
          1.4353333333333333,
          1.2641666666666667,
          1.3128333333333333,
          1.2626666666666668,
          1.4251666666666667,
          1.3988333333333334
         ],
         "yaxis": "y"
        },
        {
         "line": {
          "width": 2
         },
         "marker": {
          "size": 10
         },
         "mode": "markers+lines",
         "name": "NO<sub>2</sub>",
         "type": "scatter",
         "x": [
          "2023-09-26T15:04:00",
          "2023-09-26T15:05:00",
          "2023-09-26T15:06:00",
          "2023-09-26T15:07:00",
          "2023-09-26T15:08:00",
          "2023-09-26T15:09:00",
          "2023-09-26T15:10:00",
          "2023-09-26T15:11:00",
          "2023-09-26T15:12:00",
          "2023-09-26T15:13:00",
          "2023-09-26T15:14:00",
          "2023-09-26T15:15:00",
          "2023-09-26T15:16:00",
          "2023-09-26T15:17:00",
          "2023-09-26T15:18:00",
          "2023-09-26T15:19:00",
          "2023-09-26T15:20:00",
          "2023-09-26T15:21:00",
          "2023-09-26T15:22:00",
          "2023-09-26T15:23:00",
          "2023-09-26T15:24:00",
          "2023-09-26T15:25:00",
          "2023-09-26T15:26:00",
          "2023-09-26T15:27:00",
          "2023-09-26T15:28:00",
          "2023-09-26T15:29:00",
          "2023-09-26T15:30:00",
          "2023-09-26T15:31:00",
          "2023-09-26T15:32:00",
          "2023-09-26T15:33:00",
          "2023-09-26T15:34:00",
          "2023-09-26T15:35:00",
          "2023-09-26T15:36:00",
          "2023-09-26T15:37:00",
          "2023-09-26T15:38:00",
          "2023-09-26T15:39:00",
          "2023-09-26T15:40:00",
          "2023-09-26T15:41:00",
          "2023-09-26T15:42:00",
          "2023-09-26T15:43:00",
          "2023-09-26T15:44:00",
          "2023-09-26T15:45:00",
          "2023-09-26T15:46:00",
          "2023-09-26T15:47:00",
          "2023-09-26T15:48:00",
          "2023-09-26T15:49:00",
          "2023-09-26T15:50:00",
          "2023-09-26T15:51:00",
          "2023-09-26T15:52:00",
          "2023-09-26T15:53:00",
          "2023-09-26T15:54:00",
          "2023-09-26T15:55:00",
          "2023-09-26T15:56:00",
          "2023-09-26T15:57:00",
          "2023-09-26T15:58:00",
          "2023-09-26T15:59:00",
          "2023-09-26T16:00:00",
          "2023-09-26T16:01:00",
          "2023-09-26T16:02:00",
          "2023-09-26T16:03:00",
          "2023-09-26T16:04:00",
          "2023-09-26T16:05:00",
          "2023-09-26T16:06:00",
          "2023-09-26T16:07:00",
          "2023-09-26T16:08:00",
          "2023-09-26T16:09:00",
          "2023-09-26T16:10:00",
          "2023-09-26T16:11:00",
          "2023-09-26T16:12:00",
          "2023-09-26T16:13:00",
          "2023-09-26T16:14:00",
          "2023-09-26T16:15:00",
          "2023-09-26T16:16:00",
          "2023-09-26T16:17:00",
          "2023-09-26T16:18:00",
          "2023-09-26T16:19:00",
          "2023-09-26T16:20:00",
          "2023-09-26T16:21:00",
          "2023-09-26T16:22:00",
          "2023-09-26T16:23:00",
          "2023-09-26T16:24:00",
          "2023-09-26T16:25:00",
          "2023-09-26T16:26:00",
          "2023-09-26T16:27:00",
          "2023-09-26T16:28:00",
          "2023-09-26T16:29:00",
          "2023-09-26T16:30:00",
          "2023-09-26T16:31:00",
          "2023-09-26T16:32:00",
          "2023-09-26T16:33:00"
         ],
         "y": [
          0.7932,
          0.74865,
          0.6568,
          0.6155333333333334,
          0.8096,
          0.57236,
          0.47618333333333335,
          0.3623,
          0.2532666666666667,
          0.16965,
          0.20898,
          21.551583333333337,
          24.821983333333332,
          26.4785,
          30.16416666666667,
          33.7608,
          35.780499999999996,
          37.43516666666667,
          38.34016666666667,
          38.842166666666664,
          39.123000000000005,
          39.30833333333333,
          39.705,
          40.032333333333334,
          40.373333333333335,
          40.5068,
          40.61633333333333,
          40.743833333333335,
          40.96083333333333,
          41.22933333333334,
          41.257600000000004,
          41.39566666666667,
          41.61483333333334,
          41.885,
          41.9255,
          41.96816666666667,
          42.016,
          42.120666666666665,
          42.15,
          38.311,
          16.259249999999998,
          14.268749999999999,
          13.811816666666667,
          13.29565,
          13.014883333333335,
          13.037083333333333,
          13.335066666666668,
          13.760066666666667,
          14.134183333333333,
          14.425,
          12.422199999999998,
          10.723583333333332,
          10.680883333333334,
          10.817116666666665,
          11.199166666666665,
          11.471850000000002,
          11.692433333333334,
          11.97212,
          12.259688235294117,
          12.48296052631579,
          12.73865,
          18.7126,
          22.69045,
          23.816166666666664,
          24.497466666666668,
          25.1469,
          25.7146,
          26.18465,
          26.592333333333332,
          27.294616666666666,
          27.792166666666663,
          28.3,
          40.76016666666667,
          44.76916666666667,
          44.73316666666667,
          44.627,
          44.7384,
          45.00666666666667,
          45.15566666666667,
          45.117892857142856,
          45.19858823529412,
          45.15864285714286,
          45.132888888888886,
          45.11933333333334,
          45.238499999999995,
          45.46267857142857,
          45.5104,
          45.55533333333333,
          45.50933333333333,
          45.45016666666667
         ],
         "yaxis": "y"
        },
        {
         "line": {
          "width": 2
         },
         "marker": {
          "size": 10
         },
         "mode": "markers+lines",
         "name": "NO",
         "type": "scatter",
         "x": [
          "2023-09-26T15:04:00",
          "2023-09-26T15:05:00",
          "2023-09-26T15:06:00",
          "2023-09-26T15:07:00",
          "2023-09-26T15:08:00",
          "2023-09-26T15:09:00",
          "2023-09-26T15:10:00",
          "2023-09-26T15:11:00",
          "2023-09-26T15:12:00",
          "2023-09-26T15:13:00",
          "2023-09-26T15:14:00",
          "2023-09-26T15:15:00",
          "2023-09-26T15:16:00",
          "2023-09-26T15:17:00",
          "2023-09-26T15:18:00",
          "2023-09-26T15:19:00",
          "2023-09-26T15:20:00",
          "2023-09-26T15:21:00",
          "2023-09-26T15:22:00",
          "2023-09-26T15:23:00",
          "2023-09-26T15:24:00",
          "2023-09-26T15:25:00",
          "2023-09-26T15:26:00",
          "2023-09-26T15:27:00",
          "2023-09-26T15:28:00",
          "2023-09-26T15:29:00",
          "2023-09-26T15:30:00",
          "2023-09-26T15:31:00",
          "2023-09-26T15:32:00",
          "2023-09-26T15:33:00",
          "2023-09-26T15:34:00",
          "2023-09-26T15:35:00",
          "2023-09-26T15:36:00",
          "2023-09-26T15:37:00",
          "2023-09-26T15:38:00",
          "2023-09-26T15:39:00",
          "2023-09-26T15:40:00",
          "2023-09-26T15:41:00",
          "2023-09-26T15:42:00",
          "2023-09-26T15:43:00",
          "2023-09-26T15:44:00",
          "2023-09-26T15:45:00",
          "2023-09-26T15:46:00",
          "2023-09-26T15:47:00",
          "2023-09-26T15:48:00",
          "2023-09-26T15:49:00",
          "2023-09-26T15:50:00",
          "2023-09-26T15:51:00",
          "2023-09-26T15:52:00",
          "2023-09-26T15:53:00",
          "2023-09-26T15:54:00",
          "2023-09-26T15:55:00",
          "2023-09-26T15:56:00",
          "2023-09-26T15:57:00",
          "2023-09-26T15:58:00",
          "2023-09-26T15:59:00",
          "2023-09-26T16:00:00",
          "2023-09-26T16:01:00",
          "2023-09-26T16:02:00",
          "2023-09-26T16:03:00",
          "2023-09-26T16:04:00",
          "2023-09-26T16:05:00",
          "2023-09-26T16:06:00",
          "2023-09-26T16:07:00",
          "2023-09-26T16:08:00",
          "2023-09-26T16:09:00",
          "2023-09-26T16:10:00",
          "2023-09-26T16:11:00",
          "2023-09-26T16:12:00",
          "2023-09-26T16:13:00",
          "2023-09-26T16:14:00",
          "2023-09-26T16:15:00",
          "2023-09-26T16:16:00",
          "2023-09-26T16:17:00",
          "2023-09-26T16:18:00",
          "2023-09-26T16:19:00",
          "2023-09-26T16:20:00",
          "2023-09-26T16:21:00",
          "2023-09-26T16:22:00",
          "2023-09-26T16:23:00",
          "2023-09-26T16:24:00",
          "2023-09-26T16:25:00",
          "2023-09-26T16:26:00",
          "2023-09-26T16:27:00",
          "2023-09-26T16:28:00",
          "2023-09-26T16:29:00",
          "2023-09-26T16:30:00",
          "2023-09-26T16:31:00",
          "2023-09-26T16:32:00",
          "2023-09-26T16:33:00"
         ],
         "y": [
          2.55,
          2.445,
          2.305263157894737,
          2.23,
          2.2649999999999997,
          2.325,
          2.4,
          2.385,
          2.465,
          2.54,
          2.7649999999999997,
          3.165,
          3.3600000000000003,
          3.565,
          3.8950000000000005,
          4.05,
          4.2631578947368425,
          4.4799999999999995,
          4.325,
          4.025,
          3.8049999999999997,
          3.575,
          3.465,
          3.35,
          3.2350000000000003,
          3.105,
          3,
          3.06,
          3.08,
          3.1,
          3.225,
          3.2,
          3.231578947368421,
          3.22,
          3.2,
          3.1700000000000004,
          3.1350000000000002,
          3.075,
          3.075,
          3.045,
          3.0300000000000002,
          3.0949999999999998,
          3.0650000000000004,
          3.005,
          2.925,
          2.86,
          2.8,
          2.763157894736842,
          2.7,
          2.75,
          2.92,
          3.1700000000000004,
          3.325,
          3.44,
          3.575,
          3.79,
          3.8850000000000002,
          3.8299999999999996,
          3.8,
          3.8,
          3.725,
          3.6149999999999998,
          3.4842105263157896,
          3.2299999999999995,
          3.07,
          2.8299999999999996,
          2.5100000000000002,
          2.3299999999999996,
          2.2849999999999997,
          2.2,
          2.2,
          2.21,
          2.2649999999999997,
          2.425,
          2.5149999999999997,
          2.6,
          2.6,
          2.625,
          2.6842105263157894,
          2.7,
          2.6100000000000003,
          2.605,
          2.73,
          2.755,
          2.9,
          2.98,
          3,
          3.1550000000000002,
          3.1550000000000002,
          3.045
         ],
         "yaxis": "y"
        }
       ],
       "layout": {
        "autosize": false,
        "height": 800,
        "legend": {
         "font": {
          "color": "black",
          "size": 25
         },
         "x": 0.05,
         "xanchor": "left",
         "y": 0.9,
         "yanchor": "top"
        },
        "paper_bgcolor": "white",
        "plot_bgcolor": "white",
        "template": {
         "data": {
          "bar": [
           {
            "error_x": {
             "color": "#2a3f5f"
            },
            "error_y": {
             "color": "#2a3f5f"
            },
            "marker": {
             "line": {
              "color": "#E5ECF6",
              "width": 0.5
             },
             "pattern": {
              "fillmode": "overlay",
              "size": 10,
              "solidity": 0.2
             }
            },
            "type": "bar"
           }
          ],
          "barpolar": [
           {
            "marker": {
             "line": {
              "color": "#E5ECF6",
              "width": 0.5
             },
             "pattern": {
              "fillmode": "overlay",
              "size": 10,
              "solidity": 0.2
             }
            },
            "type": "barpolar"
           }
          ],
          "carpet": [
           {
            "aaxis": {
             "endlinecolor": "#2a3f5f",
             "gridcolor": "white",
             "linecolor": "white",
             "minorgridcolor": "white",
             "startlinecolor": "#2a3f5f"
            },
            "baxis": {
             "endlinecolor": "#2a3f5f",
             "gridcolor": "white",
             "linecolor": "white",
             "minorgridcolor": "white",
             "startlinecolor": "#2a3f5f"
            },
            "type": "carpet"
           }
          ],
          "choropleth": [
           {
            "colorbar": {
             "outlinewidth": 0,
             "ticks": ""
            },
            "type": "choropleth"
           }
          ],
          "contour": [
           {
            "colorbar": {
             "outlinewidth": 0,
             "ticks": ""
            },
            "colorscale": [
             [
              0,
              "#0d0887"
             ],
             [
              0.1111111111111111,
              "#46039f"
             ],
             [
              0.2222222222222222,
              "#7201a8"
             ],
             [
              0.3333333333333333,
              "#9c179e"
             ],
             [
              0.4444444444444444,
              "#bd3786"
             ],
             [
              0.5555555555555556,
              "#d8576b"
             ],
             [
              0.6666666666666666,
              "#ed7953"
             ],
             [
              0.7777777777777778,
              "#fb9f3a"
             ],
             [
              0.8888888888888888,
              "#fdca26"
             ],
             [
              1,
              "#f0f921"
             ]
            ],
            "type": "contour"
           }
          ],
          "contourcarpet": [
           {
            "colorbar": {
             "outlinewidth": 0,
             "ticks": ""
            },
            "type": "contourcarpet"
           }
          ],
          "heatmap": [
           {
            "colorbar": {
             "outlinewidth": 0,
             "ticks": ""
            },
            "colorscale": [
             [
              0,
              "#0d0887"
             ],
             [
              0.1111111111111111,
              "#46039f"
             ],
             [
              0.2222222222222222,
              "#7201a8"
             ],
             [
              0.3333333333333333,
              "#9c179e"
             ],
             [
              0.4444444444444444,
              "#bd3786"
             ],
             [
              0.5555555555555556,
              "#d8576b"
             ],
             [
              0.6666666666666666,
              "#ed7953"
             ],
             [
              0.7777777777777778,
              "#fb9f3a"
             ],
             [
              0.8888888888888888,
              "#fdca26"
             ],
             [
              1,
              "#f0f921"
             ]
            ],
            "type": "heatmap"
           }
          ],
          "heatmapgl": [
           {
            "colorbar": {
             "outlinewidth": 0,
             "ticks": ""
            },
            "colorscale": [
             [
              0,
              "#0d0887"
             ],
             [
              0.1111111111111111,
              "#46039f"
             ],
             [
              0.2222222222222222,
              "#7201a8"
             ],
             [
              0.3333333333333333,
              "#9c179e"
             ],
             [
              0.4444444444444444,
              "#bd3786"
             ],
             [
              0.5555555555555556,
              "#d8576b"
             ],
             [
              0.6666666666666666,
              "#ed7953"
             ],
             [
              0.7777777777777778,
              "#fb9f3a"
             ],
             [
              0.8888888888888888,
              "#fdca26"
             ],
             [
              1,
              "#f0f921"
             ]
            ],
            "type": "heatmapgl"
           }
          ],
          "histogram": [
           {
            "marker": {
             "pattern": {
              "fillmode": "overlay",
              "size": 10,
              "solidity": 0.2
             }
            },
            "type": "histogram"
           }
          ],
          "histogram2d": [
           {
            "colorbar": {
             "outlinewidth": 0,
             "ticks": ""
            },
            "colorscale": [
             [
              0,
              "#0d0887"
             ],
             [
              0.1111111111111111,
              "#46039f"
             ],
             [
              0.2222222222222222,
              "#7201a8"
             ],
             [
              0.3333333333333333,
              "#9c179e"
             ],
             [
              0.4444444444444444,
              "#bd3786"
             ],
             [
              0.5555555555555556,
              "#d8576b"
             ],
             [
              0.6666666666666666,
              "#ed7953"
             ],
             [
              0.7777777777777778,
              "#fb9f3a"
             ],
             [
              0.8888888888888888,
              "#fdca26"
             ],
             [
              1,
              "#f0f921"
             ]
            ],
            "type": "histogram2d"
           }
          ],
          "histogram2dcontour": [
           {
            "colorbar": {
             "outlinewidth": 0,
             "ticks": ""
            },
            "colorscale": [
             [
              0,
              "#0d0887"
             ],
             [
              0.1111111111111111,
              "#46039f"
             ],
             [
              0.2222222222222222,
              "#7201a8"
             ],
             [
              0.3333333333333333,
              "#9c179e"
             ],
             [
              0.4444444444444444,
              "#bd3786"
             ],
             [
              0.5555555555555556,
              "#d8576b"
             ],
             [
              0.6666666666666666,
              "#ed7953"
             ],
             [
              0.7777777777777778,
              "#fb9f3a"
             ],
             [
              0.8888888888888888,
              "#fdca26"
             ],
             [
              1,
              "#f0f921"
             ]
            ],
            "type": "histogram2dcontour"
           }
          ],
          "mesh3d": [
           {
            "colorbar": {
             "outlinewidth": 0,
             "ticks": ""
            },
            "type": "mesh3d"
           }
          ],
          "parcoords": [
           {
            "line": {
             "colorbar": {
              "outlinewidth": 0,
              "ticks": ""
             }
            },
            "type": "parcoords"
           }
          ],
          "pie": [
           {
            "automargin": true,
            "type": "pie"
           }
          ],
          "scatter": [
           {
            "fillpattern": {
             "fillmode": "overlay",
             "size": 10,
             "solidity": 0.2
            },
            "type": "scatter"
           }
          ],
          "scatter3d": [
           {
            "line": {
             "colorbar": {
              "outlinewidth": 0,
              "ticks": ""
             }
            },
            "marker": {
             "colorbar": {
              "outlinewidth": 0,
              "ticks": ""
             }
            },
            "type": "scatter3d"
           }
          ],
          "scattercarpet": [
           {
            "marker": {
             "colorbar": {
              "outlinewidth": 0,
              "ticks": ""
             }
            },
            "type": "scattercarpet"
           }
          ],
          "scattergeo": [
           {
            "marker": {
             "colorbar": {
              "outlinewidth": 0,
              "ticks": ""
             }
            },
            "type": "scattergeo"
           }
          ],
          "scattergl": [
           {
            "marker": {
             "colorbar": {
              "outlinewidth": 0,
              "ticks": ""
             }
            },
            "type": "scattergl"
           }
          ],
          "scattermapbox": [
           {
            "marker": {
             "colorbar": {
              "outlinewidth": 0,
              "ticks": ""
             }
            },
            "type": "scattermapbox"
           }
          ],
          "scatterpolar": [
           {
            "marker": {
             "colorbar": {
              "outlinewidth": 0,
              "ticks": ""
             }
            },
            "type": "scatterpolar"
           }
          ],
          "scatterpolargl": [
           {
            "marker": {
             "colorbar": {
              "outlinewidth": 0,
              "ticks": ""
             }
            },
            "type": "scatterpolargl"
           }
          ],
          "scatterternary": [
           {
            "marker": {
             "colorbar": {
              "outlinewidth": 0,
              "ticks": ""
             }
            },
            "type": "scatterternary"
           }
          ],
          "surface": [
           {
            "colorbar": {
             "outlinewidth": 0,
             "ticks": ""
            },
            "colorscale": [
             [
              0,
              "#0d0887"
             ],
             [
              0.1111111111111111,
              "#46039f"
             ],
             [
              0.2222222222222222,
              "#7201a8"
             ],
             [
              0.3333333333333333,
              "#9c179e"
             ],
             [
              0.4444444444444444,
              "#bd3786"
             ],
             [
              0.5555555555555556,
              "#d8576b"
             ],
             [
              0.6666666666666666,
              "#ed7953"
             ],
             [
              0.7777777777777778,
              "#fb9f3a"
             ],
             [
              0.8888888888888888,
              "#fdca26"
             ],
             [
              1,
              "#f0f921"
             ]
            ],
            "type": "surface"
           }
          ],
          "table": [
           {
            "cells": {
             "fill": {
              "color": "#EBF0F8"
             },
             "line": {
              "color": "white"
             }
            },
            "header": {
             "fill": {
              "color": "#C8D4E3"
             },
             "line": {
              "color": "white"
             }
            },
            "type": "table"
           }
          ]
         },
         "layout": {
          "annotationdefaults": {
           "arrowcolor": "#2a3f5f",
           "arrowhead": 0,
           "arrowwidth": 1
          },
          "autotypenumbers": "strict",
          "coloraxis": {
           "colorbar": {
            "outlinewidth": 0,
            "ticks": ""
           }
          },
          "colorscale": {
           "diverging": [
            [
             0,
             "#8e0152"
            ],
            [
             0.1,
             "#c51b7d"
            ],
            [
             0.2,
             "#de77ae"
            ],
            [
             0.3,
             "#f1b6da"
            ],
            [
             0.4,
             "#fde0ef"
            ],
            [
             0.5,
             "#f7f7f7"
            ],
            [
             0.6,
             "#e6f5d0"
            ],
            [
             0.7,
             "#b8e186"
            ],
            [
             0.8,
             "#7fbc41"
            ],
            [
             0.9,
             "#4d9221"
            ],
            [
             1,
             "#276419"
            ]
           ],
           "sequential": [
            [
             0,
             "#0d0887"
            ],
            [
             0.1111111111111111,
             "#46039f"
            ],
            [
             0.2222222222222222,
             "#7201a8"
            ],
            [
             0.3333333333333333,
             "#9c179e"
            ],
            [
             0.4444444444444444,
             "#bd3786"
            ],
            [
             0.5555555555555556,
             "#d8576b"
            ],
            [
             0.6666666666666666,
             "#ed7953"
            ],
            [
             0.7777777777777778,
             "#fb9f3a"
            ],
            [
             0.8888888888888888,
             "#fdca26"
            ],
            [
             1,
             "#f0f921"
            ]
           ],
           "sequentialminus": [
            [
             0,
             "#0d0887"
            ],
            [
             0.1111111111111111,
             "#46039f"
            ],
            [
             0.2222222222222222,
             "#7201a8"
            ],
            [
             0.3333333333333333,
             "#9c179e"
            ],
            [
             0.4444444444444444,
             "#bd3786"
            ],
            [
             0.5555555555555556,
             "#d8576b"
            ],
            [
             0.6666666666666666,
             "#ed7953"
            ],
            [
             0.7777777777777778,
             "#fb9f3a"
            ],
            [
             0.8888888888888888,
             "#fdca26"
            ],
            [
             1,
             "#f0f921"
            ]
           ]
          },
          "colorway": [
           "#636efa",
           "#EF553B",
           "#00cc96",
           "#ab63fa",
           "#FFA15A",
           "#19d3f3",
           "#FF6692",
           "#B6E880",
           "#FF97FF",
           "#FECB52"
          ],
          "font": {
           "color": "#2a3f5f"
          },
          "geo": {
           "bgcolor": "white",
           "lakecolor": "white",
           "landcolor": "#E5ECF6",
           "showlakes": true,
           "showland": true,
           "subunitcolor": "white"
          },
          "hoverlabel": {
           "align": "left"
          },
          "hovermode": "closest",
          "mapbox": {
           "style": "light"
          },
          "paper_bgcolor": "white",
          "plot_bgcolor": "#E5ECF6",
          "polar": {
           "angularaxis": {
            "gridcolor": "white",
            "linecolor": "white",
            "ticks": ""
           },
           "bgcolor": "#E5ECF6",
           "radialaxis": {
            "gridcolor": "white",
            "linecolor": "white",
            "ticks": ""
           }
          },
          "scene": {
           "xaxis": {
            "backgroundcolor": "#E5ECF6",
            "gridcolor": "white",
            "gridwidth": 2,
            "linecolor": "white",
            "showbackground": true,
            "ticks": "",
            "zerolinecolor": "white"
           },
           "yaxis": {
            "backgroundcolor": "#E5ECF6",
            "gridcolor": "white",
            "gridwidth": 2,
            "linecolor": "white",
            "showbackground": true,
            "ticks": "",
            "zerolinecolor": "white"
           },
           "zaxis": {
            "backgroundcolor": "#E5ECF6",
            "gridcolor": "white",
            "gridwidth": 2,
            "linecolor": "white",
            "showbackground": true,
            "ticks": "",
            "zerolinecolor": "white"
           }
          },
          "shapedefaults": {
           "line": {
            "color": "#2a3f5f"
           }
          },
          "ternary": {
           "aaxis": {
            "gridcolor": "white",
            "linecolor": "white",
            "ticks": ""
           },
           "baxis": {
            "gridcolor": "white",
            "linecolor": "white",
            "ticks": ""
           },
           "bgcolor": "#E5ECF6",
           "caxis": {
            "gridcolor": "white",
            "linecolor": "white",
            "ticks": ""
           }
          },
          "title": {
           "x": 0.05
          },
          "xaxis": {
           "automargin": true,
           "gridcolor": "white",
           "linecolor": "white",
           "ticks": "",
           "title": {
            "standoff": 15
           },
           "zerolinecolor": "white",
           "zerolinewidth": 2
          },
          "yaxis": {
           "automargin": true,
           "gridcolor": "white",
           "linecolor": "white",
           "ticks": "",
           "title": {
            "standoff": 15
           },
           "zerolinecolor": "white",
           "zerolinewidth": 2
          }
         }
        },
        "title": {
         "font": {
          "color": "black",
          "size": 25
         },
         "text": "0926d empty tube 1st (washed, but still not clean)"
        },
        "width": 1000,
        "xaxis": {
         "linecolor": "black",
         "linewidth": 2,
         "mirror": true,
         "showgrid": false,
         "showline": true,
         "tickfont": {
          "color": "black",
          "size": 25
         },
         "ticks": "inside",
         "title": {
          "font": {
           "color": "black",
           "size": 25
          },
          "text": "time (min)"
         }
        },
        "yaxis": {
         "linecolor": "black",
         "linewidth": 2,
         "mirror": true,
         "showgrid": false,
         "tickfont": {
          "color": "black",
          "size": 25
         },
         "ticks": "inside",
         "title": {
          "font": {
           "color": "black",
           "size": 25
          },
          "text": "HONO or NO<sub>x</sub> concentration (ppb)"
         }
        },
        "yaxis2": {
         "anchor": "free",
         "linecolor": "black",
         "linewidth": 2,
         "overlaying": "y",
         "position": 1,
         "showticklabels": true,
         "side": "right",
         "tickfont": {
          "color": "black",
          "size": 25
         },
         "ticks": "inside",
         "title": {
          "font": {
           "color": "black",
           "size": 25
          },
          "text": ""
         }
        }
       }
      }
     },
     "metadata": {},
     "output_type": "display_data"
    }
   ],
   "source": [
    "\n",
    "df=pd.merge(pd.merge(pd.merge(df_hono_icad,df_no2_icad,on='date_time'),df_nox_t200,on='date_time'),df_rh,on='date_time')\n",
    "# df=pd.merge(pd.merge(df_hono_icad,df_no2_icad,on='date_time'),df_nox_t200,on='date_time')\n",
    "\n",
    "# correct HONO background\n",
    "print(df[df['date_time'] == '2023-09-26 15:14:00'])\n",
    "\n",
    "# df.hono=df.hono-df.hono[46:76].mean()\n",
    "time_start=401-10\n",
    "# df=df[time_start:time_start+10+41+10]\n",
    "df=df[time_start:time_start+90]\n",
    "\n",
    "x_minutes=(df['date_time'] - df['date_time'][time_start]).dt.total_seconds().div(60).astype(int)\n",
    "df['x_minutes']=x_minutes\n",
    "\n",
    "fig_1= go.Figure()\n",
    "fig_1.add_trace(go.Scatter(x= df.date_time,y=df.hono,yaxis = \"y1\",mode='markers+lines',marker_size=10,line_width=2,name=\"HONO\"))\n",
    "fig_1.add_trace(go.Scatter(x= df.date_time,y=df.no2,yaxis = \"y1\",mode='markers+lines',marker_size=10,line_width=2,name=\"NO<sub>2</sub>\"))\n",
    "fig_1.add_trace(go.Scatter(x= df.date_time,y=df.no,yaxis = \"y1\",mode='markers+lines',marker_size=10,line_width=2,name=\"NO\"))\n",
    "# fig_1.add_trace(go.Scatter(x= df.date_time,y=df.no+df.no2+df.hono,yaxis = \"y1\",mode='markers+lines',marker_size=10,line_width=2,name=\"no\"))\n",
    "fig_1.update_layout(title='0926d empty tube 1st (washed, but still not clean)',titlefont=dict(color=\"black\",size=25))\n",
    "# fig_1.update_layout( bargap=0)\n",
    "fig_1.update_layout(\n",
    "  plot_bgcolor = 'white',paper_bgcolor = 'white',autosize=False,width=1000, height=800,\n",
    "    xaxis=dict( title=\"time (min)\",titlefont=dict(color=\"black\",size=25),showline=True, mirror= True,tickfont=dict(color='black',size=25 ),linecolor=\"black\", linewidth=2,ticks='inside'),\n",
    "    yaxis=dict( title='HONO or NO<sub>x</sub> concentration (ppb)', \n",
    "              #  range=[-2,100],\n",
    "               titlefont=dict(color=\"black\",size=25),mirror= True,tickfont=dict(color='black',size=25 ),linecolor=\"black\", linewidth=2,ticks='inside'),\n",
    "    yaxis2=dict(title='',titlefont=dict(color=\"black\",size=25),tickfont=dict(color=\"black\" ,size=25),ticks='inside',anchor=\"free\",overlaying=\"y\", side=\"right\", position=1, linecolor=\"black\", linewidth=2,showticklabels = True) )\n",
    "fig_1.update_layout(legend=dict(yanchor=\"top\",y=0.9 ,xanchor=\"left\",x=0.05,  font=dict( size=25,color=\"black\")))\n",
    "fig_1.update_layout(xaxis=dict(showgrid=False),\n",
    "              yaxis=dict(showgrid=False)\n",
    ")\n",
    "\n",
    "# fig_1.add_vrect(\n",
    "#     x0=11, x1=11+32,\n",
    "#     fillcolor=\"yellow\", opacity=0.3,\n",
    "#     layer=\"below\", line_width=0,\n",
    "# )\n",
    "\n",
    "config = {'displayModeBar': True}\n",
    "\n",
    "fig_1.show(config=config)\n",
    "# fig_1.to_image('3.jpeg')\n"
   ]
  },
  {
   "cell_type": "code",
   "execution_count": 30,
   "metadata": {},
   "outputs": [
    {
     "name": "stdout",
     "output_type": "stream",
     "text": [
      "          hono           date_time     no2    no  dew_point\n",
      "506  10.124167 2023-09-26 16:59:00  33.925  3.23  15.489655\n"
     ]
    },
    {
     "data": {
      "application/vnd.plotly.v1+json": {
       "config": {
        "displayModeBar": true,
        "plotlyServerURL": "https://plot.ly"
       },
       "data": [
        {
         "line": {
          "width": 2
         },
         "marker": {
          "size": 10
         },
         "mode": "markers+lines",
         "name": "HONO",
         "type": "scatter",
         "x": [
          "2023-09-26T16:28:00",
          "2023-09-26T16:29:00",
          "2023-09-26T16:30:00",
          "2023-09-26T16:31:00",
          "2023-09-26T16:32:00",
          "2023-09-26T16:33:00",
          "2023-09-26T16:34:00",
          "2023-09-26T16:35:00",
          "2023-09-26T16:36:00",
          "2023-09-26T16:37:00",
          "2023-09-26T16:38:00",
          "2023-09-26T16:39:00",
          "2023-09-26T16:40:00",
          "2023-09-26T16:41:00",
          "2023-09-26T16:42:00",
          "2023-09-26T16:43:00",
          "2023-09-26T16:44:00",
          "2023-09-26T16:45:00",
          "2023-09-26T16:46:00",
          "2023-09-26T16:47:00",
          "2023-09-26T16:48:00",
          "2023-09-26T16:49:00",
          "2023-09-26T16:50:00",
          "2023-09-26T16:51:00",
          "2023-09-26T16:52:00",
          "2023-09-26T16:53:00",
          "2023-09-26T16:54:00",
          "2023-09-26T16:55:00",
          "2023-09-26T16:56:00",
          "2023-09-26T16:57:00",
          "2023-09-26T16:58:00",
          "2023-09-26T16:59:00",
          "2023-09-26T17:00:00",
          "2023-09-26T17:01:00",
          "2023-09-26T17:02:00",
          "2023-09-26T17:03:00",
          "2023-09-26T17:04:00",
          "2023-09-26T17:05:00",
          "2023-09-26T17:06:00"
         ],
         "y": [
          1.4353333333333333,
          1.2641666666666667,
          1.3128333333333333,
          1.2626666666666668,
          1.4251666666666667,
          1.3988333333333334,
          1.4636,
          1.2933333333333332,
          1.3351666666666666,
          1.3708333333333333,
          1.8006666666666666,
          3.6016666666666666,
          3.3821666666666665,
          3.1428333333333334,
          3.1063333333333336,
          3.0726666666666667,
          3.7449999999999997,
          4.668333333333334,
          5.878833333333333,
          7.6952,
          10.269666666666666,
          13.353,
          17.514166666666664,
          19.38116666666667,
          14.527000000000001,
          12.598833333333333,
          11.854833333333334,
          11.457500000000001,
          11.344500000000002,
          10.987833333333333,
          10.863833333333332,
          10.124166666666667,
          2.3664,
          1.5679999999999998,
          1.5445,
          1.5090000000000001,
          1.4665,
          1.489,
          2.3503333333333334
         ],
         "yaxis": "y"
        },
        {
         "line": {
          "width": 2
         },
         "marker": {
          "size": 10
         },
         "mode": "markers+lines",
         "name": "NO<sub>2</sub>",
         "type": "scatter",
         "x": [
          "2023-09-26T16:28:00",
          "2023-09-26T16:29:00",
          "2023-09-26T16:30:00",
          "2023-09-26T16:31:00",
          "2023-09-26T16:32:00",
          "2023-09-26T16:33:00",
          "2023-09-26T16:34:00",
          "2023-09-26T16:35:00",
          "2023-09-26T16:36:00",
          "2023-09-26T16:37:00",
          "2023-09-26T16:38:00",
          "2023-09-26T16:39:00",
          "2023-09-26T16:40:00",
          "2023-09-26T16:41:00",
          "2023-09-26T16:42:00",
          "2023-09-26T16:43:00",
          "2023-09-26T16:44:00",
          "2023-09-26T16:45:00",
          "2023-09-26T16:46:00",
          "2023-09-26T16:47:00",
          "2023-09-26T16:48:00",
          "2023-09-26T16:49:00",
          "2023-09-26T16:50:00",
          "2023-09-26T16:51:00",
          "2023-09-26T16:52:00",
          "2023-09-26T16:53:00",
          "2023-09-26T16:54:00",
          "2023-09-26T16:55:00",
          "2023-09-26T16:56:00",
          "2023-09-26T16:57:00",
          "2023-09-26T16:58:00",
          "2023-09-26T16:59:00",
          "2023-09-26T17:00:00",
          "2023-09-26T17:01:00",
          "2023-09-26T17:02:00",
          "2023-09-26T17:03:00",
          "2023-09-26T17:04:00",
          "2023-09-26T17:05:00",
          "2023-09-26T17:06:00"
         ],
         "y": [
          45.238499999999995,
          45.46267857142857,
          45.5104,
          45.55533333333333,
          45.50933333333333,
          45.45016666666667,
          45.41433333333333,
          45.546,
          45.71666666666667,
          45.8585,
          45.81283333333334,
          46.14966666666667,
          39.821999999999996,
          39.193333333333335,
          39.43616666666667,
          39.80983333333334,
          40.10433333333334,
          35.464666666666666,
          34.262166666666666,
          33.714,
          32.86329411764706,
          32.691625,
          32.99166666666667,
          32.926833333333335,
          32.755500000000005,
          32.943666666666665,
          33.2935,
          33.69566666666667,
          33.9228,
          34.236000000000004,
          null,
          33.925,
          39.69883333333333,
          46.423,
          46.58266666666666,
          46.54533333333333,
          46.574799999999996,
          46.538666666666664,
          46.25300000000001
         ],
         "yaxis": "y"
        },
        {
         "line": {
          "width": 2
         },
         "marker": {
          "size": 10
         },
         "mode": "markers+lines",
         "name": "NO",
         "type": "scatter",
         "x": [
          "2023-09-26T16:28:00",
          "2023-09-26T16:29:00",
          "2023-09-26T16:30:00",
          "2023-09-26T16:31:00",
          "2023-09-26T16:32:00",
          "2023-09-26T16:33:00",
          "2023-09-26T16:34:00",
          "2023-09-26T16:35:00",
          "2023-09-26T16:36:00",
          "2023-09-26T16:37:00",
          "2023-09-26T16:38:00",
          "2023-09-26T16:39:00",
          "2023-09-26T16:40:00",
          "2023-09-26T16:41:00",
          "2023-09-26T16:42:00",
          "2023-09-26T16:43:00",
          "2023-09-26T16:44:00",
          "2023-09-26T16:45:00",
          "2023-09-26T16:46:00",
          "2023-09-26T16:47:00",
          "2023-09-26T16:48:00",
          "2023-09-26T16:49:00",
          "2023-09-26T16:50:00",
          "2023-09-26T16:51:00",
          "2023-09-26T16:52:00",
          "2023-09-26T16:53:00",
          "2023-09-26T16:54:00",
          "2023-09-26T16:55:00",
          "2023-09-26T16:56:00",
          "2023-09-26T16:57:00",
          "2023-09-26T16:58:00",
          "2023-09-26T16:59:00",
          "2023-09-26T17:00:00",
          "2023-09-26T17:01:00",
          "2023-09-26T17:02:00",
          "2023-09-26T17:03:00",
          "2023-09-26T17:04:00",
          "2023-09-26T17:05:00",
          "2023-09-26T17:06:00"
         ],
         "y": [
          2.9,
          2.98,
          3,
          3.1550000000000002,
          3.1550000000000002,
          3.045,
          3.0900000000000003,
          3.06,
          2.975,
          3,
          2.9473684210526314,
          3.2700000000000005,
          3.72,
          4.08,
          4.405,
          4.779999999999999,
          5.075,
          5.24,
          5.2700000000000005,
          4.99,
          4.695,
          4.525,
          4.25,
          4.06,
          3.8449999999999998,
          3.78,
          3.621052631578947,
          3.6300000000000003,
          3.4850000000000003,
          3.4,
          3.325,
          3.2299999999999995,
          3.215,
          3.2,
          3.1100000000000003,
          3.02,
          2.94,
          2.86,
          2.815
         ],
         "yaxis": "y"
        }
       ],
       "layout": {
        "autosize": false,
        "height": 800,
        "legend": {
         "font": {
          "color": "black",
          "size": 25
         },
         "x": 0.05,
         "xanchor": "left",
         "y": 0.9,
         "yanchor": "top"
        },
        "paper_bgcolor": "white",
        "plot_bgcolor": "white",
        "template": {
         "data": {
          "bar": [
           {
            "error_x": {
             "color": "#2a3f5f"
            },
            "error_y": {
             "color": "#2a3f5f"
            },
            "marker": {
             "line": {
              "color": "#E5ECF6",
              "width": 0.5
             },
             "pattern": {
              "fillmode": "overlay",
              "size": 10,
              "solidity": 0.2
             }
            },
            "type": "bar"
           }
          ],
          "barpolar": [
           {
            "marker": {
             "line": {
              "color": "#E5ECF6",
              "width": 0.5
             },
             "pattern": {
              "fillmode": "overlay",
              "size": 10,
              "solidity": 0.2
             }
            },
            "type": "barpolar"
           }
          ],
          "carpet": [
           {
            "aaxis": {
             "endlinecolor": "#2a3f5f",
             "gridcolor": "white",
             "linecolor": "white",
             "minorgridcolor": "white",
             "startlinecolor": "#2a3f5f"
            },
            "baxis": {
             "endlinecolor": "#2a3f5f",
             "gridcolor": "white",
             "linecolor": "white",
             "minorgridcolor": "white",
             "startlinecolor": "#2a3f5f"
            },
            "type": "carpet"
           }
          ],
          "choropleth": [
           {
            "colorbar": {
             "outlinewidth": 0,
             "ticks": ""
            },
            "type": "choropleth"
           }
          ],
          "contour": [
           {
            "colorbar": {
             "outlinewidth": 0,
             "ticks": ""
            },
            "colorscale": [
             [
              0,
              "#0d0887"
             ],
             [
              0.1111111111111111,
              "#46039f"
             ],
             [
              0.2222222222222222,
              "#7201a8"
             ],
             [
              0.3333333333333333,
              "#9c179e"
             ],
             [
              0.4444444444444444,
              "#bd3786"
             ],
             [
              0.5555555555555556,
              "#d8576b"
             ],
             [
              0.6666666666666666,
              "#ed7953"
             ],
             [
              0.7777777777777778,
              "#fb9f3a"
             ],
             [
              0.8888888888888888,
              "#fdca26"
             ],
             [
              1,
              "#f0f921"
             ]
            ],
            "type": "contour"
           }
          ],
          "contourcarpet": [
           {
            "colorbar": {
             "outlinewidth": 0,
             "ticks": ""
            },
            "type": "contourcarpet"
           }
          ],
          "heatmap": [
           {
            "colorbar": {
             "outlinewidth": 0,
             "ticks": ""
            },
            "colorscale": [
             [
              0,
              "#0d0887"
             ],
             [
              0.1111111111111111,
              "#46039f"
             ],
             [
              0.2222222222222222,
              "#7201a8"
             ],
             [
              0.3333333333333333,
              "#9c179e"
             ],
             [
              0.4444444444444444,
              "#bd3786"
             ],
             [
              0.5555555555555556,
              "#d8576b"
             ],
             [
              0.6666666666666666,
              "#ed7953"
             ],
             [
              0.7777777777777778,
              "#fb9f3a"
             ],
             [
              0.8888888888888888,
              "#fdca26"
             ],
             [
              1,
              "#f0f921"
             ]
            ],
            "type": "heatmap"
           }
          ],
          "heatmapgl": [
           {
            "colorbar": {
             "outlinewidth": 0,
             "ticks": ""
            },
            "colorscale": [
             [
              0,
              "#0d0887"
             ],
             [
              0.1111111111111111,
              "#46039f"
             ],
             [
              0.2222222222222222,
              "#7201a8"
             ],
             [
              0.3333333333333333,
              "#9c179e"
             ],
             [
              0.4444444444444444,
              "#bd3786"
             ],
             [
              0.5555555555555556,
              "#d8576b"
             ],
             [
              0.6666666666666666,
              "#ed7953"
             ],
             [
              0.7777777777777778,
              "#fb9f3a"
             ],
             [
              0.8888888888888888,
              "#fdca26"
             ],
             [
              1,
              "#f0f921"
             ]
            ],
            "type": "heatmapgl"
           }
          ],
          "histogram": [
           {
            "marker": {
             "pattern": {
              "fillmode": "overlay",
              "size": 10,
              "solidity": 0.2
             }
            },
            "type": "histogram"
           }
          ],
          "histogram2d": [
           {
            "colorbar": {
             "outlinewidth": 0,
             "ticks": ""
            },
            "colorscale": [
             [
              0,
              "#0d0887"
             ],
             [
              0.1111111111111111,
              "#46039f"
             ],
             [
              0.2222222222222222,
              "#7201a8"
             ],
             [
              0.3333333333333333,
              "#9c179e"
             ],
             [
              0.4444444444444444,
              "#bd3786"
             ],
             [
              0.5555555555555556,
              "#d8576b"
             ],
             [
              0.6666666666666666,
              "#ed7953"
             ],
             [
              0.7777777777777778,
              "#fb9f3a"
             ],
             [
              0.8888888888888888,
              "#fdca26"
             ],
             [
              1,
              "#f0f921"
             ]
            ],
            "type": "histogram2d"
           }
          ],
          "histogram2dcontour": [
           {
            "colorbar": {
             "outlinewidth": 0,
             "ticks": ""
            },
            "colorscale": [
             [
              0,
              "#0d0887"
             ],
             [
              0.1111111111111111,
              "#46039f"
             ],
             [
              0.2222222222222222,
              "#7201a8"
             ],
             [
              0.3333333333333333,
              "#9c179e"
             ],
             [
              0.4444444444444444,
              "#bd3786"
             ],
             [
              0.5555555555555556,
              "#d8576b"
             ],
             [
              0.6666666666666666,
              "#ed7953"
             ],
             [
              0.7777777777777778,
              "#fb9f3a"
             ],
             [
              0.8888888888888888,
              "#fdca26"
             ],
             [
              1,
              "#f0f921"
             ]
            ],
            "type": "histogram2dcontour"
           }
          ],
          "mesh3d": [
           {
            "colorbar": {
             "outlinewidth": 0,
             "ticks": ""
            },
            "type": "mesh3d"
           }
          ],
          "parcoords": [
           {
            "line": {
             "colorbar": {
              "outlinewidth": 0,
              "ticks": ""
             }
            },
            "type": "parcoords"
           }
          ],
          "pie": [
           {
            "automargin": true,
            "type": "pie"
           }
          ],
          "scatter": [
           {
            "fillpattern": {
             "fillmode": "overlay",
             "size": 10,
             "solidity": 0.2
            },
            "type": "scatter"
           }
          ],
          "scatter3d": [
           {
            "line": {
             "colorbar": {
              "outlinewidth": 0,
              "ticks": ""
             }
            },
            "marker": {
             "colorbar": {
              "outlinewidth": 0,
              "ticks": ""
             }
            },
            "type": "scatter3d"
           }
          ],
          "scattercarpet": [
           {
            "marker": {
             "colorbar": {
              "outlinewidth": 0,
              "ticks": ""
             }
            },
            "type": "scattercarpet"
           }
          ],
          "scattergeo": [
           {
            "marker": {
             "colorbar": {
              "outlinewidth": 0,
              "ticks": ""
             }
            },
            "type": "scattergeo"
           }
          ],
          "scattergl": [
           {
            "marker": {
             "colorbar": {
              "outlinewidth": 0,
              "ticks": ""
             }
            },
            "type": "scattergl"
           }
          ],
          "scattermapbox": [
           {
            "marker": {
             "colorbar": {
              "outlinewidth": 0,
              "ticks": ""
             }
            },
            "type": "scattermapbox"
           }
          ],
          "scatterpolar": [
           {
            "marker": {
             "colorbar": {
              "outlinewidth": 0,
              "ticks": ""
             }
            },
            "type": "scatterpolar"
           }
          ],
          "scatterpolargl": [
           {
            "marker": {
             "colorbar": {
              "outlinewidth": 0,
              "ticks": ""
             }
            },
            "type": "scatterpolargl"
           }
          ],
          "scatterternary": [
           {
            "marker": {
             "colorbar": {
              "outlinewidth": 0,
              "ticks": ""
             }
            },
            "type": "scatterternary"
           }
          ],
          "surface": [
           {
            "colorbar": {
             "outlinewidth": 0,
             "ticks": ""
            },
            "colorscale": [
             [
              0,
              "#0d0887"
             ],
             [
              0.1111111111111111,
              "#46039f"
             ],
             [
              0.2222222222222222,
              "#7201a8"
             ],
             [
              0.3333333333333333,
              "#9c179e"
             ],
             [
              0.4444444444444444,
              "#bd3786"
             ],
             [
              0.5555555555555556,
              "#d8576b"
             ],
             [
              0.6666666666666666,
              "#ed7953"
             ],
             [
              0.7777777777777778,
              "#fb9f3a"
             ],
             [
              0.8888888888888888,
              "#fdca26"
             ],
             [
              1,
              "#f0f921"
             ]
            ],
            "type": "surface"
           }
          ],
          "table": [
           {
            "cells": {
             "fill": {
              "color": "#EBF0F8"
             },
             "line": {
              "color": "white"
             }
            },
            "header": {
             "fill": {
              "color": "#C8D4E3"
             },
             "line": {
              "color": "white"
             }
            },
            "type": "table"
           }
          ]
         },
         "layout": {
          "annotationdefaults": {
           "arrowcolor": "#2a3f5f",
           "arrowhead": 0,
           "arrowwidth": 1
          },
          "autotypenumbers": "strict",
          "coloraxis": {
           "colorbar": {
            "outlinewidth": 0,
            "ticks": ""
           }
          },
          "colorscale": {
           "diverging": [
            [
             0,
             "#8e0152"
            ],
            [
             0.1,
             "#c51b7d"
            ],
            [
             0.2,
             "#de77ae"
            ],
            [
             0.3,
             "#f1b6da"
            ],
            [
             0.4,
             "#fde0ef"
            ],
            [
             0.5,
             "#f7f7f7"
            ],
            [
             0.6,
             "#e6f5d0"
            ],
            [
             0.7,
             "#b8e186"
            ],
            [
             0.8,
             "#7fbc41"
            ],
            [
             0.9,
             "#4d9221"
            ],
            [
             1,
             "#276419"
            ]
           ],
           "sequential": [
            [
             0,
             "#0d0887"
            ],
            [
             0.1111111111111111,
             "#46039f"
            ],
            [
             0.2222222222222222,
             "#7201a8"
            ],
            [
             0.3333333333333333,
             "#9c179e"
            ],
            [
             0.4444444444444444,
             "#bd3786"
            ],
            [
             0.5555555555555556,
             "#d8576b"
            ],
            [
             0.6666666666666666,
             "#ed7953"
            ],
            [
             0.7777777777777778,
             "#fb9f3a"
            ],
            [
             0.8888888888888888,
             "#fdca26"
            ],
            [
             1,
             "#f0f921"
            ]
           ],
           "sequentialminus": [
            [
             0,
             "#0d0887"
            ],
            [
             0.1111111111111111,
             "#46039f"
            ],
            [
             0.2222222222222222,
             "#7201a8"
            ],
            [
             0.3333333333333333,
             "#9c179e"
            ],
            [
             0.4444444444444444,
             "#bd3786"
            ],
            [
             0.5555555555555556,
             "#d8576b"
            ],
            [
             0.6666666666666666,
             "#ed7953"
            ],
            [
             0.7777777777777778,
             "#fb9f3a"
            ],
            [
             0.8888888888888888,
             "#fdca26"
            ],
            [
             1,
             "#f0f921"
            ]
           ]
          },
          "colorway": [
           "#636efa",
           "#EF553B",
           "#00cc96",
           "#ab63fa",
           "#FFA15A",
           "#19d3f3",
           "#FF6692",
           "#B6E880",
           "#FF97FF",
           "#FECB52"
          ],
          "font": {
           "color": "#2a3f5f"
          },
          "geo": {
           "bgcolor": "white",
           "lakecolor": "white",
           "landcolor": "#E5ECF6",
           "showlakes": true,
           "showland": true,
           "subunitcolor": "white"
          },
          "hoverlabel": {
           "align": "left"
          },
          "hovermode": "closest",
          "mapbox": {
           "style": "light"
          },
          "paper_bgcolor": "white",
          "plot_bgcolor": "#E5ECF6",
          "polar": {
           "angularaxis": {
            "gridcolor": "white",
            "linecolor": "white",
            "ticks": ""
           },
           "bgcolor": "#E5ECF6",
           "radialaxis": {
            "gridcolor": "white",
            "linecolor": "white",
            "ticks": ""
           }
          },
          "scene": {
           "xaxis": {
            "backgroundcolor": "#E5ECF6",
            "gridcolor": "white",
            "gridwidth": 2,
            "linecolor": "white",
            "showbackground": true,
            "ticks": "",
            "zerolinecolor": "white"
           },
           "yaxis": {
            "backgroundcolor": "#E5ECF6",
            "gridcolor": "white",
            "gridwidth": 2,
            "linecolor": "white",
            "showbackground": true,
            "ticks": "",
            "zerolinecolor": "white"
           },
           "zaxis": {
            "backgroundcolor": "#E5ECF6",
            "gridcolor": "white",
            "gridwidth": 2,
            "linecolor": "white",
            "showbackground": true,
            "ticks": "",
            "zerolinecolor": "white"
           }
          },
          "shapedefaults": {
           "line": {
            "color": "#2a3f5f"
           }
          },
          "ternary": {
           "aaxis": {
            "gridcolor": "white",
            "linecolor": "white",
            "ticks": ""
           },
           "baxis": {
            "gridcolor": "white",
            "linecolor": "white",
            "ticks": ""
           },
           "bgcolor": "#E5ECF6",
           "caxis": {
            "gridcolor": "white",
            "linecolor": "white",
            "ticks": ""
           }
          },
          "title": {
           "x": 0.05
          },
          "xaxis": {
           "automargin": true,
           "gridcolor": "white",
           "linecolor": "white",
           "ticks": "",
           "title": {
            "standoff": 15
           },
           "zerolinecolor": "white",
           "zerolinewidth": 2
          },
          "yaxis": {
           "automargin": true,
           "gridcolor": "white",
           "linecolor": "white",
           "ticks": "",
           "title": {
            "standoff": 15
           },
           "zerolinecolor": "white",
           "zerolinewidth": 2
          }
         }
        },
        "title": {
         "font": {
          "color": "black",
          "size": 25
         },
         "text": "0926d empty tube 2nd (washed completely)"
        },
        "width": 1000,
        "xaxis": {
         "linecolor": "black",
         "linewidth": 2,
         "mirror": true,
         "showgrid": false,
         "showline": true,
         "tickfont": {
          "color": "black",
          "size": 25
         },
         "ticks": "inside",
         "title": {
          "font": {
           "color": "black",
           "size": 25
          },
          "text": "time (min)"
         }
        },
        "yaxis": {
         "linecolor": "black",
         "linewidth": 2,
         "mirror": true,
         "showgrid": false,
         "tickfont": {
          "color": "black",
          "size": 25
         },
         "ticks": "inside",
         "title": {
          "font": {
           "color": "black",
           "size": 25
          },
          "text": "HONO or NO<sub>x</sub> concentration (ppb)"
         }
        },
        "yaxis2": {
         "anchor": "free",
         "linecolor": "black",
         "linewidth": 2,
         "overlaying": "y",
         "position": 1,
         "showticklabels": true,
         "side": "right",
         "tickfont": {
          "color": "black",
          "size": 25
         },
         "ticks": "inside",
         "title": {
          "font": {
           "color": "black",
           "size": 25
          },
          "text": ""
         }
        }
       }
      }
     },
     "metadata": {},
     "output_type": "display_data"
    }
   ],
   "source": [
    "\n",
    "df=pd.merge(pd.merge(pd.merge(df_hono_icad,df_no2_icad,on='date_time'),df_nox_t200,on='date_time'),df_rh,on='date_time')\n",
    "# df=pd.merge(pd.merge(df_hono_icad,df_no2_icad,on='date_time'),df_nox_t200,on='date_time')\n",
    "\n",
    "# correct HONO background\n",
    "print(df[df['date_time'] == '2023-09-26 16:59:00'])\n",
    "\n",
    "# df.hono=df.hono-df.hono[46:76].mean()\n",
    "time_start=485-10\n",
    "# df=df[time_start:time_start+10+41+10]\n",
    "df=df[time_start:time_start+39]\n",
    "\n",
    "x_minutes=(df['date_time'] - df['date_time'][time_start]).dt.total_seconds().div(60).astype(int)\n",
    "df['x_minutes']=x_minutes\n",
    "\n",
    "fig_1= go.Figure()\n",
    "fig_1.add_trace(go.Scatter(x= df.date_time,y=df.hono,yaxis = \"y1\",mode='markers+lines',marker_size=10,line_width=2,name=\"HONO\"))\n",
    "fig_1.add_trace(go.Scatter(x= df.date_time,y=df.no2,yaxis = \"y1\",mode='markers+lines',marker_size=10,line_width=2,name=\"NO<sub>2</sub>\"))\n",
    "fig_1.add_trace(go.Scatter(x= df.date_time,y=df.no,yaxis = \"y1\",mode='markers+lines',marker_size=10,line_width=2,name=\"NO\"))\n",
    "# fig_1.add_trace(go.Scatter(x= df.date_time,y=df.no+df.no2+df.hono,yaxis = \"y1\",mode='markers+lines',marker_size=10,line_width=2,name=\"no\"))\n",
    "fig_1.update_layout(title='0926d empty tube 2nd (washed completely)',titlefont=dict(color=\"black\",size=25))\n",
    "# fig_1.update_layout( bargap=0)\n",
    "fig_1.update_layout(\n",
    "  plot_bgcolor = 'white',paper_bgcolor = 'white',autosize=False,width=1000, height=800,\n",
    "    xaxis=dict( title=\"time (min)\",titlefont=dict(color=\"black\",size=25),showline=True, mirror= True,tickfont=dict(color='black',size=25 ),linecolor=\"black\", linewidth=2,ticks='inside'),\n",
    "    yaxis=dict( title='HONO or NO<sub>x</sub> concentration (ppb)', \n",
    "              #  range=[-2,100],\n",
    "               titlefont=dict(color=\"black\",size=25),mirror= True,tickfont=dict(color='black',size=25 ),linecolor=\"black\", linewidth=2,ticks='inside'),\n",
    "    yaxis2=dict(title='',titlefont=dict(color=\"black\",size=25),tickfont=dict(color=\"black\" ,size=25),ticks='inside',anchor=\"free\",overlaying=\"y\", side=\"right\", position=1, linecolor=\"black\", linewidth=2,showticklabels = True) )\n",
    "fig_1.update_layout(legend=dict(yanchor=\"top\",y=0.9 ,xanchor=\"left\",x=0.05,  font=dict( size=25,color=\"black\")))\n",
    "fig_1.update_layout(xaxis=dict(showgrid=False),\n",
    "              yaxis=dict(showgrid=False)\n",
    ")\n",
    "\n",
    "# fig_1.add_vrect(\n",
    "#     x0=11, x1=11+32,\n",
    "#     fillcolor=\"yellow\", opacity=0.3,\n",
    "#     layer=\"below\", line_width=0,\n",
    "# )\n",
    "\n",
    "config = {'displayModeBar': True}\n",
    "\n",
    "fig_1.show(config=config)\n",
    "# fig_1.to_image('3.jpeg')\n"
   ]
  },
  {
   "cell_type": "code",
   "execution_count": 138,
   "metadata": {},
   "outputs": [
    {
     "name": "stdout",
     "output_type": "stream",
     "text": [
      "         hono           date_time     no2\n",
      "963  3.001833 2023-09-26 18:04:00  46.411\n"
     ]
    },
    {
     "data": {
      "application/vnd.plotly.v1+json": {
       "config": {
        "displayModeBar": true,
        "plotlyServerURL": "https://plot.ly"
       },
       "data": [
        {
         "line": {
          "width": 2
         },
         "marker": {
          "size": 10
         },
         "mode": "markers+lines",
         "name": "HONO",
         "type": "scatter",
         "x": [
          0,
          1,
          2,
          3,
          4,
          5,
          6,
          7,
          8,
          9,
          10,
          11,
          12,
          13,
          14,
          15,
          16,
          17,
          18,
          19,
          20,
          21,
          22,
          23,
          24,
          25,
          26,
          27,
          28,
          29,
          30,
          31,
          32,
          33,
          34,
          35,
          36,
          37,
          38,
          39,
          40,
          41,
          42,
          43,
          44,
          45,
          46,
          47,
          48,
          49,
          50,
          51,
          52,
          53,
          54
         ],
         "y": [
          0.06799999999999984,
          0.044499999999999984,
          0.009000000000000119,
          -0.033500000000000085,
          -0.010999999999999899,
          0.8503333333333334,
          2.170666666666667,
          2.5708333333333337,
          3.1318333333333337,
          3.3501666666666665,
          3.6265,
          3.9364999999999997,
          5.271,
          5.402799999999999,
          4.9575,
          4.8145,
          6.563666666666666,
          8.273666666666665,
          6.397666666666667,
          6.0296666666666665,
          6.134833333333333,
          6.536333333333333,
          6.6274999999999995,
          7.1845,
          7.472833333333334,
          8.071666666666667,
          8.346599999999999,
          8.582166666666666,
          8.877833333333333,
          9.264000000000001,
          9.586166666666665,
          10.072833333333334,
          10.352833333333335,
          10.686333333333332,
          11.069166666666668,
          11.256333333333332,
          11.320166666666665,
          3.1196666666666664,
          1.7799999999999998,
          1.6303333333333332,
          1.3356000000000003,
          1.3925,
          -0.889,
          null,
          null,
          0.7007499999999998,
          0.6969999999999996,
          0.6989999999999998,
          0.36316666666666664,
          -0.07883333333333309,
          -0.15050000000000008,
          -0.14683333333333337,
          -0.02983333333333338,
          -0.08660000000000001,
          -0.03599999999999981
         ],
         "yaxis": "y"
        },
        {
         "line": {
          "width": 2
         },
         "marker": {
          "size": 10
         },
         "mode": "markers+lines",
         "name": "NO<sub>2</sub>",
         "type": "scatter",
         "x": [
          0,
          1,
          2,
          3,
          4,
          5,
          6,
          7,
          8,
          9,
          10,
          11,
          12,
          13,
          14,
          15,
          16,
          17,
          18,
          19,
          20,
          21,
          22,
          23,
          24,
          25,
          26,
          27,
          28,
          29,
          30,
          31,
          32,
          33,
          34,
          35,
          36,
          37,
          38,
          39,
          40,
          41,
          42,
          43,
          44,
          45,
          46,
          47,
          48,
          49,
          50,
          51,
          52,
          53,
          54
         ],
         "y": [
          46.423,
          46.58266666666666,
          46.54533333333333,
          46.574799999999996,
          46.538666666666664,
          46.25300000000001,
          41.3985,
          39.84916666666667,
          40.366,
          40.98116666666667,
          41.45583333333334,
          41.782799999999995,
          40.811166666666665,
          40.888,
          40.79666666666667,
          40.83883333333333,
          40.69866666666667,
          40.440333333333335,
          40.1846,
          39.954166666666666,
          39.6225,
          39.26416666666667,
          39.124,
          38.844166666666666,
          38.41516666666667,
          37.95,
          37.494499999999995,
          37.036833333333334,
          36.74633333333333,
          36.618500000000004,
          36.402833333333334,
          36.032333333333334,
          35.7165,
          35.34166666666667,
          34.9685,
          34.693666666666665,
          34.519800000000004,
          37.386,
          46.10583333333333,
          46.58883333333333,
          46.60783333333333,
          46.619166666666665,
          46.609833333333334,
          46.681666666666665,
          46.79516666666667,
          47.18067857142857,
          47.2756,
          47.24994117647059,
          47.19870588235295,
          48.451166666666666,
          47.95249999999999,
          47.967166666666664,
          48.11983333333333,
          48.2915,
          48.30983333333333
         ],
         "yaxis": "y"
        },
        {
         "line": {
          "width": 2
         },
         "marker": {
          "size": 10
         },
         "mode": "markers+lines",
         "name": "△NO<sub>2</sub>",
         "type": "scatter",
         "x": [
          0,
          1,
          2,
          3,
          4,
          5,
          6,
          7,
          8,
          9,
          10,
          11,
          12,
          13,
          14,
          15,
          16,
          17,
          18,
          19,
          20,
          21,
          22,
          23,
          24,
          25,
          26,
          27,
          28,
          29,
          30,
          31,
          32,
          33,
          34,
          35,
          36,
          37,
          38,
          39,
          40,
          41,
          42,
          43,
          44,
          45,
          46,
          47,
          48,
          49,
          50,
          51,
          52,
          53,
          54
         ],
         "y": [
          -0.02300000000000324,
          -0.18266666666666254,
          -0.14533333333333331,
          -0.17479999999999762,
          -0.1386666666666656,
          0.14699999999999136,
          5.0015,
          6.55083333333333,
          6.033999999999999,
          5.418833333333332,
          4.944166666666661,
          4.617200000000004,
          5.5888333333333335,
          5.5120000000000005,
          5.603333333333332,
          5.561166666666665,
          5.701333333333331,
          5.959666666666664,
          6.215399999999995,
          6.445833333333333,
          6.777499999999996,
          7.135833333333331,
          7.275999999999996,
          7.555833333333332,
          7.984833333333327,
          8.449999999999996,
          8.905500000000004,
          9.363166666666665,
          9.653666666666666,
          9.781499999999994,
          9.997166666666665,
          10.367666666666665,
          10.683499999999995,
          11.05833333333333,
          11.4315,
          11.706333333333333,
          11.880199999999995,
          9.013999999999996,
          0.29416666666666913,
          -0.18883333333333496,
          -0.20783333333333331,
          -0.2191666666666663,
          -0.20983333333333576,
          -0.2816666666666663,
          -0.3951666666666682,
          -0.7806785714285738,
          -0.8755999999999986,
          -0.849941176470594,
          -0.798705882352948,
          -2.051166666666667,
          -1.5524999999999949,
          -1.5671666666666653,
          -1.7198333333333338,
          -1.8915000000000006,
          -1.9098333333333315
         ],
         "yaxis": "y"
        }
       ],
       "layout": {
        "annotations": [
         {
          "font": {
           "size": 14
          },
          "showarrow": false,
          "text": "cwft in line",
          "x": 8,
          "xanchor": "center",
          "xref": "x",
          "y": 1,
          "yanchor": "top",
          "yref": "y domain"
         },
         {
          "font": {
           "size": 14
          },
          "showarrow": false,
          "text": "UV-A lights on",
          "x": 23.5,
          "xanchor": "center",
          "xref": "x",
          "y": 1,
          "yanchor": "top",
          "yref": "y domain"
         },
         {
          "font": {
           "size": 14
          },
          "showarrow": false,
          "text": "UV-A lights off",
          "x": 42,
          "xanchor": "center",
          "xref": "x",
          "y": 1,
          "yanchor": "top",
          "yref": "y domain"
         },
         {
          "font": {
           "size": 14
          },
          "showarrow": false,
          "text": "bypass",
          "x": 51,
          "xanchor": "center",
          "xref": "x",
          "y": 1,
          "yanchor": "top",
          "yref": "y domain"
         }
        ],
        "autosize": false,
        "height": 800,
        "legend": {
         "font": {
          "color": "black",
          "size": 25
         },
         "x": 0.85,
         "xanchor": "left",
         "y": 0.6,
         "yanchor": "top"
        },
        "paper_bgcolor": "white",
        "plot_bgcolor": "white",
        "shapes": [
         {
          "fillcolor": "grey",
          "layer": "below",
          "line": {
           "width": 0
          },
          "opacity": 0.3,
          "type": "rect",
          "x0": 5,
          "x1": 11,
          "xref": "x",
          "y0": 0,
          "y1": 1,
          "yref": "y domain"
         },
         {
          "fillcolor": "yellow",
          "layer": "below",
          "line": {
           "width": 0
          },
          "opacity": 0.3,
          "type": "rect",
          "x0": 11,
          "x1": 36,
          "xref": "x",
          "y0": 0,
          "y1": 1,
          "yref": "y domain"
         },
         {
          "fillcolor": "grey",
          "layer": "below",
          "line": {
           "width": 0
          },
          "opacity": 0.3,
          "type": "rect",
          "x0": 36,
          "x1": 48,
          "xref": "x",
          "y0": 0,
          "y1": 1,
          "yref": "y domain"
         },
         {
          "fillcolor": "white",
          "layer": "below",
          "line": {
           "width": 0
          },
          "opacity": 0.3,
          "type": "rect",
          "x0": 49,
          "x1": 53,
          "xref": "x",
          "y0": 0,
          "y1": 1,
          "yref": "y domain"
         }
        ],
        "template": {
         "data": {
          "bar": [
           {
            "error_x": {
             "color": "#2a3f5f"
            },
            "error_y": {
             "color": "#2a3f5f"
            },
            "marker": {
             "line": {
              "color": "#E5ECF6",
              "width": 0.5
             },
             "pattern": {
              "fillmode": "overlay",
              "size": 10,
              "solidity": 0.2
             }
            },
            "type": "bar"
           }
          ],
          "barpolar": [
           {
            "marker": {
             "line": {
              "color": "#E5ECF6",
              "width": 0.5
             },
             "pattern": {
              "fillmode": "overlay",
              "size": 10,
              "solidity": 0.2
             }
            },
            "type": "barpolar"
           }
          ],
          "carpet": [
           {
            "aaxis": {
             "endlinecolor": "#2a3f5f",
             "gridcolor": "white",
             "linecolor": "white",
             "minorgridcolor": "white",
             "startlinecolor": "#2a3f5f"
            },
            "baxis": {
             "endlinecolor": "#2a3f5f",
             "gridcolor": "white",
             "linecolor": "white",
             "minorgridcolor": "white",
             "startlinecolor": "#2a3f5f"
            },
            "type": "carpet"
           }
          ],
          "choropleth": [
           {
            "colorbar": {
             "outlinewidth": 0,
             "ticks": ""
            },
            "type": "choropleth"
           }
          ],
          "contour": [
           {
            "colorbar": {
             "outlinewidth": 0,
             "ticks": ""
            },
            "colorscale": [
             [
              0,
              "#0d0887"
             ],
             [
              0.1111111111111111,
              "#46039f"
             ],
             [
              0.2222222222222222,
              "#7201a8"
             ],
             [
              0.3333333333333333,
              "#9c179e"
             ],
             [
              0.4444444444444444,
              "#bd3786"
             ],
             [
              0.5555555555555556,
              "#d8576b"
             ],
             [
              0.6666666666666666,
              "#ed7953"
             ],
             [
              0.7777777777777778,
              "#fb9f3a"
             ],
             [
              0.8888888888888888,
              "#fdca26"
             ],
             [
              1,
              "#f0f921"
             ]
            ],
            "type": "contour"
           }
          ],
          "contourcarpet": [
           {
            "colorbar": {
             "outlinewidth": 0,
             "ticks": ""
            },
            "type": "contourcarpet"
           }
          ],
          "heatmap": [
           {
            "colorbar": {
             "outlinewidth": 0,
             "ticks": ""
            },
            "colorscale": [
             [
              0,
              "#0d0887"
             ],
             [
              0.1111111111111111,
              "#46039f"
             ],
             [
              0.2222222222222222,
              "#7201a8"
             ],
             [
              0.3333333333333333,
              "#9c179e"
             ],
             [
              0.4444444444444444,
              "#bd3786"
             ],
             [
              0.5555555555555556,
              "#d8576b"
             ],
             [
              0.6666666666666666,
              "#ed7953"
             ],
             [
              0.7777777777777778,
              "#fb9f3a"
             ],
             [
              0.8888888888888888,
              "#fdca26"
             ],
             [
              1,
              "#f0f921"
             ]
            ],
            "type": "heatmap"
           }
          ],
          "heatmapgl": [
           {
            "colorbar": {
             "outlinewidth": 0,
             "ticks": ""
            },
            "colorscale": [
             [
              0,
              "#0d0887"
             ],
             [
              0.1111111111111111,
              "#46039f"
             ],
             [
              0.2222222222222222,
              "#7201a8"
             ],
             [
              0.3333333333333333,
              "#9c179e"
             ],
             [
              0.4444444444444444,
              "#bd3786"
             ],
             [
              0.5555555555555556,
              "#d8576b"
             ],
             [
              0.6666666666666666,
              "#ed7953"
             ],
             [
              0.7777777777777778,
              "#fb9f3a"
             ],
             [
              0.8888888888888888,
              "#fdca26"
             ],
             [
              1,
              "#f0f921"
             ]
            ],
            "type": "heatmapgl"
           }
          ],
          "histogram": [
           {
            "marker": {
             "pattern": {
              "fillmode": "overlay",
              "size": 10,
              "solidity": 0.2
             }
            },
            "type": "histogram"
           }
          ],
          "histogram2d": [
           {
            "colorbar": {
             "outlinewidth": 0,
             "ticks": ""
            },
            "colorscale": [
             [
              0,
              "#0d0887"
             ],
             [
              0.1111111111111111,
              "#46039f"
             ],
             [
              0.2222222222222222,
              "#7201a8"
             ],
             [
              0.3333333333333333,
              "#9c179e"
             ],
             [
              0.4444444444444444,
              "#bd3786"
             ],
             [
              0.5555555555555556,
              "#d8576b"
             ],
             [
              0.6666666666666666,
              "#ed7953"
             ],
             [
              0.7777777777777778,
              "#fb9f3a"
             ],
             [
              0.8888888888888888,
              "#fdca26"
             ],
             [
              1,
              "#f0f921"
             ]
            ],
            "type": "histogram2d"
           }
          ],
          "histogram2dcontour": [
           {
            "colorbar": {
             "outlinewidth": 0,
             "ticks": ""
            },
            "colorscale": [
             [
              0,
              "#0d0887"
             ],
             [
              0.1111111111111111,
              "#46039f"
             ],
             [
              0.2222222222222222,
              "#7201a8"
             ],
             [
              0.3333333333333333,
              "#9c179e"
             ],
             [
              0.4444444444444444,
              "#bd3786"
             ],
             [
              0.5555555555555556,
              "#d8576b"
             ],
             [
              0.6666666666666666,
              "#ed7953"
             ],
             [
              0.7777777777777778,
              "#fb9f3a"
             ],
             [
              0.8888888888888888,
              "#fdca26"
             ],
             [
              1,
              "#f0f921"
             ]
            ],
            "type": "histogram2dcontour"
           }
          ],
          "mesh3d": [
           {
            "colorbar": {
             "outlinewidth": 0,
             "ticks": ""
            },
            "type": "mesh3d"
           }
          ],
          "parcoords": [
           {
            "line": {
             "colorbar": {
              "outlinewidth": 0,
              "ticks": ""
             }
            },
            "type": "parcoords"
           }
          ],
          "pie": [
           {
            "automargin": true,
            "type": "pie"
           }
          ],
          "scatter": [
           {
            "fillpattern": {
             "fillmode": "overlay",
             "size": 10,
             "solidity": 0.2
            },
            "type": "scatter"
           }
          ],
          "scatter3d": [
           {
            "line": {
             "colorbar": {
              "outlinewidth": 0,
              "ticks": ""
             }
            },
            "marker": {
             "colorbar": {
              "outlinewidth": 0,
              "ticks": ""
             }
            },
            "type": "scatter3d"
           }
          ],
          "scattercarpet": [
           {
            "marker": {
             "colorbar": {
              "outlinewidth": 0,
              "ticks": ""
             }
            },
            "type": "scattercarpet"
           }
          ],
          "scattergeo": [
           {
            "marker": {
             "colorbar": {
              "outlinewidth": 0,
              "ticks": ""
             }
            },
            "type": "scattergeo"
           }
          ],
          "scattergl": [
           {
            "marker": {
             "colorbar": {
              "outlinewidth": 0,
              "ticks": ""
             }
            },
            "type": "scattergl"
           }
          ],
          "scattermapbox": [
           {
            "marker": {
             "colorbar": {
              "outlinewidth": 0,
              "ticks": ""
             }
            },
            "type": "scattermapbox"
           }
          ],
          "scatterpolar": [
           {
            "marker": {
             "colorbar": {
              "outlinewidth": 0,
              "ticks": ""
             }
            },
            "type": "scatterpolar"
           }
          ],
          "scatterpolargl": [
           {
            "marker": {
             "colorbar": {
              "outlinewidth": 0,
              "ticks": ""
             }
            },
            "type": "scatterpolargl"
           }
          ],
          "scatterternary": [
           {
            "marker": {
             "colorbar": {
              "outlinewidth": 0,
              "ticks": ""
             }
            },
            "type": "scatterternary"
           }
          ],
          "surface": [
           {
            "colorbar": {
             "outlinewidth": 0,
             "ticks": ""
            },
            "colorscale": [
             [
              0,
              "#0d0887"
             ],
             [
              0.1111111111111111,
              "#46039f"
             ],
             [
              0.2222222222222222,
              "#7201a8"
             ],
             [
              0.3333333333333333,
              "#9c179e"
             ],
             [
              0.4444444444444444,
              "#bd3786"
             ],
             [
              0.5555555555555556,
              "#d8576b"
             ],
             [
              0.6666666666666666,
              "#ed7953"
             ],
             [
              0.7777777777777778,
              "#fb9f3a"
             ],
             [
              0.8888888888888888,
              "#fdca26"
             ],
             [
              1,
              "#f0f921"
             ]
            ],
            "type": "surface"
           }
          ],
          "table": [
           {
            "cells": {
             "fill": {
              "color": "#EBF0F8"
             },
             "line": {
              "color": "white"
             }
            },
            "header": {
             "fill": {
              "color": "#C8D4E3"
             },
             "line": {
              "color": "white"
             }
            },
            "type": "table"
           }
          ]
         },
         "layout": {
          "annotationdefaults": {
           "arrowcolor": "#2a3f5f",
           "arrowhead": 0,
           "arrowwidth": 1
          },
          "autotypenumbers": "strict",
          "coloraxis": {
           "colorbar": {
            "outlinewidth": 0,
            "ticks": ""
           }
          },
          "colorscale": {
           "diverging": [
            [
             0,
             "#8e0152"
            ],
            [
             0.1,
             "#c51b7d"
            ],
            [
             0.2,
             "#de77ae"
            ],
            [
             0.3,
             "#f1b6da"
            ],
            [
             0.4,
             "#fde0ef"
            ],
            [
             0.5,
             "#f7f7f7"
            ],
            [
             0.6,
             "#e6f5d0"
            ],
            [
             0.7,
             "#b8e186"
            ],
            [
             0.8,
             "#7fbc41"
            ],
            [
             0.9,
             "#4d9221"
            ],
            [
             1,
             "#276419"
            ]
           ],
           "sequential": [
            [
             0,
             "#0d0887"
            ],
            [
             0.1111111111111111,
             "#46039f"
            ],
            [
             0.2222222222222222,
             "#7201a8"
            ],
            [
             0.3333333333333333,
             "#9c179e"
            ],
            [
             0.4444444444444444,
             "#bd3786"
            ],
            [
             0.5555555555555556,
             "#d8576b"
            ],
            [
             0.6666666666666666,
             "#ed7953"
            ],
            [
             0.7777777777777778,
             "#fb9f3a"
            ],
            [
             0.8888888888888888,
             "#fdca26"
            ],
            [
             1,
             "#f0f921"
            ]
           ],
           "sequentialminus": [
            [
             0,
             "#0d0887"
            ],
            [
             0.1111111111111111,
             "#46039f"
            ],
            [
             0.2222222222222222,
             "#7201a8"
            ],
            [
             0.3333333333333333,
             "#9c179e"
            ],
            [
             0.4444444444444444,
             "#bd3786"
            ],
            [
             0.5555555555555556,
             "#d8576b"
            ],
            [
             0.6666666666666666,
             "#ed7953"
            ],
            [
             0.7777777777777778,
             "#fb9f3a"
            ],
            [
             0.8888888888888888,
             "#fdca26"
            ],
            [
             1,
             "#f0f921"
            ]
           ]
          },
          "colorway": [
           "#636efa",
           "#EF553B",
           "#00cc96",
           "#ab63fa",
           "#FFA15A",
           "#19d3f3",
           "#FF6692",
           "#B6E880",
           "#FF97FF",
           "#FECB52"
          ],
          "font": {
           "color": "#2a3f5f"
          },
          "geo": {
           "bgcolor": "white",
           "lakecolor": "white",
           "landcolor": "#E5ECF6",
           "showlakes": true,
           "showland": true,
           "subunitcolor": "white"
          },
          "hoverlabel": {
           "align": "left"
          },
          "hovermode": "closest",
          "mapbox": {
           "style": "light"
          },
          "paper_bgcolor": "white",
          "plot_bgcolor": "#E5ECF6",
          "polar": {
           "angularaxis": {
            "gridcolor": "white",
            "linecolor": "white",
            "ticks": ""
           },
           "bgcolor": "#E5ECF6",
           "radialaxis": {
            "gridcolor": "white",
            "linecolor": "white",
            "ticks": ""
           }
          },
          "scene": {
           "xaxis": {
            "backgroundcolor": "#E5ECF6",
            "gridcolor": "white",
            "gridwidth": 2,
            "linecolor": "white",
            "showbackground": true,
            "ticks": "",
            "zerolinecolor": "white"
           },
           "yaxis": {
            "backgroundcolor": "#E5ECF6",
            "gridcolor": "white",
            "gridwidth": 2,
            "linecolor": "white",
            "showbackground": true,
            "ticks": "",
            "zerolinecolor": "white"
           },
           "zaxis": {
            "backgroundcolor": "#E5ECF6",
            "gridcolor": "white",
            "gridwidth": 2,
            "linecolor": "white",
            "showbackground": true,
            "ticks": "",
            "zerolinecolor": "white"
           }
          },
          "shapedefaults": {
           "line": {
            "color": "#2a3f5f"
           }
          },
          "ternary": {
           "aaxis": {
            "gridcolor": "white",
            "linecolor": "white",
            "ticks": ""
           },
           "baxis": {
            "gridcolor": "white",
            "linecolor": "white",
            "ticks": ""
           },
           "bgcolor": "#E5ECF6",
           "caxis": {
            "gridcolor": "white",
            "linecolor": "white",
            "ticks": ""
           }
          },
          "title": {
           "x": 0.05
          },
          "xaxis": {
           "automargin": true,
           "gridcolor": "white",
           "linecolor": "white",
           "ticks": "",
           "title": {
            "standoff": 15
           },
           "zerolinecolor": "white",
           "zerolinewidth": 2
          },
          "yaxis": {
           "automargin": true,
           "gridcolor": "white",
           "linecolor": "white",
           "ticks": "",
           "title": {
            "standoff": 15
           },
           "zerolinecolor": "white",
           "zerolinewidth": 2
          }
         }
        },
        "title": {
         "font": {
          "color": "black",
          "size": 25
         },
         "text": "0926f DHB only (0.02M) 600 uL"
        },
        "width": 1000,
        "xaxis": {
         "linecolor": "black",
         "linewidth": 2,
         "mirror": true,
         "showgrid": false,
         "showline": true,
         "tickfont": {
          "color": "black",
          "size": 25
         },
         "ticks": "inside",
         "title": {
          "font": {
           "color": "black",
           "size": 25
          },
          "text": "time (min)"
         }
        },
        "yaxis": {
         "linecolor": "black",
         "linewidth": 2,
         "mirror": true,
         "range": [
          -3,
          55
         ],
         "showgrid": false,
         "tickfont": {
          "color": "black",
          "size": 25
         },
         "ticks": "inside",
         "title": {
          "font": {
           "color": "black",
           "size": 25
          },
          "text": "HONO or NO<sub>x</sub> concentration (ppb)"
         }
        },
        "yaxis2": {
         "anchor": "free",
         "linecolor": "black",
         "linewidth": 2,
         "overlaying": "y",
         "position": 1,
         "showticklabels": true,
         "side": "right",
         "tickfont": {
          "color": "black",
          "size": 25
         },
         "ticks": "inside",
         "title": {
          "font": {
           "color": "black",
           "size": 25
          },
          "text": ""
         }
        }
       }
      }
     },
     "metadata": {},
     "output_type": "display_data"
    }
   ],
   "source": [
    "\n",
    "# df=pd.merge(pd.merge(pd.merge(df_hono_icad,df_no2_icad,on='date_time'),df_nox_t200,on='date_time'),df_rh,on='date_time')\n",
    "# df=pd.merge(pd.merge(df_hono_icad,df_no2_icad,on='date_time'),df_nox_t200,on='date_time')\n",
    "df=pd.merge(df_hono_icad,df_no2_icad,on='date_time')\n",
    "\n",
    "# correct HONO background\n",
    "print(df[df['date_time'] == '2023-09-26 18:04:00'])\n",
    "\n",
    "# df.hono=df.hono-df.hono[46:76].mean()\n",
    "time_start=910-10\n",
    "# df=df[time_start:time_start+110]\n",
    "df=df[time_start:955]\n",
    "\n",
    "\n",
    "x_minutes=(df['date_time'] - df['date_time'][time_start]).dt.total_seconds().div(60).astype(int)\n",
    "df['x_minutes']=x_minutes\n",
    "x= df.x_minutes\n",
    "# x= df.date_time\n",
    "\n",
    "fig_1= go.Figure()\n",
    "fig_1.add_trace(go.Scatter(x=x,y=df.hono-1.5,yaxis = \"y1\",mode='markers+lines',marker_size=10,line_width=2,name=\"HONO\"))\n",
    "fig_1.add_trace(go.Scatter(x= x,y=df.no2,yaxis = \"y1\",mode='markers+lines',marker_size=10,line_width=2,name=\"NO<sub>2</sub>\"))\n",
    "fig_1.add_trace(go.Scatter(x= x,y=46.4-df.no2,yaxis = \"y1\",mode='markers+lines',marker_size=10,line_width=2,name=\"△NO<sub>2</sub>\"))\n",
    "\n",
    "# fig_1.add_trace(go.Scatter(x= df_nox_t200.x_minutes,y=df_nox_t200.no,yaxis = \"y1\",mode='markers+lines',marker_size=10,line_width=2,name=\"NO\"))\n",
    "# fig_1.add_trace(go.Scatter(x= df.date_time,y=df.no+df.no2+df.hono,yaxis = \"y1\",mode='markers+lines',marker_size=10,line_width=2,name=\"no\"))\n",
    "fig_1.update_layout(title='0926f DHB only (0.02M) 600 uL',titlefont=dict(color=\"black\",size=25))\n",
    "# fig_1.update_layout( bargap=0)\n",
    "fig_1.update_layout(\n",
    "  plot_bgcolor = 'white',paper_bgcolor = 'white',autosize=False,width=1000, height=800,\n",
    "    xaxis=dict( title=\"time (min)\",titlefont=dict(color=\"black\",size=25),showline=True, mirror= True,tickfont=dict(color='black',size=25 ),linecolor=\"black\", linewidth=2,ticks='inside'),\n",
    "    yaxis=dict( title='HONO or NO<sub>x</sub> concentration (ppb)', \n",
    "               range=[-3,55],\n",
    "               titlefont=dict(color=\"black\",size=25),mirror= True,tickfont=dict(color='black',size=25 ),linecolor=\"black\", linewidth=2,ticks='inside'),\n",
    "    yaxis2=dict(title='',titlefont=dict(color=\"black\",size=25),tickfont=dict(color=\"black\" ,size=25),ticks='inside',anchor=\"free\",overlaying=\"y\", side=\"right\", position=1, linecolor=\"black\", linewidth=2,showticklabels = True) )\n",
    "fig_1.update_layout(legend=dict(yanchor=\"top\",y=0.6 ,xanchor=\"left\",x=0.85,  font=dict( size=25,color=\"black\")))\n",
    "fig_1.update_layout(xaxis=dict(showgrid=False),\n",
    "              yaxis=dict(showgrid=False)\n",
    ")\n",
    "\n",
    "fig_1.add_vrect(x0=5, x1=5+6,annotation_text=\"cwft in line\",annotation_position=\"top\",annotation_font_size=14,fillcolor=\"grey\", opacity=0.3,layer=\"below\", line_width=0)\n",
    "fig_1.add_vrect(x0=11, x1=36,annotation_text=\"UV-A lights on\", annotation_position=\"top\",annotation_font_size=14,fillcolor=\"yellow\", opacity=0.3,layer=\"below\", line_width=0)\n",
    "fig_1.add_vrect(x0=36, x1=48,annotation_text=\"UV-A lights off\", annotation_position=\"top\",annotation_font_size=14,fillcolor=\"grey\", opacity=0.3,layer=\"below\", line_width=0)\n",
    "fig_1.add_vrect(x0=49 , x1=48+5,annotation_text=\"bypass\", annotation_position=\"top\",annotation_font_size=14,fillcolor=\"white\", opacity=0.3,layer=\"below\", line_width=0)\n",
    "\n",
    "\n",
    "config = {'displayModeBar': True}\n",
    "\n",
    "fig_1.show(config=config)\n",
    "# fig_1.to_image('3.jpeg')"
   ]
  },
  {
   "cell_type": "code",
   "execution_count": 139,
   "metadata": {},
   "outputs": [
    {
     "data": {
      "application/vnd.plotly.v1+json": {
       "config": {
        "displayModeBar": true,
        "plotlyServerURL": "https://plot.ly"
       },
       "data": [
        {
         "line": {
          "width": 2
         },
         "marker": {
          "size": 10
         },
         "mode": "markers+lines",
         "name": "HONO",
         "type": "scatter",
         "x": [
          0,
          1,
          2,
          3,
          4,
          5,
          6,
          7,
          8,
          9,
          10,
          11,
          12,
          13,
          14,
          15,
          16,
          17,
          18,
          19,
          20,
          21,
          22,
          23,
          24,
          25,
          26,
          27,
          28,
          29,
          30,
          31,
          32,
          33,
          34,
          35,
          36,
          37,
          38,
          39,
          40,
          41,
          42,
          43,
          44,
          45,
          46,
          47,
          48,
          49,
          50,
          51,
          52,
          53,
          54
         ],
         "y": [
          -0.04956896551724836,
          -0.39367816091953134,
          -0.3132183908045977,
          -0.3767241379310294,
          -0.29885057471264137,
          0.3168103448275676,
          10.779094827586206,
          14.118175287356314,
          13.004310344827585,
          11.678520114942526,
          10.655531609195389,
          9.950862068965526,
          12.044899425287356,
          11.879310344827587,
          12.076149425287355,
          11.985272988505743,
          12.287356321839075,
          12.844109195402293,
          13.395258620689646,
          13.891882183908045,
          14.606681034482753,
          15.378951149425282,
          15.681034482758612,
          16.28412356321839,
          17.208692528735618,
          18.211206896551715,
          19.19288793103449,
          20.179238505747122,
          20.805316091954023,
          21.080818965517228,
          21.54561781609195,
          22.344109195402297,
          23.024784482758612,
          23.83261494252873,
          24.63685344827586,
          25.229166666666668,
          25.60387931034482,
          19.426724137931025,
          0.6339798850574766,
          -0.4069683908046013,
          -0.44791666666666663,
          -0.4723419540229877,
          -0.4522270114942581,
          -0.6070402298850567,
          -0.8516522988505781,
          -1.6824969211822711,
          -1.8870689655172384,
          -1.8317697768762802,
          -1.7213488843813536,
          -4.420617816091955,
          -3.345905172413782,
          -3.377514367816089,
          -3.70653735632184,
          -4.076508620689657,
          -4.116020114942525
         ],
         "yaxis": "y"
        }
       ],
       "layout": {
        "annotations": [
         {
          "font": {
           "size": 14
          },
          "showarrow": false,
          "text": "cwft in line",
          "x": 11.5,
          "xanchor": "center",
          "xref": "x",
          "y": 1,
          "yanchor": "top",
          "yref": "y domain"
         },
         {
          "font": {
           "size": 14
          },
          "showarrow": false,
          "text": "UV-A lights on",
          "x": 22,
          "xanchor": "center",
          "xref": "x",
          "y": 1,
          "yanchor": "top",
          "yref": "y domain"
         },
         {
          "font": {
           "size": 14
          },
          "showarrow": false,
          "text": "UV-A lights off",
          "x": 33,
          "xanchor": "center",
          "xref": "x",
          "y": 1,
          "yanchor": "top",
          "yref": "y domain"
         },
         {
          "font": {
           "size": 14
          },
          "showarrow": false,
          "text": "bypass",
          "x": 41,
          "xanchor": "center",
          "xref": "x",
          "y": 1,
          "yanchor": "top",
          "yref": "y domain"
         }
        ],
        "autosize": false,
        "height": 800,
        "legend": {
         "font": {
          "color": "black",
          "size": 25
         },
         "x": 0.05,
         "xanchor": "left",
         "y": 0.8,
         "yanchor": "top"
        },
        "paper_bgcolor": "white",
        "plot_bgcolor": "white",
        "shapes": [
         {
          "fillcolor": "grey",
          "layer": "below",
          "line": {
           "width": 0
          },
          "opacity": 0.3,
          "type": "rect",
          "x0": 9,
          "x1": 14,
          "xref": "x",
          "y0": 0,
          "y1": 1,
          "yref": "y domain"
         },
         {
          "fillcolor": "yellow",
          "layer": "below",
          "line": {
           "width": 0
          },
          "opacity": 0.3,
          "type": "rect",
          "x0": 14,
          "x1": 30,
          "xref": "x",
          "y0": 0,
          "y1": 1,
          "yref": "y domain"
         },
         {
          "fillcolor": "grey",
          "layer": "below",
          "line": {
           "width": 0
          },
          "opacity": 0.3,
          "type": "rect",
          "x0": 30,
          "x1": 36,
          "xref": "x",
          "y0": 0,
          "y1": 1,
          "yref": "y domain"
         },
         {
          "fillcolor": "white",
          "layer": "below",
          "line": {
           "width": 0
          },
          "opacity": 0.3,
          "type": "rect",
          "x0": 36,
          "x1": 46,
          "xref": "x",
          "y0": 0,
          "y1": 1,
          "yref": "y domain"
         }
        ],
        "template": {
         "data": {
          "bar": [
           {
            "error_x": {
             "color": "#2a3f5f"
            },
            "error_y": {
             "color": "#2a3f5f"
            },
            "marker": {
             "line": {
              "color": "#E5ECF6",
              "width": 0.5
             },
             "pattern": {
              "fillmode": "overlay",
              "size": 10,
              "solidity": 0.2
             }
            },
            "type": "bar"
           }
          ],
          "barpolar": [
           {
            "marker": {
             "line": {
              "color": "#E5ECF6",
              "width": 0.5
             },
             "pattern": {
              "fillmode": "overlay",
              "size": 10,
              "solidity": 0.2
             }
            },
            "type": "barpolar"
           }
          ],
          "carpet": [
           {
            "aaxis": {
             "endlinecolor": "#2a3f5f",
             "gridcolor": "white",
             "linecolor": "white",
             "minorgridcolor": "white",
             "startlinecolor": "#2a3f5f"
            },
            "baxis": {
             "endlinecolor": "#2a3f5f",
             "gridcolor": "white",
             "linecolor": "white",
             "minorgridcolor": "white",
             "startlinecolor": "#2a3f5f"
            },
            "type": "carpet"
           }
          ],
          "choropleth": [
           {
            "colorbar": {
             "outlinewidth": 0,
             "ticks": ""
            },
            "type": "choropleth"
           }
          ],
          "contour": [
           {
            "colorbar": {
             "outlinewidth": 0,
             "ticks": ""
            },
            "colorscale": [
             [
              0,
              "#0d0887"
             ],
             [
              0.1111111111111111,
              "#46039f"
             ],
             [
              0.2222222222222222,
              "#7201a8"
             ],
             [
              0.3333333333333333,
              "#9c179e"
             ],
             [
              0.4444444444444444,
              "#bd3786"
             ],
             [
              0.5555555555555556,
              "#d8576b"
             ],
             [
              0.6666666666666666,
              "#ed7953"
             ],
             [
              0.7777777777777778,
              "#fb9f3a"
             ],
             [
              0.8888888888888888,
              "#fdca26"
             ],
             [
              1,
              "#f0f921"
             ]
            ],
            "type": "contour"
           }
          ],
          "contourcarpet": [
           {
            "colorbar": {
             "outlinewidth": 0,
             "ticks": ""
            },
            "type": "contourcarpet"
           }
          ],
          "heatmap": [
           {
            "colorbar": {
             "outlinewidth": 0,
             "ticks": ""
            },
            "colorscale": [
             [
              0,
              "#0d0887"
             ],
             [
              0.1111111111111111,
              "#46039f"
             ],
             [
              0.2222222222222222,
              "#7201a8"
             ],
             [
              0.3333333333333333,
              "#9c179e"
             ],
             [
              0.4444444444444444,
              "#bd3786"
             ],
             [
              0.5555555555555556,
              "#d8576b"
             ],
             [
              0.6666666666666666,
              "#ed7953"
             ],
             [
              0.7777777777777778,
              "#fb9f3a"
             ],
             [
              0.8888888888888888,
              "#fdca26"
             ],
             [
              1,
              "#f0f921"
             ]
            ],
            "type": "heatmap"
           }
          ],
          "heatmapgl": [
           {
            "colorbar": {
             "outlinewidth": 0,
             "ticks": ""
            },
            "colorscale": [
             [
              0,
              "#0d0887"
             ],
             [
              0.1111111111111111,
              "#46039f"
             ],
             [
              0.2222222222222222,
              "#7201a8"
             ],
             [
              0.3333333333333333,
              "#9c179e"
             ],
             [
              0.4444444444444444,
              "#bd3786"
             ],
             [
              0.5555555555555556,
              "#d8576b"
             ],
             [
              0.6666666666666666,
              "#ed7953"
             ],
             [
              0.7777777777777778,
              "#fb9f3a"
             ],
             [
              0.8888888888888888,
              "#fdca26"
             ],
             [
              1,
              "#f0f921"
             ]
            ],
            "type": "heatmapgl"
           }
          ],
          "histogram": [
           {
            "marker": {
             "pattern": {
              "fillmode": "overlay",
              "size": 10,
              "solidity": 0.2
             }
            },
            "type": "histogram"
           }
          ],
          "histogram2d": [
           {
            "colorbar": {
             "outlinewidth": 0,
             "ticks": ""
            },
            "colorscale": [
             [
              0,
              "#0d0887"
             ],
             [
              0.1111111111111111,
              "#46039f"
             ],
             [
              0.2222222222222222,
              "#7201a8"
             ],
             [
              0.3333333333333333,
              "#9c179e"
             ],
             [
              0.4444444444444444,
              "#bd3786"
             ],
             [
              0.5555555555555556,
              "#d8576b"
             ],
             [
              0.6666666666666666,
              "#ed7953"
             ],
             [
              0.7777777777777778,
              "#fb9f3a"
             ],
             [
              0.8888888888888888,
              "#fdca26"
             ],
             [
              1,
              "#f0f921"
             ]
            ],
            "type": "histogram2d"
           }
          ],
          "histogram2dcontour": [
           {
            "colorbar": {
             "outlinewidth": 0,
             "ticks": ""
            },
            "colorscale": [
             [
              0,
              "#0d0887"
             ],
             [
              0.1111111111111111,
              "#46039f"
             ],
             [
              0.2222222222222222,
              "#7201a8"
             ],
             [
              0.3333333333333333,
              "#9c179e"
             ],
             [
              0.4444444444444444,
              "#bd3786"
             ],
             [
              0.5555555555555556,
              "#d8576b"
             ],
             [
              0.6666666666666666,
              "#ed7953"
             ],
             [
              0.7777777777777778,
              "#fb9f3a"
             ],
             [
              0.8888888888888888,
              "#fdca26"
             ],
             [
              1,
              "#f0f921"
             ]
            ],
            "type": "histogram2dcontour"
           }
          ],
          "mesh3d": [
           {
            "colorbar": {
             "outlinewidth": 0,
             "ticks": ""
            },
            "type": "mesh3d"
           }
          ],
          "parcoords": [
           {
            "line": {
             "colorbar": {
              "outlinewidth": 0,
              "ticks": ""
             }
            },
            "type": "parcoords"
           }
          ],
          "pie": [
           {
            "automargin": true,
            "type": "pie"
           }
          ],
          "scatter": [
           {
            "fillpattern": {
             "fillmode": "overlay",
             "size": 10,
             "solidity": 0.2
            },
            "type": "scatter"
           }
          ],
          "scatter3d": [
           {
            "line": {
             "colorbar": {
              "outlinewidth": 0,
              "ticks": ""
             }
            },
            "marker": {
             "colorbar": {
              "outlinewidth": 0,
              "ticks": ""
             }
            },
            "type": "scatter3d"
           }
          ],
          "scattercarpet": [
           {
            "marker": {
             "colorbar": {
              "outlinewidth": 0,
              "ticks": ""
             }
            },
            "type": "scattercarpet"
           }
          ],
          "scattergeo": [
           {
            "marker": {
             "colorbar": {
              "outlinewidth": 0,
              "ticks": ""
             }
            },
            "type": "scattergeo"
           }
          ],
          "scattergl": [
           {
            "marker": {
             "colorbar": {
              "outlinewidth": 0,
              "ticks": ""
             }
            },
            "type": "scattergl"
           }
          ],
          "scattermapbox": [
           {
            "marker": {
             "colorbar": {
              "outlinewidth": 0,
              "ticks": ""
             }
            },
            "type": "scattermapbox"
           }
          ],
          "scatterpolar": [
           {
            "marker": {
             "colorbar": {
              "outlinewidth": 0,
              "ticks": ""
             }
            },
            "type": "scatterpolar"
           }
          ],
          "scatterpolargl": [
           {
            "marker": {
             "colorbar": {
              "outlinewidth": 0,
              "ticks": ""
             }
            },
            "type": "scatterpolargl"
           }
          ],
          "scatterternary": [
           {
            "marker": {
             "colorbar": {
              "outlinewidth": 0,
              "ticks": ""
             }
            },
            "type": "scatterternary"
           }
          ],
          "surface": [
           {
            "colorbar": {
             "outlinewidth": 0,
             "ticks": ""
            },
            "colorscale": [
             [
              0,
              "#0d0887"
             ],
             [
              0.1111111111111111,
              "#46039f"
             ],
             [
              0.2222222222222222,
              "#7201a8"
             ],
             [
              0.3333333333333333,
              "#9c179e"
             ],
             [
              0.4444444444444444,
              "#bd3786"
             ],
             [
              0.5555555555555556,
              "#d8576b"
             ],
             [
              0.6666666666666666,
              "#ed7953"
             ],
             [
              0.7777777777777778,
              "#fb9f3a"
             ],
             [
              0.8888888888888888,
              "#fdca26"
             ],
             [
              1,
              "#f0f921"
             ]
            ],
            "type": "surface"
           }
          ],
          "table": [
           {
            "cells": {
             "fill": {
              "color": "#EBF0F8"
             },
             "line": {
              "color": "white"
             }
            },
            "header": {
             "fill": {
              "color": "#C8D4E3"
             },
             "line": {
              "color": "white"
             }
            },
            "type": "table"
           }
          ]
         },
         "layout": {
          "annotationdefaults": {
           "arrowcolor": "#2a3f5f",
           "arrowhead": 0,
           "arrowwidth": 1
          },
          "autotypenumbers": "strict",
          "coloraxis": {
           "colorbar": {
            "outlinewidth": 0,
            "ticks": ""
           }
          },
          "colorscale": {
           "diverging": [
            [
             0,
             "#8e0152"
            ],
            [
             0.1,
             "#c51b7d"
            ],
            [
             0.2,
             "#de77ae"
            ],
            [
             0.3,
             "#f1b6da"
            ],
            [
             0.4,
             "#fde0ef"
            ],
            [
             0.5,
             "#f7f7f7"
            ],
            [
             0.6,
             "#e6f5d0"
            ],
            [
             0.7,
             "#b8e186"
            ],
            [
             0.8,
             "#7fbc41"
            ],
            [
             0.9,
             "#4d9221"
            ],
            [
             1,
             "#276419"
            ]
           ],
           "sequential": [
            [
             0,
             "#0d0887"
            ],
            [
             0.1111111111111111,
             "#46039f"
            ],
            [
             0.2222222222222222,
             "#7201a8"
            ],
            [
             0.3333333333333333,
             "#9c179e"
            ],
            [
             0.4444444444444444,
             "#bd3786"
            ],
            [
             0.5555555555555556,
             "#d8576b"
            ],
            [
             0.6666666666666666,
             "#ed7953"
            ],
            [
             0.7777777777777778,
             "#fb9f3a"
            ],
            [
             0.8888888888888888,
             "#fdca26"
            ],
            [
             1,
             "#f0f921"
            ]
           ],
           "sequentialminus": [
            [
             0,
             "#0d0887"
            ],
            [
             0.1111111111111111,
             "#46039f"
            ],
            [
             0.2222222222222222,
             "#7201a8"
            ],
            [
             0.3333333333333333,
             "#9c179e"
            ],
            [
             0.4444444444444444,
             "#bd3786"
            ],
            [
             0.5555555555555556,
             "#d8576b"
            ],
            [
             0.6666666666666666,
             "#ed7953"
            ],
            [
             0.7777777777777778,
             "#fb9f3a"
            ],
            [
             0.8888888888888888,
             "#fdca26"
            ],
            [
             1,
             "#f0f921"
            ]
           ]
          },
          "colorway": [
           "#636efa",
           "#EF553B",
           "#00cc96",
           "#ab63fa",
           "#FFA15A",
           "#19d3f3",
           "#FF6692",
           "#B6E880",
           "#FF97FF",
           "#FECB52"
          ],
          "font": {
           "color": "#2a3f5f"
          },
          "geo": {
           "bgcolor": "white",
           "lakecolor": "white",
           "landcolor": "#E5ECF6",
           "showlakes": true,
           "showland": true,
           "subunitcolor": "white"
          },
          "hoverlabel": {
           "align": "left"
          },
          "hovermode": "closest",
          "mapbox": {
           "style": "light"
          },
          "paper_bgcolor": "white",
          "plot_bgcolor": "#E5ECF6",
          "polar": {
           "angularaxis": {
            "gridcolor": "white",
            "linecolor": "white",
            "ticks": ""
           },
           "bgcolor": "#E5ECF6",
           "radialaxis": {
            "gridcolor": "white",
            "linecolor": "white",
            "ticks": ""
           }
          },
          "scene": {
           "xaxis": {
            "backgroundcolor": "#E5ECF6",
            "gridcolor": "white",
            "gridwidth": 2,
            "linecolor": "white",
            "showbackground": true,
            "ticks": "",
            "zerolinecolor": "white"
           },
           "yaxis": {
            "backgroundcolor": "#E5ECF6",
            "gridcolor": "white",
            "gridwidth": 2,
            "linecolor": "white",
            "showbackground": true,
            "ticks": "",
            "zerolinecolor": "white"
           },
           "zaxis": {
            "backgroundcolor": "#E5ECF6",
            "gridcolor": "white",
            "gridwidth": 2,
            "linecolor": "white",
            "showbackground": true,
            "ticks": "",
            "zerolinecolor": "white"
           }
          },
          "shapedefaults": {
           "line": {
            "color": "#2a3f5f"
           }
          },
          "ternary": {
           "aaxis": {
            "gridcolor": "white",
            "linecolor": "white",
            "ticks": ""
           },
           "baxis": {
            "gridcolor": "white",
            "linecolor": "white",
            "ticks": ""
           },
           "bgcolor": "#E5ECF6",
           "caxis": {
            "gridcolor": "white",
            "linecolor": "white",
            "ticks": ""
           }
          },
          "title": {
           "x": 0.05
          },
          "xaxis": {
           "automargin": true,
           "gridcolor": "white",
           "linecolor": "white",
           "ticks": "",
           "title": {
            "standoff": 15
           },
           "zerolinecolor": "white",
           "zerolinewidth": 2
          },
          "yaxis": {
           "automargin": true,
           "gridcolor": "white",
           "linecolor": "white",
           "ticks": "",
           "title": {
            "standoff": 15
           },
           "zerolinecolor": "white",
           "zerolinewidth": 2
          }
         }
        },
        "title": {
         "font": {
          "color": "black",
          "size": 25
         },
         "text": "0926g empty tube 3rd (washed completely)"
        },
        "width": 1000,
        "xaxis": {
         "linecolor": "black",
         "linewidth": 2,
         "mirror": true,
         "showgrid": false,
         "showline": true,
         "tickfont": {
          "color": "black",
          "size": 25
         },
         "ticks": "inside",
         "title": {
          "font": {
           "color": "black",
           "size": 25
          },
          "text": "time (min)"
         }
        },
        "yaxis": {
         "linecolor": "black",
         "linewidth": 2,
         "mirror": true,
         "showgrid": false,
         "tickfont": {
          "color": "black",
          "size": 25
         },
         "ticks": "inside",
         "title": {
          "font": {
           "color": "black",
           "size": 25
          },
          "text": "HONO or NO<sub>x</sub> concentration (ppb)"
         }
        },
        "yaxis2": {
         "anchor": "free",
         "linecolor": "black",
         "linewidth": 2,
         "overlaying": "y",
         "position": 1,
         "showticklabels": true,
         "side": "right",
         "tickfont": {
          "color": "black",
          "size": 25
         },
         "ticks": "inside",
         "title": {
          "font": {
           "color": "black",
           "size": 25
          },
          "text": ""
         }
        }
       }
      }
     },
     "metadata": {},
     "output_type": "display_data"
    }
   ],
   "source": [
    "\n",
    "fig_1= go.Figure()\n",
    "# fig_1.add_trace(go.Scatter(x=x,y=(df.hono-1.5)/(46.4-df.no2)*100,yaxis = \"y1\",mode='markers+lines',marker_size=10,line_width=2,name=\"HONO\"))\n",
    "fig_1.add_trace(go.Scatter(x=x,y=(46.4-df.no2)/46.4*100,yaxis = \"y1\",mode='markers+lines',marker_size=10,line_width=2,name=\"HONO\"))\n",
    "\n",
    "# fig_1.add_trace(go.Scatter(x= x,y=df.no2,yaxis = \"y1\",mode='markers+lines',marker_size=10,line_width=2,name=\"NO<sub>2</sub>\"))\n",
    "# fig_1.add_trace(go.Scatter(x= x,y=,yaxis = \"y1\",mode='markers+lines',marker_size=10,line_width=2,name=\"△NO<sub>2</sub>\"))\n",
    "\n",
    "# fig_1.add_trace(go.Scatter(x= df.date_time,y=df.no,yaxis = \"y1\",mode='markers+lines',marker_size=10,line_width=2,name=\"NO\"))\n",
    "# fig_1.add_trace(go.Scatter(x= df.date_time,y=df.no+df.no2+df.hono,yaxis = \"y1\",mode='markers+lines',marker_size=10,line_width=2,name=\"no\"))\n",
    "fig_1.update_layout(title='0926g empty tube 3rd (washed completely)',titlefont=dict(color=\"black\",size=25))\n",
    "# fig_1.update_layout( bargap=0)\n",
    "fig_1.update_layout(\n",
    "  plot_bgcolor = 'white',paper_bgcolor = 'white',autosize=False,width=1000, height=800,\n",
    "    xaxis=dict( title=\"time (min)\",titlefont=dict(color=\"black\",size=25),showline=True, mirror= True,tickfont=dict(color='black',size=25 ),linecolor=\"black\", linewidth=2,ticks='inside'),\n",
    "    yaxis=dict( title='HONO or NO<sub>x</sub> concentration (ppb)', \n",
    "               # range=[-2,55],\n",
    "               titlefont=dict(color=\"black\",size=25),mirror= True,tickfont=dict(color='black',size=25 ),linecolor=\"black\", linewidth=2,ticks='inside'),\n",
    "    yaxis2=dict(title='',titlefont=dict(color=\"black\",size=25),tickfont=dict(color=\"black\" ,size=25),ticks='inside',anchor=\"free\",overlaying=\"y\", side=\"right\", position=1, linecolor=\"black\", linewidth=2,showticklabels = True) )\n",
    "fig_1.update_layout(legend=dict(yanchor=\"top\",y=0.8 ,xanchor=\"left\",x=0.05,  font=dict( size=25,color=\"black\")))\n",
    "fig_1.update_layout(xaxis=dict(showgrid=False),\n",
    "              yaxis=dict(showgrid=False)\n",
    ")\n",
    "\n",
    "fig_1.add_vrect(x0=9, x1=14,annotation_text=\"cwft in line\",annotation_position=\"top\",annotation_font_size=14,fillcolor=\"grey\", opacity=0.3,layer=\"below\", line_width=0)\n",
    "fig_1.add_vrect(x0=14, x1=14+16,annotation_text=\"UV-A lights on\", annotation_position=\"top\",annotation_font_size=14,fillcolor=\"yellow\", opacity=0.3,layer=\"below\", line_width=0)\n",
    "fig_1.add_vrect(x0=30, x1=36,annotation_text=\"UV-A lights off\", annotation_position=\"top\",annotation_font_size=14,fillcolor=\"grey\", opacity=0.3,layer=\"below\", line_width=0)\n",
    "fig_1.add_vrect(x0=36 , x1=36+10,annotation_text=\"bypass\", annotation_position=\"top\",annotation_font_size=14,fillcolor=\"white\", opacity=0.3,layer=\"below\", line_width=0)\n",
    "\n",
    "config = {'displayModeBar': True}\n",
    "fig_1.show(config=config)\n",
    "# fig_1.to_image('3.jpeg')\n"
   ]
  },
  {
   "cell_type": "code",
   "execution_count": 141,
   "metadata": {},
   "outputs": [
    {
     "data": {
      "text/plain": [
       "-36.656"
      ]
     },
     "execution_count": 141,
     "metadata": {},
     "output_type": "execute_result"
    }
   ],
   "source": [
    "46.4*0.21-46.4"
   ]
  },
  {
   "cell_type": "code",
   "execution_count": 142,
   "metadata": {},
   "outputs": [
    {
     "name": "stdout",
     "output_type": "stream",
     "text": [
      "       hono           date_time        no2\n",
      "958  1.4905 2023-09-26 17:59:00  48.167333\n"
     ]
    },
    {
     "data": {
      "application/vnd.plotly.v1+json": {
       "config": {
        "displayModeBar": true,
        "plotlyServerURL": "https://plot.ly"
       },
       "data": [
        {
         "line": {
          "width": 2
         },
         "marker": {
          "size": 10
         },
         "mode": "markers+lines",
         "name": "HONO",
         "type": "scatter",
         "x": [
          0,
          1,
          2,
          3,
          4,
          5,
          6,
          7,
          8,
          9,
          10,
          11,
          12,
          13,
          14,
          15,
          16,
          17,
          18,
          19,
          20,
          21,
          22,
          23,
          24,
          25,
          26,
          27,
          28,
          29,
          30,
          31,
          32,
          33,
          34,
          35,
          36,
          37,
          38,
          39,
          40,
          41,
          42,
          43,
          44
         ],
         "y": [
          -0.07883333333333309,
          -0.15050000000000008,
          -0.14683333333333337,
          -0.02983333333333338,
          -0.08660000000000001,
          -0.03599999999999981,
          -0.09600000000000009,
          -0.09749999999999992,
          -0.14383333333333326,
          -0.009500000000000064,
          1.455,
          1.629,
          1.5803333333333334,
          1.500833333333333,
          1.5018333333333334,
          4.905166666666666,
          5.9555,
          6.3574,
          6.5954999999999995,
          6.7225,
          6.833666666666668,
          6.7065,
          6.439,
          6.2135,
          6.074166666666667,
          5.931857142857142,
          null,
          null,
          5.8125,
          5.792833333333333,
          5.767333333333333,
          1.7626,
          0.883,
          0.811666666666667,
          0.71,
          0.6739999999999999,
          0.49783333333333335,
          0.03383333333333316,
          -0.10216666666666652,
          -0.10433333333333317,
          -0.127,
          -0.05933333333333324,
          -0.07916666666666661,
          -0.13250000000000006,
          -0.2096
         ],
         "yaxis": "y"
        },
        {
         "line": {
          "width": 2
         },
         "marker": {
          "size": 10
         },
         "mode": "markers+lines",
         "name": "NO<sub>2</sub>",
         "type": "scatter",
         "x": [
          0,
          1,
          2,
          3,
          4,
          5,
          6,
          7,
          8,
          9,
          10,
          11,
          12,
          13,
          14,
          15,
          16,
          17,
          18,
          19,
          20,
          21,
          22,
          23,
          24,
          25,
          26,
          27,
          28,
          29,
          30,
          31,
          32,
          33,
          34,
          35,
          36,
          37,
          38,
          39,
          40,
          41,
          42,
          43,
          44
         ],
         "y": [
          48.451166666666666,
          47.95249999999999,
          47.967166666666664,
          48.11983333333333,
          48.2915,
          48.30983333333333,
          48.31,
          48.26983333333334,
          48.21516666666667,
          48.16733333333334,
          47.209666666666664,
          45.754,
          45.8945,
          46.23866666666667,
          46.411,
          41.973333333333336,
          39.6228,
          39.59983333333333,
          39.48983333333333,
          39.45583333333334,
          39.266666666666666,
          39.285666666666664,
          39.469,
          39.681799999999996,
          40.099333333333334,
          40.513666666666666,
          40.771,
          40.9895,
          41.18116666666666,
          41.19133333333333,
          41.300666666666665,
          42.742599999999996,
          47.78824,
          48.22716666666667,
          48.35916666666666,
          48.49266666666667,
          48.308,
          49.40533333333334,
          48.88183333333333,
          48.864,
          48.86883333333333,
          49.0765,
          49.07916666666667,
          49.14816666666667,
          49.17850000000001
         ],
         "yaxis": "y"
        },
        {
         "line": {
          "width": 2
         },
         "marker": {
          "size": 10
         },
         "mode": "markers+lines",
         "name": "△NO<sub>2</sub>",
         "type": "scatter",
         "x": [
          0,
          1,
          2,
          3,
          4,
          5,
          6,
          7,
          8,
          9,
          10,
          11,
          12,
          13,
          14,
          15,
          16,
          17,
          18,
          19,
          20,
          21,
          22,
          23,
          24,
          25,
          26,
          27,
          28,
          29,
          30,
          31,
          32,
          33,
          34,
          35,
          36,
          37,
          38,
          39,
          40,
          41,
          42,
          43,
          44
         ],
         "y": [
          -0.15116666666666845,
          0.3475000000000037,
          0.3328333333333333,
          0.1801666666666648,
          0.008499999999997954,
          -0.009833333333332916,
          -0.010000000000005116,
          0.030166666666659125,
          0.08483333333332865,
          0.13266666666665827,
          1.0903333333333336,
          2.5459999999999994,
          2.4054999999999964,
          2.06133333333333,
          1.8889999999999958,
          6.326666666666661,
          8.6772,
          8.700166666666668,
          8.810166666666667,
          8.84416666666666,
          9.033333333333331,
          9.014333333333333,
          8.830999999999996,
          8.618200000000002,
          8.200666666666663,
          7.7863333333333316,
          7.528999999999996,
          7.3104999999999976,
          7.118833333333335,
          7.1086666666666645,
          6.9993333333333325,
          5.557400000000001,
          0.5117599999999953,
          0.0728333333333282,
          -0.05916666666666259,
          -0.19266666666667476,
          -0.008000000000002672,
          -1.1053333333333413,
          -0.5818333333333356,
          -0.5640000000000001,
          -0.5688333333333304,
          -0.7765000000000057,
          -0.7791666666666757,
          -0.8481666666666712,
          -0.8785000000000096
         ],
         "yaxis": "y"
        }
       ],
       "layout": {
        "annotations": [
         {
          "font": {
           "size": 14
          },
          "showarrow": false,
          "text": "cwft in line",
          "x": 11.5,
          "xanchor": "center",
          "xref": "x",
          "y": 1,
          "yanchor": "top",
          "yref": "y domain"
         },
         {
          "font": {
           "size": 14
          },
          "showarrow": false,
          "text": "UV-A lights on",
          "x": 22,
          "xanchor": "center",
          "xref": "x",
          "y": 1,
          "yanchor": "top",
          "yref": "y domain"
         },
         {
          "font": {
           "size": 14
          },
          "showarrow": false,
          "text": "UV-A lights off",
          "x": 33,
          "xanchor": "center",
          "xref": "x",
          "y": 1,
          "yanchor": "top",
          "yref": "y domain"
         },
         {
          "font": {
           "size": 14
          },
          "showarrow": false,
          "text": "bypass",
          "x": 41,
          "xanchor": "center",
          "xref": "x",
          "y": 1,
          "yanchor": "top",
          "yref": "y domain"
         }
        ],
        "autosize": false,
        "height": 800,
        "legend": {
         "font": {
          "color": "black",
          "size": 25
         },
         "x": 0.05,
         "xanchor": "left",
         "y": 0.8,
         "yanchor": "top"
        },
        "paper_bgcolor": "white",
        "plot_bgcolor": "white",
        "shapes": [
         {
          "fillcolor": "grey",
          "layer": "below",
          "line": {
           "width": 0
          },
          "opacity": 0.3,
          "type": "rect",
          "x0": 9,
          "x1": 14,
          "xref": "x",
          "y0": 0,
          "y1": 1,
          "yref": "y domain"
         },
         {
          "fillcolor": "yellow",
          "layer": "below",
          "line": {
           "width": 0
          },
          "opacity": 0.3,
          "type": "rect",
          "x0": 14,
          "x1": 30,
          "xref": "x",
          "y0": 0,
          "y1": 1,
          "yref": "y domain"
         },
         {
          "fillcolor": "grey",
          "layer": "below",
          "line": {
           "width": 0
          },
          "opacity": 0.3,
          "type": "rect",
          "x0": 30,
          "x1": 36,
          "xref": "x",
          "y0": 0,
          "y1": 1,
          "yref": "y domain"
         },
         {
          "fillcolor": "white",
          "layer": "below",
          "line": {
           "width": 0
          },
          "opacity": 0.3,
          "type": "rect",
          "x0": 36,
          "x1": 46,
          "xref": "x",
          "y0": 0,
          "y1": 1,
          "yref": "y domain"
         }
        ],
        "template": {
         "data": {
          "bar": [
           {
            "error_x": {
             "color": "#2a3f5f"
            },
            "error_y": {
             "color": "#2a3f5f"
            },
            "marker": {
             "line": {
              "color": "#E5ECF6",
              "width": 0.5
             },
             "pattern": {
              "fillmode": "overlay",
              "size": 10,
              "solidity": 0.2
             }
            },
            "type": "bar"
           }
          ],
          "barpolar": [
           {
            "marker": {
             "line": {
              "color": "#E5ECF6",
              "width": 0.5
             },
             "pattern": {
              "fillmode": "overlay",
              "size": 10,
              "solidity": 0.2
             }
            },
            "type": "barpolar"
           }
          ],
          "carpet": [
           {
            "aaxis": {
             "endlinecolor": "#2a3f5f",
             "gridcolor": "white",
             "linecolor": "white",
             "minorgridcolor": "white",
             "startlinecolor": "#2a3f5f"
            },
            "baxis": {
             "endlinecolor": "#2a3f5f",
             "gridcolor": "white",
             "linecolor": "white",
             "minorgridcolor": "white",
             "startlinecolor": "#2a3f5f"
            },
            "type": "carpet"
           }
          ],
          "choropleth": [
           {
            "colorbar": {
             "outlinewidth": 0,
             "ticks": ""
            },
            "type": "choropleth"
           }
          ],
          "contour": [
           {
            "colorbar": {
             "outlinewidth": 0,
             "ticks": ""
            },
            "colorscale": [
             [
              0,
              "#0d0887"
             ],
             [
              0.1111111111111111,
              "#46039f"
             ],
             [
              0.2222222222222222,
              "#7201a8"
             ],
             [
              0.3333333333333333,
              "#9c179e"
             ],
             [
              0.4444444444444444,
              "#bd3786"
             ],
             [
              0.5555555555555556,
              "#d8576b"
             ],
             [
              0.6666666666666666,
              "#ed7953"
             ],
             [
              0.7777777777777778,
              "#fb9f3a"
             ],
             [
              0.8888888888888888,
              "#fdca26"
             ],
             [
              1,
              "#f0f921"
             ]
            ],
            "type": "contour"
           }
          ],
          "contourcarpet": [
           {
            "colorbar": {
             "outlinewidth": 0,
             "ticks": ""
            },
            "type": "contourcarpet"
           }
          ],
          "heatmap": [
           {
            "colorbar": {
             "outlinewidth": 0,
             "ticks": ""
            },
            "colorscale": [
             [
              0,
              "#0d0887"
             ],
             [
              0.1111111111111111,
              "#46039f"
             ],
             [
              0.2222222222222222,
              "#7201a8"
             ],
             [
              0.3333333333333333,
              "#9c179e"
             ],
             [
              0.4444444444444444,
              "#bd3786"
             ],
             [
              0.5555555555555556,
              "#d8576b"
             ],
             [
              0.6666666666666666,
              "#ed7953"
             ],
             [
              0.7777777777777778,
              "#fb9f3a"
             ],
             [
              0.8888888888888888,
              "#fdca26"
             ],
             [
              1,
              "#f0f921"
             ]
            ],
            "type": "heatmap"
           }
          ],
          "heatmapgl": [
           {
            "colorbar": {
             "outlinewidth": 0,
             "ticks": ""
            },
            "colorscale": [
             [
              0,
              "#0d0887"
             ],
             [
              0.1111111111111111,
              "#46039f"
             ],
             [
              0.2222222222222222,
              "#7201a8"
             ],
             [
              0.3333333333333333,
              "#9c179e"
             ],
             [
              0.4444444444444444,
              "#bd3786"
             ],
             [
              0.5555555555555556,
              "#d8576b"
             ],
             [
              0.6666666666666666,
              "#ed7953"
             ],
             [
              0.7777777777777778,
              "#fb9f3a"
             ],
             [
              0.8888888888888888,
              "#fdca26"
             ],
             [
              1,
              "#f0f921"
             ]
            ],
            "type": "heatmapgl"
           }
          ],
          "histogram": [
           {
            "marker": {
             "pattern": {
              "fillmode": "overlay",
              "size": 10,
              "solidity": 0.2
             }
            },
            "type": "histogram"
           }
          ],
          "histogram2d": [
           {
            "colorbar": {
             "outlinewidth": 0,
             "ticks": ""
            },
            "colorscale": [
             [
              0,
              "#0d0887"
             ],
             [
              0.1111111111111111,
              "#46039f"
             ],
             [
              0.2222222222222222,
              "#7201a8"
             ],
             [
              0.3333333333333333,
              "#9c179e"
             ],
             [
              0.4444444444444444,
              "#bd3786"
             ],
             [
              0.5555555555555556,
              "#d8576b"
             ],
             [
              0.6666666666666666,
              "#ed7953"
             ],
             [
              0.7777777777777778,
              "#fb9f3a"
             ],
             [
              0.8888888888888888,
              "#fdca26"
             ],
             [
              1,
              "#f0f921"
             ]
            ],
            "type": "histogram2d"
           }
          ],
          "histogram2dcontour": [
           {
            "colorbar": {
             "outlinewidth": 0,
             "ticks": ""
            },
            "colorscale": [
             [
              0,
              "#0d0887"
             ],
             [
              0.1111111111111111,
              "#46039f"
             ],
             [
              0.2222222222222222,
              "#7201a8"
             ],
             [
              0.3333333333333333,
              "#9c179e"
             ],
             [
              0.4444444444444444,
              "#bd3786"
             ],
             [
              0.5555555555555556,
              "#d8576b"
             ],
             [
              0.6666666666666666,
              "#ed7953"
             ],
             [
              0.7777777777777778,
              "#fb9f3a"
             ],
             [
              0.8888888888888888,
              "#fdca26"
             ],
             [
              1,
              "#f0f921"
             ]
            ],
            "type": "histogram2dcontour"
           }
          ],
          "mesh3d": [
           {
            "colorbar": {
             "outlinewidth": 0,
             "ticks": ""
            },
            "type": "mesh3d"
           }
          ],
          "parcoords": [
           {
            "line": {
             "colorbar": {
              "outlinewidth": 0,
              "ticks": ""
             }
            },
            "type": "parcoords"
           }
          ],
          "pie": [
           {
            "automargin": true,
            "type": "pie"
           }
          ],
          "scatter": [
           {
            "fillpattern": {
             "fillmode": "overlay",
             "size": 10,
             "solidity": 0.2
            },
            "type": "scatter"
           }
          ],
          "scatter3d": [
           {
            "line": {
             "colorbar": {
              "outlinewidth": 0,
              "ticks": ""
             }
            },
            "marker": {
             "colorbar": {
              "outlinewidth": 0,
              "ticks": ""
             }
            },
            "type": "scatter3d"
           }
          ],
          "scattercarpet": [
           {
            "marker": {
             "colorbar": {
              "outlinewidth": 0,
              "ticks": ""
             }
            },
            "type": "scattercarpet"
           }
          ],
          "scattergeo": [
           {
            "marker": {
             "colorbar": {
              "outlinewidth": 0,
              "ticks": ""
             }
            },
            "type": "scattergeo"
           }
          ],
          "scattergl": [
           {
            "marker": {
             "colorbar": {
              "outlinewidth": 0,
              "ticks": ""
             }
            },
            "type": "scattergl"
           }
          ],
          "scattermapbox": [
           {
            "marker": {
             "colorbar": {
              "outlinewidth": 0,
              "ticks": ""
             }
            },
            "type": "scattermapbox"
           }
          ],
          "scatterpolar": [
           {
            "marker": {
             "colorbar": {
              "outlinewidth": 0,
              "ticks": ""
             }
            },
            "type": "scatterpolar"
           }
          ],
          "scatterpolargl": [
           {
            "marker": {
             "colorbar": {
              "outlinewidth": 0,
              "ticks": ""
             }
            },
            "type": "scatterpolargl"
           }
          ],
          "scatterternary": [
           {
            "marker": {
             "colorbar": {
              "outlinewidth": 0,
              "ticks": ""
             }
            },
            "type": "scatterternary"
           }
          ],
          "surface": [
           {
            "colorbar": {
             "outlinewidth": 0,
             "ticks": ""
            },
            "colorscale": [
             [
              0,
              "#0d0887"
             ],
             [
              0.1111111111111111,
              "#46039f"
             ],
             [
              0.2222222222222222,
              "#7201a8"
             ],
             [
              0.3333333333333333,
              "#9c179e"
             ],
             [
              0.4444444444444444,
              "#bd3786"
             ],
             [
              0.5555555555555556,
              "#d8576b"
             ],
             [
              0.6666666666666666,
              "#ed7953"
             ],
             [
              0.7777777777777778,
              "#fb9f3a"
             ],
             [
              0.8888888888888888,
              "#fdca26"
             ],
             [
              1,
              "#f0f921"
             ]
            ],
            "type": "surface"
           }
          ],
          "table": [
           {
            "cells": {
             "fill": {
              "color": "#EBF0F8"
             },
             "line": {
              "color": "white"
             }
            },
            "header": {
             "fill": {
              "color": "#C8D4E3"
             },
             "line": {
              "color": "white"
             }
            },
            "type": "table"
           }
          ]
         },
         "layout": {
          "annotationdefaults": {
           "arrowcolor": "#2a3f5f",
           "arrowhead": 0,
           "arrowwidth": 1
          },
          "autotypenumbers": "strict",
          "coloraxis": {
           "colorbar": {
            "outlinewidth": 0,
            "ticks": ""
           }
          },
          "colorscale": {
           "diverging": [
            [
             0,
             "#8e0152"
            ],
            [
             0.1,
             "#c51b7d"
            ],
            [
             0.2,
             "#de77ae"
            ],
            [
             0.3,
             "#f1b6da"
            ],
            [
             0.4,
             "#fde0ef"
            ],
            [
             0.5,
             "#f7f7f7"
            ],
            [
             0.6,
             "#e6f5d0"
            ],
            [
             0.7,
             "#b8e186"
            ],
            [
             0.8,
             "#7fbc41"
            ],
            [
             0.9,
             "#4d9221"
            ],
            [
             1,
             "#276419"
            ]
           ],
           "sequential": [
            [
             0,
             "#0d0887"
            ],
            [
             0.1111111111111111,
             "#46039f"
            ],
            [
             0.2222222222222222,
             "#7201a8"
            ],
            [
             0.3333333333333333,
             "#9c179e"
            ],
            [
             0.4444444444444444,
             "#bd3786"
            ],
            [
             0.5555555555555556,
             "#d8576b"
            ],
            [
             0.6666666666666666,
             "#ed7953"
            ],
            [
             0.7777777777777778,
             "#fb9f3a"
            ],
            [
             0.8888888888888888,
             "#fdca26"
            ],
            [
             1,
             "#f0f921"
            ]
           ],
           "sequentialminus": [
            [
             0,
             "#0d0887"
            ],
            [
             0.1111111111111111,
             "#46039f"
            ],
            [
             0.2222222222222222,
             "#7201a8"
            ],
            [
             0.3333333333333333,
             "#9c179e"
            ],
            [
             0.4444444444444444,
             "#bd3786"
            ],
            [
             0.5555555555555556,
             "#d8576b"
            ],
            [
             0.6666666666666666,
             "#ed7953"
            ],
            [
             0.7777777777777778,
             "#fb9f3a"
            ],
            [
             0.8888888888888888,
             "#fdca26"
            ],
            [
             1,
             "#f0f921"
            ]
           ]
          },
          "colorway": [
           "#636efa",
           "#EF553B",
           "#00cc96",
           "#ab63fa",
           "#FFA15A",
           "#19d3f3",
           "#FF6692",
           "#B6E880",
           "#FF97FF",
           "#FECB52"
          ],
          "font": {
           "color": "#2a3f5f"
          },
          "geo": {
           "bgcolor": "white",
           "lakecolor": "white",
           "landcolor": "#E5ECF6",
           "showlakes": true,
           "showland": true,
           "subunitcolor": "white"
          },
          "hoverlabel": {
           "align": "left"
          },
          "hovermode": "closest",
          "mapbox": {
           "style": "light"
          },
          "paper_bgcolor": "white",
          "plot_bgcolor": "#E5ECF6",
          "polar": {
           "angularaxis": {
            "gridcolor": "white",
            "linecolor": "white",
            "ticks": ""
           },
           "bgcolor": "#E5ECF6",
           "radialaxis": {
            "gridcolor": "white",
            "linecolor": "white",
            "ticks": ""
           }
          },
          "scene": {
           "xaxis": {
            "backgroundcolor": "#E5ECF6",
            "gridcolor": "white",
            "gridwidth": 2,
            "linecolor": "white",
            "showbackground": true,
            "ticks": "",
            "zerolinecolor": "white"
           },
           "yaxis": {
            "backgroundcolor": "#E5ECF6",
            "gridcolor": "white",
            "gridwidth": 2,
            "linecolor": "white",
            "showbackground": true,
            "ticks": "",
            "zerolinecolor": "white"
           },
           "zaxis": {
            "backgroundcolor": "#E5ECF6",
            "gridcolor": "white",
            "gridwidth": 2,
            "linecolor": "white",
            "showbackground": true,
            "ticks": "",
            "zerolinecolor": "white"
           }
          },
          "shapedefaults": {
           "line": {
            "color": "#2a3f5f"
           }
          },
          "ternary": {
           "aaxis": {
            "gridcolor": "white",
            "linecolor": "white",
            "ticks": ""
           },
           "baxis": {
            "gridcolor": "white",
            "linecolor": "white",
            "ticks": ""
           },
           "bgcolor": "#E5ECF6",
           "caxis": {
            "gridcolor": "white",
            "linecolor": "white",
            "ticks": ""
           }
          },
          "title": {
           "x": 0.05
          },
          "xaxis": {
           "automargin": true,
           "gridcolor": "white",
           "linecolor": "white",
           "ticks": "",
           "title": {
            "standoff": 15
           },
           "zerolinecolor": "white",
           "zerolinewidth": 2
          },
          "yaxis": {
           "automargin": true,
           "gridcolor": "white",
           "linecolor": "white",
           "ticks": "",
           "title": {
            "standoff": 15
           },
           "zerolinecolor": "white",
           "zerolinewidth": 2
          }
         }
        },
        "title": {
         "font": {
          "color": "black",
          "size": 25
         },
         "text": "0926g empty tube 3rd (washed completely)"
        },
        "width": 1000,
        "xaxis": {
         "linecolor": "black",
         "linewidth": 2,
         "mirror": true,
         "showgrid": false,
         "showline": true,
         "tickfont": {
          "color": "black",
          "size": 25
         },
         "ticks": "inside",
         "title": {
          "font": {
           "color": "black",
           "size": 25
          },
          "text": "time (min)"
         }
        },
        "yaxis": {
         "linecolor": "black",
         "linewidth": 2,
         "mirror": true,
         "range": [
          -2,
          55
         ],
         "showgrid": false,
         "tickfont": {
          "color": "black",
          "size": 25
         },
         "ticks": "inside",
         "title": {
          "font": {
           "color": "black",
           "size": 25
          },
          "text": "HONO or NO<sub>x</sub> concentration (ppb)"
         }
        },
        "yaxis2": {
         "anchor": "free",
         "linecolor": "black",
         "linewidth": 2,
         "overlaying": "y",
         "position": 1,
         "showticklabels": true,
         "side": "right",
         "tickfont": {
          "color": "black",
          "size": 25
         },
         "ticks": "inside",
         "title": {
          "font": {
           "color": "black",
           "size": 25
          },
          "text": ""
         }
        }
       }
      }
     },
     "metadata": {},
     "output_type": "display_data"
    }
   ],
   "source": [
    "# df=pd.merge(pd.merge(pd.merge(df_hono_icad,df_no2_icad,on='date_time'),df_nox_t200,on='date_time'),df_rh,on='date_time')\n",
    "# df=pd.merge(pd.merge(df_hono_icad,df_no2_icad,on='date_time'),df_nox_t200,on='date_time')\n",
    "df=pd.merge(df_hono_icad,df_no2_icad,on='date_time')\n",
    "\n",
    "# correct HONO background\n",
    "print(df[df['date_time'] == '2023-09-26 17:59:00'])\n",
    "\n",
    "# df.hono=df.hono-df.hono[46:76].mean()\n",
    "time_start=959-10\n",
    "df=df[time_start:time_start+45]\n",
    "# df=df[time_start:time_start+39]\n",
    "\n",
    "x_minutes=(df['date_time'] - df['date_time'][time_start]).dt.total_seconds().div(60).astype(int)\n",
    "df['x_minutes']=x_minutes\n",
    "\n",
    "x= df.x_minutes\n",
    "# x= df.date_time\n",
    "\n",
    "fig_1= go.Figure()\n",
    "fig_1.add_trace(go.Scatter(x=x,y=df.hono-1.5,yaxis = \"y1\",mode='markers+lines',marker_size=10,line_width=2,name=\"HONO\"))\n",
    "fig_1.add_trace(go.Scatter(x= x,y=df.no2,yaxis = \"y1\",mode='markers+lines',marker_size=10,line_width=2,name=\"NO<sub>2</sub>\"))\n",
    "fig_1.add_trace(go.Scatter(x= x,y=48.3-df.no2,yaxis = \"y1\",mode='markers+lines',marker_size=10,line_width=2,name=\"△NO<sub>2</sub>\"))\n",
    "\n",
    "# fig_1.add_trace(go.Scatter(x= df.date_time,y=df.no,yaxis = \"y1\",mode='markers+lines',marker_size=10,line_width=2,name=\"NO\"))\n",
    "# fig_1.add_trace(go.Scatter(x= df.date_time,y=df.no+df.no2+df.hono,yaxis = \"y1\",mode='markers+lines',marker_size=10,line_width=2,name=\"no\"))\n",
    "fig_1.update_layout(title='0926g empty tube 3rd (washed completely)',titlefont=dict(color=\"black\",size=25))\n",
    "# fig_1.update_layout( bargap=0)\n",
    "fig_1.update_layout(\n",
    "  plot_bgcolor = 'white',paper_bgcolor = 'white',autosize=False,width=1000, height=800,\n",
    "    xaxis=dict( title=\"time (min)\",titlefont=dict(color=\"black\",size=25),showline=True, mirror= True,tickfont=dict(color='black',size=25 ),linecolor=\"black\", linewidth=2,ticks='inside'),\n",
    "    yaxis=dict( title='HONO or NO<sub>x</sub> concentration (ppb)', \n",
    "               range=[-2,55],\n",
    "               titlefont=dict(color=\"black\",size=25),mirror= True,tickfont=dict(color='black',size=25 ),linecolor=\"black\", linewidth=2,ticks='inside'),\n",
    "    yaxis2=dict(title='',titlefont=dict(color=\"black\",size=25),tickfont=dict(color=\"black\" ,size=25),ticks='inside',anchor=\"free\",overlaying=\"y\", side=\"right\", position=1, linecolor=\"black\", linewidth=2,showticklabels = True) )\n",
    "fig_1.update_layout(legend=dict(yanchor=\"top\",y=0.8 ,xanchor=\"left\",x=0.05,  font=dict( size=25,color=\"black\")))\n",
    "fig_1.update_layout(xaxis=dict(showgrid=False),\n",
    "              yaxis=dict(showgrid=False)\n",
    ")\n",
    "\n",
    "fig_1.add_vrect(x0=9, x1=14,annotation_text=\"cwft in line\",annotation_position=\"top\",annotation_font_size=14,fillcolor=\"grey\", opacity=0.3,layer=\"below\", line_width=0)\n",
    "fig_1.add_vrect(x0=14, x1=14+16,annotation_text=\"UV-A lights on\", annotation_position=\"top\",annotation_font_size=14,fillcolor=\"yellow\", opacity=0.3,layer=\"below\", line_width=0)\n",
    "fig_1.add_vrect(x0=30, x1=36,annotation_text=\"UV-A lights off\", annotation_position=\"top\",annotation_font_size=14,fillcolor=\"grey\", opacity=0.3,layer=\"below\", line_width=0)\n",
    "fig_1.add_vrect(x0=36 , x1=36+10,annotation_text=\"bypass\", annotation_position=\"top\",annotation_font_size=14,fillcolor=\"white\", opacity=0.3,layer=\"below\", line_width=0)\n",
    "\n",
    "config = {'displayModeBar': True}\n",
    "fig_1.show(config=config)\n",
    "# fig_1.to_image('3.jpeg')\n"
   ]
  },
  {
   "cell_type": "code",
   "execution_count": 146,
   "metadata": {},
   "outputs": [
    {
     "data": {
      "application/vnd.plotly.v1+json": {
       "config": {
        "displayModeBar": true,
        "plotlyServerURL": "https://plot.ly"
       },
       "data": [
        {
         "line": {
          "width": 2
         },
         "marker": {
          "size": 10
         },
         "mode": "markers+lines",
         "name": "HONO",
         "type": "scatter",
         "x": [
          0,
          1,
          2,
          3,
          4,
          5,
          6,
          7,
          8,
          9,
          10,
          11,
          12,
          13,
          14,
          15,
          16,
          17,
          18,
          19,
          20,
          21,
          22,
          23,
          24,
          25,
          26,
          27,
          28,
          29,
          30,
          31,
          32,
          33,
          34,
          35,
          36,
          37,
          38,
          39,
          40,
          41,
          42,
          43,
          44
         ],
         "y": [
          52.1499448732076,
          -43.309352517985175,
          -44.116174261392096,
          -16.558741905643117,
          -1018.8235294120101,
          366.10169491526784,
          959.9999999995097,
          -323.2044198895833,
          -169.54813359529413,
          -7.160804020101004,
          133.44542953225312,
          63.98271798900237,
          65.6966673595234,
          72.80886157826659,
          79.50414681489342,
          77.53161222339311,
          68.63389111695017,
          73.07216336851783,
          74.86237490777698,
          76.01055309526059,
          75.64944649446497,
          74.39818067522094,
          72.9135998188201,
          72.09742173539718,
          74.06918136736854,
          76.18293346706379,
          null,
          null,
          81.64961487135062,
          81.48973084497798,
          82.39832364987141,
          31.71627019829416,
          172.54181647647493,
          1114.416475972619,
          -1200.0000000000825,
          -349.82698961936245,
          -6222.916666664589,
          -3.060916767189347,
          17.559438556287503,
          18.49881796690304,
          22.32639906240855,
          7.641124704872221,
          10.160427807486506,
          15.621929652190925,
          23.85885031303332
         ],
         "yaxis": "y"
        }
       ],
       "layout": {
        "annotations": [
         {
          "font": {
           "size": 14
          },
          "showarrow": false,
          "text": "cwft in line",
          "x": 11.5,
          "xanchor": "center",
          "xref": "x",
          "y": 1,
          "yanchor": "top",
          "yref": "y domain"
         },
         {
          "font": {
           "size": 14
          },
          "showarrow": false,
          "text": "UV-A lights on",
          "x": 22,
          "xanchor": "center",
          "xref": "x",
          "y": 1,
          "yanchor": "top",
          "yref": "y domain"
         },
         {
          "font": {
           "size": 14
          },
          "showarrow": false,
          "text": "UV-A lights off",
          "x": 33,
          "xanchor": "center",
          "xref": "x",
          "y": 1,
          "yanchor": "top",
          "yref": "y domain"
         },
         {
          "font": {
           "size": 14
          },
          "showarrow": false,
          "text": "bypass",
          "x": 41,
          "xanchor": "center",
          "xref": "x",
          "y": 1,
          "yanchor": "top",
          "yref": "y domain"
         }
        ],
        "autosize": false,
        "height": 800,
        "legend": {
         "font": {
          "color": "black",
          "size": 25
         },
         "x": 0.05,
         "xanchor": "left",
         "y": 0.8,
         "yanchor": "top"
        },
        "paper_bgcolor": "white",
        "plot_bgcolor": "white",
        "shapes": [
         {
          "fillcolor": "grey",
          "layer": "below",
          "line": {
           "width": 0
          },
          "opacity": 0.3,
          "type": "rect",
          "x0": 9,
          "x1": 14,
          "xref": "x",
          "y0": 0,
          "y1": 1,
          "yref": "y domain"
         },
         {
          "fillcolor": "yellow",
          "layer": "below",
          "line": {
           "width": 0
          },
          "opacity": 0.3,
          "type": "rect",
          "x0": 14,
          "x1": 30,
          "xref": "x",
          "y0": 0,
          "y1": 1,
          "yref": "y domain"
         },
         {
          "fillcolor": "grey",
          "layer": "below",
          "line": {
           "width": 0
          },
          "opacity": 0.3,
          "type": "rect",
          "x0": 30,
          "x1": 36,
          "xref": "x",
          "y0": 0,
          "y1": 1,
          "yref": "y domain"
         },
         {
          "fillcolor": "white",
          "layer": "below",
          "line": {
           "width": 0
          },
          "opacity": 0.3,
          "type": "rect",
          "x0": 36,
          "x1": 46,
          "xref": "x",
          "y0": 0,
          "y1": 1,
          "yref": "y domain"
         }
        ],
        "template": {
         "data": {
          "bar": [
           {
            "error_x": {
             "color": "#2a3f5f"
            },
            "error_y": {
             "color": "#2a3f5f"
            },
            "marker": {
             "line": {
              "color": "#E5ECF6",
              "width": 0.5
             },
             "pattern": {
              "fillmode": "overlay",
              "size": 10,
              "solidity": 0.2
             }
            },
            "type": "bar"
           }
          ],
          "barpolar": [
           {
            "marker": {
             "line": {
              "color": "#E5ECF6",
              "width": 0.5
             },
             "pattern": {
              "fillmode": "overlay",
              "size": 10,
              "solidity": 0.2
             }
            },
            "type": "barpolar"
           }
          ],
          "carpet": [
           {
            "aaxis": {
             "endlinecolor": "#2a3f5f",
             "gridcolor": "white",
             "linecolor": "white",
             "minorgridcolor": "white",
             "startlinecolor": "#2a3f5f"
            },
            "baxis": {
             "endlinecolor": "#2a3f5f",
             "gridcolor": "white",
             "linecolor": "white",
             "minorgridcolor": "white",
             "startlinecolor": "#2a3f5f"
            },
            "type": "carpet"
           }
          ],
          "choropleth": [
           {
            "colorbar": {
             "outlinewidth": 0,
             "ticks": ""
            },
            "type": "choropleth"
           }
          ],
          "contour": [
           {
            "colorbar": {
             "outlinewidth": 0,
             "ticks": ""
            },
            "colorscale": [
             [
              0,
              "#0d0887"
             ],
             [
              0.1111111111111111,
              "#46039f"
             ],
             [
              0.2222222222222222,
              "#7201a8"
             ],
             [
              0.3333333333333333,
              "#9c179e"
             ],
             [
              0.4444444444444444,
              "#bd3786"
             ],
             [
              0.5555555555555556,
              "#d8576b"
             ],
             [
              0.6666666666666666,
              "#ed7953"
             ],
             [
              0.7777777777777778,
              "#fb9f3a"
             ],
             [
              0.8888888888888888,
              "#fdca26"
             ],
             [
              1,
              "#f0f921"
             ]
            ],
            "type": "contour"
           }
          ],
          "contourcarpet": [
           {
            "colorbar": {
             "outlinewidth": 0,
             "ticks": ""
            },
            "type": "contourcarpet"
           }
          ],
          "heatmap": [
           {
            "colorbar": {
             "outlinewidth": 0,
             "ticks": ""
            },
            "colorscale": [
             [
              0,
              "#0d0887"
             ],
             [
              0.1111111111111111,
              "#46039f"
             ],
             [
              0.2222222222222222,
              "#7201a8"
             ],
             [
              0.3333333333333333,
              "#9c179e"
             ],
             [
              0.4444444444444444,
              "#bd3786"
             ],
             [
              0.5555555555555556,
              "#d8576b"
             ],
             [
              0.6666666666666666,
              "#ed7953"
             ],
             [
              0.7777777777777778,
              "#fb9f3a"
             ],
             [
              0.8888888888888888,
              "#fdca26"
             ],
             [
              1,
              "#f0f921"
             ]
            ],
            "type": "heatmap"
           }
          ],
          "heatmapgl": [
           {
            "colorbar": {
             "outlinewidth": 0,
             "ticks": ""
            },
            "colorscale": [
             [
              0,
              "#0d0887"
             ],
             [
              0.1111111111111111,
              "#46039f"
             ],
             [
              0.2222222222222222,
              "#7201a8"
             ],
             [
              0.3333333333333333,
              "#9c179e"
             ],
             [
              0.4444444444444444,
              "#bd3786"
             ],
             [
              0.5555555555555556,
              "#d8576b"
             ],
             [
              0.6666666666666666,
              "#ed7953"
             ],
             [
              0.7777777777777778,
              "#fb9f3a"
             ],
             [
              0.8888888888888888,
              "#fdca26"
             ],
             [
              1,
              "#f0f921"
             ]
            ],
            "type": "heatmapgl"
           }
          ],
          "histogram": [
           {
            "marker": {
             "pattern": {
              "fillmode": "overlay",
              "size": 10,
              "solidity": 0.2
             }
            },
            "type": "histogram"
           }
          ],
          "histogram2d": [
           {
            "colorbar": {
             "outlinewidth": 0,
             "ticks": ""
            },
            "colorscale": [
             [
              0,
              "#0d0887"
             ],
             [
              0.1111111111111111,
              "#46039f"
             ],
             [
              0.2222222222222222,
              "#7201a8"
             ],
             [
              0.3333333333333333,
              "#9c179e"
             ],
             [
              0.4444444444444444,
              "#bd3786"
             ],
             [
              0.5555555555555556,
              "#d8576b"
             ],
             [
              0.6666666666666666,
              "#ed7953"
             ],
             [
              0.7777777777777778,
              "#fb9f3a"
             ],
             [
              0.8888888888888888,
              "#fdca26"
             ],
             [
              1,
              "#f0f921"
             ]
            ],
            "type": "histogram2d"
           }
          ],
          "histogram2dcontour": [
           {
            "colorbar": {
             "outlinewidth": 0,
             "ticks": ""
            },
            "colorscale": [
             [
              0,
              "#0d0887"
             ],
             [
              0.1111111111111111,
              "#46039f"
             ],
             [
              0.2222222222222222,
              "#7201a8"
             ],
             [
              0.3333333333333333,
              "#9c179e"
             ],
             [
              0.4444444444444444,
              "#bd3786"
             ],
             [
              0.5555555555555556,
              "#d8576b"
             ],
             [
              0.6666666666666666,
              "#ed7953"
             ],
             [
              0.7777777777777778,
              "#fb9f3a"
             ],
             [
              0.8888888888888888,
              "#fdca26"
             ],
             [
              1,
              "#f0f921"
             ]
            ],
            "type": "histogram2dcontour"
           }
          ],
          "mesh3d": [
           {
            "colorbar": {
             "outlinewidth": 0,
             "ticks": ""
            },
            "type": "mesh3d"
           }
          ],
          "parcoords": [
           {
            "line": {
             "colorbar": {
              "outlinewidth": 0,
              "ticks": ""
             }
            },
            "type": "parcoords"
           }
          ],
          "pie": [
           {
            "automargin": true,
            "type": "pie"
           }
          ],
          "scatter": [
           {
            "fillpattern": {
             "fillmode": "overlay",
             "size": 10,
             "solidity": 0.2
            },
            "type": "scatter"
           }
          ],
          "scatter3d": [
           {
            "line": {
             "colorbar": {
              "outlinewidth": 0,
              "ticks": ""
             }
            },
            "marker": {
             "colorbar": {
              "outlinewidth": 0,
              "ticks": ""
             }
            },
            "type": "scatter3d"
           }
          ],
          "scattercarpet": [
           {
            "marker": {
             "colorbar": {
              "outlinewidth": 0,
              "ticks": ""
             }
            },
            "type": "scattercarpet"
           }
          ],
          "scattergeo": [
           {
            "marker": {
             "colorbar": {
              "outlinewidth": 0,
              "ticks": ""
             }
            },
            "type": "scattergeo"
           }
          ],
          "scattergl": [
           {
            "marker": {
             "colorbar": {
              "outlinewidth": 0,
              "ticks": ""
             }
            },
            "type": "scattergl"
           }
          ],
          "scattermapbox": [
           {
            "marker": {
             "colorbar": {
              "outlinewidth": 0,
              "ticks": ""
             }
            },
            "type": "scattermapbox"
           }
          ],
          "scatterpolar": [
           {
            "marker": {
             "colorbar": {
              "outlinewidth": 0,
              "ticks": ""
             }
            },
            "type": "scatterpolar"
           }
          ],
          "scatterpolargl": [
           {
            "marker": {
             "colorbar": {
              "outlinewidth": 0,
              "ticks": ""
             }
            },
            "type": "scatterpolargl"
           }
          ],
          "scatterternary": [
           {
            "marker": {
             "colorbar": {
              "outlinewidth": 0,
              "ticks": ""
             }
            },
            "type": "scatterternary"
           }
          ],
          "surface": [
           {
            "colorbar": {
             "outlinewidth": 0,
             "ticks": ""
            },
            "colorscale": [
             [
              0,
              "#0d0887"
             ],
             [
              0.1111111111111111,
              "#46039f"
             ],
             [
              0.2222222222222222,
              "#7201a8"
             ],
             [
              0.3333333333333333,
              "#9c179e"
             ],
             [
              0.4444444444444444,
              "#bd3786"
             ],
             [
              0.5555555555555556,
              "#d8576b"
             ],
             [
              0.6666666666666666,
              "#ed7953"
             ],
             [
              0.7777777777777778,
              "#fb9f3a"
             ],
             [
              0.8888888888888888,
              "#fdca26"
             ],
             [
              1,
              "#f0f921"
             ]
            ],
            "type": "surface"
           }
          ],
          "table": [
           {
            "cells": {
             "fill": {
              "color": "#EBF0F8"
             },
             "line": {
              "color": "white"
             }
            },
            "header": {
             "fill": {
              "color": "#C8D4E3"
             },
             "line": {
              "color": "white"
             }
            },
            "type": "table"
           }
          ]
         },
         "layout": {
          "annotationdefaults": {
           "arrowcolor": "#2a3f5f",
           "arrowhead": 0,
           "arrowwidth": 1
          },
          "autotypenumbers": "strict",
          "coloraxis": {
           "colorbar": {
            "outlinewidth": 0,
            "ticks": ""
           }
          },
          "colorscale": {
           "diverging": [
            [
             0,
             "#8e0152"
            ],
            [
             0.1,
             "#c51b7d"
            ],
            [
             0.2,
             "#de77ae"
            ],
            [
             0.3,
             "#f1b6da"
            ],
            [
             0.4,
             "#fde0ef"
            ],
            [
             0.5,
             "#f7f7f7"
            ],
            [
             0.6,
             "#e6f5d0"
            ],
            [
             0.7,
             "#b8e186"
            ],
            [
             0.8,
             "#7fbc41"
            ],
            [
             0.9,
             "#4d9221"
            ],
            [
             1,
             "#276419"
            ]
           ],
           "sequential": [
            [
             0,
             "#0d0887"
            ],
            [
             0.1111111111111111,
             "#46039f"
            ],
            [
             0.2222222222222222,
             "#7201a8"
            ],
            [
             0.3333333333333333,
             "#9c179e"
            ],
            [
             0.4444444444444444,
             "#bd3786"
            ],
            [
             0.5555555555555556,
             "#d8576b"
            ],
            [
             0.6666666666666666,
             "#ed7953"
            ],
            [
             0.7777777777777778,
             "#fb9f3a"
            ],
            [
             0.8888888888888888,
             "#fdca26"
            ],
            [
             1,
             "#f0f921"
            ]
           ],
           "sequentialminus": [
            [
             0,
             "#0d0887"
            ],
            [
             0.1111111111111111,
             "#46039f"
            ],
            [
             0.2222222222222222,
             "#7201a8"
            ],
            [
             0.3333333333333333,
             "#9c179e"
            ],
            [
             0.4444444444444444,
             "#bd3786"
            ],
            [
             0.5555555555555556,
             "#d8576b"
            ],
            [
             0.6666666666666666,
             "#ed7953"
            ],
            [
             0.7777777777777778,
             "#fb9f3a"
            ],
            [
             0.8888888888888888,
             "#fdca26"
            ],
            [
             1,
             "#f0f921"
            ]
           ]
          },
          "colorway": [
           "#636efa",
           "#EF553B",
           "#00cc96",
           "#ab63fa",
           "#FFA15A",
           "#19d3f3",
           "#FF6692",
           "#B6E880",
           "#FF97FF",
           "#FECB52"
          ],
          "font": {
           "color": "#2a3f5f"
          },
          "geo": {
           "bgcolor": "white",
           "lakecolor": "white",
           "landcolor": "#E5ECF6",
           "showlakes": true,
           "showland": true,
           "subunitcolor": "white"
          },
          "hoverlabel": {
           "align": "left"
          },
          "hovermode": "closest",
          "mapbox": {
           "style": "light"
          },
          "paper_bgcolor": "white",
          "plot_bgcolor": "#E5ECF6",
          "polar": {
           "angularaxis": {
            "gridcolor": "white",
            "linecolor": "white",
            "ticks": ""
           },
           "bgcolor": "#E5ECF6",
           "radialaxis": {
            "gridcolor": "white",
            "linecolor": "white",
            "ticks": ""
           }
          },
          "scene": {
           "xaxis": {
            "backgroundcolor": "#E5ECF6",
            "gridcolor": "white",
            "gridwidth": 2,
            "linecolor": "white",
            "showbackground": true,
            "ticks": "",
            "zerolinecolor": "white"
           },
           "yaxis": {
            "backgroundcolor": "#E5ECF6",
            "gridcolor": "white",
            "gridwidth": 2,
            "linecolor": "white",
            "showbackground": true,
            "ticks": "",
            "zerolinecolor": "white"
           },
           "zaxis": {
            "backgroundcolor": "#E5ECF6",
            "gridcolor": "white",
            "gridwidth": 2,
            "linecolor": "white",
            "showbackground": true,
            "ticks": "",
            "zerolinecolor": "white"
           }
          },
          "shapedefaults": {
           "line": {
            "color": "#2a3f5f"
           }
          },
          "ternary": {
           "aaxis": {
            "gridcolor": "white",
            "linecolor": "white",
            "ticks": ""
           },
           "baxis": {
            "gridcolor": "white",
            "linecolor": "white",
            "ticks": ""
           },
           "bgcolor": "#E5ECF6",
           "caxis": {
            "gridcolor": "white",
            "linecolor": "white",
            "ticks": ""
           }
          },
          "title": {
           "x": 0.05
          },
          "xaxis": {
           "automargin": true,
           "gridcolor": "white",
           "linecolor": "white",
           "ticks": "",
           "title": {
            "standoff": 15
           },
           "zerolinecolor": "white",
           "zerolinewidth": 2
          },
          "yaxis": {
           "automargin": true,
           "gridcolor": "white",
           "linecolor": "white",
           "ticks": "",
           "title": {
            "standoff": 15
           },
           "zerolinecolor": "white",
           "zerolinewidth": 2
          }
         }
        },
        "title": {
         "font": {
          "color": "black",
          "size": 25
         },
         "text": "0926g empty tube 3rd (washed completely)"
        },
        "width": 1000,
        "xaxis": {
         "linecolor": "black",
         "linewidth": 2,
         "mirror": true,
         "showgrid": false,
         "showline": true,
         "tickfont": {
          "color": "black",
          "size": 25
         },
         "ticks": "inside",
         "title": {
          "font": {
           "color": "black",
           "size": 25
          },
          "text": "time (min)"
         }
        },
        "yaxis": {
         "linecolor": "black",
         "linewidth": 2,
         "mirror": true,
         "showgrid": false,
         "tickfont": {
          "color": "black",
          "size": 25
         },
         "ticks": "inside",
         "title": {
          "font": {
           "color": "black",
           "size": 25
          },
          "text": "HONO or NO<sub>x</sub> concentration (ppb)"
         }
        },
        "yaxis2": {
         "anchor": "free",
         "linecolor": "black",
         "linewidth": 2,
         "overlaying": "y",
         "position": 1,
         "showticklabels": true,
         "side": "right",
         "tickfont": {
          "color": "black",
          "size": 25
         },
         "ticks": "inside",
         "title": {
          "font": {
           "color": "black",
           "size": 25
          },
          "text": ""
         }
        }
       }
      }
     },
     "metadata": {},
     "output_type": "display_data"
    }
   ],
   "source": [
    "\n",
    "fig_1= go.Figure()\n",
    "fig_1.add_trace(go.Scatter(x=x,y=(df.hono-1.5)/(48.3-df.no2)*100,yaxis = \"y1\",mode='markers+lines',marker_size=10,line_width=2,name=\"HONO\"))\n",
    "# fig_1.add_trace(go.Scatter(x=x,y=(48.3-df.no2)/48.3*100,yaxis = \"y1\",mode='markers+lines',marker_size=10,line_width=2,name=\"HONO\"))\n",
    "\n",
    "# fig_1.add_trace(go.Scatter(x= x,y=df.no2,yaxis = \"y1\",mode='markers+lines',marker_size=10,line_width=2,name=\"NO<sub>2</sub>\"))\n",
    "# fig_1.add_trace(go.Scatter(x= x,y=,yaxis = \"y1\",mode='markers+lines',marker_size=10,line_width=2,name=\"△NO<sub>2</sub>\"))\n",
    "\n",
    "# fig_1.add_trace(go.Scatter(x= df.date_time,y=df.no,yaxis = \"y1\",mode='markers+lines',marker_size=10,line_width=2,name=\"NO\"))\n",
    "# fig_1.add_trace(go.Scatter(x= df.date_time,y=df.no+df.no2+df.hono,yaxis = \"y1\",mode='markers+lines',marker_size=10,line_width=2,name=\"no\"))\n",
    "fig_1.update_layout(title='0926g empty tube 3rd (washed completely)',titlefont=dict(color=\"black\",size=25))\n",
    "# fig_1.update_layout( bargap=0)\n",
    "fig_1.update_layout(\n",
    "  plot_bgcolor = 'white',paper_bgcolor = 'white',autosize=False,width=1000, height=800,\n",
    "    xaxis=dict( title=\"time (min)\",titlefont=dict(color=\"black\",size=25),showline=True, mirror= True,tickfont=dict(color='black',size=25 ),linecolor=\"black\", linewidth=2,ticks='inside'),\n",
    "    yaxis=dict( title='HONO or NO<sub>x</sub> concentration (ppb)', \n",
    "               # range=[-2,55],\n",
    "               titlefont=dict(color=\"black\",size=25),mirror= True,tickfont=dict(color='black',size=25 ),linecolor=\"black\", linewidth=2,ticks='inside'),\n",
    "    yaxis2=dict(title='',titlefont=dict(color=\"black\",size=25),tickfont=dict(color=\"black\" ,size=25),ticks='inside',anchor=\"free\",overlaying=\"y\", side=\"right\", position=1, linecolor=\"black\", linewidth=2,showticklabels = True) )\n",
    "fig_1.update_layout(legend=dict(yanchor=\"top\",y=0.8 ,xanchor=\"left\",x=0.05,  font=dict( size=25,color=\"black\")))\n",
    "fig_1.update_layout(xaxis=dict(showgrid=False),\n",
    "              yaxis=dict(showgrid=False)\n",
    ")\n",
    "\n",
    "fig_1.add_vrect(x0=9, x1=14,annotation_text=\"cwft in line\",annotation_position=\"top\",annotation_font_size=14,fillcolor=\"grey\", opacity=0.3,layer=\"below\", line_width=0)\n",
    "fig_1.add_vrect(x0=14, x1=14+16,annotation_text=\"UV-A lights on\", annotation_position=\"top\",annotation_font_size=14,fillcolor=\"yellow\", opacity=0.3,layer=\"below\", line_width=0)\n",
    "fig_1.add_vrect(x0=30, x1=36,annotation_text=\"UV-A lights off\", annotation_position=\"top\",annotation_font_size=14,fillcolor=\"grey\", opacity=0.3,layer=\"below\", line_width=0)\n",
    "fig_1.add_vrect(x0=36 , x1=36+10,annotation_text=\"bypass\", annotation_position=\"top\",annotation_font_size=14,fillcolor=\"white\", opacity=0.3,layer=\"below\", line_width=0)\n",
    "\n",
    "config = {'displayModeBar': True}\n",
    "fig_1.show(config=config)\n",
    "# fig_1.to_image('3.jpeg')\n"
   ]
  },
  {
   "cell_type": "code",
   "execution_count": 132,
   "metadata": {},
   "outputs": [
    {
     "data": {
      "application/vnd.plotly.v1+json": {
       "config": {
        "displayModeBar": true,
        "plotlyServerURL": "https://plot.ly"
       },
       "data": [
        {
         "line": {
          "width": 2
         },
         "marker": {
          "size": 10
         },
         "mode": "markers+lines",
         "name": "HONO",
         "type": "scatter",
         "x": [
          0,
          1,
          2,
          3,
          4,
          5,
          6,
          7,
          8,
          9,
          10,
          11,
          12,
          13,
          14,
          15,
          16,
          17,
          18,
          19,
          20,
          21,
          22,
          23,
          24,
          25,
          26,
          27,
          28,
          29,
          30,
          31,
          32,
          33,
          34,
          35,
          36,
          37,
          38,
          39,
          40,
          41,
          42,
          43,
          44
         ],
         "y": [
          52.1499448732076,
          -43.309352517985175,
          -44.116174261392096,
          -16.558741905643117,
          -1018.8235294120101,
          366.10169491526784,
          959.9999999995097,
          -323.2044198895833,
          -169.54813359529413,
          -7.160804020101004,
          133.44542953225312,
          63.98271798900237,
          65.6966673595234,
          72.80886157826659,
          79.50414681489342,
          77.53161222339311,
          68.63389111695017,
          73.07216336851783,
          74.86237490777698,
          76.01055309526059,
          75.64944649446497,
          74.39818067522094,
          72.9135998188201,
          72.09742173539718,
          74.06918136736854,
          76.18293346706379,
          null,
          null,
          81.64961487135062,
          81.48973084497798,
          82.39832364987141,
          31.71627019829416,
          172.54181647647493,
          1114.416475972619,
          -1200.0000000000825,
          -349.82698961936245,
          -6222.916666664589,
          -3.060916767189347,
          17.559438556287503,
          18.49881796690304,
          22.32639906240855,
          7.641124704872221,
          10.160427807486506,
          15.621929652190925,
          23.85885031303332
         ],
         "yaxis": "y"
        }
       ],
       "layout": {
        "annotations": [
         {
          "font": {
           "size": 14
          },
          "showarrow": false,
          "text": "cwft in line",
          "x": 11.5,
          "xanchor": "center",
          "xref": "x",
          "y": 1,
          "yanchor": "top",
          "yref": "y domain"
         },
         {
          "font": {
           "size": 14
          },
          "showarrow": false,
          "text": "UV-A lights on",
          "x": 22,
          "xanchor": "center",
          "xref": "x",
          "y": 1,
          "yanchor": "top",
          "yref": "y domain"
         },
         {
          "font": {
           "size": 14
          },
          "showarrow": false,
          "text": "UV-A lights off",
          "x": 33,
          "xanchor": "center",
          "xref": "x",
          "y": 1,
          "yanchor": "top",
          "yref": "y domain"
         },
         {
          "font": {
           "size": 14
          },
          "showarrow": false,
          "text": "bypass",
          "x": 41,
          "xanchor": "center",
          "xref": "x",
          "y": 1,
          "yanchor": "top",
          "yref": "y domain"
         }
        ],
        "autosize": false,
        "height": 800,
        "legend": {
         "font": {
          "color": "black",
          "size": 25
         },
         "x": 0.05,
         "xanchor": "left",
         "y": 0.8,
         "yanchor": "top"
        },
        "paper_bgcolor": "white",
        "plot_bgcolor": "white",
        "shapes": [
         {
          "fillcolor": "grey",
          "layer": "below",
          "line": {
           "width": 0
          },
          "opacity": 0.3,
          "type": "rect",
          "x0": 9,
          "x1": 14,
          "xref": "x",
          "y0": 0,
          "y1": 1,
          "yref": "y domain"
         },
         {
          "fillcolor": "yellow",
          "layer": "below",
          "line": {
           "width": 0
          },
          "opacity": 0.3,
          "type": "rect",
          "x0": 14,
          "x1": 30,
          "xref": "x",
          "y0": 0,
          "y1": 1,
          "yref": "y domain"
         },
         {
          "fillcolor": "grey",
          "layer": "below",
          "line": {
           "width": 0
          },
          "opacity": 0.3,
          "type": "rect",
          "x0": 30,
          "x1": 36,
          "xref": "x",
          "y0": 0,
          "y1": 1,
          "yref": "y domain"
         },
         {
          "fillcolor": "white",
          "layer": "below",
          "line": {
           "width": 0
          },
          "opacity": 0.3,
          "type": "rect",
          "x0": 36,
          "x1": 46,
          "xref": "x",
          "y0": 0,
          "y1": 1,
          "yref": "y domain"
         }
        ],
        "template": {
         "data": {
          "bar": [
           {
            "error_x": {
             "color": "#2a3f5f"
            },
            "error_y": {
             "color": "#2a3f5f"
            },
            "marker": {
             "line": {
              "color": "#E5ECF6",
              "width": 0.5
             },
             "pattern": {
              "fillmode": "overlay",
              "size": 10,
              "solidity": 0.2
             }
            },
            "type": "bar"
           }
          ],
          "barpolar": [
           {
            "marker": {
             "line": {
              "color": "#E5ECF6",
              "width": 0.5
             },
             "pattern": {
              "fillmode": "overlay",
              "size": 10,
              "solidity": 0.2
             }
            },
            "type": "barpolar"
           }
          ],
          "carpet": [
           {
            "aaxis": {
             "endlinecolor": "#2a3f5f",
             "gridcolor": "white",
             "linecolor": "white",
             "minorgridcolor": "white",
             "startlinecolor": "#2a3f5f"
            },
            "baxis": {
             "endlinecolor": "#2a3f5f",
             "gridcolor": "white",
             "linecolor": "white",
             "minorgridcolor": "white",
             "startlinecolor": "#2a3f5f"
            },
            "type": "carpet"
           }
          ],
          "choropleth": [
           {
            "colorbar": {
             "outlinewidth": 0,
             "ticks": ""
            },
            "type": "choropleth"
           }
          ],
          "contour": [
           {
            "colorbar": {
             "outlinewidth": 0,
             "ticks": ""
            },
            "colorscale": [
             [
              0,
              "#0d0887"
             ],
             [
              0.1111111111111111,
              "#46039f"
             ],
             [
              0.2222222222222222,
              "#7201a8"
             ],
             [
              0.3333333333333333,
              "#9c179e"
             ],
             [
              0.4444444444444444,
              "#bd3786"
             ],
             [
              0.5555555555555556,
              "#d8576b"
             ],
             [
              0.6666666666666666,
              "#ed7953"
             ],
             [
              0.7777777777777778,
              "#fb9f3a"
             ],
             [
              0.8888888888888888,
              "#fdca26"
             ],
             [
              1,
              "#f0f921"
             ]
            ],
            "type": "contour"
           }
          ],
          "contourcarpet": [
           {
            "colorbar": {
             "outlinewidth": 0,
             "ticks": ""
            },
            "type": "contourcarpet"
           }
          ],
          "heatmap": [
           {
            "colorbar": {
             "outlinewidth": 0,
             "ticks": ""
            },
            "colorscale": [
             [
              0,
              "#0d0887"
             ],
             [
              0.1111111111111111,
              "#46039f"
             ],
             [
              0.2222222222222222,
              "#7201a8"
             ],
             [
              0.3333333333333333,
              "#9c179e"
             ],
             [
              0.4444444444444444,
              "#bd3786"
             ],
             [
              0.5555555555555556,
              "#d8576b"
             ],
             [
              0.6666666666666666,
              "#ed7953"
             ],
             [
              0.7777777777777778,
              "#fb9f3a"
             ],
             [
              0.8888888888888888,
              "#fdca26"
             ],
             [
              1,
              "#f0f921"
             ]
            ],
            "type": "heatmap"
           }
          ],
          "heatmapgl": [
           {
            "colorbar": {
             "outlinewidth": 0,
             "ticks": ""
            },
            "colorscale": [
             [
              0,
              "#0d0887"
             ],
             [
              0.1111111111111111,
              "#46039f"
             ],
             [
              0.2222222222222222,
              "#7201a8"
             ],
             [
              0.3333333333333333,
              "#9c179e"
             ],
             [
              0.4444444444444444,
              "#bd3786"
             ],
             [
              0.5555555555555556,
              "#d8576b"
             ],
             [
              0.6666666666666666,
              "#ed7953"
             ],
             [
              0.7777777777777778,
              "#fb9f3a"
             ],
             [
              0.8888888888888888,
              "#fdca26"
             ],
             [
              1,
              "#f0f921"
             ]
            ],
            "type": "heatmapgl"
           }
          ],
          "histogram": [
           {
            "marker": {
             "pattern": {
              "fillmode": "overlay",
              "size": 10,
              "solidity": 0.2
             }
            },
            "type": "histogram"
           }
          ],
          "histogram2d": [
           {
            "colorbar": {
             "outlinewidth": 0,
             "ticks": ""
            },
            "colorscale": [
             [
              0,
              "#0d0887"
             ],
             [
              0.1111111111111111,
              "#46039f"
             ],
             [
              0.2222222222222222,
              "#7201a8"
             ],
             [
              0.3333333333333333,
              "#9c179e"
             ],
             [
              0.4444444444444444,
              "#bd3786"
             ],
             [
              0.5555555555555556,
              "#d8576b"
             ],
             [
              0.6666666666666666,
              "#ed7953"
             ],
             [
              0.7777777777777778,
              "#fb9f3a"
             ],
             [
              0.8888888888888888,
              "#fdca26"
             ],
             [
              1,
              "#f0f921"
             ]
            ],
            "type": "histogram2d"
           }
          ],
          "histogram2dcontour": [
           {
            "colorbar": {
             "outlinewidth": 0,
             "ticks": ""
            },
            "colorscale": [
             [
              0,
              "#0d0887"
             ],
             [
              0.1111111111111111,
              "#46039f"
             ],
             [
              0.2222222222222222,
              "#7201a8"
             ],
             [
              0.3333333333333333,
              "#9c179e"
             ],
             [
              0.4444444444444444,
              "#bd3786"
             ],
             [
              0.5555555555555556,
              "#d8576b"
             ],
             [
              0.6666666666666666,
              "#ed7953"
             ],
             [
              0.7777777777777778,
              "#fb9f3a"
             ],
             [
              0.8888888888888888,
              "#fdca26"
             ],
             [
              1,
              "#f0f921"
             ]
            ],
            "type": "histogram2dcontour"
           }
          ],
          "mesh3d": [
           {
            "colorbar": {
             "outlinewidth": 0,
             "ticks": ""
            },
            "type": "mesh3d"
           }
          ],
          "parcoords": [
           {
            "line": {
             "colorbar": {
              "outlinewidth": 0,
              "ticks": ""
             }
            },
            "type": "parcoords"
           }
          ],
          "pie": [
           {
            "automargin": true,
            "type": "pie"
           }
          ],
          "scatter": [
           {
            "fillpattern": {
             "fillmode": "overlay",
             "size": 10,
             "solidity": 0.2
            },
            "type": "scatter"
           }
          ],
          "scatter3d": [
           {
            "line": {
             "colorbar": {
              "outlinewidth": 0,
              "ticks": ""
             }
            },
            "marker": {
             "colorbar": {
              "outlinewidth": 0,
              "ticks": ""
             }
            },
            "type": "scatter3d"
           }
          ],
          "scattercarpet": [
           {
            "marker": {
             "colorbar": {
              "outlinewidth": 0,
              "ticks": ""
             }
            },
            "type": "scattercarpet"
           }
          ],
          "scattergeo": [
           {
            "marker": {
             "colorbar": {
              "outlinewidth": 0,
              "ticks": ""
             }
            },
            "type": "scattergeo"
           }
          ],
          "scattergl": [
           {
            "marker": {
             "colorbar": {
              "outlinewidth": 0,
              "ticks": ""
             }
            },
            "type": "scattergl"
           }
          ],
          "scattermapbox": [
           {
            "marker": {
             "colorbar": {
              "outlinewidth": 0,
              "ticks": ""
             }
            },
            "type": "scattermapbox"
           }
          ],
          "scatterpolar": [
           {
            "marker": {
             "colorbar": {
              "outlinewidth": 0,
              "ticks": ""
             }
            },
            "type": "scatterpolar"
           }
          ],
          "scatterpolargl": [
           {
            "marker": {
             "colorbar": {
              "outlinewidth": 0,
              "ticks": ""
             }
            },
            "type": "scatterpolargl"
           }
          ],
          "scatterternary": [
           {
            "marker": {
             "colorbar": {
              "outlinewidth": 0,
              "ticks": ""
             }
            },
            "type": "scatterternary"
           }
          ],
          "surface": [
           {
            "colorbar": {
             "outlinewidth": 0,
             "ticks": ""
            },
            "colorscale": [
             [
              0,
              "#0d0887"
             ],
             [
              0.1111111111111111,
              "#46039f"
             ],
             [
              0.2222222222222222,
              "#7201a8"
             ],
             [
              0.3333333333333333,
              "#9c179e"
             ],
             [
              0.4444444444444444,
              "#bd3786"
             ],
             [
              0.5555555555555556,
              "#d8576b"
             ],
             [
              0.6666666666666666,
              "#ed7953"
             ],
             [
              0.7777777777777778,
              "#fb9f3a"
             ],
             [
              0.8888888888888888,
              "#fdca26"
             ],
             [
              1,
              "#f0f921"
             ]
            ],
            "type": "surface"
           }
          ],
          "table": [
           {
            "cells": {
             "fill": {
              "color": "#EBF0F8"
             },
             "line": {
              "color": "white"
             }
            },
            "header": {
             "fill": {
              "color": "#C8D4E3"
             },
             "line": {
              "color": "white"
             }
            },
            "type": "table"
           }
          ]
         },
         "layout": {
          "annotationdefaults": {
           "arrowcolor": "#2a3f5f",
           "arrowhead": 0,
           "arrowwidth": 1
          },
          "autotypenumbers": "strict",
          "coloraxis": {
           "colorbar": {
            "outlinewidth": 0,
            "ticks": ""
           }
          },
          "colorscale": {
           "diverging": [
            [
             0,
             "#8e0152"
            ],
            [
             0.1,
             "#c51b7d"
            ],
            [
             0.2,
             "#de77ae"
            ],
            [
             0.3,
             "#f1b6da"
            ],
            [
             0.4,
             "#fde0ef"
            ],
            [
             0.5,
             "#f7f7f7"
            ],
            [
             0.6,
             "#e6f5d0"
            ],
            [
             0.7,
             "#b8e186"
            ],
            [
             0.8,
             "#7fbc41"
            ],
            [
             0.9,
             "#4d9221"
            ],
            [
             1,
             "#276419"
            ]
           ],
           "sequential": [
            [
             0,
             "#0d0887"
            ],
            [
             0.1111111111111111,
             "#46039f"
            ],
            [
             0.2222222222222222,
             "#7201a8"
            ],
            [
             0.3333333333333333,
             "#9c179e"
            ],
            [
             0.4444444444444444,
             "#bd3786"
            ],
            [
             0.5555555555555556,
             "#d8576b"
            ],
            [
             0.6666666666666666,
             "#ed7953"
            ],
            [
             0.7777777777777778,
             "#fb9f3a"
            ],
            [
             0.8888888888888888,
             "#fdca26"
            ],
            [
             1,
             "#f0f921"
            ]
           ],
           "sequentialminus": [
            [
             0,
             "#0d0887"
            ],
            [
             0.1111111111111111,
             "#46039f"
            ],
            [
             0.2222222222222222,
             "#7201a8"
            ],
            [
             0.3333333333333333,
             "#9c179e"
            ],
            [
             0.4444444444444444,
             "#bd3786"
            ],
            [
             0.5555555555555556,
             "#d8576b"
            ],
            [
             0.6666666666666666,
             "#ed7953"
            ],
            [
             0.7777777777777778,
             "#fb9f3a"
            ],
            [
             0.8888888888888888,
             "#fdca26"
            ],
            [
             1,
             "#f0f921"
            ]
           ]
          },
          "colorway": [
           "#636efa",
           "#EF553B",
           "#00cc96",
           "#ab63fa",
           "#FFA15A",
           "#19d3f3",
           "#FF6692",
           "#B6E880",
           "#FF97FF",
           "#FECB52"
          ],
          "font": {
           "color": "#2a3f5f"
          },
          "geo": {
           "bgcolor": "white",
           "lakecolor": "white",
           "landcolor": "#E5ECF6",
           "showlakes": true,
           "showland": true,
           "subunitcolor": "white"
          },
          "hoverlabel": {
           "align": "left"
          },
          "hovermode": "closest",
          "mapbox": {
           "style": "light"
          },
          "paper_bgcolor": "white",
          "plot_bgcolor": "#E5ECF6",
          "polar": {
           "angularaxis": {
            "gridcolor": "white",
            "linecolor": "white",
            "ticks": ""
           },
           "bgcolor": "#E5ECF6",
           "radialaxis": {
            "gridcolor": "white",
            "linecolor": "white",
            "ticks": ""
           }
          },
          "scene": {
           "xaxis": {
            "backgroundcolor": "#E5ECF6",
            "gridcolor": "white",
            "gridwidth": 2,
            "linecolor": "white",
            "showbackground": true,
            "ticks": "",
            "zerolinecolor": "white"
           },
           "yaxis": {
            "backgroundcolor": "#E5ECF6",
            "gridcolor": "white",
            "gridwidth": 2,
            "linecolor": "white",
            "showbackground": true,
            "ticks": "",
            "zerolinecolor": "white"
           },
           "zaxis": {
            "backgroundcolor": "#E5ECF6",
            "gridcolor": "white",
            "gridwidth": 2,
            "linecolor": "white",
            "showbackground": true,
            "ticks": "",
            "zerolinecolor": "white"
           }
          },
          "shapedefaults": {
           "line": {
            "color": "#2a3f5f"
           }
          },
          "ternary": {
           "aaxis": {
            "gridcolor": "white",
            "linecolor": "white",
            "ticks": ""
           },
           "baxis": {
            "gridcolor": "white",
            "linecolor": "white",
            "ticks": ""
           },
           "bgcolor": "#E5ECF6",
           "caxis": {
            "gridcolor": "white",
            "linecolor": "white",
            "ticks": ""
           }
          },
          "title": {
           "x": 0.05
          },
          "xaxis": {
           "automargin": true,
           "gridcolor": "white",
           "linecolor": "white",
           "ticks": "",
           "title": {
            "standoff": 15
           },
           "zerolinecolor": "white",
           "zerolinewidth": 2
          },
          "yaxis": {
           "automargin": true,
           "gridcolor": "white",
           "linecolor": "white",
           "ticks": "",
           "title": {
            "standoff": 15
           },
           "zerolinecolor": "white",
           "zerolinewidth": 2
          }
         }
        },
        "title": {
         "font": {
          "color": "black",
          "size": 25
         },
         "text": "0926g empty tube 3rd (washed completely)"
        },
        "width": 1000,
        "xaxis": {
         "linecolor": "black",
         "linewidth": 2,
         "mirror": true,
         "showgrid": false,
         "showline": true,
         "tickfont": {
          "color": "black",
          "size": 25
         },
         "ticks": "inside",
         "title": {
          "font": {
           "color": "black",
           "size": 25
          },
          "text": "time (min)"
         }
        },
        "yaxis": {
         "linecolor": "black",
         "linewidth": 2,
         "mirror": true,
         "showgrid": false,
         "tickfont": {
          "color": "black",
          "size": 25
         },
         "ticks": "inside",
         "title": {
          "font": {
           "color": "black",
           "size": 25
          },
          "text": "HONO or NO<sub>x</sub> concentration (ppb)"
         }
        },
        "yaxis2": {
         "anchor": "free",
         "linecolor": "black",
         "linewidth": 2,
         "overlaying": "y",
         "position": 1,
         "showticklabels": true,
         "side": "right",
         "tickfont": {
          "color": "black",
          "size": 25
         },
         "ticks": "inside",
         "title": {
          "font": {
           "color": "black",
           "size": 25
          },
          "text": ""
         }
        }
       }
      }
     },
     "metadata": {},
     "output_type": "display_data"
    }
   ],
   "source": []
  }
 ],
 "metadata": {
  "kernelspec": {
   "display_name": "snowflakes",
   "language": "python",
   "name": "python3"
  },
  "language_info": {
   "codemirror_mode": {
    "name": "ipython",
    "version": 3
   },
   "file_extension": ".py",
   "mimetype": "text/x-python",
   "name": "python",
   "nbconvert_exporter": "python",
   "pygments_lexer": "ipython3",
   "version": "3.11.4"
  },
  "orig_nbformat": 4
 },
 "nbformat": 4,
 "nbformat_minor": 2
}
